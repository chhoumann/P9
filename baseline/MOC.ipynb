{
 "cells": [
  {
   "cell_type": "code",
   "execution_count": null,
   "metadata": {},
   "outputs": [],
   "source": [
    "import pandas as pd"
   ]
  },
  {
   "cell_type": "code",
   "execution_count": null,
   "metadata": {},
   "outputs": [],
   "source": [
    "pred_PLS_SM = pd.read_csv(\"./data/data/PLS_SM/predictions/tar_pred.csv\")\n",
    "pred_PLS_SM.drop(columns=[\"Unnamed: 0\"], axis=1, inplace=True)\n",
    "\n",
    "pred_ICA = pd.read_csv(\"./data/data/jade/ica/tar_pred.csv\")\n",
    "pred_ICA[\"Sample Name\"] = pred_ICA[\"target\"]\n",
    "pred_ICA.drop(columns=[\"target\"], axis=1, inplace=True)"
   ]
  },
  {
   "cell_type": "code",
   "execution_count": null,
   "metadata": {},
   "outputs": [],
   "source": [
    "pred_ICA.columns"
   ]
  },
  {
   "cell_type": "code",
   "execution_count": null,
   "metadata": {},
   "outputs": [],
   "source": [
    "# add sample names to the predictions for ICA\n",
    "pred_ICA[\"Sample Name\"] = pred_ICA[\"Sample Name\"].apply(lambda x: x.split(\"_\")[0])"
   ]
  },
  {
   "cell_type": "code",
   "execution_count": null,
   "metadata": {},
   "outputs": [],
   "source": [
    "pred_ICA.head()"
   ]
  },
  {
   "cell_type": "code",
   "execution_count": null,
   "metadata": {},
   "outputs": [],
   "source": [
    "# filtered_pred_PLS_SM.set_index(\"ID\", inplace=True)\n",
    "pred_PLS_SM.set_index(\"ID\", inplace=True)\n",
    "pred_ICA.set_index(\"ID\", inplace=True)"
   ]
  },
  {
   "cell_type": "code",
   "execution_count": null,
   "metadata": {},
   "outputs": [],
   "source": [
    "aligned_pred_PLS_SM, aligned_pred_ICA = pred_PLS_SM.align(pred_ICA, join=\"inner\", axis=0)"
   ]
  },
  {
   "cell_type": "code",
   "execution_count": null,
   "metadata": {},
   "outputs": [],
   "source": [
    "aligned_pred_PLS_SM"
   ]
  },
  {
   "cell_type": "code",
   "execution_count": null,
   "metadata": {},
   "outputs": [],
   "source": [
    "merged_df = pd.merge(aligned_pred_ICA, aligned_pred_PLS_SM, on=['ID', 'Sample Name'], suffixes=('_ICA', '_PLS_SM'))"
   ]
  },
  {
   "cell_type": "code",
   "execution_count": null,
   "metadata": {},
   "outputs": [],
   "source": [
    "merged_df"
   ]
  },
  {
   "cell_type": "code",
   "execution_count": null,
   "metadata": {},
   "outputs": [],
   "source": [
    "from lib.reproduction import weighted_sum_oxide_percentages, major_oxides\n",
    "\n",
    "moc_predictions = pd.DataFrame()\n",
    "\n",
    "for oxide in major_oxides:\n",
    "    w_ica = weighted_sum_oxide_percentages[oxide]['ICA'] / 100\n",
    "    w_pls_sm = weighted_sum_oxide_percentages[oxide]['PLS1-SM'] / 100\n",
    "    moc_predictions[oxide] = merged_df[oxide + '_ICA'] * w_ica + merged_df[oxide + '_PLS_SM'] * w_pls_sm\n",
    "\n",
    "moc_predictions['Sample Name'] = merged_df['Sample Name']\n",
    "moc_predictions['ID'] = aligned_pred_ICA.index"
   ]
  },
  {
   "cell_type": "code",
   "execution_count": null,
   "metadata": {},
   "outputs": [],
   "source": [
    "moc_predictions"
   ]
  },
  {
   "cell_type": "code",
   "execution_count": null,
   "metadata": {},
   "outputs": [],
   "source": [
    "from lib.data_handling import CompositionData\n",
    "\n",
    "cd = CompositionData(\"data/data/calib/ccam_calibration_compositions.csv\")"
   ]
  },
  {
   "cell_type": "code",
   "execution_count": null,
   "metadata": {},
   "outputs": [],
   "source": [
    "def merge_with_actual_data(moc_predictions):\n",
    "    merged_data = pd.DataFrame()\n",
    "\n",
    "    for index, row in moc_predictions.iterrows():\n",
    "        actual_data = cd.get_composition_for_sample(row['Sample Name'])\n",
    "\n",
    "        if not actual_data.empty:\n",
    "            for oxide in major_oxides:\n",
    "                merged_data.at[index, oxide + '_pred'] = row[oxide]\n",
    "                merged_data.at[index, oxide + '_actual'] = actual_data[oxide].values[0]\n",
    "            merged_data.at[index, 'Sample Name'] = row['Sample Name']\n",
    "\n",
    "    return merged_data"
   ]
  },
  {
   "cell_type": "code",
   "execution_count": null,
   "metadata": {},
   "outputs": [],
   "source": [
    "from sklearn.metrics import mean_squared_error\n",
    "\n",
    "# ignore future warnings\n",
    "import warnings\n",
    "warnings.simplefilter(action='ignore', category=FutureWarning)\n",
    "\n",
    "def calculate_rmse(merged_data):\n",
    "    rmse_values = {}\n",
    "    for oxide in major_oxides:\n",
    "        y_actual = merged_data[oxide + '_actual']\n",
    "        y_pred = merged_data[oxide + '_pred']\n",
    "        rmse = mean_squared_error(y_actual, y_pred, squared=False)\n",
    "        rmse_values[oxide] = rmse\n",
    "    return rmse_values\n",
    "\n",
    "# Usage example\n",
    "merged_moc_actual_df = merge_with_actual_data(moc_predictions)\n",
    "moc_rmse_values = calculate_rmse(merged_moc_actual_df)"
   ]
  },
  {
   "cell_type": "code",
   "execution_count": null,
   "metadata": {},
   "outputs": [],
   "source": [
    "SiO2_eval_df = pd.merge(merged_df[[\"SiO2_ICA\", \"SiO2_PLS_SM\", \"Sample Name\"]], \n",
    "                    merged_moc_actual_df[[\"SiO2_actual\", \"SiO2_pred\", \"Sample Name\"]], \n",
    "                    on=\"Sample Name\")\n",
    "\n",
    "SiO2_eval_df = SiO2_eval_df[0:5]\n",
    "SiO2_eval_df"
   ]
  },
  {
   "cell_type": "code",
   "execution_count": null,
   "metadata": {},
   "outputs": [],
   "source": [
    "import matplotlib.pyplot as plt\n",
    "import seaborn as sns\n",
    "\n",
    "# Setting the style for the plot\n",
    "sns.set(style=\"whitegrid\")\n",
    "\n",
    "# Creating a figure for the plot\n",
    "plt.figure(figsize=(12, 8))\n",
    "\n",
    "# Creating aliases for the value_vars\n",
    "aliases = {\n",
    "    'SiO2_ICA': 'ICA Model',\n",
    "    'SiO2_PLS_SM': 'PLS SM Model',\n",
    "    'SiO2_pred': 'Predicted Value',\n",
    "    'SiO2_actual': 'Actual Value'\n",
    "}\n",
    "\n",
    "# Merging the data for actual and predicted values for the plot\n",
    "melted_data = pd.melt(SiO2_eval_df, id_vars='Sample Name', value_vars=list(aliases.keys()))\n",
    "\n",
    "# Renaming the columns based on aliases\n",
    "melted_data = melted_data.rename(columns={'variable': 'Model/Value', 'value': 'SiO2 Composition %'})\n",
    "melted_data['Model/Value'] = melted_data['Model/Value'].map(aliases)\n",
    "\n",
    "# Creating the grouped bar chart\n",
    "sns.barplot(x='Sample Name', y='SiO2 Composition %', hue='Model/Value', data=melted_data)\n",
    "\n",
    "# Adding labels and title\n",
    "plt.xlabel('Sample Name')\n",
    "plt.ylabel('SiO2 Composition %')\n",
    "plt.title('SiO2 Composition % for Each Model and Actual Values by Sample')\n",
    "plt.xticks(rotation=45)\n",
    "plt.legend(title='Data Type')\n",
    "\n",
    "plt.gca().invert_yaxis()\n",
    "\n",
    "# Displaying the plot\n",
    "plt.tight_layout()\n",
    "plt.show()"
   ]
  },
  {
   "cell_type": "code",
   "execution_count": null,
   "metadata": {},
   "outputs": [],
   "source": [
    "merged_moc_actual_df"
   ]
  },
  {
   "cell_type": "code",
   "execution_count": null,
   "metadata": {},
   "outputs": [],
   "source": [
    "moc_rmse_values"
   ]
  },
  {
   "cell_type": "code",
   "execution_count": null,
   "metadata": {},
   "outputs": [],
   "source": [
    "ICA_actual_merged_df = merge_with_actual_data(aligned_pred_ICA)\n",
    "ICA_rmses = calculate_rmse(ICA_actual_merged_df)\n",
    "\n",
    "PLS_SM_actual_merged_df = merge_with_actual_data(aligned_pred_PLS_SM)\n",
    "PLS_SM_rmses = calculate_rmse(PLS_SM_actual_merged_df)\n",
    "\n",
    "ICA_rmses"
   ]
  },
  {
   "cell_type": "code",
   "execution_count": null,
   "metadata": {},
   "outputs": [],
   "source": [
    "PLS_SM_actual_merged_df"
   ]
  },
  {
   "cell_type": "code",
   "execution_count": null,
   "metadata": {},
   "outputs": [],
   "source": [
    "PLS_SM_rmses"
   ]
  },
  {
   "cell_type": "code",
   "execution_count": null,
   "metadata": {},
   "outputs": [],
   "source": [
    "RMSEs_df = pd.DataFrame([ICA_rmses, PLS_SM_rmses, moc_rmse_values], index=[\"ICA (replica)\", \"PLS_SM (replica)\", \"MOC (replica)\"])"
   ]
  },
  {
   "cell_type": "code",
   "execution_count": null,
   "metadata": {},
   "outputs": [],
   "source": [
    "RMSEs_df.T"
   ]
  },
  {
   "cell_type": "code",
   "execution_count": null,
   "metadata": {},
   "outputs": [],
   "source": [
    "MOC_model_rmses = {\n",
    "    'SiO2': 5.83,\n",
    "    'TiO2': 1.10,\n",
    "    'Al2O3': 3.18,\n",
    "    'FeOT': 2.90,\n",
    "    'MgO': 2.30,\n",
    "    'CaO': 1.14,\n",
    "    'Na2O': 1.34,\n",
    "    'K2O': 1.49\n",
    " }\n",
    "\n",
    "ICA_original_rmses = {\n",
    "    'SiO2': 8.31,\n",
    "    'TiO2': 1.44,\n",
    "    'Al2O3': 4.77,\n",
    "    'FeOT': 5.17,\n",
    "    'MgO': 4.08,\n",
    "    'CaO': 3.07,\n",
    "    'Na2O': 2.29,\n",
    "    'K2O': 0.98\n",
    " }\n",
    "\n",
    "PLS_SM_original_rmses = {\n",
    "    'SiO2': 4.33,\n",
    "    'TiO2': 0.94,\n",
    "    'Al2O3': 2.85,\n",
    "    'FeOT': 2.01,\n",
    "    'MgO': 1.06,\n",
    "    'CaO': 2.65,\n",
    "    'Na2O': 0.62,\n",
    "    'K2O': 0.72\n",
    " }"
   ]
  },
  {
   "cell_type": "code",
   "execution_count": null,
   "metadata": {},
   "outputs": [],
   "source": [
    "R_df = RMSEs_df.T\n",
    "R_df['MOC (original)'] = MOC_model_rmses.values()\n",
    "R_df['ICA (original)'] = ICA_original_rmses.values()\n",
    "R_df['PLS_SM (original)'] = PLS_SM_original_rmses.values()"
   ]
  },
  {
   "cell_type": "code",
   "execution_count": null,
   "metadata": {},
   "outputs": [],
   "source": [
    "R_df\n",
    "# R_df.to_csv(\"eval.csv\")"
   ]
  },
  {
   "cell_type": "code",
   "execution_count": null,
   "metadata": {},
   "outputs": [],
   "source": [
    "import seaborn as sns\n",
    "import matplotlib.pyplot as plt\n",
    "\n",
    "# Reordering columns to alternate between replica and original\n",
    "column_order = ['ICA (replica)', 'ICA (original)', 'PLS_SM (replica)', 'PLS_SM (original)', 'MOC (replica)', 'MOC (original)']\n",
    "R_df = R_df[column_order]\n",
    "\n",
    "# Melting the DataFrame\n",
    "R_df_melted = R_df.reset_index().melt(id_vars='index')\n",
    "R_df_melted.columns = ['Major Oxides', 'Model', 'RMSE']\n",
    "\n",
    "# Setting Seaborn style\n",
    "sns.set(style=\"whitegrid\")\n",
    "\n",
    "# Define a more balanced color palette\n",
    "palette = {\n",
    "    'MOC (original)': '#1f77b4',  # Slightly darker blue\n",
    "    'ICA (original)': '#2ca02c',  # Slightly darker green\n",
    "    'PLS_SM (original)': '#d62728',  # Slightly darker red\n",
    "    'MOC (replica)': '#aec7e8',  # Lighter blue\n",
    "    'ICA (replica)': '#98df8a',  # Lighter green\n",
    "    'PLS_SM (replica)': '#ff9896'  # Lighter red\n",
    "}\n",
    "\n",
    "# Creating the plot\n",
    "plt.figure(figsize=(15, 8))\n",
    "ax = sns.barplot(x='Major Oxides', y='RMSE', hue='Model', data=R_df_melted, palette=palette)\n",
    "\n",
    "# Adding labels and title\n",
    "ax.set_xlabel('Major Oxides')\n",
    "ax.set_ylabel('RMSE')\n",
    "# ax.set_title('Grouped Histogram for Major Oxides')\n",
    "\n",
    "# Adjust legend\n",
    "plt.legend(title='Model')\n",
    "\n",
    "# Display the plot\n",
    "plt.show()\n"
   ]
  },
  {
   "cell_type": "code",
   "execution_count": null,
   "metadata": {},
   "outputs": [],
   "source": [
    "import numpy as np\n",
    "np.around(np.array(list(moc_rmse_values.values())), 2)"
   ]
  }
 ],
 "metadata": {
  "kernelspec": {
   "display_name": "venv",
   "language": "python",
   "name": "python3"
  },
  "language_info": {
   "codemirror_mode": {
    "name": "ipython",
    "version": 3
   },
   "file_extension": ".py",
   "mimetype": "text/x-python",
   "name": "python",
   "nbconvert_exporter": "python",
   "pygments_lexer": "ipython3",
   "version": "3.10.11"
  }
 },
 "nbformat": 4,
 "nbformat_minor": 2
}

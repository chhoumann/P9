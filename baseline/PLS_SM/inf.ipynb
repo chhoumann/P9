{
 "cells": [
  {
   "cell_type": "code",
   "execution_count": 27,
   "metadata": {},
   "outputs": [],
   "source": [
    "import mlflow\n",
    "from lib.reproduction import training_info\n",
    "\n",
    "mlflow.set_tracking_uri(\"http://localhost:5000\")"
   ]
  },
  {
   "cell_type": "code",
   "execution_count": 28,
   "metadata": {},
   "outputs": [
    {
     "data": {
      "application/vnd.jupyter.widget-view+json": {
       "model_id": "d8937e3d360947a286e857fe079fd34b",
       "version_major": 2,
       "version_minor": 0
      },
      "text/plain": [
       "Downloading artifacts:   0%|          | 0/5 [00:00<?, ?it/s]"
      ]
     },
     "metadata": {},
     "output_type": "display_data"
    },
    {
     "data": {
      "application/vnd.jupyter.widget-view+json": {
       "model_id": "0d44d51310cf41869f0aa6adad050c1a",
       "version_major": 2,
       "version_minor": 0
      },
      "text/plain": [
       "Downloading artifacts:   0%|          | 0/5 [00:00<?, ?it/s]"
      ]
     },
     "metadata": {},
     "output_type": "display_data"
    },
    {
     "data": {
      "application/vnd.jupyter.widget-view+json": {
       "model_id": "53492d15161b436680886f39979329f9",
       "version_major": 2,
       "version_minor": 0
      },
      "text/plain": [
       "Downloading artifacts:   0%|          | 0/5 [00:00<?, ?it/s]"
      ]
     },
     "metadata": {},
     "output_type": "display_data"
    },
    {
     "data": {
      "application/vnd.jupyter.widget-view+json": {
       "model_id": "0b9c61804e3742309921956f471b1b05",
       "version_major": 2,
       "version_minor": 0
      },
      "text/plain": [
       "Downloading artifacts:   0%|          | 0/5 [00:00<?, ?it/s]"
      ]
     },
     "metadata": {},
     "output_type": "display_data"
    },
    {
     "data": {
      "application/vnd.jupyter.widget-view+json": {
       "model_id": "beca6b3b44474a00b9a73c0a8480671b",
       "version_major": 2,
       "version_minor": 0
      },
      "text/plain": [
       "Downloading artifacts:   0%|          | 0/5 [00:00<?, ?it/s]"
      ]
     },
     "metadata": {},
     "output_type": "display_data"
    },
    {
     "data": {
      "application/vnd.jupyter.widget-view+json": {
       "model_id": "9fa13034103a4998b7ebea16275239b0",
       "version_major": 2,
       "version_minor": 0
      },
      "text/plain": [
       "Downloading artifacts:   0%|          | 0/5 [00:00<?, ?it/s]"
      ]
     },
     "metadata": {},
     "output_type": "display_data"
    },
    {
     "data": {
      "application/vnd.jupyter.widget-view+json": {
       "model_id": "2bcdd048c2d54a1d906452147c063aca",
       "version_major": 2,
       "version_minor": 0
      },
      "text/plain": [
       "Downloading artifacts:   0%|          | 0/5 [00:00<?, ?it/s]"
      ]
     },
     "metadata": {},
     "output_type": "display_data"
    },
    {
     "data": {
      "application/vnd.jupyter.widget-view+json": {
       "model_id": "db1185f18be645649c098289234966e3",
       "version_major": 2,
       "version_minor": 0
      },
      "text/plain": [
       "Downloading artifacts:   0%|          | 0/5 [00:00<?, ?it/s]"
      ]
     },
     "metadata": {},
     "output_type": "display_data"
    },
    {
     "data": {
      "application/vnd.jupyter.widget-view+json": {
       "model_id": "4d144b34d8c945299ea2704b218bb0a2",
       "version_major": 2,
       "version_minor": 0
      },
      "text/plain": [
       "Downloading artifacts:   0%|          | 0/5 [00:00<?, ?it/s]"
      ]
     },
     "metadata": {},
     "output_type": "display_data"
    },
    {
     "data": {
      "application/vnd.jupyter.widget-view+json": {
       "model_id": "e28dddce953646ffa4ebf0158978ecd3",
       "version_major": 2,
       "version_minor": 0
      },
      "text/plain": [
       "Downloading artifacts:   0%|          | 0/5 [00:00<?, ?it/s]"
      ]
     },
     "metadata": {},
     "output_type": "display_data"
    },
    {
     "data": {
      "application/vnd.jupyter.widget-view+json": {
       "model_id": "202f29b910e84256ba3318f2fd845f23",
       "version_major": 2,
       "version_minor": 0
      },
      "text/plain": [
       "Downloading artifacts:   0%|          | 0/5 [00:00<?, ?it/s]"
      ]
     },
     "metadata": {},
     "output_type": "display_data"
    },
    {
     "data": {
      "application/vnd.jupyter.widget-view+json": {
       "model_id": "6904f7466d6348d084bcdc097d0bc2ec",
       "version_major": 2,
       "version_minor": 0
      },
      "text/plain": [
       "Downloading artifacts:   0%|          | 0/5 [00:00<?, ?it/s]"
      ]
     },
     "metadata": {},
     "output_type": "display_data"
    },
    {
     "data": {
      "application/vnd.jupyter.widget-view+json": {
       "model_id": "8e96a9ca378843148ebbddee10634130",
       "version_major": 2,
       "version_minor": 0
      },
      "text/plain": [
       "Downloading artifacts:   0%|          | 0/5 [00:00<?, ?it/s]"
      ]
     },
     "metadata": {},
     "output_type": "display_data"
    },
    {
     "data": {
      "application/vnd.jupyter.widget-view+json": {
       "model_id": "aa1cf91c1d1d47948a7d55a49cbef53d",
       "version_major": 2,
       "version_minor": 0
      },
      "text/plain": [
       "Downloading artifacts:   0%|          | 0/5 [00:00<?, ?it/s]"
      ]
     },
     "metadata": {},
     "output_type": "display_data"
    },
    {
     "data": {
      "application/vnd.jupyter.widget-view+json": {
       "model_id": "94b75c1b0cc449a183f1a10c3275f47a",
       "version_major": 2,
       "version_minor": 0
      },
      "text/plain": [
       "Downloading artifacts:   0%|          | 0/5 [00:00<?, ?it/s]"
      ]
     },
     "metadata": {},
     "output_type": "display_data"
    },
    {
     "data": {
      "application/vnd.jupyter.widget-view+json": {
       "model_id": "432d3a25d9e046a986e504b20c9252b3",
       "version_major": 2,
       "version_minor": 0
      },
      "text/plain": [
       "Downloading artifacts:   0%|          | 0/5 [00:00<?, ?it/s]"
      ]
     },
     "metadata": {},
     "output_type": "display_data"
    },
    {
     "data": {
      "application/vnd.jupyter.widget-view+json": {
       "model_id": "75510901a967450c8adae04b322224c9",
       "version_major": 2,
       "version_minor": 0
      },
      "text/plain": [
       "Downloading artifacts:   0%|          | 0/5 [00:00<?, ?it/s]"
      ]
     },
     "metadata": {},
     "output_type": "display_data"
    },
    {
     "data": {
      "application/vnd.jupyter.widget-view+json": {
       "model_id": "edae26b8e9944b9ca020d7801416df1a",
       "version_major": 2,
       "version_minor": 0
      },
      "text/plain": [
       "Downloading artifacts:   0%|          | 0/5 [00:00<?, ?it/s]"
      ]
     },
     "metadata": {},
     "output_type": "display_data"
    },
    {
     "data": {
      "application/vnd.jupyter.widget-view+json": {
       "model_id": "39969f71d397495ea6755fc9ec71b5eb",
       "version_major": 2,
       "version_minor": 0
      },
      "text/plain": [
       "Downloading artifacts:   0%|          | 0/5 [00:00<?, ?it/s]"
      ]
     },
     "metadata": {},
     "output_type": "display_data"
    },
    {
     "data": {
      "application/vnd.jupyter.widget-view+json": {
       "model_id": "9be8d79394da4b8ab1a537584eaf3a3a",
       "version_major": 2,
       "version_minor": 0
      },
      "text/plain": [
       "Downloading artifacts:   0%|          | 0/5 [00:00<?, ?it/s]"
      ]
     },
     "metadata": {},
     "output_type": "display_data"
    },
    {
     "data": {
      "application/vnd.jupyter.widget-view+json": {
       "model_id": "d1049c8fa8824650ba5bad1dfd0f6698",
       "version_major": 2,
       "version_minor": 0
      },
      "text/plain": [
       "Downloading artifacts:   0%|          | 0/5 [00:00<?, ?it/s]"
      ]
     },
     "metadata": {},
     "output_type": "display_data"
    },
    {
     "data": {
      "application/vnd.jupyter.widget-view+json": {
       "model_id": "c89729bb22b543a5b9cff6ef701bc986",
       "version_major": 2,
       "version_minor": 0
      },
      "text/plain": [
       "Downloading artifacts:   0%|          | 0/5 [00:00<?, ?it/s]"
      ]
     },
     "metadata": {},
     "output_type": "display_data"
    },
    {
     "data": {
      "application/vnd.jupyter.widget-view+json": {
       "model_id": "5d2f278bcaf741dd8cef2dccd1d6d819",
       "version_major": 2,
       "version_minor": 0
      },
      "text/plain": [
       "Downloading artifacts:   0%|          | 0/5 [00:00<?, ?it/s]"
      ]
     },
     "metadata": {},
     "output_type": "display_data"
    },
    {
     "data": {
      "application/vnd.jupyter.widget-view+json": {
       "model_id": "63c11882aa4d49a6b2cb9163fc0b6ab2",
       "version_major": 2,
       "version_minor": 0
      },
      "text/plain": [
       "Downloading artifacts:   0%|          | 0/5 [00:00<?, ?it/s]"
      ]
     },
     "metadata": {},
     "output_type": "display_data"
    },
    {
     "data": {
      "application/vnd.jupyter.widget-view+json": {
       "model_id": "bc4c73912981485bae08c06d8209d930",
       "version_major": 2,
       "version_minor": 0
      },
      "text/plain": [
       "Downloading artifacts:   0%|          | 0/5 [00:00<?, ?it/s]"
      ]
     },
     "metadata": {},
     "output_type": "display_data"
    },
    {
     "data": {
      "application/vnd.jupyter.widget-view+json": {
       "model_id": "6b00e9fe5ae34c0e825d8048aec207be",
       "version_major": 2,
       "version_minor": 0
      },
      "text/plain": [
       "Downloading artifacts:   0%|          | 0/5 [00:00<?, ?it/s]"
      ]
     },
     "metadata": {},
     "output_type": "display_data"
    },
    {
     "data": {
      "application/vnd.jupyter.widget-view+json": {
       "model_id": "930e174112d74561b8a391a8c52e61de",
       "version_major": 2,
       "version_minor": 0
      },
      "text/plain": [
       "Downloading artifacts:   0%|          | 0/5 [00:00<?, ?it/s]"
      ]
     },
     "metadata": {},
     "output_type": "display_data"
    },
    {
     "data": {
      "application/vnd.jupyter.widget-view+json": {
       "model_id": "352412e4e9284c77bdac1b796ba66eb5",
       "version_major": 2,
       "version_minor": 0
      },
      "text/plain": [
       "Downloading artifacts:   0%|          | 0/5 [00:00<?, ?it/s]"
      ]
     },
     "metadata": {},
     "output_type": "display_data"
    },
    {
     "data": {
      "application/vnd.jupyter.widget-view+json": {
       "model_id": "6d281416a1174d27abe4bc6a268034b1",
       "version_major": 2,
       "version_minor": 0
      },
      "text/plain": [
       "Downloading artifacts:   0%|          | 0/5 [00:00<?, ?it/s]"
      ]
     },
     "metadata": {},
     "output_type": "display_data"
    },
    {
     "data": {
      "application/vnd.jupyter.widget-view+json": {
       "model_id": "58cc9eb9332d4739a9eadc7d85737855",
       "version_major": 2,
       "version_minor": 0
      },
      "text/plain": [
       "Downloading artifacts:   0%|          | 0/5 [00:00<?, ?it/s]"
      ]
     },
     "metadata": {},
     "output_type": "display_data"
    },
    {
     "data": {
      "text/plain": [
       "{'SiO2': {'Full': mlflow.pyfunc.loaded_model:\n",
       "    artifact_path: model\n",
       "    flavor: mlflow.sklearn\n",
       "    run_id: 0aaffb8431b04258b17347bc32f3f1e1,\n",
       "  'Low': mlflow.pyfunc.loaded_model:\n",
       "    artifact_path: model\n",
       "    flavor: mlflow.sklearn\n",
       "    run_id: 67370d7540c847c49659c81f5465c5a0,\n",
       "  'Mid': mlflow.pyfunc.loaded_model:\n",
       "    artifact_path: model\n",
       "    flavor: mlflow.sklearn\n",
       "    run_id: 48cd9dc1d5564885b4d74ee9ee2112b6,\n",
       "  'High': mlflow.pyfunc.loaded_model:\n",
       "    artifact_path: model\n",
       "    flavor: mlflow.sklearn\n",
       "    run_id: b47d6ac592d44e939e0fb7554fb6eb81},\n",
       " 'TiO2': {'Full': mlflow.pyfunc.loaded_model:\n",
       "    artifact_path: model\n",
       "    flavor: mlflow.sklearn\n",
       "    run_id: b7a3fe6e1b88432f9f947533aa0da7a8,\n",
       "  'Low': mlflow.pyfunc.loaded_model:\n",
       "    artifact_path: model\n",
       "    flavor: mlflow.sklearn\n",
       "    run_id: 6b3bd56d61484cf29adbd882f9bf916d,\n",
       "  'Mid': mlflow.pyfunc.loaded_model:\n",
       "    artifact_path: model\n",
       "    flavor: mlflow.sklearn\n",
       "    run_id: 7d88f76b992347dcb9c4fdb91419b402,\n",
       "  'High': mlflow.pyfunc.loaded_model:\n",
       "    artifact_path: model\n",
       "    flavor: mlflow.sklearn\n",
       "    run_id: 602549c2aa2344a88277b4d4540bf2b1},\n",
       " 'Al2O3': {'Full': mlflow.pyfunc.loaded_model:\n",
       "    artifact_path: model\n",
       "    flavor: mlflow.sklearn\n",
       "    run_id: 46924646745d4421baf221b599f02082,\n",
       "  'Low': mlflow.pyfunc.loaded_model:\n",
       "    artifact_path: model\n",
       "    flavor: mlflow.sklearn\n",
       "    run_id: 21c2f48c341e4dff96707214555b0268,\n",
       "  'Mid': mlflow.pyfunc.loaded_model:\n",
       "    artifact_path: model\n",
       "    flavor: mlflow.sklearn\n",
       "    run_id: 97870d6fbd584028918ffa3ce832fe6c,\n",
       "  'High': mlflow.pyfunc.loaded_model:\n",
       "    artifact_path: model\n",
       "    flavor: mlflow.sklearn\n",
       "    run_id: 7f141b8f95264402817ac9b4707ef5a0},\n",
       " 'FeOT': {'Full': mlflow.pyfunc.loaded_model:\n",
       "    artifact_path: model\n",
       "    flavor: mlflow.sklearn\n",
       "    run_id: 7f7319a302724e09a1d467fac485b01d,\n",
       "  'Low': mlflow.pyfunc.loaded_model:\n",
       "    artifact_path: model\n",
       "    flavor: mlflow.sklearn\n",
       "    run_id: c6b886e308344cf698ab08f0c35b643b,\n",
       "  'Mid': mlflow.pyfunc.loaded_model:\n",
       "    artifact_path: model\n",
       "    flavor: mlflow.sklearn\n",
       "    run_id: 1ca5545a9a094d69a7aafa3867500840,\n",
       "  'High': mlflow.pyfunc.loaded_model:\n",
       "    artifact_path: model\n",
       "    flavor: mlflow.sklearn\n",
       "    run_id: cd88d0a6f638483bad28633ee496d28d},\n",
       " 'MgO': {'Full': mlflow.pyfunc.loaded_model:\n",
       "    artifact_path: model\n",
       "    flavor: mlflow.sklearn\n",
       "    run_id: f903391144e34a78a2e8db4f7d63a1df,\n",
       "  'Low': mlflow.pyfunc.loaded_model:\n",
       "    artifact_path: model\n",
       "    flavor: mlflow.sklearn\n",
       "    run_id: a2f46b2302ad4ba295e1e46a64d730e1,\n",
       "  'Mid': mlflow.pyfunc.loaded_model:\n",
       "    artifact_path: model\n",
       "    flavor: mlflow.sklearn\n",
       "    run_id: 5633506bc1254b539e55a37499a6d682,\n",
       "  'High': mlflow.pyfunc.loaded_model:\n",
       "    artifact_path: model\n",
       "    flavor: mlflow.sklearn\n",
       "    run_id: 624852ec2c364900a4990d6a71a60498},\n",
       " 'CaO': {'Full': mlflow.pyfunc.loaded_model:\n",
       "    artifact_path: model\n",
       "    flavor: mlflow.sklearn\n",
       "    run_id: 17aaa3abe582474584738e4576583b44,\n",
       "  'Low': mlflow.pyfunc.loaded_model:\n",
       "    artifact_path: model\n",
       "    flavor: mlflow.sklearn\n",
       "    run_id: d7ccea5f6d784338a01f41fa7e4f2460,\n",
       "  'Mid': mlflow.pyfunc.loaded_model:\n",
       "    artifact_path: model\n",
       "    flavor: mlflow.sklearn\n",
       "    run_id: 70ac7a53fa994adb8fb2fda5246bfb60,\n",
       "  'High': mlflow.pyfunc.loaded_model:\n",
       "    artifact_path: model\n",
       "    flavor: mlflow.sklearn\n",
       "    run_id: 03747f5de3c74462a3ae3ed6198cfd52},\n",
       " 'Na2O': {'Full': mlflow.pyfunc.loaded_model:\n",
       "    artifact_path: model\n",
       "    flavor: mlflow.sklearn\n",
       "    run_id: c5493768cbff409d998bee7cd0dd1c6f,\n",
       "  'Low': mlflow.pyfunc.loaded_model:\n",
       "    artifact_path: model\n",
       "    flavor: mlflow.sklearn\n",
       "    run_id: 2e3cabcf10a142198476643468fe02d2,\n",
       "  'High': mlflow.pyfunc.loaded_model:\n",
       "    artifact_path: model\n",
       "    flavor: mlflow.sklearn\n",
       "    run_id: f9c82488fefa499382eebfa2504eed6c},\n",
       " 'K2O': {'Full': mlflow.pyfunc.loaded_model:\n",
       "    artifact_path: model\n",
       "    flavor: mlflow.sklearn\n",
       "    run_id: 1e10c6a284fa422b9f01c58e9c72c5c3,\n",
       "  'Low': mlflow.pyfunc.loaded_model:\n",
       "    artifact_path: model\n",
       "    flavor: mlflow.sklearn\n",
       "    run_id: 7aa52aa757e74384814882d8ddbfdc5f,\n",
       "  'High': mlflow.pyfunc.loaded_model:\n",
       "    artifact_path: model\n",
       "    flavor: mlflow.sklearn\n",
       "    run_id: b8544e7a7fd5451d9504810020821b7b}}"
      ]
     },
     "execution_count": 28,
     "metadata": {},
     "output_type": "execute_result"
    }
   ],
   "source": [
    "client = mlflow.MlflowClient()\n",
    "\n",
    "kv = {}\n",
    "for oxide, v in training_info.items():\n",
    "    sub = {}\n",
    "    for comp_range_name, vv in v.items():\n",
    "        model_name = f\"{oxide}_{comp_range_name}_outlier_removal\"\n",
    "        models = client.search_model_versions(f\"name = '{model_name}'\")\n",
    "        model = mlflow.pyfunc.load_model(models[0].source)\n",
    "        sub[comp_range_name] = model\n",
    "        \n",
    "    kv[oxide] = sub\n",
    "\n",
    "\n",
    "kv"
   ]
  },
  {
   "cell_type": "code",
   "execution_count": 29,
   "metadata": {},
   "outputs": [
    {
     "name": "stdout",
     "output_type": "stream",
     "text": [
      "data/data/calib/calib_2015/1600mm/pls\n"
     ]
    },
    {
     "name": "stderr",
     "output_type": "stream",
     "text": [
      "Loading data: 100%|██████████| 10/10 [00:02<00:00,  4.49it/s]\n"
     ]
    }
   ],
   "source": [
    "import dotenv\n",
    "from lib.data_handling import load_data\n",
    "env = dotenv.dotenv_values(dotenv.find_dotenv())\n",
    "\n",
    "dataset_loc = env.get('DATA_PATH') or \"\"\n",
    "print(dataset_loc)\n",
    "\n",
    "smol_data = load_data(\n",
    "    \"../data/data/calib/calib_2015/1600mm/pls/\",\n",
    "    10\n",
    ")"
   ]
  },
  {
   "cell_type": "code",
   "execution_count": 30,
   "metadata": {},
   "outputs": [
    {
     "name": "stdout",
     "output_type": "stream",
     "text": [
      "data/data/calib/ccam_calibration_compositions.csv\n"
     ]
    },
    {
     "name": "stderr",
     "output_type": "stream",
     "text": [
      "Transforming samples: 100%|██████████| 10/10 [00:00<00:00, 12.53it/s]\n"
     ]
    },
    {
     "data": {
      "text/html": [
       "<div>\n",
       "<style scoped>\n",
       "    .dataframe tbody tr th:only-of-type {\n",
       "        vertical-align: middle;\n",
       "    }\n",
       "\n",
       "    .dataframe tbody tr th {\n",
       "        vertical-align: top;\n",
       "    }\n",
       "\n",
       "    .dataframe thead th {\n",
       "        text-align: right;\n",
       "    }\n",
       "</style>\n",
       "<table border=\"1\" class=\"dataframe\">\n",
       "  <thead>\n",
       "    <tr style=\"text-align: right;\">\n",
       "      <th></th>\n",
       "      <th>246.688</th>\n",
       "      <th>246.741</th>\n",
       "      <th>246.79401</th>\n",
       "      <th>246.847</th>\n",
       "      <th>246.89999</th>\n",
       "      <th>246.953</th>\n",
       "      <th>247.007</th>\n",
       "      <th>247.06</th>\n",
       "      <th>247.11301</th>\n",
       "      <th>247.166</th>\n",
       "      <th>...</th>\n",
       "      <th>848.89642</th>\n",
       "      <th>SiO2</th>\n",
       "      <th>TiO2</th>\n",
       "      <th>Al2O3</th>\n",
       "      <th>FeOT</th>\n",
       "      <th>MgO</th>\n",
       "      <th>CaO</th>\n",
       "      <th>Na2O</th>\n",
       "      <th>K2O</th>\n",
       "      <th>Sample Name</th>\n",
       "    </tr>\n",
       "  </thead>\n",
       "  <tbody>\n",
       "    <tr>\n",
       "      <th>0</th>\n",
       "      <td>3.998589e+11</td>\n",
       "      <td>3.623102e+11</td>\n",
       "      <td>3.125834e+11</td>\n",
       "      <td>2.548143e+11</td>\n",
       "      <td>2.384109e+11</td>\n",
       "      <td>2.535727e+11</td>\n",
       "      <td>2.867055e+11</td>\n",
       "      <td>3.181519e+11</td>\n",
       "      <td>3.228308e+11</td>\n",
       "      <td>3.108220e+11</td>\n",
       "      <td>...</td>\n",
       "      <td>2.293541e+10</td>\n",
       "      <td>51.03</td>\n",
       "      <td>1</td>\n",
       "      <td>13.83</td>\n",
       "      <td>9.93</td>\n",
       "      <td>6.33</td>\n",
       "      <td>10.7</td>\n",
       "      <td>2.01</td>\n",
       "      <td>0.6</td>\n",
       "      <td>jsc1399</td>\n",
       "    </tr>\n",
       "    <tr>\n",
       "      <th>1</th>\n",
       "      <td>3.101115e+11</td>\n",
       "      <td>2.760840e+11</td>\n",
       "      <td>2.294153e+11</td>\n",
       "      <td>1.789714e+11</td>\n",
       "      <td>1.602546e+11</td>\n",
       "      <td>1.737365e+11</td>\n",
       "      <td>2.033433e+11</td>\n",
       "      <td>2.307903e+11</td>\n",
       "      <td>2.380900e+11</td>\n",
       "      <td>2.286484e+11</td>\n",
       "      <td>...</td>\n",
       "      <td>2.224658e+10</td>\n",
       "      <td>51.03</td>\n",
       "      <td>1</td>\n",
       "      <td>13.83</td>\n",
       "      <td>9.93</td>\n",
       "      <td>6.33</td>\n",
       "      <td>10.7</td>\n",
       "      <td>2.01</td>\n",
       "      <td>0.6</td>\n",
       "      <td>jsc1399</td>\n",
       "    </tr>\n",
       "    <tr>\n",
       "      <th>2</th>\n",
       "      <td>4.784395e+11</td>\n",
       "      <td>4.364859e+11</td>\n",
       "      <td>3.787261e+11</td>\n",
       "      <td>3.007351e+11</td>\n",
       "      <td>2.869929e+11</td>\n",
       "      <td>3.060502e+11</td>\n",
       "      <td>3.437366e+11</td>\n",
       "      <td>3.862550e+11</td>\n",
       "      <td>3.896103e+11</td>\n",
       "      <td>3.750934e+11</td>\n",
       "      <td>...</td>\n",
       "      <td>2.239592e+10</td>\n",
       "      <td>51.03</td>\n",
       "      <td>1</td>\n",
       "      <td>13.83</td>\n",
       "      <td>9.93</td>\n",
       "      <td>6.33</td>\n",
       "      <td>10.7</td>\n",
       "      <td>2.01</td>\n",
       "      <td>0.6</td>\n",
       "      <td>jsc1399</td>\n",
       "    </tr>\n",
       "    <tr>\n",
       "      <th>3</th>\n",
       "      <td>5.402266e+11</td>\n",
       "      <td>4.974165e+11</td>\n",
       "      <td>4.266432e+11</td>\n",
       "      <td>3.354670e+11</td>\n",
       "      <td>3.232402e+11</td>\n",
       "      <td>3.433198e+11</td>\n",
       "      <td>3.847175e+11</td>\n",
       "      <td>4.298031e+11</td>\n",
       "      <td>4.313859e+11</td>\n",
       "      <td>4.173089e+11</td>\n",
       "      <td>...</td>\n",
       "      <td>1.634240e+09</td>\n",
       "      <td>51.03</td>\n",
       "      <td>1</td>\n",
       "      <td>13.83</td>\n",
       "      <td>9.93</td>\n",
       "      <td>6.33</td>\n",
       "      <td>10.7</td>\n",
       "      <td>2.01</td>\n",
       "      <td>0.6</td>\n",
       "      <td>jsc1399</td>\n",
       "    </tr>\n",
       "    <tr>\n",
       "      <th>4</th>\n",
       "      <td>4.925927e+11</td>\n",
       "      <td>4.457917e+11</td>\n",
       "      <td>3.862441e+11</td>\n",
       "      <td>3.063318e+11</td>\n",
       "      <td>2.987273e+11</td>\n",
       "      <td>3.191648e+11</td>\n",
       "      <td>3.567172e+11</td>\n",
       "      <td>3.909940e+11</td>\n",
       "      <td>3.978301e+11</td>\n",
       "      <td>3.836622e+11</td>\n",
       "      <td>...</td>\n",
       "      <td>2.234164e+10</td>\n",
       "      <td>51.03</td>\n",
       "      <td>1</td>\n",
       "      <td>13.83</td>\n",
       "      <td>9.93</td>\n",
       "      <td>6.33</td>\n",
       "      <td>10.7</td>\n",
       "      <td>2.01</td>\n",
       "      <td>0.6</td>\n",
       "      <td>jsc1399</td>\n",
       "    </tr>\n",
       "  </tbody>\n",
       "</table>\n",
       "<p>5 rows × 5494 columns</p>\n",
       "</div>"
      ],
      "text/plain": [
       "        246.688       246.741     246.79401       246.847     246.89999  \\\n",
       "0  3.998589e+11  3.623102e+11  3.125834e+11  2.548143e+11  2.384109e+11   \n",
       "1  3.101115e+11  2.760840e+11  2.294153e+11  1.789714e+11  1.602546e+11   \n",
       "2  4.784395e+11  4.364859e+11  3.787261e+11  3.007351e+11  2.869929e+11   \n",
       "3  5.402266e+11  4.974165e+11  4.266432e+11  3.354670e+11  3.232402e+11   \n",
       "4  4.925927e+11  4.457917e+11  3.862441e+11  3.063318e+11  2.987273e+11   \n",
       "\n",
       "        246.953       247.007        247.06     247.11301       247.166  ...  \\\n",
       "0  2.535727e+11  2.867055e+11  3.181519e+11  3.228308e+11  3.108220e+11  ...   \n",
       "1  1.737365e+11  2.033433e+11  2.307903e+11  2.380900e+11  2.286484e+11  ...   \n",
       "2  3.060502e+11  3.437366e+11  3.862550e+11  3.896103e+11  3.750934e+11  ...   \n",
       "3  3.433198e+11  3.847175e+11  4.298031e+11  4.313859e+11  4.173089e+11  ...   \n",
       "4  3.191648e+11  3.567172e+11  3.909940e+11  3.978301e+11  3.836622e+11  ...   \n",
       "\n",
       "      848.89642   SiO2  TiO2  Al2O3  FeOT   MgO   CaO  Na2O  K2O  Sample Name  \n",
       "0  2.293541e+10  51.03     1  13.83  9.93  6.33  10.7  2.01  0.6      jsc1399  \n",
       "1  2.224658e+10  51.03     1  13.83  9.93  6.33  10.7  2.01  0.6      jsc1399  \n",
       "2  2.239592e+10  51.03     1  13.83  9.93  6.33  10.7  2.01  0.6      jsc1399  \n",
       "3  1.634240e+09  51.03     1  13.83  9.93  6.33  10.7  2.01  0.6      jsc1399  \n",
       "4  2.234164e+10  51.03     1  13.83  9.93  6.33  10.7  2.01  0.6      jsc1399  \n",
       "\n",
       "[5 rows x 5494 columns]"
      ]
     },
     "execution_count": 30,
     "metadata": {},
     "output_type": "execute_result"
    }
   ],
   "source": [
    "from lib.data_handling import CustomSpectralPipeline\n",
    "from lib.reproduction import masks, major_oxides\n",
    "\n",
    "compositon_data_path = env.get('COMPOSITION_DATA_PATH') or \"\"\n",
    "print(compositon_data_path)\n",
    "\n",
    "pipeline = CustomSpectralPipeline(\n",
    "    masks,\n",
    "    \"../data/data/calib/ccam_calibration_compositions.csv\",\n",
    "    major_oxides\n",
    ")\n",
    "\n",
    "processed_data = pipeline.fit_transform(smol_data)\n",
    "processed_data.head()"
   ]
  },
  {
   "cell_type": "code",
   "execution_count": 31,
   "metadata": {},
   "outputs": [
    {
     "data": {
      "text/html": [
       "<div>\n",
       "<style scoped>\n",
       "    .dataframe tbody tr th:only-of-type {\n",
       "        vertical-align: middle;\n",
       "    }\n",
       "\n",
       "    .dataframe tbody tr th {\n",
       "        vertical-align: top;\n",
       "    }\n",
       "\n",
       "    .dataframe thead th {\n",
       "        text-align: right;\n",
       "    }\n",
       "</style>\n",
       "<table border=\"1\" class=\"dataframe\">\n",
       "  <thead>\n",
       "    <tr style=\"text-align: right;\">\n",
       "      <th></th>\n",
       "      <th>246.688</th>\n",
       "      <th>246.741</th>\n",
       "      <th>246.79401</th>\n",
       "      <th>246.847</th>\n",
       "      <th>246.89999</th>\n",
       "      <th>246.953</th>\n",
       "      <th>247.007</th>\n",
       "      <th>247.06</th>\n",
       "      <th>247.11301</th>\n",
       "      <th>247.166</th>\n",
       "      <th>...</th>\n",
       "      <th>847.10272</th>\n",
       "      <th>847.30212</th>\n",
       "      <th>847.50153</th>\n",
       "      <th>847.70081</th>\n",
       "      <th>847.90009</th>\n",
       "      <th>848.09943</th>\n",
       "      <th>848.29871</th>\n",
       "      <th>848.49799</th>\n",
       "      <th>848.6972</th>\n",
       "      <th>848.89642</th>\n",
       "    </tr>\n",
       "  </thead>\n",
       "  <tbody>\n",
       "    <tr>\n",
       "      <th>0</th>\n",
       "      <td>0.000583</td>\n",
       "      <td>0.000528</td>\n",
       "      <td>0.000456</td>\n",
       "      <td>0.000371</td>\n",
       "      <td>0.000348</td>\n",
       "      <td>0.000370</td>\n",
       "      <td>0.000418</td>\n",
       "      <td>0.000464</td>\n",
       "      <td>0.000471</td>\n",
       "      <td>0.000453</td>\n",
       "      <td>...</td>\n",
       "      <td>0.000036</td>\n",
       "      <td>0.000034</td>\n",
       "      <td>0.000032</td>\n",
       "      <td>0.000031</td>\n",
       "      <td>0.000030</td>\n",
       "      <td>0.000030</td>\n",
       "      <td>3.003050e-05</td>\n",
       "      <td>3.051429e-05</td>\n",
       "      <td>0.000031</td>\n",
       "      <td>0.000033</td>\n",
       "    </tr>\n",
       "    <tr>\n",
       "      <th>1</th>\n",
       "      <td>0.000515</td>\n",
       "      <td>0.000458</td>\n",
       "      <td>0.000381</td>\n",
       "      <td>0.000297</td>\n",
       "      <td>0.000266</td>\n",
       "      <td>0.000288</td>\n",
       "      <td>0.000338</td>\n",
       "      <td>0.000383</td>\n",
       "      <td>0.000395</td>\n",
       "      <td>0.000380</td>\n",
       "      <td>...</td>\n",
       "      <td>0.000039</td>\n",
       "      <td>0.000037</td>\n",
       "      <td>0.000035</td>\n",
       "      <td>0.000034</td>\n",
       "      <td>0.000034</td>\n",
       "      <td>0.000034</td>\n",
       "      <td>3.333443e-05</td>\n",
       "      <td>3.391175e-05</td>\n",
       "      <td>0.000035</td>\n",
       "      <td>0.000037</td>\n",
       "    </tr>\n",
       "    <tr>\n",
       "      <th>2</th>\n",
       "      <td>0.000778</td>\n",
       "      <td>0.000710</td>\n",
       "      <td>0.000616</td>\n",
       "      <td>0.000489</td>\n",
       "      <td>0.000467</td>\n",
       "      <td>0.000498</td>\n",
       "      <td>0.000559</td>\n",
       "      <td>0.000628</td>\n",
       "      <td>0.000634</td>\n",
       "      <td>0.000610</td>\n",
       "      <td>...</td>\n",
       "      <td>0.000038</td>\n",
       "      <td>0.000036</td>\n",
       "      <td>0.000034</td>\n",
       "      <td>0.000034</td>\n",
       "      <td>0.000033</td>\n",
       "      <td>0.000034</td>\n",
       "      <td>3.290123e-05</td>\n",
       "      <td>3.329541e-05</td>\n",
       "      <td>0.000034</td>\n",
       "      <td>0.000036</td>\n",
       "    </tr>\n",
       "    <tr>\n",
       "      <th>3</th>\n",
       "      <td>0.000794</td>\n",
       "      <td>0.000731</td>\n",
       "      <td>0.000627</td>\n",
       "      <td>0.000493</td>\n",
       "      <td>0.000475</td>\n",
       "      <td>0.000505</td>\n",
       "      <td>0.000565</td>\n",
       "      <td>0.000632</td>\n",
       "      <td>0.000634</td>\n",
       "      <td>0.000613</td>\n",
       "      <td>...</td>\n",
       "      <td>0.000009</td>\n",
       "      <td>0.000006</td>\n",
       "      <td>0.000004</td>\n",
       "      <td>0.000003</td>\n",
       "      <td>0.000002</td>\n",
       "      <td>0.000001</td>\n",
       "      <td>8.131556e-07</td>\n",
       "      <td>6.993754e-07</td>\n",
       "      <td>0.000001</td>\n",
       "      <td>0.000002</td>\n",
       "    </tr>\n",
       "    <tr>\n",
       "      <th>4</th>\n",
       "      <td>0.000755</td>\n",
       "      <td>0.000683</td>\n",
       "      <td>0.000592</td>\n",
       "      <td>0.000469</td>\n",
       "      <td>0.000458</td>\n",
       "      <td>0.000489</td>\n",
       "      <td>0.000546</td>\n",
       "      <td>0.000599</td>\n",
       "      <td>0.000609</td>\n",
       "      <td>0.000588</td>\n",
       "      <td>...</td>\n",
       "      <td>0.000036</td>\n",
       "      <td>0.000034</td>\n",
       "      <td>0.000032</td>\n",
       "      <td>0.000032</td>\n",
       "      <td>0.000031</td>\n",
       "      <td>0.000031</td>\n",
       "      <td>3.073763e-05</td>\n",
       "      <td>3.115510e-05</td>\n",
       "      <td>0.000032</td>\n",
       "      <td>0.000034</td>\n",
       "    </tr>\n",
       "  </tbody>\n",
       "</table>\n",
       "<p>5 rows × 5485 columns</p>\n",
       "</div>"
      ],
      "text/plain": [
       "    246.688   246.741  246.79401   246.847  246.89999   246.953   247.007  \\\n",
       "0  0.000583  0.000528   0.000456  0.000371   0.000348  0.000370  0.000418   \n",
       "1  0.000515  0.000458   0.000381  0.000297   0.000266  0.000288  0.000338   \n",
       "2  0.000778  0.000710   0.000616  0.000489   0.000467  0.000498  0.000559   \n",
       "3  0.000794  0.000731   0.000627  0.000493   0.000475  0.000505  0.000565   \n",
       "4  0.000755  0.000683   0.000592  0.000469   0.000458  0.000489  0.000546   \n",
       "\n",
       "     247.06  247.11301   247.166  ...  847.10272  847.30212  847.50153  \\\n",
       "0  0.000464   0.000471  0.000453  ...   0.000036   0.000034   0.000032   \n",
       "1  0.000383   0.000395  0.000380  ...   0.000039   0.000037   0.000035   \n",
       "2  0.000628   0.000634  0.000610  ...   0.000038   0.000036   0.000034   \n",
       "3  0.000632   0.000634  0.000613  ...   0.000009   0.000006   0.000004   \n",
       "4  0.000599   0.000609  0.000588  ...   0.000036   0.000034   0.000032   \n",
       "\n",
       "   847.70081  847.90009  848.09943     848.29871     848.49799  848.6972  \\\n",
       "0   0.000031   0.000030   0.000030  3.003050e-05  3.051429e-05  0.000031   \n",
       "1   0.000034   0.000034   0.000034  3.333443e-05  3.391175e-05  0.000035   \n",
       "2   0.000034   0.000033   0.000034  3.290123e-05  3.329541e-05  0.000034   \n",
       "3   0.000003   0.000002   0.000001  8.131556e-07  6.993754e-07  0.000001   \n",
       "4   0.000032   0.000031   0.000031  3.073763e-05  3.115510e-05  0.000032   \n",
       "\n",
       "   848.89642  \n",
       "0   0.000033  \n",
       "1   0.000037  \n",
       "2   0.000036  \n",
       "3   0.000002  \n",
       "4   0.000034  \n",
       "\n",
       "[5 rows x 5485 columns]"
      ]
     },
     "execution_count": 31,
     "metadata": {},
     "output_type": "execute_result"
    }
   ],
   "source": [
    "from lib.norms import Norm1Scaler, Norm3Scaler\n",
    "import lib.norms\n",
    "import importlib\n",
    "importlib.reload(lib.norms)\n",
    "\n",
    "drop_cols = major_oxides + ['Sample Name']\n",
    "\n",
    "scaler = Norm1Scaler(reshaped=True)\n",
    "X = scaler.fit_transform(processed_data.drop(drop_cols, axis=1))\n",
    "\n",
    "y = processed_data['SiO2']\n",
    "X[0:5]"
   ]
  },
  {
   "cell_type": "code",
   "execution_count": 32,
   "metadata": {},
   "outputs": [
    {
     "name": "stderr",
     "output_type": "stream",
     "text": [
      "/home/christian/projects/p9/baseline/venv/lib/python3.10/site-packages/sklearn/base.py:458: UserWarning: X has feature names, but PLSRegression was fitted without feature names\n",
      "  warnings.warn(\n"
     ]
    },
    {
     "data": {
      "text/plain": [
       "array([1.43265354])"
      ]
     },
     "execution_count": 32,
     "metadata": {},
     "output_type": "execute_result"
    }
   ],
   "source": [
    "from sklearn.metrics import mean_squared_error\n",
    "predictions = model.predict(X[:1])\n",
    "predictions\n",
    "# out = mean_squared_error(predictions, y[:1], squared=False)\n",
    "# out/100\n"
   ]
  },
  {
   "cell_type": "code",
   "execution_count": 33,
   "metadata": {},
   "outputs": [],
   "source": [
    "def get_weights(y_full, blend_range_min, blend_range_max):\n",
    "    \"\"\"\n",
    "    Helper function to calculate weights for blending predictions.\n",
    "    \"\"\"\n",
    "    w_upper = (y_full - blend_range_min) / (blend_range_max - blend_range_min)\n",
    "    w_lower = 1 - w_upper\n",
    "    return w_lower, w_upper\n",
    "\n",
    "\n",
    "def predict_composition_with_blending(oxide, y_full, X, models, optimized_blending_ranges):\n",
    "    \"\"\"\n",
    "    Predicts the composition of the given oxide based on the full model prediction (y_full)\n",
    "    and the optimized blending ranges, including blending between \"mid\" and \"high\" models as well as \"low\" and \"mid\" models.\n",
    "    \"\"\"\n",
    "    # Check for non-blending range predictions first\n",
    "    blend_ranges = [\"Low-Mid\", \"Mid-High\"]\n",
    "\n",
    "    for range_name, (range_min, range_max) in optimized_blending_ranges[oxide].items():\n",
    "        if range_min <= y_full <= range_max and range_name not in blend_ranges:\n",
    "            return models[oxide][range_name](y_full)\n",
    "\n",
    "    for blend_range in blend_ranges:\n",
    "        # Check if blend_range is defined for the given oxide\n",
    "        if blend_range in optimized_blending_ranges[oxide]:\n",
    "            blend_range_min, blend_range_max = optimized_blending_ranges[oxide][blend_range]\n",
    "\n",
    "            # Check if y_full is within the defined blending range\n",
    "            if blend_range_min <= y_full <= blend_range_max:\n",
    "                w_lower, w_upper = get_weights(y_full, blend_range_min, blend_range_max)\n",
    "\n",
    "                y_lower = models[oxide][blend_range.split(\"-\")[0]].predict(X)\n",
    "                y_upper = models[oxide][blend_range.split(\"-\")[1]].predict(X)\n",
    "\n",
    "                y_final = w_lower * y_lower + w_upper * y_upper\n",
    "                print(f\"y_lower: {y_lower}, y_upper: {y_upper}, y_final: {y_final}\")\n",
    "\n",
    "                return y_final\n",
    "\n",
    "    # Error if y_full is outside any defined range\n",
    "    raise ValueError(f\"y_full value {y_full} for oxide {oxide} is outside the defined blending ranges.\")"
   ]
  },
  {
   "cell_type": "code",
   "execution_count": 34,
   "metadata": {},
   "outputs": [
    {
     "name": "stdout",
     "output_type": "stream",
     "text": [
      "[54.13805783]\n",
      "y_lower: [3792.26896365], y_upper: [416.18535408], y_final: [548.21475175]\n"
     ]
    },
    {
     "name": "stderr",
     "output_type": "stream",
     "text": [
      "/home/christian/projects/p9/baseline/venv/lib/python3.10/site-packages/sklearn/base.py:458: UserWarning: X has feature names, but PLSRegression was fitted without feature names\n",
      "  warnings.warn(\n",
      "/home/christian/projects/p9/baseline/venv/lib/python3.10/site-packages/sklearn/base.py:458: UserWarning: X has feature names, but PLSRegression was fitted without feature names\n",
      "  warnings.warn(\n",
      "/home/christian/projects/p9/baseline/venv/lib/python3.10/site-packages/sklearn/base.py:458: UserWarning: X has feature names, but PLSRegression was fitted without feature names\n",
      "  warnings.warn(\n"
     ]
    },
    {
     "data": {
      "text/plain": [
       "array([548.21475175])"
      ]
     },
     "execution_count": 34,
     "metadata": {},
     "output_type": "execute_result"
    }
   ],
   "source": [
    "from lib.reproduction import optimized_blending_ranges  # noqa: E402\n",
    "\n",
    "y_full = kv['SiO2']['Full'].predict(X[:1])\n",
    "print(y_full)\n",
    "predict_composition_with_blending('SiO2', y_full, X[:1], kv, optimized_blending_ranges)"
   ]
  }
 ],
 "metadata": {
  "kernelspec": {
   "display_name": "venv",
   "language": "python",
   "name": "python3"
  },
  "language_info": {
   "codemirror_mode": {
    "name": "ipython",
    "version": 3
   },
   "file_extension": ".py",
   "mimetype": "text/x-python",
   "name": "python",
   "nbconvert_exporter": "python",
   "pygments_lexer": "ipython3",
   "version": "3.10.11"
  }
 },
 "nbformat": 4,
 "nbformat_minor": 2
}

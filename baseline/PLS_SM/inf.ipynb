{
 "cells": [
  {
   "cell_type": "code",
   "execution_count": 2,
   "metadata": {},
   "outputs": [
    {
     "name": "stderr",
     "output_type": "stream",
     "text": [
      "/home/christian/projects/p9/baseline/venv/lib/python3.10/site-packages/pydantic/_internal/_fields.py:149: UserWarning: Field \"model_server_url\" has conflict with protected namespace \"model_\".\n",
      "\n",
      "You may be able to resolve this warning by setting `model_config['protected_namespaces'] = ()`.\n",
      "  warnings.warn(\n",
      "/home/christian/projects/p9/baseline/venv/lib/python3.10/site-packages/pydantic/_internal/_config.py:321: UserWarning: Valid config keys have changed in V2:\n",
      "* 'schema_extra' has been renamed to 'json_schema_extra'\n",
      "  warnings.warn(message, UserWarning)\n"
     ]
    }
   ],
   "source": [
    "import mlflow\n",
    "from lib.reproduction import training_info\n",
    "from pathlib import Path\n",
    "import pickle\n",
    "\n",
    "mlflow.set_tracking_uri(\"http://localhost:5000\")"
   ]
  },
  {
   "cell_type": "code",
   "execution_count": 3,
   "metadata": {},
   "outputs": [
    {
     "data": {
      "text/plain": [
       "{'SiO2': {'Full': PLSRegression(n_components=6),\n",
       "  'Low': PLSRegression(n_components=9),\n",
       "  'Mid': PLSRegression(n_components=6),\n",
       "  'High': PLSRegression(n_components=5)},\n",
       " 'TiO2': {'Full': PLSRegression(n_components=5),\n",
       "  'Low': PLSRegression(n_components=7),\n",
       "  'Mid': PLSRegression(n_components=5),\n",
       "  'High': PLSRegression(n_components=3)},\n",
       " 'Al2O3': {'Full': PLSRegression(n_components=6),\n",
       "  'Low': PLSRegression(n_components=6),\n",
       "  'Mid': PLSRegression(n_components=8),\n",
       "  'High': PLSRegression(n_components=6)},\n",
       " 'FeOT': {'Full': PLSRegression(n_components=8),\n",
       "  'Low': PLSRegression(n_components=3),\n",
       "  'Mid': PLSRegression(n_components=8),\n",
       "  'High': PLSRegression(n_components=3)},\n",
       " 'MgO': {'Full': PLSRegression(n_components=7),\n",
       "  'Low': PLSRegression(n_components=6),\n",
       "  'Mid': PLSRegression(n_components=9),\n",
       "  'High': PLSRegression(n_components=8)},\n",
       " 'CaO': {'Full': PLSRegression(n_components=8),\n",
       "  'Low': PLSRegression(n_components=9),\n",
       "  'Mid': PLSRegression(n_components=9),\n",
       "  'High': PLSRegression(n_components=6)},\n",
       " 'Na2O': {'Full': PLSRegression(n_components=8),\n",
       "  'Low': PLSRegression(n_components=7),\n",
       "  'High': PLSRegression(n_components=7)},\n",
       " 'K2O': {'Full': PLSRegression(n_components=4),\n",
       "  'Low': PLSRegression(n_components=6),\n",
       "  'High': PLSRegression(n_components=9)}}"
      ]
     },
     "execution_count": 3,
     "metadata": {},
     "output_type": "execute_result"
    }
   ],
   "source": [
    "client = mlflow.MlflowClient()\n",
    "\n",
    "kv = {}\n",
    "# for oxide, v in training_info.items():\n",
    "#     sub = {}\n",
    "#     for comp_range_name, vv in v.items():\n",
    "#         model_name = f\"{oxide}_{comp_range_name}_outlier_removal\"\n",
    "#         models = client.search_model_versions(f\"name = '{model_name}'\")\n",
    "#         model = mlflow.pyfunc.load_model(models[0].source)\n",
    "#         sub[comp_range_name] = model\n",
    "        \n",
    "#     kv[oxide] = sub\n",
    "\n",
    "\n",
    "models_path = Path(\"../models/PLS_Models_12-11-23_174732/\")\n",
    "for oxide, v in training_info.items():\n",
    "    sub = {}\n",
    "    for comp_range_name, vv in v.items():\n",
    "        model_name = f\"{oxide}_{comp_range_name}/model.pkl\"\n",
    "        model = pickle.load(open(models_path / model_name, \"rb\"))\n",
    "        sub[comp_range_name] = model\n",
    "\n",
    "    kv[oxide] = sub\n",
    "\n",
    "\n",
    "kv"
   ]
  },
  {
   "cell_type": "code",
   "execution_count": 4,
   "metadata": {},
   "outputs": [
    {
     "name": "stdout",
     "output_type": "stream",
     "text": [
      "data/data/calib/calib_2015/1600mm/pls\n"
     ]
    },
    {
     "name": "stderr",
     "output_type": "stream",
     "text": [
      "Loading data:   0%|          | 0/10 [00:00<?, ?it/s]"
     ]
    },
    {
     "name": "stderr",
     "output_type": "stream",
     "text": [
      "Loading data: 100%|██████████| 10/10 [00:05<00:00,  1.77it/s]\n"
     ]
    }
   ],
   "source": [
    "import dotenv\n",
    "from lib.data_handling import load_data\n",
    "env = dotenv.dotenv_values(dotenv.find_dotenv())\n",
    "\n",
    "dataset_loc = env.get('DATA_PATH') or \"\"\n",
    "print(dataset_loc)\n",
    "\n",
    "smol_data = load_data(\n",
    "    \"../data/data/calib/calib_2015/1600mm/pls/\",\n",
    "    10\n",
    ")"
   ]
  },
  {
   "cell_type": "code",
   "execution_count": 5,
   "metadata": {},
   "outputs": [
    {
     "name": "stdout",
     "output_type": "stream",
     "text": [
      "data/data/calib/ccam_calibration_compositions.csv\n"
     ]
    },
    {
     "name": "stderr",
     "output_type": "stream",
     "text": [
      "Transforming samples:   0%|          | 0/10 [00:00<?, ?it/s]"
     ]
    },
    {
     "name": "stderr",
     "output_type": "stream",
     "text": [
      "Transforming samples: 100%|██████████| 10/10 [00:00<00:00, 13.42it/s]\n"
     ]
    },
    {
     "data": {
      "text/html": [
       "<div>\n",
       "<style scoped>\n",
       "    .dataframe tbody tr th:only-of-type {\n",
       "        vertical-align: middle;\n",
       "    }\n",
       "\n",
       "    .dataframe tbody tr th {\n",
       "        vertical-align: top;\n",
       "    }\n",
       "\n",
       "    .dataframe thead th {\n",
       "        text-align: right;\n",
       "    }\n",
       "</style>\n",
       "<table border=\"1\" class=\"dataframe\">\n",
       "  <thead>\n",
       "    <tr style=\"text-align: right;\">\n",
       "      <th></th>\n",
       "      <th>246.688</th>\n",
       "      <th>246.741</th>\n",
       "      <th>246.79401</th>\n",
       "      <th>246.847</th>\n",
       "      <th>246.89999</th>\n",
       "      <th>246.953</th>\n",
       "      <th>247.007</th>\n",
       "      <th>247.06</th>\n",
       "      <th>247.11301</th>\n",
       "      <th>247.166</th>\n",
       "      <th>...</th>\n",
       "      <th>848.89642</th>\n",
       "      <th>SiO2</th>\n",
       "      <th>TiO2</th>\n",
       "      <th>Al2O3</th>\n",
       "      <th>FeOT</th>\n",
       "      <th>MgO</th>\n",
       "      <th>CaO</th>\n",
       "      <th>Na2O</th>\n",
       "      <th>K2O</th>\n",
       "      <th>Sample Name</th>\n",
       "    </tr>\n",
       "  </thead>\n",
       "  <tbody>\n",
       "    <tr>\n",
       "      <th>0</th>\n",
       "      <td>3.998589e+11</td>\n",
       "      <td>3.623102e+11</td>\n",
       "      <td>3.125834e+11</td>\n",
       "      <td>2.548143e+11</td>\n",
       "      <td>2.384109e+11</td>\n",
       "      <td>2.535727e+11</td>\n",
       "      <td>2.867055e+11</td>\n",
       "      <td>3.181519e+11</td>\n",
       "      <td>3.228308e+11</td>\n",
       "      <td>3.108220e+11</td>\n",
       "      <td>...</td>\n",
       "      <td>2.293541e+10</td>\n",
       "      <td>51.03</td>\n",
       "      <td>1</td>\n",
       "      <td>13.83</td>\n",
       "      <td>9.93</td>\n",
       "      <td>6.33</td>\n",
       "      <td>10.7</td>\n",
       "      <td>2.01</td>\n",
       "      <td>0.6</td>\n",
       "      <td>jsc1399</td>\n",
       "    </tr>\n",
       "    <tr>\n",
       "      <th>1</th>\n",
       "      <td>3.101115e+11</td>\n",
       "      <td>2.760840e+11</td>\n",
       "      <td>2.294153e+11</td>\n",
       "      <td>1.789714e+11</td>\n",
       "      <td>1.602546e+11</td>\n",
       "      <td>1.737365e+11</td>\n",
       "      <td>2.033433e+11</td>\n",
       "      <td>2.307903e+11</td>\n",
       "      <td>2.380900e+11</td>\n",
       "      <td>2.286484e+11</td>\n",
       "      <td>...</td>\n",
       "      <td>2.224658e+10</td>\n",
       "      <td>51.03</td>\n",
       "      <td>1</td>\n",
       "      <td>13.83</td>\n",
       "      <td>9.93</td>\n",
       "      <td>6.33</td>\n",
       "      <td>10.7</td>\n",
       "      <td>2.01</td>\n",
       "      <td>0.6</td>\n",
       "      <td>jsc1399</td>\n",
       "    </tr>\n",
       "    <tr>\n",
       "      <th>2</th>\n",
       "      <td>4.784395e+11</td>\n",
       "      <td>4.364859e+11</td>\n",
       "      <td>3.787261e+11</td>\n",
       "      <td>3.007351e+11</td>\n",
       "      <td>2.869929e+11</td>\n",
       "      <td>3.060502e+11</td>\n",
       "      <td>3.437366e+11</td>\n",
       "      <td>3.862550e+11</td>\n",
       "      <td>3.896103e+11</td>\n",
       "      <td>3.750934e+11</td>\n",
       "      <td>...</td>\n",
       "      <td>2.239592e+10</td>\n",
       "      <td>51.03</td>\n",
       "      <td>1</td>\n",
       "      <td>13.83</td>\n",
       "      <td>9.93</td>\n",
       "      <td>6.33</td>\n",
       "      <td>10.7</td>\n",
       "      <td>2.01</td>\n",
       "      <td>0.6</td>\n",
       "      <td>jsc1399</td>\n",
       "    </tr>\n",
       "    <tr>\n",
       "      <th>3</th>\n",
       "      <td>5.402266e+11</td>\n",
       "      <td>4.974165e+11</td>\n",
       "      <td>4.266432e+11</td>\n",
       "      <td>3.354670e+11</td>\n",
       "      <td>3.232402e+11</td>\n",
       "      <td>3.433198e+11</td>\n",
       "      <td>3.847175e+11</td>\n",
       "      <td>4.298031e+11</td>\n",
       "      <td>4.313859e+11</td>\n",
       "      <td>4.173089e+11</td>\n",
       "      <td>...</td>\n",
       "      <td>1.634240e+09</td>\n",
       "      <td>51.03</td>\n",
       "      <td>1</td>\n",
       "      <td>13.83</td>\n",
       "      <td>9.93</td>\n",
       "      <td>6.33</td>\n",
       "      <td>10.7</td>\n",
       "      <td>2.01</td>\n",
       "      <td>0.6</td>\n",
       "      <td>jsc1399</td>\n",
       "    </tr>\n",
       "    <tr>\n",
       "      <th>4</th>\n",
       "      <td>4.925927e+11</td>\n",
       "      <td>4.457917e+11</td>\n",
       "      <td>3.862441e+11</td>\n",
       "      <td>3.063318e+11</td>\n",
       "      <td>2.987273e+11</td>\n",
       "      <td>3.191648e+11</td>\n",
       "      <td>3.567172e+11</td>\n",
       "      <td>3.909940e+11</td>\n",
       "      <td>3.978301e+11</td>\n",
       "      <td>3.836622e+11</td>\n",
       "      <td>...</td>\n",
       "      <td>2.234164e+10</td>\n",
       "      <td>51.03</td>\n",
       "      <td>1</td>\n",
       "      <td>13.83</td>\n",
       "      <td>9.93</td>\n",
       "      <td>6.33</td>\n",
       "      <td>10.7</td>\n",
       "      <td>2.01</td>\n",
       "      <td>0.6</td>\n",
       "      <td>jsc1399</td>\n",
       "    </tr>\n",
       "  </tbody>\n",
       "</table>\n",
       "<p>5 rows × 5494 columns</p>\n",
       "</div>"
      ],
      "text/plain": [
       "        246.688       246.741     246.79401       246.847     246.89999  \\\n",
       "0  3.998589e+11  3.623102e+11  3.125834e+11  2.548143e+11  2.384109e+11   \n",
       "1  3.101115e+11  2.760840e+11  2.294153e+11  1.789714e+11  1.602546e+11   \n",
       "2  4.784395e+11  4.364859e+11  3.787261e+11  3.007351e+11  2.869929e+11   \n",
       "3  5.402266e+11  4.974165e+11  4.266432e+11  3.354670e+11  3.232402e+11   \n",
       "4  4.925927e+11  4.457917e+11  3.862441e+11  3.063318e+11  2.987273e+11   \n",
       "\n",
       "        246.953       247.007        247.06     247.11301       247.166  ...  \\\n",
       "0  2.535727e+11  2.867055e+11  3.181519e+11  3.228308e+11  3.108220e+11  ...   \n",
       "1  1.737365e+11  2.033433e+11  2.307903e+11  2.380900e+11  2.286484e+11  ...   \n",
       "2  3.060502e+11  3.437366e+11  3.862550e+11  3.896103e+11  3.750934e+11  ...   \n",
       "3  3.433198e+11  3.847175e+11  4.298031e+11  4.313859e+11  4.173089e+11  ...   \n",
       "4  3.191648e+11  3.567172e+11  3.909940e+11  3.978301e+11  3.836622e+11  ...   \n",
       "\n",
       "      848.89642   SiO2  TiO2  Al2O3  FeOT   MgO   CaO  Na2O  K2O  Sample Name  \n",
       "0  2.293541e+10  51.03     1  13.83  9.93  6.33  10.7  2.01  0.6      jsc1399  \n",
       "1  2.224658e+10  51.03     1  13.83  9.93  6.33  10.7  2.01  0.6      jsc1399  \n",
       "2  2.239592e+10  51.03     1  13.83  9.93  6.33  10.7  2.01  0.6      jsc1399  \n",
       "3  1.634240e+09  51.03     1  13.83  9.93  6.33  10.7  2.01  0.6      jsc1399  \n",
       "4  2.234164e+10  51.03     1  13.83  9.93  6.33  10.7  2.01  0.6      jsc1399  \n",
       "\n",
       "[5 rows x 5494 columns]"
      ]
     },
     "execution_count": 5,
     "metadata": {},
     "output_type": "execute_result"
    }
   ],
   "source": [
    "from lib.data_handling import CustomSpectralPipeline\n",
    "from lib.reproduction import masks, major_oxides\n",
    "\n",
    "compositon_data_path = env.get('COMPOSITION_DATA_PATH') or \"\"\n",
    "print(compositon_data_path)\n",
    "\n",
    "pipeline = CustomSpectralPipeline(\n",
    "    masks,\n",
    "    \"../data/data/calib/ccam_calibration_compositions.csv\",\n",
    "    major_oxides\n",
    ")\n",
    "\n",
    "processed_data = pipeline.fit_transform(smol_data)\n",
    "processed_data.head()"
   ]
  },
  {
   "cell_type": "code",
   "execution_count": 19,
   "metadata": {},
   "outputs": [],
   "source": [
    "from lib.norms import Norm1Scaler, Norm3Scaler\n",
    "from lib.reproduction import spectrometer_wavelength_ranges\n",
    "import lib.norms\n",
    "import importlib\n",
    "importlib.reload(lib.norms)\n",
    "\n",
    "drop_cols = major_oxides + ['Sample Name']\n",
    "\n",
    "scaler = Norm1Scaler(reshaped=True)\n",
    "X_1 = scaler.fit_transform(processed_data.drop(drop_cols, axis=1))\n",
    "X_3 = Norm3Scaler(spectrometer_wavelength_ranges, reshaped=True).fit_transform(processed_data.drop(drop_cols, axis=1))\n",
    "\n",
    "y = processed_data['SiO2']"
   ]
  },
  {
   "cell_type": "code",
   "execution_count": 7,
   "metadata": {},
   "outputs": [
    {
     "name": "stderr",
     "output_type": "stream",
     "text": [
      "/home/christian/projects/p9/baseline/venv/lib/python3.10/site-packages/sklearn/base.py:458: UserWarning: X has feature names, but PLSRegression was fitted without feature names\n",
      "  warnings.warn(\n"
     ]
    },
    {
     "data": {
      "text/plain": [
       "array([1.43265354])"
      ]
     },
     "execution_count": 7,
     "metadata": {},
     "output_type": "execute_result"
    }
   ],
   "source": [
    "from sklearn.metrics import mean_squared_error\n",
    "predictions = model.predict(X[:1])\n",
    "predictions\n",
    "# out = mean_squared_error(predictions, y[:1], squared=False)\n",
    "# out/100\n"
   ]
  },
  {
   "cell_type": "code",
   "execution_count": 23,
   "metadata": {},
   "outputs": [],
   "source": [
    "def get_weights(y_full, blend_range_min, blend_range_max):\n",
    "    \"\"\"\n",
    "    Helper function to calculate weights for blending predictions.\n",
    "    \"\"\"\n",
    "    w_upper = (y_full - blend_range_min) / (blend_range_max - blend_range_min)\n",
    "    w_lower = 1 - w_upper\n",
    "    return w_lower, w_upper\n",
    "\n",
    "\n",
    "def predict_composition_with_blending(oxide, y_full, X1, X3, models, optimized_blending_ranges):\n",
    "    \"\"\"\n",
    "    Predicts the composition of the given oxide based on the full model prediction (y_full)\n",
    "    and the optimized blending ranges, including blending between \"mid\" and \"high\" models as well as \"low\" and \"mid\" models.\n",
    "    \"\"\"\n",
    "    # Check for non-blending range predictions first\n",
    "    blend_ranges = [\"Low-Mid\", \"Mid-High\"]\n",
    "\n",
    "    for range_name, (range_min, range_max) in optimized_blending_ranges[oxide].items():\n",
    "        if range_min <= y_full <= range_max and range_name not in blend_ranges:\n",
    "            return models[oxide][range_name].predict(X1 if training_info[oxide][range_name][\"normalization\"] == 1 else X3)\n",
    "\n",
    "    for blend_range in blend_ranges:\n",
    "        # Check if blend_range is defined for the given oxide\n",
    "        if blend_range in optimized_blending_ranges[oxide]:\n",
    "            blend_range_min, blend_range_max = optimized_blending_ranges[oxide][blend_range]\n",
    "            print(f\"Range: {blend_range}, min: {blend_range_min}, max: {blend_range_max}\")\n",
    "\n",
    "            # Check if y_full is within the defined blending range\n",
    "            if blend_range_min <= y_full <= blend_range_max:\n",
    "                w_lower, w_upper = get_weights(y_full, blend_range_min, blend_range_max)\n",
    "\n",
    "                lower_norm = training_info[oxide][blend_range.split(\"-\")[0]][\"normalization\"]\n",
    "                upper_norm = training_info[oxide][blend_range.split(\"-\")[1]][\"normalization\"]\n",
    "\n",
    "                y_lower = models[oxide][blend_range.split(\"-\")[0]].predict(X1 if lower_norm == 1 else X3)\n",
    "                y_upper = models[oxide][blend_range.split(\"-\")[1]].predict(X1 if upper_norm == 1 else X3)\n",
    "\n",
    "                y_final = w_lower * y_lower + w_upper * y_upper\n",
    "                print(f\"y_lower: {y_lower}, y_upper: {y_upper}, y_final: {y_final}\")\n",
    "                print(f\"w_lower: {w_lower}, w_upper: {w_upper}\")\n",
    "\n",
    "                return y_final\n",
    "\n",
    "    # Error if y_full is outside any defined range\n",
    "    raise ValueError(f\"y_full value {y_full} for oxide {oxide} is outside the defined blending ranges.\")"
   ]
  },
  {
   "cell_type": "code",
   "execution_count": 24,
   "metadata": {},
   "outputs": [
    {
     "name": "stderr",
     "output_type": "stream",
     "text": [
      "/home/christian/projects/p9/baseline/venv/lib/python3.10/site-packages/sklearn/base.py:458: UserWarning: X has feature names, but PLSRegression was fitted without feature names\n",
      "  warnings.warn(\n"
     ]
    },
    {
     "name": "stdout",
     "output_type": "stream",
     "text": [
      "[87.16749613]\n"
     ]
    },
    {
     "name": "stderr",
     "output_type": "stream",
     "text": [
      "/home/christian/projects/p9/baseline/venv/lib/python3.10/site-packages/sklearn/base.py:458: UserWarning: X has feature names, but PLSRegression was fitted without feature names\n",
      "  warnings.warn(\n"
     ]
    },
    {
     "data": {
      "text/plain": [
       "array([42.55337145])"
      ]
     },
     "execution_count": 24,
     "metadata": {},
     "output_type": "execute_result"
    }
   ],
   "source": [
    "from lib.reproduction import optimized_blending_ranges  # noqa: E402\n",
    "\n",
    "full_norm = training_info['SiO2']['Full']['normalization']\n",
    "\n",
    "y_full = kv['SiO2']['Full'].predict(X_1[:1] if full_norm == 1 else X_3[:1])\n",
    "print(y_full)\n",
    "# kv['SiO2']['Low'].predict(X[:1])\n",
    "predict_composition_with_blending('SiO2', y_full, X_1[:1], X_3[:1], kv, optimized_blending_ranges)"
   ]
  }
 ],
 "metadata": {
  "kernelspec": {
   "display_name": "venv",
   "language": "python",
   "name": "python3"
  },
  "language_info": {
   "codemirror_mode": {
    "name": "ipython",
    "version": 3
   },
   "file_extension": ".py",
   "mimetype": "text/x-python",
   "name": "python",
   "nbconvert_exporter": "python",
   "pygments_lexer": "ipython3",
   "version": "3.10.11"
  }
 },
 "nbformat": 4,
 "nbformat_minor": 2
}

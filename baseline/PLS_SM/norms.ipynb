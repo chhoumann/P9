{
    "cells": [
        {
            "cell_type": "code",
            "execution_count": 50,
            "metadata": {},
            "outputs": [
                {
                    "name": "stdout",
                    "output_type": "stream",
                    "text": [
                        "The autoreload extension is already loaded. To reload it, use:\n",
                        "  %reload_ext autoreload\n"
                    ]
                }
            ],
            "source": [
                "%load_ext autoreload\n",
                "%autoreload 2"
            ]
        },
        {
            "cell_type": "code",
            "execution_count": 51,
            "metadata": {},
            "outputs": [],
            "source": [
                "from lib.reproduction import spectral_ranges, major_oxides\n",
                "from lib.norms import Norm3Scaler, Norm1Scaler"
            ]
        },
        {
            "cell_type": "code",
            "execution_count": 52,
            "metadata": {},
            "outputs": [],
            "source": [
                "from lib.full_flow_dataloader import load_full_flow_data\n",
                "\n",
                "train, test = load_full_flow_data()"
            ]
        },
        {
            "cell_type": "code",
            "execution_count": 53,
            "metadata": {},
            "outputs": [],
            "source": [
                "t3 = train.copy()"
            ]
        },
        {
            "cell_type": "code",
            "execution_count": 54,
            "metadata": {},
            "outputs": [],
            "source": [
                "n_c = 2048\n",
                "\n",
                "c1 = t3.iloc[:, :n_c]\n",
                "\n",
                "c1.sum(axis=1).sum()\n",
                "c1_n = c1.div(c1.sum(axis=1).sum(), axis=0)"
            ]
        },
        {
            "cell_type": "code",
            "execution_count": 55,
            "metadata": {},
            "outputs": [
                {
                    "data": {
                        "text/plain": [
                            "240.811      0.0\n",
                            "240.86501    0.0\n",
                            "240.918      0.0\n",
                            "240.972      0.0\n",
                            "241.02699    0.0\n",
                            "            ... \n",
                            "340.621      0.0\n",
                            "340.66501    0.0\n",
                            "340.70901    0.0\n",
                            "340.75299    0.0\n",
                            "340.797      0.0\n",
                            "Length: 2048, dtype: float64"
                        ]
                    },
                    "execution_count": 55,
                    "metadata": {},
                    "output_type": "execute_result"
                }
            ],
            "source": [
                "c1_n.sum()"
            ]
        },
        {
            "cell_type": "code",
            "execution_count": 57,
            "metadata": {},
            "outputs": [
                {
                    "name": "stdout",
                    "output_type": "stream",
                    "text": [
                        "Sum for range UV is close to 1.0 (1.0)\n",
                        "Sum for range VIO is close to 1.0 (0.999993523905696)\n",
                        "Sum for range VNIR is close to 1.0 (0.9999999999999999)\n"
                    ]
                }
            ],
            "source": [
                "# test if the scaler is working\n",
                "import numpy as np\n",
                "\n",
                "drop_cols = major_oxides + ['Sample Name', 'ID']\n",
                "\n",
                "# assert sum of each of the three ranges is 3 using spectrometer_wavelength_ranges\n",
                "def test_norm3_scaler(test_df):\n",
                "    # Simulated Data\n",
                "    df = test_df.copy()\n",
                "\n",
                "    # Initialize and fit-transform the scaler\n",
                "    scaler = Norm3Scaler()\n",
                "    scaler.fit(df)\n",
                "    transformed_df = scaler.transform(df)\n",
                "\n",
                "    numerical_df = transformed_df.drop(drop_cols, axis=1)\n",
                "\n",
                "    # Verify the sum of each range is approximately 1\n",
                "    for key, (start, end) in spectral_ranges.items():\n",
                "        selected_columns = [col for col in numerical_df.columns if start <= float(col) <= end]\n",
                "        range_sum = numerical_df[selected_columns].sum().sum()\n",
                "        assert np.isclose(range_sum, 1.0), f\"Sum for range {key} is not close to 1.0 but is {range_sum}\"\n",
                "        print(f\"Sum for range {key} is close to 1.0 ({range_sum})\")\n",
                "\n",
                "# Run the test\n",
                "test_norm3_scaler(train)\n"
            ]
        },
        {
            "cell_type": "code",
            "execution_count": 58,
            "metadata": {},
            "outputs": [
                {
                    "name": "stdout",
                    "output_type": "stream",
                    "text": [
                        "Sum is close to 1.0 (1.0000000000000002)\n"
                    ]
                }
            ],
            "source": [
                "def test_norm_1_scaler(test_df):\n",
                "    # Simulated Data\n",
                "    df = test_df.copy()\n",
                "\n",
                "    # Initialize and fit-transform the scaler\n",
                "    scaler = Norm1Scaler()\n",
                "    scaler.fit(df)\n",
                "    transformed_df = scaler.transform(df)\n",
                "\n",
                "    numerical_df = transformed_df.drop(drop_cols, axis=1)\n",
                "\n",
                "    # Verify the sum of each range is approximately 1\n",
                "    selected_columns = [col for col in numerical_df.columns if float(col)]\n",
                "    range_sum = numerical_df[selected_columns].sum().sum()\n",
                "    assert np.isclose(range_sum, 1.0), f\"Sum is not close to 1.0 but is {range_sum}\"\n",
                "    print(f\"Sum is close to 1.0 ({range_sum})\")\n",
                "\n",
                "# Run the test\n",
                "test_norm_1_scaler(train)"
            ]
        }
    ],
    "metadata": {
        "kernelspec": {
            "display_name": "venv",
            "language": "python",
            "name": "python3"
        },
        "language_info": {
            "codemirror_mode": {
                "name": "ipython",
                "version": 3
            },
            "file_extension": ".py",
            "mimetype": "text/x-python",
            "name": "python",
            "nbconvert_exporter": "python",
            "pygments_lexer": "ipython3",
            "version": "3.10.11"
        }
    },
    "nbformat": 4,
    "nbformat_minor": 2
}

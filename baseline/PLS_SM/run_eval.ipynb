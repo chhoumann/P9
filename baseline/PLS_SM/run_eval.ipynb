{
 "cells": [
  {
   "cell_type": "code",
   "execution_count": null,
   "metadata": {},
   "outputs": [],
   "source": [
    "import pandas as pd\n",
    "import numpy as np\n",
    "import matplotlib.pyplot as plt\n",
    "import seaborn as sns\n",
    "import mlflow"
   ]
  },
  {
   "cell_type": "code",
   "execution_count": null,
   "metadata": {},
   "outputs": [],
   "source": [
    "mlflow.set_tracking_uri(\"http://localhost:5000\")\n",
    "client = mlflow.MlflowClient()\n",
    "\n",
    "EXPERIMENT_NAME = \"PLS_Models_12-05-23_165347\"\n",
    "\n",
    "def get_runs(experiment_name):\n",
    "    experiment = client.get_experiment_by_name(experiment_name)\n",
    "    if experiment is None:\n",
    "        print(\"No experiment found\")\n",
    "        return []\n",
    "    runs = client.search_runs([experiment.experiment_id])\n",
    "    return runs\n",
    "\n",
    "\n",
    "runs = get_runs(EXPERIMENT_NAME)\n",
    "runs"
   ]
  },
  {
   "cell_type": "code",
   "execution_count": null,
   "metadata": {},
   "outputs": [],
   "source": [
    "def get_mlflow_data(runs):\n",
    "    run_data = []\n",
    "\n",
    "    # Loop through each run and extract data\n",
    "    for run in runs:\n",
    "        run_id = run.info.run_id\n",
    "        # Fetch detailed run info\n",
    "        detailed_run = mlflow.get_run(run_id)\n",
    "        # Extract metrics and parameters\n",
    "        metrics = detailed_run.data.metrics\n",
    "        params = detailed_run.data.params\n",
    "        # Create a combined dictionary\n",
    "        combined_data = {**metrics, **params}\n",
    "        combined_data['run_id'] = run_id\n",
    "        # Append to the run data list\n",
    "        run_data.append(combined_data)\n",
    "\n",
    "    # Convert the list of dictionaries to a DataFrame\n",
    "    df = pd.DataFrame(run_data)\n",
    "\n",
    "    return df\n",
    "\n",
    "data = get_mlflow_data(runs)\n",
    "del runs\n",
    "\n",
    "data.head()"
   ]
  },
  {
   "cell_type": "code",
   "execution_count": null,
   "metadata": {},
   "outputs": [],
   "source": [
    "data.info()"
   ]
  },
  {
   "cell_type": "code",
   "execution_count": null,
   "metadata": {},
   "outputs": [],
   "source": [
    "# Creating a bar plot with separate bars for each compositional range\n",
    "plt.figure(figsize=(12, 6))\n",
    "\n",
    "# Creating a grouped bar chart\n",
    "sns.barplot(x='oxide', y='rmse', hue='compositional_range', data=data, palette='bright')\n",
    "sns.barplot(x='oxide', y='paper_rmse', hue='compositional_range', data=data, palette='muted', alpha=0.5)\n",
    "\n",
    "plt.title('Comparison of Best RMSE and Paper RMSE Grouped by Oxide and Compositional Range')\n",
    "plt.xlabel('Oxide')\n",
    "plt.ylabel('RMSE')\n",
    "plt.legend(title='Compositional Range')\n",
    "plt.show()\n",
    "\n",
    "print(data['rmse'])"
   ]
  }
 ],
 "metadata": {
  "kernelspec": {
   "display_name": "venv",
   "language": "python",
   "name": "python3"
  },
  "language_info": {
   "codemirror_mode": {
    "name": "ipython",
    "version": 3
   },
   "file_extension": ".py",
   "mimetype": "text/x-python",
   "name": "python",
   "nbconvert_exporter": "python",
   "pygments_lexer": "ipython3",
   "version": "3.10.11"
  }
 },
 "nbformat": 4,
 "nbformat_minor": 2
}

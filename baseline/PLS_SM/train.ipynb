{
 "cells": [
  {
   "cell_type": "code",
   "execution_count": 7,
   "metadata": {},
   "outputs": [],
   "source": [
    "import logging\n",
    "\n",
    "import matplotlib.pyplot as plt\n",
    "import mlflow\n",
    "import numpy as np\n",
    "import pandas as pd\n",
    "from sklearn.cross_decomposition import PLSRegression\n",
    "from sklearn.metrics import mean_squared_error\n",
    "from tqdm import tqdm\n",
    "from pathlib import Path\n",
    "\n",
    "import sys\n",
    "import os\n",
    "\n",
    "# to allow importing `reproduction` from parent directory\n",
    "sys.path.append(os.path.dirname(os.path.dirname(os.path.realpath(\"./train.ipynb\"))))\n",
    "\n",
    "from config import logger  # noqa: E402\n",
    "from data_handling import CustomSpectralPipeline, load_data  # type: ignore  # noqa: E402\n",
    "from reproduction import (  # noqa: E402\n",
    "    major_oxides,\n",
    "    masks,\n",
    "    oxide_ranges,\n",
    "    paper_individual_sm_rmses,\n",
    ")  # noqa: E402\n",
    "from utils import (  # noqa: E402\n",
    "    custom_kfold_cross_validation,\n",
    "    custom_train_test_split,\n",
    "    filter_data_by_compositional_range,\n",
    ")\n",
    "\n",
    "\n",
    "mlflow.set_tracking_uri(\"http://localhost:5000\")\n",
    "\n",
    "dataset_loc = Path(\"../data/data/calib/calib_2015/1600mm/pls/\")\n",
    "calib_loc = Path(\"../data/data/calib/ccam_calibration_compositions.csv\")\n",
    "take_samples = None"
   ]
  },
  {
   "cell_type": "code",
   "execution_count": 4,
   "metadata": {},
   "outputs": [
    {
     "name": "stdout",
     "output_type": "stream",
     "text": [
      "Loading data from location: ../data/data/calib/calib_2015/1600mm/pls\n"
     ]
    },
    {
     "name": "stderr",
     "output_type": "stream",
     "text": [
      "Loading data: 100%|██████████| 414/414 [01:40<00:00,  4.13it/s]"
     ]
    },
    {
     "name": "stdout",
     "output_type": "stream",
     "text": [
      "Data loaded successfully.\n"
     ]
    },
    {
     "name": "stderr",
     "output_type": "stream",
     "text": [
      "\n"
     ]
    }
   ],
   "source": [
    "logger.info(\"Loading data from location: %s\", dataset_loc)\n",
    "data = load_data(str(dataset_loc), take_samples)\n",
    "logger.info(\"Data loaded successfully.\")"
   ]
  },
  {
   "cell_type": "code",
   "execution_count": 5,
   "metadata": {},
   "outputs": [
    {
     "name": "stdout",
     "output_type": "stream",
     "text": [
      "Initializing CustomSpectralPipeline.\n",
      "Pipeline initialized. Fitting and transforming data.\n"
     ]
    },
    {
     "name": "stderr",
     "output_type": "stream",
     "text": [
      "Transforming samples: 100%|██████████| 414/414 [00:29<00:00, 13.94it/s]\n"
     ]
    },
    {
     "name": "stdout",
     "output_type": "stream",
     "text": [
      "Data processing complete.\n"
     ]
    }
   ],
   "source": [
    "logger.info(\"Initializing CustomSpectralPipeline.\")\n",
    "pipeline = CustomSpectralPipeline(\n",
    "    masks=masks,\n",
    "    composition_data_loc=calib_loc,\n",
    "    major_oxides=major_oxides,\n",
    ")\n",
    "logger.info(\"Pipeline initialized. Fitting and transforming data.\")\n",
    "processed_data = pipeline.fit_transform(data)\n",
    "logger.info(\"Data processing complete.\")"
   ]
  },
  {
   "cell_type": "code",
   "execution_count": 11,
   "metadata": {},
   "outputs": [
    {
     "name": "stderr",
     "output_type": "stream",
     "text": [
      "2023/12/05 13:37:47 INFO mlflow.tracking.fluent: Experiment with name 'PLS_Models_05-12-23_3' does not exist. Creating a new experiment.\n"
     ]
    },
    {
     "data": {
      "text/plain": [
       "<Experiment: artifact_location='mlflow-artifacts:/203198903230460690', creation_time=1701779867540, experiment_id='203198903230460690', last_update_time=1701779867540, lifecycle_stage='active', name='PLS_Models_05-12-23_3', tags={}>"
      ]
     },
     "execution_count": 11,
     "metadata": {},
     "output_type": "execute_result"
    }
   ],
   "source": [
    "experiment_name = \"PLS_Models_05-12-23_3\"\n",
    "mlflow.set_experiment(experiment_name)"
   ]
  },
  {
   "cell_type": "code",
   "execution_count": 12,
   "metadata": {},
   "outputs": [
    {
     "name": "stderr",
     "output_type": "stream",
     "text": [
      "Processing oxides:   0%|          | 0/8 [00:00<?, ?it/s]"
     ]
    },
    {
     "name": "stdout",
     "output_type": "stream",
     "text": [
      "Filtering data by compositional range.\n",
      "Performing custom k-fold cross-validation.\n"
     ]
    },
    {
     "name": "stderr",
     "output_type": "stream",
     "text": [
      "/home/christian/projects/p9/baseline/venv/lib/python3.10/site-packages/_distutils_hack/__init__.py:18: UserWarning: Distutils was imported before Setuptools, but importing Setuptools also replaces the `distutils` module in `sys.modules`. This may lead to undesirable behaviors or errors. To avoid these issues, avoid using distutils directly, ensure that setuptools is installed in the traditional way (e.g. not an editable install), and/or make sure that setuptools is always imported before distutils.\n",
      "  warnings.warn(\n",
      "/home/christian/projects/p9/baseline/venv/lib/python3.10/site-packages/_distutils_hack/__init__.py:33: UserWarning: Setuptools is replacing distutils.\n",
      "  warnings.warn(\"Setuptools is replacing distutils.\")\n",
      "Registered model 'SiO2_Full' already exists. Creating a new version of this model...\n",
      "2023/12/05 13:38:15 INFO mlflow.store.model_registry.abstract_store: Waiting up to 300 seconds for model version to finish creation. Model name: SiO2_Full, version 7\n",
      "Created version '7' of model 'SiO2_Full'.\n"
     ]
    },
    {
     "name": "stdout",
     "output_type": "stream",
     "text": [
      "Filtering data by compositional range.\n",
      "Performing custom k-fold cross-validation.\n"
     ]
    },
    {
     "name": "stderr",
     "output_type": "stream",
     "text": [
      "/home/christian/projects/p9/baseline/venv/lib/python3.10/site-packages/_distutils_hack/__init__.py:18: UserWarning: Distutils was imported before Setuptools, but importing Setuptools also replaces the `distutils` module in `sys.modules`. This may lead to undesirable behaviors or errors. To avoid these issues, avoid using distutils directly, ensure that setuptools is installed in the traditional way (e.g. not an editable install), and/or make sure that setuptools is always imported before distutils.\n",
      "  warnings.warn(\n",
      "/home/christian/projects/p9/baseline/venv/lib/python3.10/site-packages/_distutils_hack/__init__.py:33: UserWarning: Setuptools is replacing distutils.\n",
      "  warnings.warn(\"Setuptools is replacing distutils.\")\n",
      "Registered model 'SiO2_Low' already exists. Creating a new version of this model...\n",
      "2023/12/05 13:38:30 INFO mlflow.store.model_registry.abstract_store: Waiting up to 300 seconds for model version to finish creation. Model name: SiO2_Low, version 6\n",
      "Created version '6' of model 'SiO2_Low'.\n"
     ]
    },
    {
     "name": "stdout",
     "output_type": "stream",
     "text": [
      "Filtering data by compositional range.\n",
      "Performing custom k-fold cross-validation.\n"
     ]
    },
    {
     "name": "stderr",
     "output_type": "stream",
     "text": [
      "/home/christian/projects/p9/baseline/venv/lib/python3.10/site-packages/_distutils_hack/__init__.py:18: UserWarning: Distutils was imported before Setuptools, but importing Setuptools also replaces the `distutils` module in `sys.modules`. This may lead to undesirable behaviors or errors. To avoid these issues, avoid using distutils directly, ensure that setuptools is installed in the traditional way (e.g. not an editable install), and/or make sure that setuptools is always imported before distutils.\n",
      "  warnings.warn(\n",
      "/home/christian/projects/p9/baseline/venv/lib/python3.10/site-packages/_distutils_hack/__init__.py:33: UserWarning: Setuptools is replacing distutils.\n",
      "  warnings.warn(\"Setuptools is replacing distutils.\")\n",
      "Registered model 'SiO2_Mid' already exists. Creating a new version of this model...\n",
      "2023/12/05 13:38:50 INFO mlflow.store.model_registry.abstract_store: Waiting up to 300 seconds for model version to finish creation. Model name: SiO2_Mid, version 6\n",
      "Created version '6' of model 'SiO2_Mid'.\n"
     ]
    },
    {
     "name": "stdout",
     "output_type": "stream",
     "text": [
      "Filtering data by compositional range.\n",
      "Performing custom k-fold cross-validation.\n"
     ]
    },
    {
     "name": "stderr",
     "output_type": "stream",
     "text": [
      "/home/christian/projects/p9/baseline/venv/lib/python3.10/site-packages/_distutils_hack/__init__.py:18: UserWarning: Distutils was imported before Setuptools, but importing Setuptools also replaces the `distutils` module in `sys.modules`. This may lead to undesirable behaviors or errors. To avoid these issues, avoid using distutils directly, ensure that setuptools is installed in the traditional way (e.g. not an editable install), and/or make sure that setuptools is always imported before distutils.\n",
      "  warnings.warn(\n",
      "/home/christian/projects/p9/baseline/venv/lib/python3.10/site-packages/_distutils_hack/__init__.py:33: UserWarning: Setuptools is replacing distutils.\n",
      "  warnings.warn(\"Setuptools is replacing distutils.\")\n",
      "Registered model 'SiO2_High' already exists. Creating a new version of this model...\n",
      "2023/12/05 13:39:05 INFO mlflow.store.model_registry.abstract_store: Waiting up to 300 seconds for model version to finish creation. Model name: SiO2_High, version 6\n",
      "Created version '6' of model 'SiO2_High'.\n",
      "Processing oxides:  12%|█▎        | 1/8 [01:19<09:13, 79.03s/it]"
     ]
    },
    {
     "name": "stdout",
     "output_type": "stream",
     "text": [
      "Filtering data by compositional range.\n",
      "Performing custom k-fold cross-validation.\n"
     ]
    },
    {
     "name": "stderr",
     "output_type": "stream",
     "text": [
      "/home/christian/projects/p9/baseline/venv/lib/python3.10/site-packages/_distutils_hack/__init__.py:18: UserWarning: Distutils was imported before Setuptools, but importing Setuptools also replaces the `distutils` module in `sys.modules`. This may lead to undesirable behaviors or errors. To avoid these issues, avoid using distutils directly, ensure that setuptools is installed in the traditional way (e.g. not an editable install), and/or make sure that setuptools is always imported before distutils.\n",
      "  warnings.warn(\n",
      "/home/christian/projects/p9/baseline/venv/lib/python3.10/site-packages/_distutils_hack/__init__.py:33: UserWarning: Setuptools is replacing distutils.\n",
      "  warnings.warn(\"Setuptools is replacing distutils.\")\n",
      "Registered model 'TiO2_Full' already exists. Creating a new version of this model...\n",
      "2023/12/05 13:39:29 INFO mlflow.store.model_registry.abstract_store: Waiting up to 300 seconds for model version to finish creation. Model name: TiO2_Full, version 5\n",
      "Created version '5' of model 'TiO2_Full'.\n"
     ]
    },
    {
     "name": "stdout",
     "output_type": "stream",
     "text": [
      "Filtering data by compositional range.\n",
      "Performing custom k-fold cross-validation.\n"
     ]
    },
    {
     "name": "stderr",
     "output_type": "stream",
     "text": [
      "/home/christian/projects/p9/baseline/venv/lib/python3.10/site-packages/_distutils_hack/__init__.py:18: UserWarning: Distutils was imported before Setuptools, but importing Setuptools also replaces the `distutils` module in `sys.modules`. This may lead to undesirable behaviors or errors. To avoid these issues, avoid using distutils directly, ensure that setuptools is installed in the traditional way (e.g. not an editable install), and/or make sure that setuptools is always imported before distutils.\n",
      "  warnings.warn(\n",
      "/home/christian/projects/p9/baseline/venv/lib/python3.10/site-packages/_distutils_hack/__init__.py:33: UserWarning: Setuptools is replacing distutils.\n",
      "  warnings.warn(\"Setuptools is replacing distutils.\")\n",
      "Registered model 'TiO2_Low' already exists. Creating a new version of this model...\n",
      "2023/12/05 13:39:53 INFO mlflow.store.model_registry.abstract_store: Waiting up to 300 seconds for model version to finish creation. Model name: TiO2_Low, version 5\n",
      "Created version '5' of model 'TiO2_Low'.\n"
     ]
    },
    {
     "name": "stdout",
     "output_type": "stream",
     "text": [
      "Filtering data by compositional range.\n",
      "Performing custom k-fold cross-validation.\n"
     ]
    },
    {
     "name": "stderr",
     "output_type": "stream",
     "text": [
      "/home/christian/projects/p9/baseline/venv/lib/python3.10/site-packages/_distutils_hack/__init__.py:18: UserWarning: Distutils was imported before Setuptools, but importing Setuptools also replaces the `distutils` module in `sys.modules`. This may lead to undesirable behaviors or errors. To avoid these issues, avoid using distutils directly, ensure that setuptools is installed in the traditional way (e.g. not an editable install), and/or make sure that setuptools is always imported before distutils.\n",
      "  warnings.warn(\n",
      "/home/christian/projects/p9/baseline/venv/lib/python3.10/site-packages/_distutils_hack/__init__.py:33: UserWarning: Setuptools is replacing distutils.\n",
      "  warnings.warn(\"Setuptools is replacing distutils.\")\n",
      "Registered model 'TiO2_Mid' already exists. Creating a new version of this model...\n",
      "2023/12/05 13:40:05 INFO mlflow.store.model_registry.abstract_store: Waiting up to 300 seconds for model version to finish creation. Model name: TiO2_Mid, version 5\n",
      "Created version '5' of model 'TiO2_Mid'.\n"
     ]
    },
    {
     "name": "stdout",
     "output_type": "stream",
     "text": [
      "Filtering data by compositional range.\n",
      "Performing custom k-fold cross-validation.\n"
     ]
    },
    {
     "name": "stderr",
     "output_type": "stream",
     "text": [
      "/home/christian/projects/p9/baseline/venv/lib/python3.10/site-packages/sklearn/cross_decomposition/_pls.py:305: UserWarning: Y residual is constant at iteration 24\n",
      "  warnings.warn(f\"Y residual is constant at iteration {k}\")\n",
      "/home/christian/projects/p9/baseline/venv/lib/python3.10/site-packages/sklearn/cross_decomposition/_pls.py:305: UserWarning: Y residual is constant at iteration 24\n",
      "  warnings.warn(f\"Y residual is constant at iteration {k}\")\n",
      "/home/christian/projects/p9/baseline/venv/lib/python3.10/site-packages/_distutils_hack/__init__.py:18: UserWarning: Distutils was imported before Setuptools, but importing Setuptools also replaces the `distutils` module in `sys.modules`. This may lead to undesirable behaviors or errors. To avoid these issues, avoid using distutils directly, ensure that setuptools is installed in the traditional way (e.g. not an editable install), and/or make sure that setuptools is always imported before distutils.\n",
      "  warnings.warn(\n",
      "/home/christian/projects/p9/baseline/venv/lib/python3.10/site-packages/_distutils_hack/__init__.py:33: UserWarning: Setuptools is replacing distutils.\n",
      "  warnings.warn(\"Setuptools is replacing distutils.\")\n",
      "Registered model 'TiO2_High' already exists. Creating a new version of this model...\n",
      "2023/12/05 13:40:10 INFO mlflow.store.model_registry.abstract_store: Waiting up to 300 seconds for model version to finish creation. Model name: TiO2_High, version 5\n",
      "Created version '5' of model 'TiO2_High'.\n",
      "Processing oxides:  25%|██▌       | 2/8 [02:21<06:54, 69.12s/it]"
     ]
    },
    {
     "name": "stdout",
     "output_type": "stream",
     "text": [
      "Filtering data by compositional range.\n",
      "Performing custom k-fold cross-validation.\n"
     ]
    },
    {
     "name": "stderr",
     "output_type": "stream",
     "text": [
      "/home/christian/projects/p9/baseline/venv/lib/python3.10/site-packages/_distutils_hack/__init__.py:18: UserWarning: Distutils was imported before Setuptools, but importing Setuptools also replaces the `distutils` module in `sys.modules`. This may lead to undesirable behaviors or errors. To avoid these issues, avoid using distutils directly, ensure that setuptools is installed in the traditional way (e.g. not an editable install), and/or make sure that setuptools is always imported before distutils.\n",
      "  warnings.warn(\n",
      "/home/christian/projects/p9/baseline/venv/lib/python3.10/site-packages/_distutils_hack/__init__.py:33: UserWarning: Setuptools is replacing distutils.\n",
      "  warnings.warn(\"Setuptools is replacing distutils.\")\n",
      "Registered model 'Al2O3_Full' already exists. Creating a new version of this model...\n",
      "2023/12/05 13:40:31 INFO mlflow.store.model_registry.abstract_store: Waiting up to 300 seconds for model version to finish creation. Model name: Al2O3_Full, version 5\n",
      "Created version '5' of model 'Al2O3_Full'.\n"
     ]
    },
    {
     "name": "stdout",
     "output_type": "stream",
     "text": [
      "Filtering data by compositional range.\n",
      "Performing custom k-fold cross-validation.\n"
     ]
    },
    {
     "name": "stderr",
     "output_type": "stream",
     "text": [
      "/home/christian/projects/p9/baseline/venv/lib/python3.10/site-packages/_distutils_hack/__init__.py:18: UserWarning: Distutils was imported before Setuptools, but importing Setuptools also replaces the `distutils` module in `sys.modules`. This may lead to undesirable behaviors or errors. To avoid these issues, avoid using distutils directly, ensure that setuptools is installed in the traditional way (e.g. not an editable install), and/or make sure that setuptools is always imported before distutils.\n",
      "  warnings.warn(\n",
      "/home/christian/projects/p9/baseline/venv/lib/python3.10/site-packages/_distutils_hack/__init__.py:33: UserWarning: Setuptools is replacing distutils.\n",
      "  warnings.warn(\"Setuptools is replacing distutils.\")\n",
      "Registered model 'Al2O3_Low' already exists. Creating a new version of this model...\n",
      "2023/12/05 13:40:45 INFO mlflow.store.model_registry.abstract_store: Waiting up to 300 seconds for model version to finish creation. Model name: Al2O3_Low, version 5\n",
      "Created version '5' of model 'Al2O3_Low'.\n"
     ]
    },
    {
     "name": "stdout",
     "output_type": "stream",
     "text": [
      "Filtering data by compositional range.\n",
      "Performing custom k-fold cross-validation.\n"
     ]
    },
    {
     "name": "stderr",
     "output_type": "stream",
     "text": [
      "/home/christian/projects/p9/baseline/venv/lib/python3.10/site-packages/_distutils_hack/__init__.py:18: UserWarning: Distutils was imported before Setuptools, but importing Setuptools also replaces the `distutils` module in `sys.modules`. This may lead to undesirable behaviors or errors. To avoid these issues, avoid using distutils directly, ensure that setuptools is installed in the traditional way (e.g. not an editable install), and/or make sure that setuptools is always imported before distutils.\n",
      "  warnings.warn(\n",
      "/home/christian/projects/p9/baseline/venv/lib/python3.10/site-packages/_distutils_hack/__init__.py:33: UserWarning: Setuptools is replacing distutils.\n",
      "  warnings.warn(\"Setuptools is replacing distutils.\")\n",
      "Registered model 'Al2O3_Mid' already exists. Creating a new version of this model...\n",
      "2023/12/05 13:41:05 INFO mlflow.store.model_registry.abstract_store: Waiting up to 300 seconds for model version to finish creation. Model name: Al2O3_Mid, version 5\n",
      "Created version '5' of model 'Al2O3_Mid'.\n"
     ]
    },
    {
     "name": "stdout",
     "output_type": "stream",
     "text": [
      "Filtering data by compositional range.\n",
      "Performing custom k-fold cross-validation.\n"
     ]
    },
    {
     "name": "stderr",
     "output_type": "stream",
     "text": [
      "/home/christian/projects/p9/baseline/venv/lib/python3.10/site-packages/_distutils_hack/__init__.py:18: UserWarning: Distutils was imported before Setuptools, but importing Setuptools also replaces the `distutils` module in `sys.modules`. This may lead to undesirable behaviors or errors. To avoid these issues, avoid using distutils directly, ensure that setuptools is installed in the traditional way (e.g. not an editable install), and/or make sure that setuptools is always imported before distutils.\n",
      "  warnings.warn(\n",
      "/home/christian/projects/p9/baseline/venv/lib/python3.10/site-packages/_distutils_hack/__init__.py:33: UserWarning: Setuptools is replacing distutils.\n",
      "  warnings.warn(\"Setuptools is replacing distutils.\")\n",
      "Registered model 'Al2O3_High' already exists. Creating a new version of this model...\n",
      "2023/12/05 13:41:15 INFO mlflow.store.model_registry.abstract_store: Waiting up to 300 seconds for model version to finish creation. Model name: Al2O3_High, version 5\n",
      "Created version '5' of model 'Al2O3_High'.\n",
      "Processing oxides:  38%|███▊      | 3/8 [03:27<05:39, 67.84s/it]"
     ]
    },
    {
     "name": "stdout",
     "output_type": "stream",
     "text": [
      "Filtering data by compositional range.\n",
      "Performing custom k-fold cross-validation.\n"
     ]
    },
    {
     "name": "stderr",
     "output_type": "stream",
     "text": [
      "/home/christian/projects/p9/baseline/venv/lib/python3.10/site-packages/_distutils_hack/__init__.py:18: UserWarning: Distutils was imported before Setuptools, but importing Setuptools also replaces the `distutils` module in `sys.modules`. This may lead to undesirable behaviors or errors. To avoid these issues, avoid using distutils directly, ensure that setuptools is installed in the traditional way (e.g. not an editable install), and/or make sure that setuptools is always imported before distutils.\n",
      "  warnings.warn(\n",
      "/home/christian/projects/p9/baseline/venv/lib/python3.10/site-packages/_distutils_hack/__init__.py:33: UserWarning: Setuptools is replacing distutils.\n",
      "  warnings.warn(\"Setuptools is replacing distutils.\")\n",
      "Registered model 'FeOT_Full' already exists. Creating a new version of this model...\n",
      "2023/12/05 13:41:40 INFO mlflow.store.model_registry.abstract_store: Waiting up to 300 seconds for model version to finish creation. Model name: FeOT_Full, version 5\n",
      "Created version '5' of model 'FeOT_Full'.\n"
     ]
    },
    {
     "name": "stdout",
     "output_type": "stream",
     "text": [
      "Filtering data by compositional range.\n",
      "Performing custom k-fold cross-validation.\n"
     ]
    },
    {
     "name": "stderr",
     "output_type": "stream",
     "text": [
      "/home/christian/projects/p9/baseline/venv/lib/python3.10/site-packages/_distutils_hack/__init__.py:18: UserWarning: Distutils was imported before Setuptools, but importing Setuptools also replaces the `distutils` module in `sys.modules`. This may lead to undesirable behaviors or errors. To avoid these issues, avoid using distutils directly, ensure that setuptools is installed in the traditional way (e.g. not an editable install), and/or make sure that setuptools is always imported before distutils.\n",
      "  warnings.warn(\n",
      "/home/christian/projects/p9/baseline/venv/lib/python3.10/site-packages/_distutils_hack/__init__.py:33: UserWarning: Setuptools is replacing distutils.\n",
      "  warnings.warn(\"Setuptools is replacing distutils.\")\n",
      "Registered model 'FeOT_Low' already exists. Creating a new version of this model...\n",
      "2023/12/05 13:42:08 INFO mlflow.store.model_registry.abstract_store: Waiting up to 300 seconds for model version to finish creation. Model name: FeOT_Low, version 5\n",
      "Created version '5' of model 'FeOT_Low'.\n"
     ]
    },
    {
     "name": "stdout",
     "output_type": "stream",
     "text": [
      "Filtering data by compositional range.\n",
      "Performing custom k-fold cross-validation.\n"
     ]
    },
    {
     "name": "stderr",
     "output_type": "stream",
     "text": [
      "/home/christian/projects/p9/baseline/venv/lib/python3.10/site-packages/_distutils_hack/__init__.py:18: UserWarning: Distutils was imported before Setuptools, but importing Setuptools also replaces the `distutils` module in `sys.modules`. This may lead to undesirable behaviors or errors. To avoid these issues, avoid using distutils directly, ensure that setuptools is installed in the traditional way (e.g. not an editable install), and/or make sure that setuptools is always imported before distutils.\n",
      "  warnings.warn(\n",
      "/home/christian/projects/p9/baseline/venv/lib/python3.10/site-packages/_distutils_hack/__init__.py:33: UserWarning: Setuptools is replacing distutils.\n",
      "  warnings.warn(\"Setuptools is replacing distutils.\")\n",
      "Registered model 'FeOT_Mid' already exists. Creating a new version of this model...\n",
      "2023/12/05 13:42:28 INFO mlflow.store.model_registry.abstract_store: Waiting up to 300 seconds for model version to finish creation. Model name: FeOT_Mid, version 5\n",
      "Created version '5' of model 'FeOT_Mid'.\n"
     ]
    },
    {
     "name": "stdout",
     "output_type": "stream",
     "text": [
      "Filtering data by compositional range.\n",
      "Performing custom k-fold cross-validation.\n"
     ]
    },
    {
     "name": "stderr",
     "output_type": "stream",
     "text": [
      "/home/christian/projects/p9/baseline/venv/lib/python3.10/site-packages/_distutils_hack/__init__.py:18: UserWarning: Distutils was imported before Setuptools, but importing Setuptools also replaces the `distutils` module in `sys.modules`. This may lead to undesirable behaviors or errors. To avoid these issues, avoid using distutils directly, ensure that setuptools is installed in the traditional way (e.g. not an editable install), and/or make sure that setuptools is always imported before distutils.\n",
      "  warnings.warn(\n",
      "/home/christian/projects/p9/baseline/venv/lib/python3.10/site-packages/_distutils_hack/__init__.py:33: UserWarning: Setuptools is replacing distutils.\n",
      "  warnings.warn(\"Setuptools is replacing distutils.\")\n",
      "Registered model 'FeOT_High' already exists. Creating a new version of this model...\n",
      "2023/12/05 13:42:37 INFO mlflow.store.model_registry.abstract_store: Waiting up to 300 seconds for model version to finish creation. Model name: FeOT_High, version 5\n",
      "Created version '5' of model 'FeOT_High'.\n",
      "Processing oxides:  50%|█████     | 4/8 [04:49<04:53, 73.25s/it]"
     ]
    },
    {
     "name": "stdout",
     "output_type": "stream",
     "text": [
      "Filtering data by compositional range.\n",
      "Performing custom k-fold cross-validation.\n"
     ]
    },
    {
     "name": "stderr",
     "output_type": "stream",
     "text": [
      "/home/christian/projects/p9/baseline/venv/lib/python3.10/site-packages/_distutils_hack/__init__.py:18: UserWarning: Distutils was imported before Setuptools, but importing Setuptools also replaces the `distutils` module in `sys.modules`. This may lead to undesirable behaviors or errors. To avoid these issues, avoid using distutils directly, ensure that setuptools is installed in the traditional way (e.g. not an editable install), and/or make sure that setuptools is always imported before distutils.\n",
      "  warnings.warn(\n",
      "/home/christian/projects/p9/baseline/venv/lib/python3.10/site-packages/_distutils_hack/__init__.py:33: UserWarning: Setuptools is replacing distutils.\n",
      "  warnings.warn(\"Setuptools is replacing distutils.\")\n",
      "Registered model 'MgO_Full' already exists. Creating a new version of this model...\n",
      "2023/12/05 13:43:00 INFO mlflow.store.model_registry.abstract_store: Waiting up to 300 seconds for model version to finish creation. Model name: MgO_Full, version 5\n",
      "Created version '5' of model 'MgO_Full'.\n"
     ]
    },
    {
     "name": "stdout",
     "output_type": "stream",
     "text": [
      "Filtering data by compositional range.\n",
      "Performing custom k-fold cross-validation.\n"
     ]
    },
    {
     "name": "stderr",
     "output_type": "stream",
     "text": [
      "/home/christian/projects/p9/baseline/venv/lib/python3.10/site-packages/_distutils_hack/__init__.py:18: UserWarning: Distutils was imported before Setuptools, but importing Setuptools also replaces the `distutils` module in `sys.modules`. This may lead to undesirable behaviors or errors. To avoid these issues, avoid using distutils directly, ensure that setuptools is installed in the traditional way (e.g. not an editable install), and/or make sure that setuptools is always imported before distutils.\n",
      "  warnings.warn(\n",
      "/home/christian/projects/p9/baseline/venv/lib/python3.10/site-packages/_distutils_hack/__init__.py:33: UserWarning: Setuptools is replacing distutils.\n",
      "  warnings.warn(\"Setuptools is replacing distutils.\")\n",
      "Registered model 'MgO_Low' already exists. Creating a new version of this model...\n",
      "2023/12/05 13:43:21 INFO mlflow.store.model_registry.abstract_store: Waiting up to 300 seconds for model version to finish creation. Model name: MgO_Low, version 5\n",
      "Created version '5' of model 'MgO_Low'.\n"
     ]
    },
    {
     "name": "stdout",
     "output_type": "stream",
     "text": [
      "Filtering data by compositional range.\n",
      "Performing custom k-fold cross-validation.\n"
     ]
    },
    {
     "name": "stderr",
     "output_type": "stream",
     "text": [
      "/home/christian/projects/p9/baseline/venv/lib/python3.10/site-packages/_distutils_hack/__init__.py:18: UserWarning: Distutils was imported before Setuptools, but importing Setuptools also replaces the `distutils` module in `sys.modules`. This may lead to undesirable behaviors or errors. To avoid these issues, avoid using distutils directly, ensure that setuptools is installed in the traditional way (e.g. not an editable install), and/or make sure that setuptools is always imported before distutils.\n",
      "  warnings.warn(\n",
      "/home/christian/projects/p9/baseline/venv/lib/python3.10/site-packages/_distutils_hack/__init__.py:33: UserWarning: Setuptools is replacing distutils.\n",
      "  warnings.warn(\"Setuptools is replacing distutils.\")\n",
      "Registered model 'MgO_Mid' already exists. Creating a new version of this model...\n",
      "2023/12/05 13:43:46 INFO mlflow.store.model_registry.abstract_store: Waiting up to 300 seconds for model version to finish creation. Model name: MgO_Mid, version 5\n",
      "Created version '5' of model 'MgO_Mid'.\n"
     ]
    },
    {
     "name": "stdout",
     "output_type": "stream",
     "text": [
      "Filtering data by compositional range.\n",
      "Performing custom k-fold cross-validation.\n"
     ]
    },
    {
     "name": "stderr",
     "output_type": "stream",
     "text": [
      "/home/christian/projects/p9/baseline/venv/lib/python3.10/site-packages/_distutils_hack/__init__.py:18: UserWarning: Distutils was imported before Setuptools, but importing Setuptools also replaces the `distutils` module in `sys.modules`. This may lead to undesirable behaviors or errors. To avoid these issues, avoid using distutils directly, ensure that setuptools is installed in the traditional way (e.g. not an editable install), and/or make sure that setuptools is always imported before distutils.\n",
      "  warnings.warn(\n",
      "/home/christian/projects/p9/baseline/venv/lib/python3.10/site-packages/_distutils_hack/__init__.py:33: UserWarning: Setuptools is replacing distutils.\n",
      "  warnings.warn(\"Setuptools is replacing distutils.\")\n",
      "Registered model 'MgO_High' already exists. Creating a new version of this model...\n",
      "2023/12/05 13:43:54 INFO mlflow.store.model_registry.abstract_store: Waiting up to 300 seconds for model version to finish creation. Model name: MgO_High, version 5\n",
      "Created version '5' of model 'MgO_High'.\n",
      "Processing oxides:  62%|██████▎   | 5/8 [06:06<03:44, 74.72s/it]"
     ]
    },
    {
     "name": "stdout",
     "output_type": "stream",
     "text": [
      "Filtering data by compositional range.\n",
      "Performing custom k-fold cross-validation.\n"
     ]
    },
    {
     "name": "stderr",
     "output_type": "stream",
     "text": [
      "/home/christian/projects/p9/baseline/venv/lib/python3.10/site-packages/_distutils_hack/__init__.py:18: UserWarning: Distutils was imported before Setuptools, but importing Setuptools also replaces the `distutils` module in `sys.modules`. This may lead to undesirable behaviors or errors. To avoid these issues, avoid using distutils directly, ensure that setuptools is installed in the traditional way (e.g. not an editable install), and/or make sure that setuptools is always imported before distutils.\n",
      "  warnings.warn(\n",
      "/home/christian/projects/p9/baseline/venv/lib/python3.10/site-packages/_distutils_hack/__init__.py:33: UserWarning: Setuptools is replacing distutils.\n",
      "  warnings.warn(\"Setuptools is replacing distutils.\")\n",
      "Registered model 'CaO_Full' already exists. Creating a new version of this model...\n",
      "2023/12/05 13:44:20 INFO mlflow.store.model_registry.abstract_store: Waiting up to 300 seconds for model version to finish creation. Model name: CaO_Full, version 5\n",
      "Created version '5' of model 'CaO_Full'.\n"
     ]
    },
    {
     "name": "stdout",
     "output_type": "stream",
     "text": [
      "Filtering data by compositional range.\n",
      "Performing custom k-fold cross-validation.\n"
     ]
    },
    {
     "name": "stderr",
     "output_type": "stream",
     "text": [
      "/home/christian/projects/p9/baseline/venv/lib/python3.10/site-packages/_distutils_hack/__init__.py:18: UserWarning: Distutils was imported before Setuptools, but importing Setuptools also replaces the `distutils` module in `sys.modules`. This may lead to undesirable behaviors or errors. To avoid these issues, avoid using distutils directly, ensure that setuptools is installed in the traditional way (e.g. not an editable install), and/or make sure that setuptools is always imported before distutils.\n",
      "  warnings.warn(\n",
      "/home/christian/projects/p9/baseline/venv/lib/python3.10/site-packages/_distutils_hack/__init__.py:33: UserWarning: Setuptools is replacing distutils.\n",
      "  warnings.warn(\"Setuptools is replacing distutils.\")\n",
      "Registered model 'CaO_Low' already exists. Creating a new version of this model...\n",
      "2023/12/05 13:44:44 INFO mlflow.store.model_registry.abstract_store: Waiting up to 300 seconds for model version to finish creation. Model name: CaO_Low, version 5\n",
      "Created version '5' of model 'CaO_Low'.\n"
     ]
    },
    {
     "name": "stdout",
     "output_type": "stream",
     "text": [
      "Filtering data by compositional range.\n",
      "Performing custom k-fold cross-validation.\n"
     ]
    },
    {
     "name": "stderr",
     "output_type": "stream",
     "text": [
      "/home/christian/projects/p9/baseline/venv/lib/python3.10/site-packages/_distutils_hack/__init__.py:18: UserWarning: Distutils was imported before Setuptools, but importing Setuptools also replaces the `distutils` module in `sys.modules`. This may lead to undesirable behaviors or errors. To avoid these issues, avoid using distutils directly, ensure that setuptools is installed in the traditional way (e.g. not an editable install), and/or make sure that setuptools is always imported before distutils.\n",
      "  warnings.warn(\n",
      "/home/christian/projects/p9/baseline/venv/lib/python3.10/site-packages/_distutils_hack/__init__.py:33: UserWarning: Setuptools is replacing distutils.\n",
      "  warnings.warn(\"Setuptools is replacing distutils.\")\n",
      "Registered model 'CaO_Mid' already exists. Creating a new version of this model...\n",
      "2023/12/05 13:45:08 INFO mlflow.store.model_registry.abstract_store: Waiting up to 300 seconds for model version to finish creation. Model name: CaO_Mid, version 5\n",
      "Created version '5' of model 'CaO_Mid'.\n"
     ]
    },
    {
     "name": "stdout",
     "output_type": "stream",
     "text": [
      "Filtering data by compositional range.\n",
      "Performing custom k-fold cross-validation.\n"
     ]
    },
    {
     "name": "stderr",
     "output_type": "stream",
     "text": [
      "/home/christian/projects/p9/baseline/venv/lib/python3.10/site-packages/_distutils_hack/__init__.py:18: UserWarning: Distutils was imported before Setuptools, but importing Setuptools also replaces the `distutils` module in `sys.modules`. This may lead to undesirable behaviors or errors. To avoid these issues, avoid using distutils directly, ensure that setuptools is installed in the traditional way (e.g. not an editable install), and/or make sure that setuptools is always imported before distutils.\n",
      "  warnings.warn(\n",
      "/home/christian/projects/p9/baseline/venv/lib/python3.10/site-packages/_distutils_hack/__init__.py:33: UserWarning: Setuptools is replacing distutils.\n",
      "  warnings.warn(\"Setuptools is replacing distutils.\")\n",
      "Registered model 'CaO_High' already exists. Creating a new version of this model...\n",
      "2023/12/05 13:45:17 INFO mlflow.store.model_registry.abstract_store: Waiting up to 300 seconds for model version to finish creation. Model name: CaO_High, version 5\n",
      "Created version '5' of model 'CaO_High'.\n",
      "Processing oxides:  75%|███████▌  | 6/8 [07:28<02:34, 77.19s/it]"
     ]
    },
    {
     "name": "stdout",
     "output_type": "stream",
     "text": [
      "Filtering data by compositional range.\n",
      "Performing custom k-fold cross-validation.\n"
     ]
    },
    {
     "name": "stderr",
     "output_type": "stream",
     "text": [
      "/home/christian/projects/p9/baseline/venv/lib/python3.10/site-packages/_distutils_hack/__init__.py:18: UserWarning: Distutils was imported before Setuptools, but importing Setuptools also replaces the `distutils` module in `sys.modules`. This may lead to undesirable behaviors or errors. To avoid these issues, avoid using distutils directly, ensure that setuptools is installed in the traditional way (e.g. not an editable install), and/or make sure that setuptools is always imported before distutils.\n",
      "  warnings.warn(\n",
      "/home/christian/projects/p9/baseline/venv/lib/python3.10/site-packages/_distutils_hack/__init__.py:33: UserWarning: Setuptools is replacing distutils.\n",
      "  warnings.warn(\"Setuptools is replacing distutils.\")\n",
      "Registered model 'Na2O_Full' already exists. Creating a new version of this model...\n",
      "2023/12/05 13:45:38 INFO mlflow.store.model_registry.abstract_store: Waiting up to 300 seconds for model version to finish creation. Model name: Na2O_Full, version 5\n",
      "Created version '5' of model 'Na2O_Full'.\n"
     ]
    },
    {
     "name": "stdout",
     "output_type": "stream",
     "text": [
      "Filtering data by compositional range.\n",
      "Performing custom k-fold cross-validation.\n"
     ]
    },
    {
     "name": "stderr",
     "output_type": "stream",
     "text": [
      "/home/christian/projects/p9/baseline/venv/lib/python3.10/site-packages/_distutils_hack/__init__.py:18: UserWarning: Distutils was imported before Setuptools, but importing Setuptools also replaces the `distutils` module in `sys.modules`. This may lead to undesirable behaviors or errors. To avoid these issues, avoid using distutils directly, ensure that setuptools is installed in the traditional way (e.g. not an editable install), and/or make sure that setuptools is always imported before distutils.\n",
      "  warnings.warn(\n",
      "/home/christian/projects/p9/baseline/venv/lib/python3.10/site-packages/_distutils_hack/__init__.py:33: UserWarning: Setuptools is replacing distutils.\n",
      "  warnings.warn(\"Setuptools is replacing distutils.\")\n",
      "Registered model 'Na2O_Low' already exists. Creating a new version of this model...\n",
      "2023/12/05 13:46:01 INFO mlflow.store.model_registry.abstract_store: Waiting up to 300 seconds for model version to finish creation. Model name: Na2O_Low, version 5\n",
      "Created version '5' of model 'Na2O_Low'.\n"
     ]
    },
    {
     "name": "stdout",
     "output_type": "stream",
     "text": [
      "Filtering data by compositional range.\n",
      "Performing custom k-fold cross-validation.\n"
     ]
    },
    {
     "name": "stderr",
     "output_type": "stream",
     "text": [
      "/home/christian/projects/p9/baseline/venv/lib/python3.10/site-packages/_distutils_hack/__init__.py:18: UserWarning: Distutils was imported before Setuptools, but importing Setuptools also replaces the `distutils` module in `sys.modules`. This may lead to undesirable behaviors or errors. To avoid these issues, avoid using distutils directly, ensure that setuptools is installed in the traditional way (e.g. not an editable install), and/or make sure that setuptools is always imported before distutils.\n",
      "  warnings.warn(\n",
      "/home/christian/projects/p9/baseline/venv/lib/python3.10/site-packages/_distutils_hack/__init__.py:33: UserWarning: Setuptools is replacing distutils.\n",
      "  warnings.warn(\"Setuptools is replacing distutils.\")\n",
      "Registered model 'Na2O_High' already exists. Creating a new version of this model...\n",
      "2023/12/05 13:46:12 INFO mlflow.store.model_registry.abstract_store: Waiting up to 300 seconds for model version to finish creation. Model name: Na2O_High, version 5\n",
      "Created version '5' of model 'Na2O_High'.\n",
      "Processing oxides:  88%|████████▊ | 7/8 [08:24<01:10, 70.19s/it]"
     ]
    },
    {
     "name": "stdout",
     "output_type": "stream",
     "text": [
      "Filtering data by compositional range.\n",
      "Performing custom k-fold cross-validation.\n"
     ]
    },
    {
     "name": "stderr",
     "output_type": "stream",
     "text": [
      "/home/christian/projects/p9/baseline/venv/lib/python3.10/site-packages/_distutils_hack/__init__.py:18: UserWarning: Distutils was imported before Setuptools, but importing Setuptools also replaces the `distutils` module in `sys.modules`. This may lead to undesirable behaviors or errors. To avoid these issues, avoid using distutils directly, ensure that setuptools is installed in the traditional way (e.g. not an editable install), and/or make sure that setuptools is always imported before distutils.\n",
      "  warnings.warn(\n",
      "/home/christian/projects/p9/baseline/venv/lib/python3.10/site-packages/_distutils_hack/__init__.py:33: UserWarning: Setuptools is replacing distutils.\n",
      "  warnings.warn(\"Setuptools is replacing distutils.\")\n",
      "Registered model 'K2O_Full' already exists. Creating a new version of this model...\n",
      "2023/12/05 13:46:34 INFO mlflow.store.model_registry.abstract_store: Waiting up to 300 seconds for model version to finish creation. Model name: K2O_Full, version 5\n",
      "Created version '5' of model 'K2O_Full'.\n"
     ]
    },
    {
     "name": "stdout",
     "output_type": "stream",
     "text": [
      "Filtering data by compositional range.\n",
      "Performing custom k-fold cross-validation.\n"
     ]
    },
    {
     "name": "stderr",
     "output_type": "stream",
     "text": [
      "/home/christian/projects/p9/baseline/venv/lib/python3.10/site-packages/_distutils_hack/__init__.py:18: UserWarning: Distutils was imported before Setuptools, but importing Setuptools also replaces the `distutils` module in `sys.modules`. This may lead to undesirable behaviors or errors. To avoid these issues, avoid using distutils directly, ensure that setuptools is installed in the traditional way (e.g. not an editable install), and/or make sure that setuptools is always imported before distutils.\n",
      "  warnings.warn(\n",
      "/home/christian/projects/p9/baseline/venv/lib/python3.10/site-packages/_distutils_hack/__init__.py:33: UserWarning: Setuptools is replacing distutils.\n",
      "  warnings.warn(\"Setuptools is replacing distutils.\")\n",
      "Registered model 'K2O_Low' already exists. Creating a new version of this model...\n",
      "2023/12/05 13:46:52 INFO mlflow.store.model_registry.abstract_store: Waiting up to 300 seconds for model version to finish creation. Model name: K2O_Low, version 5\n",
      "Created version '5' of model 'K2O_Low'.\n"
     ]
    },
    {
     "name": "stdout",
     "output_type": "stream",
     "text": [
      "Filtering data by compositional range.\n",
      "Performing custom k-fold cross-validation.\n"
     ]
    },
    {
     "name": "stderr",
     "output_type": "stream",
     "text": [
      "/home/christian/projects/p9/baseline/venv/lib/python3.10/site-packages/_distutils_hack/__init__.py:18: UserWarning: Distutils was imported before Setuptools, but importing Setuptools also replaces the `distutils` module in `sys.modules`. This may lead to undesirable behaviors or errors. To avoid these issues, avoid using distutils directly, ensure that setuptools is installed in the traditional way (e.g. not an editable install), and/or make sure that setuptools is always imported before distutils.\n",
      "  warnings.warn(\n",
      "/home/christian/projects/p9/baseline/venv/lib/python3.10/site-packages/_distutils_hack/__init__.py:33: UserWarning: Setuptools is replacing distutils.\n",
      "  warnings.warn(\"Setuptools is replacing distutils.\")\n",
      "Registered model 'K2O_High' already exists. Creating a new version of this model...\n",
      "2023/12/05 13:47:09 INFO mlflow.store.model_registry.abstract_store: Waiting up to 300 seconds for model version to finish creation. Model name: K2O_High, version 5\n",
      "Created version '5' of model 'K2O_High'.\n",
      "Processing oxides: 100%|██████████| 8/8 [09:23<00:00, 70.41s/it]\n"
     ]
    }
   ],
   "source": [
    "k_folds = 5\n",
    "random_state = 42\n",
    "n_components = 25  # paper said 20-30 TODO: grid search this\n",
    "influence_plot_dir = Path(\"plots/\")\n",
    "\n",
    "for oxide in tqdm(major_oxides, desc=\"Processing oxides\"):\n",
    "    _oxide_ranges = oxide_ranges.get(oxide, None)\n",
    "    if _oxide_ranges is None:\n",
    "        logger.info(\"Skipping oxide: %s\", oxide)\n",
    "        continue\n",
    "\n",
    "    for compositional_range in _oxide_ranges.keys():\n",
    "        logger.debug(\n",
    "            \"Starting MLflow run for compositional range: %s, oxide: %s\",\n",
    "            compositional_range,\n",
    "            oxide,\n",
    "        )\n",
    "        with mlflow.start_run(\n",
    "            run_name=f\"{experiment_name}_{compositional_range}_{oxide}\",\n",
    "        ):\n",
    "            best_model = None\n",
    "            best_rmse = float(\"inf\")\n",
    "            mlflow.log_param(\"n_components\", n_components)\n",
    "            mlflow.log_param(\"random_state\", random_state)\n",
    "            logger.info(\"Filtering data by compositional range.\")\n",
    "            data_filtered = filter_data_by_compositional_range(\n",
    "                processed_data, compositional_range, oxide, oxide_ranges\n",
    "            )\n",
    "\n",
    "            train, test = custom_train_test_split(\n",
    "                data_filtered,\n",
    "                group_by=\"Sample Name\",\n",
    "                test_size=0.2,\n",
    "                random_state=random_state,\n",
    "            )\n",
    "\n",
    "            logger.info(\"Performing custom k-fold cross-validation.\")\n",
    "            kf = custom_kfold_cross_validation(\n",
    "                train,\n",
    "                k=k_folds,\n",
    "                group_by=\"Sample Name\",\n",
    "                random_state=random_state,\n",
    "            )\n",
    "\n",
    "            fold_rmse = []\n",
    "            for i, (train_data, test_data) in enumerate(kf):\n",
    "                logger.debug(\"Defining PLSRegression model.\")\n",
    "                pls = PLSRegression(\n",
    "                    n_components=n_components\n",
    "                )  # Adjust n_components as needed\n",
    "\n",
    "                logger.debug(\"Extracting features and target for training.\")\n",
    "                X_train = train_data.drop(columns=major_oxides + [\"Sample Name\"])\n",
    "                y_train = train_data[oxide]\n",
    "                logger.debug(\"Extracting features and target for testing.\")\n",
    "                X_test = test_data.drop(columns=major_oxides + [\"Sample Name\"])\n",
    "                y_test = test_data[oxide]\n",
    "\n",
    "                logger.debug(\"Training the model.\")\n",
    "                pls.fit(X_train, y_train)\n",
    "                logger.debug(\"Model training complete.\")\n",
    "\n",
    "                logger.debug(\"Predicting on test data.\")\n",
    "                y_pred = pls.predict(X_test)\n",
    "                rmse = mean_squared_error(y_test, y_pred, squared=False)\n",
    "                fold_rmse.append(rmse)\n",
    "                logger.debug(\"Fold RMSE: %f\", rmse)\n",
    "\n",
    "                if rmse < best_rmse:\n",
    "                    best_rmse = rmse\n",
    "                    best_model = pls\n",
    "\n",
    "            avg_rmse = sum(fold_rmse) / k_folds\n",
    "\n",
    "            logger.debug(\"Logging parameters, metrics, and model to MLflow.\")\n",
    "            mlflow.log_params(\n",
    "                {\n",
    "                    \"masks\": masks,\n",
    "                    \"range\": oxide_ranges[oxide][compositional_range],\n",
    "                    \"k_folds\": k_folds,\n",
    "                    \"compositional_range\": compositional_range,\n",
    "                    \"oxide\": oxide,\n",
    "                    \"n_spectra\": len(train),\n",
    "                }\n",
    "            )\n",
    "\n",
    "            metrics = {\n",
    "                \"avg_rmse\": float(avg_rmse),\n",
    "                \"best_rmse\": float(best_rmse),\n",
    "                \"paper_rmse\": paper_individual_sm_rmses[compositional_range][oxide],\n",
    "            } | {\n",
    "                f\"fold_{i}_rmse\": float(rmse)\n",
    "                for i, rmse in enumerate(fold_rmse, start=1)\n",
    "            }\n",
    "\n",
    "            mlflow.log_metrics(metrics)\n",
    "            mlflow.sklearn.log_model(\n",
    "                best_model,\n",
    "                \"model\",\n",
    "                registered_model_name=f\"{oxide}_{compositional_range}\",\n",
    "            )\n",
    "\n",
    "            # ----- Influence Plots for Outlier Removal ----- #\n",
    "\n",
    "            pls = PLSRegression(n_components=n_components)\n",
    "            train_data = train.drop(columns=major_oxides + [\"Sample Name\"])\n",
    "            X_train = train_data.to_numpy()\n",
    "            Y_train = train[oxide].to_numpy()\n",
    "            pls.fit(X_train, Y_train)\n",
    "\n",
    "            # Calculate leverage\n",
    "            t = pls.x_scores_\n",
    "            leverage = np.diag(np.dot(t, np.dot(np.linalg.inv(np.dot(t.T, t)), t.T)))\n",
    "\n",
    "            # Calculate residuals\n",
    "            X_reconstructed = np.dot(t, pls.x_loadings_.T)\n",
    "            residuals = X_train - X_reconstructed\n",
    "            Q = np.sum(residuals**2, axis=1)\n",
    "\n",
    "            # Plotting the influence plot\n",
    "            plt.scatter(leverage, Q)\n",
    "            plt.xlabel(\"Leverage\")\n",
    "            plt.ylabel(\"Residuals\")\n",
    "            plt.title(\"Influence Plot\")\n",
    "            plot_path = Path(\n",
    "                influence_plot_dir\n",
    "                / f\"{experiment_name}/{oxide}_{compositional_range}_ip.png\"\n",
    "            )\n",
    "            if not plot_path.parent.exists():\n",
    "                plot_path.parent.mkdir(parents=True, exist_ok=True)\n",
    "            plt.savefig(plot_path)\n",
    "            plt.close()\n",
    "\n",
    "            mlflow.log_artifact(str(plot_path))\n",
    "\n",
    "            # # Identify outliers (this step is more qualitative and depends on your specific dataset)\n",
    "            # outliers = identify_outliers(\n",
    "            #     leverage, Q\n",
    "            # )  # Implement this function based on your criteria\n",
    "\n",
    "            # # Remove outliers and repeat the process\n",
    "            # X_train = np.delete(X_train, outliers, axis=0)\n",
    "            # Y_train = np.delete(Y_train, outliers, axis=0)\n",
    "\n",
    "            logger.debug(\n",
    "                \"Compositional Range: %s, Oxide: %s, Average RMSE: %f\",\n",
    "                compositional_range,\n",
    "                oxide,\n",
    "                avg_rmse,\n",
    "            )"
   ]
  },
  {
   "cell_type": "code",
   "execution_count": 7,
   "metadata": {},
   "outputs": [],
   "source": [
    "mlflow.end_run()"
   ]
  }
 ],
 "metadata": {
  "kernelspec": {
   "display_name": "venv",
   "language": "python",
   "name": "python3"
  },
  "language_info": {
   "codemirror_mode": {
    "name": "ipython",
    "version": 3
   },
   "file_extension": ".py",
   "mimetype": "text/x-python",
   "name": "python",
   "nbconvert_exporter": "python",
   "pygments_lexer": "ipython3",
   "version": "3.10.11"
  }
 },
 "nbformat": 4,
 "nbformat_minor": 2
}

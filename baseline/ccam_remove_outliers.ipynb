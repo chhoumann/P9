{
 "cells": [
  {
   "cell_type": "code",
   "execution_count": null,
   "metadata": {},
   "outputs": [],
   "source": [
    "%load_ext autoreload\n",
    "%autoreload 2"
   ]
  },
  {
   "cell_type": "code",
   "execution_count": null,
   "metadata": {},
   "outputs": [],
   "source": [
    "from lib.config import AppConfig\n",
    "\n",
    "import pandas as pd\n",
    "import os\n",
    "\n",
    "config = AppConfig()"
   ]
  },
  {
   "cell_type": "code",
   "execution_count": null,
   "metadata": {},
   "outputs": [],
   "source": [
    "data_path = config.data_path\n",
    "data_path"
   ]
  },
  {
   "cell_type": "code",
   "execution_count": null,
   "metadata": {},
   "outputs": [],
   "source": [
    "master_list_file_name = config.ccam_master_list_file_name\n",
    "master_list_file_name"
   ]
  },
  {
   "cell_type": "code",
   "execution_count": null,
   "metadata": {},
   "outputs": [],
   "source": [
    "master_list_file_path = os.path.join(data_path, master_list_file_name)\n",
    "\n",
    "if not os.path.exists(master_list_file_path):\n",
    "\tprint(f\"File {master_list_file_path} does not exist\")\n",
    "else:\n",
    "\tprint(f\"File {master_list_file_path} exists\")"
   ]
  },
  {
   "cell_type": "code",
   "execution_count": null,
   "metadata": {},
   "outputs": [],
   "source": [
    "master_list_df = pd.read_csv(master_list_file_path, skiprows=1)\n",
    "master_list_df.head()"
   ]
  },
  {
   "cell_type": "code",
   "execution_count": null,
   "metadata": {},
   "outputs": [],
   "source": [
    "outlier_rows = master_list_df.loc[master_list_df[\"Outlier (Exclude)\"] == 1].copy()\n",
    "outlier_rows[\"File\"] = outlier_rows[\"File\"].str.strip()\n",
    "outlier_rows.head()"
   ]
  },
  {
   "cell_type": "code",
   "execution_count": null,
   "metadata": {},
   "outputs": [],
   "source": [
    "samples = [entry.name for entry in os.scandir(data_path) if entry.is_dir()]\n",
    "files_to_exclude = []\n",
    "\n",
    "for sample in samples:\n",
    "\tsample_path = os.path.join(data_path, sample)\n",
    "\n",
    "\t# Get all files whose file extension is .csv in the directory\n",
    "\tcsv_files = [\n",
    "\t\tfile for file in os.listdir(sample_path) if file.endswith(\".csv\")\n",
    "\t]\n",
    "\n",
    "\tif len(csv_files) == 0:\n",
    "\t\tcontinue\n",
    "\n",
    "\tfor csv_file in csv_files:\n",
    "\t\tif csv_file in outlier_rows[\"File\"].values:\n",
    "\t\t\tfile_path = os.path.join(sample_path, csv_file)\n",
    "\t\t\tfiles_to_exclude.append(file_path)\n",
    "\n",
    "files_to_exclude"
   ]
  },
  {
   "cell_type": "code",
   "execution_count": null,
   "metadata": {},
   "outputs": [],
   "source": [
    "from pathlib import Path\n",
    "\n",
    "import shutil\n",
    "\n",
    "outliers_dir = Path(config.data_cache_dir) / f\"{data_path}-outliers\"\n",
    "outliers_dir.mkdir(exist_ok=True, parents=True)"
   ]
  },
  {
   "cell_type": "code",
   "execution_count": null,
   "metadata": {},
   "outputs": [],
   "source": [
    "# Move files to outliers directory\n",
    "for file in files_to_exclude:\n",
    "    file_path = Path(file)\n",
    "    relative_path = file_path.relative_to(data_path)\n",
    "    new_file_path = outliers_dir / relative_path\n",
    "    new_file_path.parent.mkdir(exist_ok=True, parents=True)\n",
    "\n",
    "    shutil.move(file, new_file_path)\n",
    "\n",
    "    print(f\"Moved {file_path.name} from {file_path.parent.name} to {new_file_path}\")"
   ]
  },
  {
   "cell_type": "code",
   "execution_count": null,
   "metadata": {},
   "outputs": [],
   "source": [
    "# Move files back to original directory\n",
    "files_to_include = list(outliers_dir.rglob('*.csv'))\n",
    "\n",
    "for file_path in files_to_include:\n",
    "    if not file_path.is_file():\n",
    "        continue\n",
    "\n",
    "    # Calculate the relative path of the file with respect to the outliers directory\n",
    "    relative_path = file_path.relative_to(outliers_dir)\n",
    "    # Construct the original file path\n",
    "    original_file_path = data_path / relative_path\n",
    "    # Ensure the directory exists\n",
    "    original_file_path.parent.mkdir(exist_ok=True, parents=True)\n",
    "\n",
    "    # Move file back to the original location\n",
    "    shutil.move(file_path, original_file_path)\n",
    "\n",
    "    print(f\"Moved {file_path.name} from {file_path.parent.name} to {original_file_path}\")"
   ]
  }
 ],
 "metadata": {
  "kernelspec": {
   "display_name": "venv",
   "language": "python",
   "name": "python3"
  },
  "language_info": {
   "codemirror_mode": {
    "name": "ipython",
    "version": 3
   },
   "file_extension": ".py",
   "mimetype": "text/x-python",
   "name": "python",
   "nbconvert_exporter": "python",
   "pygments_lexer": "ipython3",
   "version": "3.10.7"
  }
 },
 "nbformat": 4,
 "nbformat_minor": 2
}

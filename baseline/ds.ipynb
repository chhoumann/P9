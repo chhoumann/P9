{
 "cells": [
  {
   "cell_type": "code",
   "execution_count": 1,
   "metadata": {},
   "outputs": [
    {
     "name": "stderr",
     "output_type": "stream",
     "text": [
      "/home/christian/projects/p9/baseline/venv/lib/python3.10/site-packages/pydantic/_internal/_fields.py:149: UserWarning: Field \"model_server_url\" has conflict with protected namespace \"model_\".\n",
      "\n",
      "You may be able to resolve this warning by setting `model_config['protected_namespaces'] = ()`.\n",
      "  warnings.warn(\n",
      "/home/christian/projects/p9/baseline/venv/lib/python3.10/site-packages/pydantic/_internal/_config.py:321: UserWarning: Valid config keys have changed in V2:\n",
      "* 'schema_extra' has been renamed to 'json_schema_extra'\n",
      "  warnings.warn(message, UserWarning)\n"
     ]
    }
   ],
   "source": [
    "import logging\n",
    "from pathlib import Path\n",
    "from typing import Dict\n",
    "\n",
    "import mlflow\n",
    "import numpy as np\n",
    "import pandas as pd\n",
    "from dotenv import dotenv_values\n",
    "from sklearn.cross_decomposition import PLSRegression\n",
    "from sklearn.metrics import mean_squared_error\n",
    "from tqdm import tqdm\n",
    "\n",
    "# from config import logger\n",
    "from lib.data_handling import CustomSpectralPipeline, load_split_data  # type: ignore\n",
    "from lib.norms import Norm1Scaler, Norm3Scaler\n",
    "from lib.outlier_removal import (\n",
    "    calculate_leverage_residuals,\n",
    "    identify_outliers,\n",
    "    plot_leverage_residuals,\n",
    ")\n",
    "from lib.reproduction import (\n",
    "    major_oxides,\n",
    "    masks,\n",
    "    oxide_ranges,\n",
    "    paper_individual_sm_rmses,\n",
    "    spectrometer_wavelength_ranges,\n",
    "    training_info,\n",
    "    optimized_blending_ranges,\n",
    ")\n",
    "from lib.utils import (\n",
    "    custom_kfold_cross_validation,\n",
    "    filter_data_by_compositional_range,\n",
    ")\n",
    "from PLS_SM.inference import predict_composition_with_blending"
   ]
  },
  {
   "cell_type": "code",
   "execution_count": null,
   "metadata": {},
   "outputs": [],
   "source": [
    "env = dotenv_values()\n",
    "comp_data_loc = env.get(\"COMPOSITION_DATA_PATH\")\n",
    "dataset_loc = env.get(\"DATA_PATH\")\n",
    "\n",
    "take_samples = None\n",
    "\n",
    "# data = load_data(str(dataset_loc))\n",
    "train_data, test_data = load_split_data(\n",
    "    str(dataset_loc), split_loc=\"./train_test_split.csv\", average_shots=True\n",
    ")\n",
    "\n",
    "pipeline = CustomSpectralPipeline(\n",
    "    masks=masks,\n",
    "    composition_data_loc=comp_data_loc,\n",
    "    major_oxides=major_oxides,\n",
    ")\n",
    "train_processed = pipeline.fit_transform(train_data)\n",
    "test_processed = pipeline.fit_transform(test_data)"
   ]
  }
 ],
 "metadata": {
  "kernelspec": {
   "display_name": "venv",
   "language": "python",
   "name": "python3"
  },
  "language_info": {
   "codemirror_mode": {
    "name": "ipython",
    "version": 3
   },
   "file_extension": ".py",
   "mimetype": "text/x-python",
   "name": "python",
   "nbconvert_exporter": "python",
   "pygments_lexer": "ipython3",
   "version": "3.10.11"
  }
 },
 "nbformat": 4,
 "nbformat_minor": 2
}

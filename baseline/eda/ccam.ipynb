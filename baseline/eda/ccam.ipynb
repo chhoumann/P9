{
 "cells": [
  {
   "cell_type": "code",
   "execution_count": null,
   "metadata": {},
   "outputs": [],
   "source": [
    "%load_ext autoreload\n",
    "%autoreload 2"
   ]
  },
  {
   "cell_type": "code",
   "execution_count": null,
   "metadata": {},
   "outputs": [],
   "source": [
    "import pandas as pd\n",
    "from pathlib import Path\n",
    "\n",
    "from lib.config import AppConfig\n",
    "from lib.reproduction import major_oxides\n",
    "\n",
    "config = AppConfig()"
   ]
  },
  {
   "cell_type": "code",
   "execution_count": null,
   "metadata": {},
   "outputs": [],
   "source": [
    "ds_path = Path(config.ccam_composition_data_path)\n",
    "ccam_comp_MO = [f\"{mo} (wt%)\" for mo in major_oxides]\n",
    "\n",
    "ccam_comp_data = pd.read_csv(ds_path, skiprows=1)\n",
    "\n",
    "# remove rows with missing data in any of the major oxides\n",
    "# ccam_comp_data = ccam_comp_data.dropna(subset=ccam_comp_MO)\n",
    "\n",
    "# print number of rows with nan or null values\n",
    "print(ccam_comp_data[ccam_comp_MO].isnull().sum())\n",
    "\n",
    "\n",
    "ccam_comp_data = ccam_comp_data.rename(columns={mowt: mo for (mowt, mo)  in zip(ccam_comp_MO, major_oxides)})"
   ]
  },
  {
   "cell_type": "code",
   "execution_count": null,
   "metadata": {},
   "outputs": [],
   "source": [
    "# print all rows with non-null values\n",
    "print(ccam_comp_data.shape)\n",
    "ccam_comp_data.head()"
   ]
  },
  {
   "cell_type": "code",
   "execution_count": null,
   "metadata": {},
   "outputs": [],
   "source": [
    "from build.lib.lib.data_handling import CompositionData\n",
    "\n",
    "cd = CompositionData(config.composition_data_path).composition_data\n",
    "cd = cd[cd[major_oxides].notnull().all(axis=1)]\n",
    "print(cd.shape)\n",
    "cd.head()"
   ]
  },
  {
   "cell_type": "code",
   "execution_count": null,
   "metadata": {},
   "outputs": [],
   "source": [
    "print(\n",
    "    f\"Total number of rows with null values in new: {ccam_comp_data[major_oxides].isnull().any(axis=1).sum()}\"\n",
    ")"
   ]
  },
  {
   "cell_type": "code",
   "execution_count": null,
   "metadata": {},
   "outputs": [],
   "source": [
    "df = pd.merge(cd, ccam_comp_data, on=['Target'], how='inner', suffixes=('_cd', '_ccam'))"
   ]
  },
  {
   "cell_type": "code",
   "execution_count": null,
   "metadata": {},
   "outputs": [],
   "source": [
    "new_cols = [f\"{mo}_ccam\" for mo in major_oxides]\n",
    "old_cols = [f\"{mo}_cd\" for mo in major_oxides]\n",
    "new = df[['Target'] + new_cols].copy()\n",
    "new.rename(columns={f\"{mo}_ccam\": mo for mo in major_oxides}, inplace=True)\n",
    "old = df[['Target'] + old_cols].copy()\n",
    "old.rename(columns={f\"{mo}_cd\": mo for mo in major_oxides}, inplace=True)\n",
    "\n",
    "df[['Target'] + new_cols + old_cols]\n",
    "\n",
    "# print # of cols that are equivalent\n",
    "print(f\"Number of equivalent rows: {new.eq(old).all(axis=1).sum()}\")\n",
    "\n",
    "# print # of cols that are not equivalent\n",
    "print(f\"Number of non-equivalent rows: {new.eq(old).all(axis=1).sum()}\")\n",
    "\n",
    "# print df rows that are nan in old and not in new\n",
    "print(f\"Number of rows that have nan values in old and not in new: {df[old_cols][old.isnull().any(axis=1) & new.notnull().all(axis=1)].shape[0]}\")\n",
    "    # df[old_cols][old.isnull().any(axis=1) & new.notnull().all(axis=1)].shape[0]\n",
    "\n",
    "# print df rows that are nan in new and not in old\n",
    "print(\n",
    "    f\"Number of rows that have nan values in new and not in old: {df[new_cols][new.isnull().any(axis=1) & old.notnull().all(axis=1)].shape[0]}\"\n",
    ")\n",
    "# df[['Target'] + new_cols + old_cols][new.isnull().any(axis=1) & old.notnull().all(axis=1)]\n",
    "\n",
    "# print rows that are null in new\n",
    "print(\n",
    "    f\"Number of rows that are null in new (after migration): {df[new_cols][new.isnull().any(axis=1)].shape[0]}\"\n",
    ")"
   ]
  },
  {
   "cell_type": "code",
   "execution_count": null,
   "metadata": {},
   "outputs": [],
   "source": [
    "amount_of_repeat_values = df['Target'].size\n",
    "print(\"% repeat values: \", f\"{amount_of_repeat_values} / {ccam_comp_data['Target'].size} = {amount_of_repeat_values / ccam_comp_data['Target'].size * 100:.2f}%\")"
   ]
  },
  {
   "cell_type": "code",
   "execution_count": null,
   "metadata": {},
   "outputs": [],
   "source": [
    "left_join = pd.merge(ccam_comp_data, cd, on='Target', how='left', indicator=True)\n",
    "rows_in_ccam_not_in_cd = left_join[left_join['_merge'] == 'left_only']\n",
    "rows_in_ccam_not_in_cd = rows_in_ccam_not_in_cd.drop(columns=['_merge'])\n",
    "\n",
    "rows_in_ccam_not_in_cd[[\"Target\"]]"
   ]
  }
 ],
 "metadata": {
  "kernelspec": {
   "display_name": "venv",
   "language": "python",
   "name": "python3"
  },
  "language_info": {
   "codemirror_mode": {
    "name": "ipython",
    "version": 3
   },
   "file_extension": ".py",
   "mimetype": "text/x-python",
   "name": "python",
   "nbconvert_exporter": "python",
   "pygments_lexer": "ipython3",
   "version": "3.10.11"
  }
 },
 "nbformat": 4,
 "nbformat_minor": 2
}

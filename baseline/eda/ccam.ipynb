{
 "cells": [
  {
   "cell_type": "code",
   "execution_count": null,
   "metadata": {},
   "outputs": [],
   "source": [
    "%load_ext autoreload\n",
    "%autoreload 2"
   ]
  },
  {
   "cell_type": "code",
   "execution_count": null,
   "metadata": {},
   "outputs": [],
   "source": [
    "import pandas as pd\n",
    "from pathlib import Path\n",
    "\n",
    "from lib.config import AppConfig\n",
    "from lib.reproduction import major_oxides\n",
    "\n",
    "config = AppConfig()"
   ]
  },
  {
   "cell_type": "code",
   "execution_count": null,
   "metadata": {},
   "outputs": [],
   "source": [
    "ds_path = Path(config.ccam_composition_data_path)\n",
    "ccam_comp_MO = [f\"{mo} (wt%)\" for mo in major_oxides]\n",
    "\n",
    "ccam_comp_data = pd.read_csv(ds_path, skiprows=1)\n",
    "\n",
    "# remove rows with missing data in any of the major oxides\n",
    "ccam_comp_data = ccam_comp_data.dropna(subset=ccam_comp_MO)\n",
    "\n",
    "# print number of rows with nan or null values\n",
    "print(ccam_comp_data[ccam_comp_MO].isnull().sum())\n",
    "\n",
    "\n",
    "ccam_comp_data = ccam_comp_data.rename(columns={mowt: mo for (mowt, mo) in zip(ccam_comp_MO, major_oxides)})"
   ]
  },
  {
   "cell_type": "code",
   "execution_count": null,
   "metadata": {},
   "outputs": [],
   "source": [
    "# print all rows with non-null values\n",
    "print(ccam_comp_data.shape)\n",
    "ccam_comp_data.head()"
   ]
  },
  {
   "cell_type": "code",
   "execution_count": null,
   "metadata": {},
   "outputs": [],
   "source": [
    "from build.lib.lib.data_handling import CompositionData\n",
    "\n",
    "cd = CompositionData(config.composition_data_path).composition_data\n",
    "cd = cd[cd[major_oxides].notnull().all(axis=1)]\n",
    "print(cd.shape)\n",
    "cd.head()"
   ]
  },
  {
   "cell_type": "code",
   "execution_count": null,
   "metadata": {},
   "outputs": [],
   "source": [
    "print(f\"Total number of rows with null values in new: {ccam_comp_data[major_oxides].isnull().any(axis=1).sum()}\")"
   ]
  },
  {
   "cell_type": "code",
   "execution_count": null,
   "metadata": {},
   "outputs": [],
   "source": [
    "df = pd.merge(cd, ccam_comp_data, on=[\"Target\"], how=\"inner\", suffixes=(\"_cd\", \"_ccam\"))"
   ]
  },
  {
   "cell_type": "code",
   "execution_count": null,
   "metadata": {},
   "outputs": [],
   "source": [
    "from typing import Any, Dict\n",
    "\n",
    "\n",
    "def p(obj: Dict[str, Any]):\n",
    "    for k, v in obj.items():\n",
    "        print(f\"{k}: {v}\")"
   ]
  },
  {
   "cell_type": "code",
   "execution_count": null,
   "metadata": {},
   "outputs": [],
   "source": [
    "new_cols = [f\"{mo}_ccam\" for mo in major_oxides]\n",
    "old_cols = [f\"{mo}_cd\" for mo in major_oxides]\n",
    "new = df[[\"Target\"] + new_cols].copy()\n",
    "new.rename(columns={f\"{mo}_ccam\": mo for mo in major_oxides}, inplace=True)\n",
    "old = df[[\"Target\"] + old_cols].copy()\n",
    "old.rename(columns={f\"{mo}_cd\": mo for mo in major_oxides}, inplace=True)\n",
    "\n",
    "df[[\"Target\"] + new_cols + old_cols]\n",
    "\n",
    "p(\n",
    "    {\n",
    "        \"Number of equivalent rows\": new.eq(old).all(axis=1).sum(),\n",
    "        \"Number of non-equivalent rows\": new.eq(old).all(axis=1).sum(),\n",
    "        \"Number of rows that have nan values in old and not in new\": df[old_cols][\n",
    "            old.isnull().any(axis=1) & new.notnull().all(axis=1)\n",
    "        ].shape[0],\n",
    "        \"Number of rows that have nan values in new and not in old\": df[new_cols][\n",
    "            new.isnull().any(axis=1) & old.notnull().all(axis=1)\n",
    "        ].shape[0],\n",
    "        \"Number of rows that are null in new (after migration)\": df[new_cols][\n",
    "            new.isnull().any(axis=1)\n",
    "        ].shape[0],\n",
    "    }\n",
    ")"
   ]
  },
  {
   "cell_type": "code",
   "execution_count": null,
   "metadata": {},
   "outputs": [],
   "source": [
    "amount_of_repeat_values = df[\"Target\"].size\n",
    "ccam_size = ccam_comp_data[\"Target\"].size\n",
    "\n",
    "p(\n",
    "    {\n",
    "        \"% repeat values\": f\"{amount_of_repeat_values} / {ccam_size} = {amount_of_repeat_values / ccam_size * 100:.2f}%\"\n",
    "    }\n",
    ")"
   ]
  },
  {
   "cell_type": "code",
   "execution_count": null,
   "metadata": {},
   "outputs": [],
   "source": [
    "left_join = pd.merge(ccam_comp_data, cd, on=\"Target\", how=\"left\", indicator=True)\n",
    "rows_in_ccam_not_in_cd = left_join[left_join[\"_merge\"] == \"left_only\"]\n",
    "rows_in_ccam_not_in_cd = rows_in_ccam_not_in_cd.drop(columns=[\"_merge\"])\n",
    "\n",
    "assert (ccam_size - amount_of_repeat_values) == len(\n",
    "    rows_in_ccam_not_in_cd[[\"Target\"]]\n",
    "), f\"{ccam_size - amount_of_repeat_values} != {len(rows_in_ccam_not_in_cd[['Target']])}\"\n",
    "\n",
    "p(\n",
    "    {\n",
    "        \"Number of rows in ccam not in cd\": len(rows_in_ccam_not_in_cd),\n",
    "    }\n",
    ")"
   ]
  },
  {
   "cell_type": "code",
   "execution_count": null,
   "metadata": {},
   "outputs": [],
   "source": [
    "# rename ccam columns to major oxides from ccam_comp_MO\n",
    "ccam_comp_data_renamed = ccam_comp_data.rename(columns={mowt: mo for (mowt, mo) in zip(ccam_comp_MO, major_oxides)})"
   ]
  },
  {
   "cell_type": "code",
   "execution_count": null,
   "metadata": {},
   "outputs": [],
   "source": [
    "from typing import List\n",
    "import pandas as pd\n",
    "import seaborn as sns\n",
    "import matplotlib.pyplot as plt\n",
    "import warnings\n",
    "\n",
    "# Ignore FutureWarnings\n",
    "warnings.simplefilter(action='ignore', category=FutureWarning)\n",
    "\n",
    "def prepare_data_for_plotting(df1: pd.DataFrame, df2: pd.DataFrame, label_col_name='Dataset', df1_name=\"Dataset 1\", df2_name=\"Dataset 2\"):\n",
    "    \"\"\"\n",
    "    Prepare data by combining two dataframes with an additional column to label each row by its originating dataset.\n",
    "    \n",
    "    Parameters:\n",
    "    - df1: The first DataFrame.\n",
    "    - df2: The second DataFrame.\n",
    "    - label_col_name: The name of the column to be added to distinguish between the datasets.\n",
    "    \n",
    "    Returns:\n",
    "    A new DataFrame with the data from both input DataFrames and an additional column labeling the rows by dataset.\n",
    "    \"\"\"\n",
    "    df1[label_col_name] = df1_name\n",
    "    df2[label_col_name] = df2_name\n",
    "    combined_df = pd.concat([df1, df2], ignore_index=True)\n",
    "    return combined_df\n",
    "\n",
    "def plot_boxplots(df: pd.DataFrame, columns: List[str], label_col_name='Dataset'):\n",
    "    \"\"\"\n",
    "    Generates box plots for each specified column, separated by dataset.\n",
    "    \n",
    "    Parameters:\n",
    "    - df: DataFrame containing the data to plot, including a label column distinguishing between datasets.\n",
    "    - columns: List of column names to plot.\n",
    "    - label_col_name: The name of the column used to distinguish between datasets.\n",
    "    \"\"\"\n",
    "    plt.figure(figsize=(20, 10))\n",
    "    \n",
    "    for index, column in enumerate(columns, start=1):\n",
    "        plt.subplot(2, 4, index)  # Adjust the grid dimensions as needed\n",
    "        sns.boxplot(x=label_col_name, y=column, data=df)\n",
    "        plt.title(f'Box Plot of {column}')\n",
    "\n",
    "        dataset_sizes = df.groupby(label_col_name)[column].size().reset_index(name='size')\n",
    "        for i, row in dataset_sizes.iterrows():\n",
    "            plt.text(i, plt.ylim()[1], f'n={row[\"size\"]}', horizontalalignment='center', size='small', color='black', weight='semibold')\n",
    "    \n",
    "    \n",
    "    plt.tight_layout()\n",
    "    plt.show()"
   ]
  },
  {
   "cell_type": "code",
   "execution_count": null,
   "metadata": {},
   "outputs": [],
   "source": [
    "def clean_data(df):\n",
    "    for column in df.columns:\n",
    "        # Replace instances of '<' followed by any number with the number itself\n",
    "        df[column] = df[column].astype(str).str.replace('<', '')\n",
    "        # Convert all numbers to floats and errors to NaN (non-numeric values become NaN)\n",
    "        df[column] = pd.to_numeric(df[column], errors='coerce')\n",
    "        # Fill in a value just below the detection limit where necessary\n",
    "    return df"
   ]
  },
  {
   "cell_type": "code",
   "execution_count": null,
   "metadata": {},
   "outputs": [],
   "source": [
    "df1 = clean_data(ccam_comp_data_renamed)\n",
    "df2 = clean_data(cd)\n",
    "# Example usage:\n",
    "# Assume df1 and df2 are your two datasets\n",
    "combined_df = prepare_data_for_plotting(df1, df2, 'Source', 'CCAM', 'PDS')\n",
    "plot_boxplots(combined_df, major_oxides, 'Source')"
   ]
  },
  {
   "cell_type": "code",
   "execution_count": null,
   "metadata": {},
   "outputs": [],
   "source": [
    "def plot_density_and_cdf(df: pd.DataFrame, columns: List[str], label_col_name=\"Dataset\"):\n",
    "    num_columns = len(columns)\n",
    "    fig, axes = plt.subplots(num_columns, 2, figsize=(20, 5 * num_columns))  # 2 plots per row: KDE and CDF\n",
    "\n",
    "    for i, column in enumerate(columns):\n",
    "        # KDE plot for the ith column\n",
    "        ax_kde = axes[i, 0]\n",
    "        for label, group_df in df.groupby(label_col_name):\n",
    "            sns.kdeplot(group_df[column].dropna(), ax=ax_kde, label=label, shade=True)\n",
    "        ax_kde.set_title(f\"Density Plot of {column}\")\n",
    "        ax_kde.legend()\n",
    "\n",
    "        # CDF plot for the ith column\n",
    "        ax_cdf = axes[i, 1]\n",
    "        for label, group_df in df.groupby(label_col_name):\n",
    "            sns.ecdfplot(group_df[column].dropna(), ax=ax_cdf, label=label)\n",
    "        ax_cdf.set_title(f\"Cumulative Distribution of {column}\")\n",
    "        ax_cdf.legend()\n",
    "\n",
    "    plt.tight_layout()\n",
    "    plt.show()\n",
    "\n",
    "\n",
    "def plot_proportional_counts(df: pd.DataFrame, label_col_name=\"Dataset\"):\n",
    "    df_counts = df[label_col_name].value_counts(normalize=True).reset_index()\n",
    "    df_counts.columns = [label_col_name, \"Proportion\"]\n",
    "\n",
    "    plt.figure(figsize=(10, 5))\n",
    "    sns.barplot(x=label_col_name, y=\"Proportion\", data=df_counts)\n",
    "    plt.title(\"Proportional Counts of Datasets\")\n",
    "    plt.ylabel(\"Proportion of Total Data Points\")\n",
    "    plt.show()"
   ]
  },
  {
   "cell_type": "code",
   "execution_count": null,
   "metadata": {},
   "outputs": [],
   "source": [
    "plot_density_and_cdf(combined_df, major_oxides, 'Source')"
   ]
  },
  {
   "cell_type": "code",
   "execution_count": null,
   "metadata": {},
   "outputs": [],
   "source": [
    "plot_proportional_counts(combined_df, label_col_name='Source')"
   ]
  },
  {
   "cell_type": "code",
   "execution_count": null,
   "metadata": {},
   "outputs": [],
   "source": [
    "def plot_overlay_histograms(df: pd.DataFrame, columns: List[str], label_col_name='Dataset'):\n",
    "    num_columns = len(columns)\n",
    "    fig, axes = plt.subplots(1, num_columns, figsize=(20, 5))\n",
    "\n",
    "    for i, column in enumerate(columns):\n",
    "        for label, group_df in df.groupby(label_col_name):\n",
    "            sns.histplot(group_df[column].dropna(), ax=axes[i], label=label, element='step', fill=False)\n",
    "        axes[i].set_title(f'Overlay Histogram of {column}')\n",
    "        axes[i].legend()\n",
    "\n",
    "    plt.tight_layout()\n",
    "    plt.show()\n",
    "\n",
    "    \n",
    "plot_overlay_histograms(combined_df, major_oxides, 'Source')"
   ]
  },
  {
   "cell_type": "code",
   "execution_count": null,
   "metadata": {},
   "outputs": [],
   "source": [
    "import numpy as np\n",
    "\n",
    "def plot_correlation_heatmaps(df: pd.DataFrame, columns: List[str], label_col_name='Dataset'):\n",
    "    fig, axes = plt.subplots(1, 2, figsize=(20, 7))\n",
    "    for i, (label, group_df) in enumerate(df.groupby(label_col_name)):\n",
    "        corr = group_df[columns].corr()\n",
    "        mask = np.triu(corr)\n",
    "        sns.heatmap(corr, ax=axes[i], annot=True, fmt=\".2f\", cmap=plt.cm.Reds, mask=mask)\n",
    "        axes[i].set_title(f'Correlation Matrix for {label}')\n",
    "    plt.tight_layout()\n",
    "    plt.show()\n",
    "\n",
    "plot_correlation_heatmaps(combined_df, major_oxides, 'Source')"
   ]
  },
  {
   "cell_type": "code",
   "execution_count": null,
   "metadata": {},
   "outputs": [],
   "source": [
    "import numpy as np\n",
    "import pandas as pd\n",
    "import seaborn as sns\n",
    "import matplotlib.pyplot as plt\n",
    "\n",
    "def plot_distributions(df: pd.DataFrame, columns: List[str], label_col_name='Dataset', df1_name=\"Dataset 1\", df2_name=\"Dataset 2\"):\n",
    "    num_columns = len(columns)\n",
    "    fig, axes = plt.subplots(num_columns, 2, figsize=(20, 5 * num_columns))  # 2 plots per row: Histogram and Step CDF\n",
    "\n",
    "    # Get the max count for normalization of the histograms\n",
    "    max_count = max(len(df[df[label_col_name] == df1_name]), len(df[df[label_col_name] == df2_name]))\n",
    "\n",
    "    for i, column in enumerate(columns):\n",
    "        # Histogram for the ith column\n",
    "        ax_hist = axes[i, 0]\n",
    "        sns.histplot(df[df[label_col_name] == df1_name][column], bins=30, kde=False, ax=ax_hist, label=df1_name, stat='count')\n",
    "        sns.histplot(df[df[label_col_name] == df2_name][column], bins=30, kde=False, ax=ax_hist, label=df2_name, stat='count', color='orange')\n",
    "        ax_hist.set_title(f'Histogram of {column}')\n",
    "        ax_hist.legend()\n",
    "\n",
    "        # Step CDF for the ith column with actual counts\n",
    "        ax_cdf = axes[i, 1]\n",
    "        sns.ecdfplot(df[df[label_col_name] == df1_name][column], ax=ax_cdf, label=df1_name, stat='count')\n",
    "        sns.ecdfplot(df[df[label_col_name] == df2_name][column], ax=ax_cdf, label=df2_name, stat='count', color='orange')\n",
    "        ax_cdf.set_title(f'Cumulative Count of {column}')\n",
    "        ax_cdf.legend()\n",
    "\n",
    "    plt.tight_layout()\n",
    "    plt.show()\n",
    "\n",
    "# Example usage:\n",
    "# Ensure that 'combined_df' and 'major_oxides' are defined and properly formatted.\n",
    "plot_distributions(combined_df, major_oxides, 'Source', 'CCAM', 'PDS')\n"
   ]
  }
 ],
 "metadata": {
  "kernelspec": {
   "display_name": "venv",
   "language": "python",
   "name": "python3"
  },
  "language_info": {
   "codemirror_mode": {
    "name": "ipython",
    "version": 3
   },
   "file_extension": ".py",
   "mimetype": "text/x-python",
   "name": "python",
   "nbconvert_exporter": "python",
   "pygments_lexer": "ipython3",
   "version": "3.10.11"
  }
 },
 "nbformat": 4,
 "nbformat_minor": 2
}

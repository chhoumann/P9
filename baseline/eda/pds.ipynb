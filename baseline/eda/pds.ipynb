{
 "cells": [
  {
   "cell_type": "code",
   "execution_count": null,
   "metadata": {},
   "outputs": [],
   "source": [
    "import pandas as pd\n",
    "from pathlib import Path\n",
    "from lib.config import AppConfig\n",
    "import numpy as np\n",
    "\n",
    "config = AppConfig()"
   ]
  },
  {
   "cell_type": "code",
   "execution_count": null,
   "metadata": {},
   "outputs": [],
   "source": [
    "ds_path = Path(config.composition_data_path)"
   ]
  },
  {
   "cell_type": "code",
   "execution_count": null,
   "metadata": {},
   "outputs": [],
   "source": [
    "data = pd.read_csv(ds_path)"
   ]
  },
  {
   "cell_type": "code",
   "execution_count": null,
   "metadata": {},
   "outputs": [],
   "source": [
    "import matplotlib.pyplot as plt\n",
    "from lib.reproduction import major_oxides\n",
    "\n",
    "# Convert data to numeric, ignoring non-numeric values\n",
    "for oxide in major_oxides:\n",
    "    data[oxide] = pd.to_numeric(data[oxide], errors='coerce')\n",
    "\n",
    "# Function to calculate nice round x-ticks\n",
    "def calculate_xticks(max_value, num_ticks=10):\n",
    "    step = np.ceil(max_value / num_ticks)\n",
    "    return np.arange(0, max_value + step, step)\n",
    "\n",
    "# Set up the figure and subplots\n",
    "fig, axs = plt.subplots(4, 2, figsize=(14, 18))\n",
    "axs = axs.ravel()\n",
    "\n",
    "# Generate the histogram for each major oxide\n",
    "for i, oxide in enumerate(major_oxides):\n",
    "    values = data[oxide].dropna()\n",
    "    axs[i].hist(values, bins=30, edgecolor='black')\n",
    "    axs[i].set_title(f'Distribution of {oxide}', fontsize=14)\n",
    "    axs[i].set_xlabel(f'{oxide} (%)', fontsize=12)\n",
    "    axs[i].set_ylabel('Frequency', fontsize=12)\n",
    "    axs[i].grid(axis='y', linestyle='--', linewidth=0.7)\n",
    "    \n",
    "    # Adjust x-ticks for nice and round numbers, starting from 0\n",
    "    max_value = values.max()\n",
    "    xticks = calculate_xticks(max_value)\n",
    "    axs[i].set_xticks(xticks)\n",
    "    axs[i].set_xticklabels([f'{tick:.0f}' for tick in xticks], rotation=45, ha='right')\n",
    "\n",
    "# Adjust layout for better spacing\n",
    "plt.tight_layout()\n",
    "\n",
    "# Show the figure\n",
    "plt.show()"
   ]
  }
 ],
 "metadata": {
  "kernelspec": {
   "display_name": "venv",
   "language": "python",
   "name": "python3"
  },
  "language_info": {
   "codemirror_mode": {
    "name": "ipython",
    "version": 3
   },
   "file_extension": ".py",
   "mimetype": "text/x-python",
   "name": "python",
   "nbconvert_exporter": "python",
   "pygments_lexer": "ipython3",
   "version": "3.12.2"
  }
 },
 "nbformat": 4,
 "nbformat_minor": 2
}

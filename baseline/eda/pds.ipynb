{
 "cells": [
  {
   "cell_type": "code",
   "execution_count": null,
   "metadata": {},
   "outputs": [],
   "source": [
    "import pandas as pd\n",
    "from pathlib import Path\n",
    "from lib.config import AppConfig\n",
    "\n",
    "config = AppConfig()"
   ]
  },
  {
   "cell_type": "code",
   "execution_count": null,
   "metadata": {},
   "outputs": [],
   "source": [
    "ds_path = Path(config.composition_data_path)"
   ]
  },
  {
   "cell_type": "code",
   "execution_count": null,
   "metadata": {},
   "outputs": [],
   "source": [
    "data = pd.read_csv(ds_path)"
   ]
  },
  {
   "cell_type": "code",
   "execution_count": null,
   "metadata": {},
   "outputs": [],
   "source": [
    "import matplotlib.pyplot as plt\n",
    "\n",
    "# Define the list of major oxides\n",
    "major_oxides = [\n",
    "    \"SiO2\",\n",
    "    \"TiO2\",\n",
    "    \"Al2O3\",\n",
    "    \"FeOT\",\n",
    "    \"MgO\",\n",
    "    \"CaO\",\n",
    "    \"Na2O\",\n",
    "    \"K2O\",\n",
    "]\n",
    "\n",
    "# Set up the figure and subplots\n",
    "fig, axs = plt.subplots(4, 2, figsize=(14, 18))\n",
    "axs = axs.ravel()\n",
    "\n",
    "# Generate the histogram for each major oxide\n",
    "for i, oxide in enumerate(major_oxides):\n",
    "    axs[i].hist(data[oxide].dropna(), bins=30, edgecolor='black')\n",
    "    axs[i].set_title(f'Distribution of {oxide}', fontsize=14)\n",
    "    axs[i].set_xlabel(f'{oxide} (%)', fontsize=12)\n",
    "    axs[i].set_ylabel('Frequency', fontsize=12)\n",
    "    axs[i].grid(axis='y', linestyle='--', linewidth=0.7)\n",
    "\n",
    "# Adjust layout for better spacing\n",
    "plt.tight_layout()\n",
    "\n",
    "# Show the figure\n",
    "plt.show()\n"
   ]
  }
 ],
 "metadata": {
  "kernelspec": {
   "display_name": "venv",
   "language": "python",
   "name": "python3"
  },
  "language_info": {
   "codemirror_mode": {
    "name": "ipython",
    "version": 3
   },
   "file_extension": ".py",
   "mimetype": "text/x-python",
   "name": "python",
   "nbconvert_exporter": "python",
   "pygments_lexer": "ipython3",
   "version": "3.12.2"
  }
 },
 "nbformat": 4,
 "nbformat_minor": 2
}

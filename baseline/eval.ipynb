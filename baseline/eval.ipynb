{
 "cells": [
  {
   "cell_type": "code",
   "execution_count": 1,
   "metadata": {},
   "outputs": [
    {
     "name": "stdout",
     "output_type": "stream",
     "text": [
      "data/data/calib/calib_2015/1600mm/pls\n"
     ]
    }
   ],
   "source": [
    "from dotenv import dotenv_values\n",
    "\n",
    "env = dotenv_values()\n",
    "comp_data_loc = env.get(\"COMPOSITION_DATA_PATH\")\n",
    "dataset_loc = env.get(\"DATA_PATH\")\n",
    "print(dataset_loc)"
   ]
  },
  {
   "cell_type": "markdown",
   "metadata": {},
   "source": [
    "# ICA Predictions\n",
    "- Preprocessing\n",
    "    - Take first location of each shot\n",
    "    - Wavelength mask transform\n",
    "    - Use Norm1 and Norm3 to normalize the data\n",
    "    - Transpose\n",
    "- Run ICA\n",
    "- Postprocess\n",
    "- Add to aggregate DataFrame\n",
    "- Fetch Linear Regression models from mlflow\n",
    "- Run Linear Regression models\n",
    "- Get RMSE"
   ]
  },
  {
   "cell_type": "code",
   "execution_count": 2,
   "metadata": {},
   "outputs": [],
   "source": [
    "from lib.norms import Norm\n",
    "\n",
    "ica_training_info = {\n",
    "    \"SiO2\": {\"law\": \"Log-square\", \"norm\": Norm.NORM_1},\n",
    "    \"TiO2\": {\"law\": \"Geometric\", \"norm\": Norm.NORM_3},\n",
    "    \"Al2O3\": {\"law\": \"Geometric\", \"norm\": Norm.NORM_3},\n",
    "    \"FeOT\": {\"law\": \"Geometric\", \"norm\": Norm.NORM_1},\n",
    "    \"MgO\": {\"law\": \"Exponential\", \"norm\": Norm.NORM_1},\n",
    "    \"CaO\": {\"law\": \"Parabolic\", \"norm\": Norm.NORM_1},\n",
    "    \"Na2O\": {\"law\": \"Parabolic\", \"norm\": Norm.NORM_3},\n",
    "    \"K2O\": {\"law\": \"Geometric\", \"norm\": Norm.NORM_3},\n",
    "}"
   ]
  },
  {
   "cell_type": "code",
   "execution_count": 3,
   "metadata": {},
   "outputs": [
    {
     "name": "stderr",
     "output_type": "stream",
     "text": [
      "/home/christian/projects/p9/baseline/venv/lib/python3.10/site-packages/pydantic/_internal/_fields.py:149: UserWarning: Field \"model_server_url\" has conflict with protected namespace \"model_\".\n",
      "\n",
      "You may be able to resolve this warning by setting `model_config['protected_namespaces'] = ()`.\n",
      "  warnings.warn(\n",
      "/home/christian/projects/p9/baseline/venv/lib/python3.10/site-packages/pydantic/_internal/_config.py:321: UserWarning: Valid config keys have changed in V2:\n",
      "* 'schema_extra' has been renamed to 'json_schema_extra'\n",
      "  warnings.warn(message, UserWarning)\n",
      "2024/01/14 08:41:52 INFO mlflow.tracking.fluent: Autologging successfully enabled for sklearn.\n"
     ]
    }
   ],
   "source": [
    "import mlflow\n",
    "\n",
    "mlflow.set_tracking_uri(\"http://localhost:5000\")\n",
    "\n",
    "experiment_name = \"ICA Evaluation\"\n",
    "mlflow.set_experiment(experiment_name)\n",
    "mlflow.autolog()"
   ]
  },
  {
   "cell_type": "code",
   "execution_count": 4,
   "metadata": {},
   "outputs": [
    {
     "data": {
      "application/vnd.jupyter.widget-view+json": {
       "model_id": "5f504d6e15af475a9fbd39b5564ff6bf",
       "version_major": 2,
       "version_minor": 0
      },
      "text/plain": [
       "Downloading artifacts:   0%|          | 0/5 [00:00<?, ?it/s]"
      ]
     },
     "metadata": {},
     "output_type": "display_data"
    },
    {
     "data": {
      "application/vnd.jupyter.widget-view+json": {
       "model_id": "4051033430584509857b8f4b8bee7a6c",
       "version_major": 2,
       "version_minor": 0
      },
      "text/plain": [
       "Downloading artifacts:   0%|          | 0/5 [00:00<?, ?it/s]"
      ]
     },
     "metadata": {},
     "output_type": "display_data"
    },
    {
     "data": {
      "application/vnd.jupyter.widget-view+json": {
       "model_id": "11f83fa7d3514c34b3777f5661d6f12c",
       "version_major": 2,
       "version_minor": 0
      },
      "text/plain": [
       "Downloading artifacts:   0%|          | 0/5 [00:00<?, ?it/s]"
      ]
     },
     "metadata": {},
     "output_type": "display_data"
    },
    {
     "data": {
      "application/vnd.jupyter.widget-view+json": {
       "model_id": "19c5e5f0759b4d7780d2c690bd5e45ea",
       "version_major": 2,
       "version_minor": 0
      },
      "text/plain": [
       "Downloading artifacts:   0%|          | 0/5 [00:00<?, ?it/s]"
      ]
     },
     "metadata": {},
     "output_type": "display_data"
    },
    {
     "data": {
      "application/vnd.jupyter.widget-view+json": {
       "model_id": "1acc30174d124932b1b988133f7ca7d4",
       "version_major": 2,
       "version_minor": 0
      },
      "text/plain": [
       "Downloading artifacts:   0%|          | 0/5 [00:00<?, ?it/s]"
      ]
     },
     "metadata": {},
     "output_type": "display_data"
    },
    {
     "data": {
      "application/vnd.jupyter.widget-view+json": {
       "model_id": "12f0c0b513a14f4f89dd7c919fd9a7a7",
       "version_major": 2,
       "version_minor": 0
      },
      "text/plain": [
       "Downloading artifacts:   0%|          | 0/5 [00:00<?, ?it/s]"
      ]
     },
     "metadata": {},
     "output_type": "display_data"
    },
    {
     "data": {
      "application/vnd.jupyter.widget-view+json": {
       "model_id": "ba6c2b97a80b4d99a7930a677818a2f3",
       "version_major": 2,
       "version_minor": 0
      },
      "text/plain": [
       "Downloading artifacts:   0%|          | 0/5 [00:00<?, ?it/s]"
      ]
     },
     "metadata": {},
     "output_type": "display_data"
    },
    {
     "data": {
      "application/vnd.jupyter.widget-view+json": {
       "model_id": "82cec726cf64434987f9788e85a1f628",
       "version_major": 2,
       "version_minor": 0
      },
      "text/plain": [
       "Downloading artifacts:   0%|          | 0/5 [00:00<?, ?it/s]"
      ]
     },
     "metadata": {},
     "output_type": "display_data"
    },
    {
     "data": {
      "text/plain": [
       "dict_keys(['K2O', 'Na2O', 'CaO', 'MgO', 'FeOT', 'Al2O3', 'TiO2', 'SiO2'])"
      ]
     },
     "execution_count": 4,
     "metadata": {},
     "output_type": "execute_result"
    }
   ],
   "source": [
    "from lib.reproduction import major_oxides\n",
    "\n",
    "oxide_models = {}\n",
    "\n",
    "experiment_id = '549682258983743113'\n",
    "experiment = mlflow.get_experiment(experiment_id)\n",
    "runs = mlflow.search_runs(experiment_ids=[experiment_id])\n",
    "\n",
    "for _, run in runs.iterrows():\n",
    "    run_id = run['run_id']\n",
    "    oxide_value = run['params.oxide']  # Assuming 'oxide' is stored as a parameter\n",
    "\n",
    "    # Fetch the model artifact if it's a scikit-learn model\n",
    "    client = mlflow.tracking.MlflowClient()\n",
    "    artifacts = client.list_artifacts(run_id)\n",
    "    for artifact in artifacts:\n",
    "        if 'model' in artifact.path.lower():\n",
    "            model_uri = f\"runs:/{run_id}/{artifact.path}\"\n",
    "            model = mlflow.sklearn.load_model(model_uri)\n",
    "            oxide_models[oxide_value] = model\n",
    "\n",
    "oxide_models.keys()"
   ]
  },
  {
   "cell_type": "code",
   "execution_count": 5,
   "metadata": {},
   "outputs": [],
   "source": [
    "from sklearn.metrics import mean_squared_error\n",
    "import numpy as np\n",
    "import pandas as pd\n",
    "\n",
    "ica_oxide_predictions = {}\n",
    "rmses = {}\n",
    "\n",
    "ica_df_norm1 = pd.read_csv(\"./data/data/jade/ica/norm1-test/ica_data.csv\")\n",
    "compositions_df_norm1 = pd.read_csv(\"./data/data/jade/ica/norm1-test/composition_data.csv\")\n",
    "\n",
    "ica_df_norm3 = pd.read_csv(\"./data/data/jade/ica/norm3-test/ica_data.csv\")\n",
    "compositions_df_norm3 = pd.read_csv(\"./data/data/jade/ica/norm3-test/composition_data.csv\")"
   ]
  },
  {
   "cell_type": "code",
   "execution_count": 6,
   "metadata": {},
   "outputs": [
    {
     "data": {
      "text/plain": [
       "(0, 0)"
      ]
     },
     "execution_count": 6,
     "metadata": {},
     "output_type": "execute_result"
    }
   ],
   "source": [
    "na1 = ica_df_norm1[ica_df_norm1.isna().any(axis=1)]\n",
    "na3 = ica_df_norm3[ica_df_norm3.isna().any(axis=1)]\n",
    "\n",
    "na1.count().sum(), na3.count().sum()"
   ]
  },
  {
   "cell_type": "code",
   "execution_count": 7,
   "metadata": {},
   "outputs": [
    {
     "data": {
      "text/plain": [
       "(0, 0)"
      ]
     },
     "execution_count": 7,
     "metadata": {},
     "output_type": "execute_result"
    }
   ],
   "source": [
    "ca1 = compositions_df_norm1[compositions_df_norm1.isna().any(axis=1)]\n",
    "ca3 = compositions_df_norm3[compositions_df_norm3.isna().any(axis=1)]\n",
    "\n",
    "ca1.count().sum(), ca3.count().sum()"
   ]
  },
  {
   "cell_type": "code",
   "execution_count": 8,
   "metadata": {},
   "outputs": [],
   "source": [
    "targets_1 = ica_df_norm1[\"target\"]\n",
    "ica_df_norm1.drop(columns=[\"target\"], inplace=True)\n",
    "\n",
    "targets_3 = ica_df_norm3[\"target\"]\n",
    "ica_df_norm3.drop(columns=[\"target\"], inplace=True)"
   ]
  },
  {
   "cell_type": "code",
   "execution_count": 9,
   "metadata": {},
   "outputs": [],
   "source": [
    "import mlflow"
   ]
  },
  {
   "cell_type": "code",
   "execution_count": 10,
   "metadata": {},
   "outputs": [
    {
     "name": "stdout",
     "output_type": "stream",
     "text": [
      "Predicting SiO2\n",
      "Model: Log-square | Norm: 1\n",
      "Negative values in X_test: 9580\n",
      "Predicting TiO2\n",
      "Model: Geometric | Norm: 3\n",
      "Negative values in X_test: 9580\n",
      "NaNs introduced after transformation\n",
      "dict_keys(['SiO2'])\n"
     ]
    },
    {
     "name": "stderr",
     "output_type": "stream",
     "text": [
      "/home/christian/projects/p9/baseline/venv/lib/python3.10/site-packages/pandas/core/internals/blocks.py:366: RuntimeWarning: invalid value encountered in sqrt\n",
      "  result = func(self.values, **kwargs)\n"
     ]
    },
    {
     "data": {
      "text/plain": [
       "{'SiO2': 10.678834376114056}"
      ]
     },
     "execution_count": 10,
     "metadata": {},
     "output_type": "execute_result"
    }
   ],
   "source": [
    "for oxide, info in ica_training_info.items():\n",
    "    print(f\"Predicting {oxide}\")\n",
    "    model_name = info[\"law\"]\n",
    "    norm = info[\"norm\"]\n",
    "    \n",
    "    print(f\"Model: {model_name} | Norm: {norm.value}\")\n",
    "    \n",
    "    with mlflow.start_run(run_name=f\"ICA_EVAL_{oxide}\"):\n",
    "        X_test = ( ica_df_norm1 if norm == Norm.NORM_1 else ica_df_norm3 )\n",
    "        y_test = (compositions_df_norm1[oxide] if norm == Norm.NORM_1 else compositions_df_norm3[oxide])\n",
    "\n",
    "        assert X_test[X_test.isna().any(axis=1)].count().sum() == 0, \"NaNs in X_test\"\n",
    "\n",
    "        negative_value_indices = np.where(X_test < 0)\n",
    "        negative_value_locations = list(zip(negative_value_indices[0], negative_value_indices[1]))\n",
    "        print (f\"Negative values in X_test: {len(negative_value_locations)}\")\n",
    "\n",
    "        if model_name == \"Log-square\":\n",
    "            X_test = np.log(X_test**2)\n",
    "        elif model_name == \"Exponential\":\n",
    "            X_test = np.log(X_test)\n",
    "        elif model_name == \"Geometric\":\n",
    "            X_test = np.sqrt(X_test)\n",
    "        elif model_name == \"Parabolic\":\n",
    "            X_test = X_test**2\n",
    "\n",
    "        if X_test.isna().any().any():\n",
    "            print(\"NaNs introduced after transformation\")\n",
    "            mlflow.end_run()\n",
    "            break\n",
    "        \n",
    "        model = oxide_models[oxide]\n",
    "        y_pred = model.predict(X_test)\n",
    "        \n",
    "        mlflow.log_param(\"oxide\", oxide)\n",
    "        mlflow.log_param(\"norm\", norm.value)\n",
    "        mlflow.log_param(\"model\", model_name)\n",
    "        \n",
    "        rmse = np.sqrt(mean_squared_error(y_test, y_pred))\n",
    "        mlflow.log_metric(\"rmse\", float(rmse))\n",
    "        \n",
    "        ica_oxide_predictions[oxide] = y_pred\n",
    "        rmses[oxide] = rmse\n",
    "\n",
    "print(ica_oxide_predictions.keys())\n",
    "rmses"
   ]
  }
 ],
 "metadata": {
  "kernelspec": {
   "display_name": "venv",
   "language": "python",
   "name": "python3"
  },
  "language_info": {
   "codemirror_mode": {
    "name": "ipython",
    "version": 3
   },
   "file_extension": ".py",
   "mimetype": "text/x-python",
   "name": "python",
   "nbconvert_exporter": "python",
   "pygments_lexer": "ipython3",
   "version": "3.10.11"
  }
 },
 "nbformat": 4,
 "nbformat_minor": 2
}

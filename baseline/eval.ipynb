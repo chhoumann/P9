{
 "cells": [
  {
   "cell_type": "code",
   "execution_count": 1,
   "metadata": {},
   "outputs": [
    {
     "name": "stdout",
     "output_type": "stream",
     "text": [
      "data/data/calib/calib_2015/1600mm/pls\n"
     ]
    },
    {
     "name": "stderr",
     "output_type": "stream",
     "text": [
      "Loading data: 100%|██████████| 414/414 [01:46<00:00,  3.89it/s]\n",
      "Loading data: 100%|██████████| 414/414 [01:33<00:00,  4.41it/s]\n"
     ]
    }
   ],
   "source": [
    "from dotenv import dotenv_values\n",
    "from lib.data_handling import load_split_data\n",
    "\n",
    "env = dotenv_values()\n",
    "comp_data_loc = env.get(\"COMPOSITION_DATA_PATH\")\n",
    "dataset_loc = env.get(\"DATA_PATH\")\n",
    "print(dataset_loc)\n",
    "\n",
    "if not comp_data_loc:\n",
    "    print(\"Please set COMPOSITION_DATA_PATH in .env file\")\n",
    "    exit(1)\n",
    "\n",
    "if not dataset_loc:\n",
    "    print(\"Please set DATA_PATH in .env file\")\n",
    "    exit(1)\n",
    "\n",
    "\n",
    "_, ICA_test_data = load_split_data(\n",
    "    dataset_loc=dataset_loc,\n",
    "    split_loc=\"./train_test_split.csv\",\n",
    "    average_shots=False,\n",
    ")\n",
    "\n",
    "_, PLS_test_Data = load_split_data(\n",
    "    dataset_loc=dataset_loc,\n",
    "    split_loc=\"./train_test_split.csv\",\n",
    "    average_shots=True,\n",
    ")"
   ]
  },
  {
   "cell_type": "code",
   "execution_count": 2,
   "metadata": {},
   "outputs": [
    {
     "data": {
      "text/html": [
       "<div>\n",
       "<style scoped>\n",
       "    .dataframe tbody tr th:only-of-type {\n",
       "        vertical-align: middle;\n",
       "    }\n",
       "\n",
       "    .dataframe tbody tr th {\n",
       "        vertical-align: top;\n",
       "    }\n",
       "\n",
       "    .dataframe thead th {\n",
       "        text-align: right;\n",
       "    }\n",
       "</style>\n",
       "<table border=\"1\" class=\"dataframe\">\n",
       "  <thead>\n",
       "    <tr style=\"text-align: right;\">\n",
       "      <th></th>\n",
       "      <th>Target</th>\n",
       "      <th>Spectrum Name</th>\n",
       "      <th>Sample Name</th>\n",
       "      <th>SiO2</th>\n",
       "      <th>TiO2</th>\n",
       "      <th>Al2O3</th>\n",
       "      <th>FeOT</th>\n",
       "      <th>MnO</th>\n",
       "      <th>MgO</th>\n",
       "      <th>CaO</th>\n",
       "      <th>Na2O</th>\n",
       "      <th>K2O</th>\n",
       "      <th>MOC total</th>\n",
       "      <th>Used for 2015 calibration</th>\n",
       "      <th>Used for 2021 Mn calibration</th>\n",
       "      <th>Used for 2022 Li calibration</th>\n",
       "    </tr>\n",
       "  </thead>\n",
       "  <tbody>\n",
       "    <tr>\n",
       "      <th>0</th>\n",
       "      <td>AGV2</td>\n",
       "      <td>AGV2</td>\n",
       "      <td>AGV2</td>\n",
       "      <td>59.3</td>\n",
       "      <td>1.05</td>\n",
       "      <td>16.91</td>\n",
       "      <td>6.02</td>\n",
       "      <td>0.099</td>\n",
       "      <td>1.79</td>\n",
       "      <td>5.20</td>\n",
       "      <td>4.19</td>\n",
       "      <td>2.88</td>\n",
       "      <td>97.44</td>\n",
       "      <td>1.0</td>\n",
       "      <td>1.0</td>\n",
       "      <td>1.0</td>\n",
       "    </tr>\n",
       "    <tr>\n",
       "      <th>1</th>\n",
       "      <td>BCR-2</td>\n",
       "      <td>BCR2</td>\n",
       "      <td>BCR2</td>\n",
       "      <td>54.1</td>\n",
       "      <td>2.26</td>\n",
       "      <td>13.50</td>\n",
       "      <td>12.42</td>\n",
       "      <td>0.200</td>\n",
       "      <td>3.59</td>\n",
       "      <td>7.12</td>\n",
       "      <td>3.16</td>\n",
       "      <td>1.79</td>\n",
       "      <td>98.14</td>\n",
       "      <td>1.0</td>\n",
       "      <td>1.0</td>\n",
       "      <td>1.0</td>\n",
       "    </tr>\n",
       "    <tr>\n",
       "      <th>2</th>\n",
       "      <td>BEN</td>\n",
       "      <td>BEN</td>\n",
       "      <td>BEN</td>\n",
       "      <td>38.2</td>\n",
       "      <td>2.61</td>\n",
       "      <td>10.07</td>\n",
       "      <td>11.61</td>\n",
       "      <td>0.200</td>\n",
       "      <td>13.15</td>\n",
       "      <td>13.87</td>\n",
       "      <td>3.18</td>\n",
       "      <td>1.39</td>\n",
       "      <td>94.28</td>\n",
       "      <td>1.0</td>\n",
       "      <td>1.0</td>\n",
       "      <td>1.0</td>\n",
       "    </tr>\n",
       "    <tr>\n",
       "      <th>3</th>\n",
       "      <td>BHVO2</td>\n",
       "      <td>BHVO2</td>\n",
       "      <td>BHVO2</td>\n",
       "      <td>49.9</td>\n",
       "      <td>2.73</td>\n",
       "      <td>13.50</td>\n",
       "      <td>11.07</td>\n",
       "      <td>0.167</td>\n",
       "      <td>7.23</td>\n",
       "      <td>11.40</td>\n",
       "      <td>2.22</td>\n",
       "      <td>0.52</td>\n",
       "      <td>98.74</td>\n",
       "      <td>1.0</td>\n",
       "      <td>1.0</td>\n",
       "      <td>1.0</td>\n",
       "    </tr>\n",
       "    <tr>\n",
       "      <th>4</th>\n",
       "      <td>BIR-1a</td>\n",
       "      <td>BIR1</td>\n",
       "      <td>BIR1</td>\n",
       "      <td>47.7</td>\n",
       "      <td>0.97</td>\n",
       "      <td>15.40</td>\n",
       "      <td>10.19</td>\n",
       "      <td>0.176</td>\n",
       "      <td>9.7</td>\n",
       "      <td>13.40</td>\n",
       "      <td>1.81</td>\n",
       "      <td>0.03</td>\n",
       "      <td>99.38</td>\n",
       "      <td>1.0</td>\n",
       "      <td>1.0</td>\n",
       "      <td>1.0</td>\n",
       "    </tr>\n",
       "  </tbody>\n",
       "</table>\n",
       "</div>"
      ],
      "text/plain": [
       "   Target Spectrum Name Sample Name  SiO2  TiO2  Al2O3   FeOT    MnO    MgO  \\\n",
       "0    AGV2          AGV2        AGV2  59.3  1.05  16.91   6.02  0.099   1.79   \n",
       "1   BCR-2          BCR2        BCR2  54.1  2.26  13.50  12.42  0.200   3.59   \n",
       "2     BEN           BEN         BEN  38.2  2.61  10.07  11.61  0.200  13.15   \n",
       "3   BHVO2         BHVO2       BHVO2  49.9  2.73  13.50  11.07  0.167   7.23   \n",
       "4  BIR-1a          BIR1        BIR1  47.7  0.97  15.40  10.19  0.176    9.7   \n",
       "\n",
       "     CaO  Na2O   K2O  MOC total  Used for 2015 calibration  \\\n",
       "0   5.20  4.19  2.88      97.44                        1.0   \n",
       "1   7.12  3.16  1.79      98.14                        1.0   \n",
       "2  13.87  3.18  1.39      94.28                        1.0   \n",
       "3  11.40  2.22  0.52      98.74                        1.0   \n",
       "4  13.40  1.81  0.03      99.38                        1.0   \n",
       "\n",
       "   Used for 2021 Mn calibration  Used for 2022 Li calibration  \n",
       "0                           1.0                           1.0  \n",
       "1                           1.0                           1.0  \n",
       "2                           1.0                           1.0  \n",
       "3                           1.0                           1.0  \n",
       "4                           1.0                           1.0  "
      ]
     },
     "execution_count": 2,
     "metadata": {},
     "output_type": "execute_result"
    }
   ],
   "source": [
    "from lib.data_handling import CompositionData\n",
    "\n",
    "\n",
    "compositions = CompositionData(comp_data_loc)\n",
    "compositions.composition_data.head()"
   ]
  },
  {
   "cell_type": "markdown",
   "metadata": {},
   "source": [
    "# ICA Predictions\n",
    "- Preprocessing\n",
    "    - Take first location of each shot\n",
    "    - Wavelength mask transform\n",
    "    - Use Norm1 and Norm3 to normalize the data\n",
    "    - Transpose\n",
    "- Run ICA\n",
    "- Postprocess\n",
    "- Add to aggregate DataFrame\n",
    "- Fetch Linear Regression models from mlflow\n",
    "- Run Linear Regression models\n",
    "- Get RMSE"
   ]
  },
  {
   "cell_type": "code",
   "execution_count": 3,
   "metadata": {},
   "outputs": [],
   "source": [
    "from lib.norms import Norm\n",
    "\n",
    "ica_training_info = {\n",
    "    \"SiO2\": {\"law\": \"Log-square\", \"norm\": Norm.NORM_1},\n",
    "    \"TiO2\": {\"law\": \"Geometric\", \"norm\": Norm.NORM_3},\n",
    "    \"Al2O3\": {\"law\": \"Geometric\", \"norm\": Norm.NORM_3},\n",
    "    \"FeOT\": {\"law\": \"Geometric\", \"norm\": Norm.NORM_1},\n",
    "    \"MgO\": {\"law\": \"Exponential\", \"norm\": Norm.NORM_1},\n",
    "    \"CaO\": {\"law\": \"Parabolic\", \"norm\": Norm.NORM_1},\n",
    "    \"Na2O\": {\"law\": \"Parabolic\", \"norm\": Norm.NORM_3},\n",
    "    \"K2O\": {\"law\": \"Geometric\", \"norm\": Norm.NORM_3},\n",
    "}"
   ]
  },
  {
   "cell_type": "code",
   "execution_count": 78,
   "metadata": {},
   "outputs": [],
   "source": [
    "import pandas as pd\n",
    "import numpy as np\n",
    "from lib.data_handling import WavelengthMaskTransformer\n",
    "from lib.norms import Norm1Scaler, Norm3Scaler\n",
    "from lib.reproduction import masks, spectrometer_wavelength_ranges\n",
    "\n",
    "def preprocess(df: pd.DataFrame, norm: Norm = Norm.NORM_1):\n",
    "    # Apply masking\n",
    "    wmt = WavelengthMaskTransformer(masks)\n",
    "    df = wmt.fit_transform(df)\n",
    "\n",
    "    # set the wave column as the index\n",
    "    df.set_index(\"wave\", inplace=True)\n",
    "\n",
    "    # Normalize the data\n",
    "    scaler = (\n",
    "        Norm1Scaler()\n",
    "        if norm.value == 1\n",
    "        else Norm3Scaler(spectrometer_wavelength_ranges, reshaped=True)\n",
    "    )\n",
    "    df = pd.DataFrame(scaler.fit_transform(df))\n",
    "\n",
    "    return df.transpose()\n",
    "\n",
    "def postprocess(\n",
    "    df: pd.DataFrame, ica_estimated_sources: np.ndarray,\n",
    "    num_components: int, sample_name: str, composition_df: pd.DataFrame\n",
    "    ):\n",
    "    columns = df.columns\n",
    "\n",
    "    corrcols = [f\"IC{i+1}\" for i in range(num_components)]\n",
    "    df_ics = pd.DataFrame(\n",
    "        ica_estimated_sources,\n",
    "        index=[f\"shot{i+6}\" for i in range(45)],\n",
    "        columns=corrcols,\n",
    "    )\n",
    "\n",
    "    df = pd.concat([df, df_ics], axis=1)\n",
    "\n",
    "    # Correlate the loadings\n",
    "    corrdf, ids = __correlate_loadings__(df, corrcols, columns)\n",
    "\n",
    "    # Create the wavelengths matrix for each component\n",
    "    ic_wavelengths = pd.DataFrame(index=[sample_name], columns=columns)\n",
    "\n",
    "    for i in range(len(ids)):\n",
    "        ic = ids[i].split(\" \")[0]\n",
    "        component_idx = int(ic[2]) - 1\n",
    "        wavelength = corrdf.index[i]\n",
    "        corr = corrdf.iloc[i].iloc[component_idx]\n",
    "\n",
    "        ic_wavelengths.loc[sample_name, wavelength] = corr\n",
    "\n",
    "    # Filter the composition data to only include the oxides and their compositions\n",
    "    composition_df = composition_df.iloc[:, 3:12]\n",
    "    composition_df.index = [sample_name]\n",
    "\n",
    "    return composition_df, ic_wavelengths\n",
    "\n",
    "# This is a function that finds the correlation between loadings and a set of columns\n",
    "# The idea is to somewhat automate identifying which element the loading corresponds to.\n",
    "def __correlate_loadings__(\n",
    "    df: pd.DataFrame, corrcols: list, icacols: list\n",
    ") -> (pd.DataFrame, list):\n",
    "    corrdf = (\n",
    "        df.corr().drop(labels=icacols, axis=1).drop(labels=corrcols, axis=0)\n",
    "    )\n",
    "    ids = []\n",
    "\n",
    "    for ic_label in icacols:\n",
    "        tmp = corrdf.loc[ic_label]\n",
    "        match = tmp.values == np.max(tmp)\n",
    "        col = corrcols[np.where(match)[0][-1]]\n",
    "\n",
    "        ids.append(col + \" (r=\" + str(np.max(tmp)) + \")\")\n",
    "\n",
    "    return corrdf, ids\n"
   ]
  },
  {
   "cell_type": "code",
   "execution_count": 79,
   "metadata": {},
   "outputs": [
    {
     "data": {
      "text/html": [
       "<div>\n",
       "<style scoped>\n",
       "    .dataframe tbody tr th:only-of-type {\n",
       "        vertical-align: middle;\n",
       "    }\n",
       "\n",
       "    .dataframe tbody tr th {\n",
       "        vertical-align: top;\n",
       "    }\n",
       "\n",
       "    .dataframe thead th {\n",
       "        text-align: right;\n",
       "    }\n",
       "</style>\n",
       "<table border=\"1\" class=\"dataframe\">\n",
       "  <thead>\n",
       "    <tr style=\"text-align: right;\">\n",
       "      <th>wavelengths</th>\n",
       "      <th>246.68800</th>\n",
       "      <th>246.74100</th>\n",
       "      <th>246.79401</th>\n",
       "      <th>246.84700</th>\n",
       "      <th>246.89999</th>\n",
       "      <th>246.95300</th>\n",
       "      <th>247.00700</th>\n",
       "      <th>247.06000</th>\n",
       "      <th>247.11301</th>\n",
       "      <th>247.16600</th>\n",
       "      <th>...</th>\n",
       "      <th>847.10272</th>\n",
       "      <th>847.30212</th>\n",
       "      <th>847.50153</th>\n",
       "      <th>847.70081</th>\n",
       "      <th>847.90009</th>\n",
       "      <th>848.09943</th>\n",
       "      <th>848.29871</th>\n",
       "      <th>848.49799</th>\n",
       "      <th>848.69720</th>\n",
       "      <th>848.89642</th>\n",
       "    </tr>\n",
       "    <tr>\n",
       "      <th>target</th>\n",
       "      <th></th>\n",
       "      <th></th>\n",
       "      <th></th>\n",
       "      <th></th>\n",
       "      <th></th>\n",
       "      <th></th>\n",
       "      <th></th>\n",
       "      <th></th>\n",
       "      <th></th>\n",
       "      <th></th>\n",
       "      <th></th>\n",
       "      <th></th>\n",
       "      <th></th>\n",
       "      <th></th>\n",
       "      <th></th>\n",
       "      <th></th>\n",
       "      <th></th>\n",
       "      <th></th>\n",
       "      <th></th>\n",
       "      <th></th>\n",
       "      <th></th>\n",
       "    </tr>\n",
       "  </thead>\n",
       "  <tbody>\n",
       "    <tr>\n",
       "      <th>r63</th>\n",
       "      <td>0.982586</td>\n",
       "      <td>0.973195</td>\n",
       "      <td>0.958026</td>\n",
       "      <td>0.887797</td>\n",
       "      <td>0.833213</td>\n",
       "      <td>0.890333</td>\n",
       "      <td>0.935169</td>\n",
       "      <td>0.964031</td>\n",
       "      <td>0.970329</td>\n",
       "      <td>0.964332</td>\n",
       "      <td>...</td>\n",
       "      <td>0.612952</td>\n",
       "      <td>0.359783</td>\n",
       "      <td>0.112243</td>\n",
       "      <td>0.23747</td>\n",
       "      <td>0.278105</td>\n",
       "      <td>0.288769</td>\n",
       "      <td>0.332783</td>\n",
       "      <td>0.323123</td>\n",
       "      <td>0.144831</td>\n",
       "      <td>0.065522</td>\n",
       "    </tr>\n",
       "    <tr>\n",
       "      <th>jsc1453</th>\n",
       "      <td>0.981191</td>\n",
       "      <td>0.97039</td>\n",
       "      <td>0.981476</td>\n",
       "      <td>0.821567</td>\n",
       "      <td>0.807284</td>\n",
       "      <td>0.923864</td>\n",
       "      <td>0.967362</td>\n",
       "      <td>0.939479</td>\n",
       "      <td>0.981792</td>\n",
       "      <td>0.975443</td>\n",
       "      <td>...</td>\n",
       "      <td>0.410556</td>\n",
       "      <td>0.431336</td>\n",
       "      <td>0.448321</td>\n",
       "      <td>0.464452</td>\n",
       "      <td>0.480765</td>\n",
       "      <td>0.490075</td>\n",
       "      <td>0.490376</td>\n",
       "      <td>0.490453</td>\n",
       "      <td>0.49938</td>\n",
       "      <td>0.517439</td>\n",
       "    </tr>\n",
       "    <tr>\n",
       "      <th>mix6o</th>\n",
       "      <td>0.987368</td>\n",
       "      <td>0.988709</td>\n",
       "      <td>0.991112</td>\n",
       "      <td>0.955499</td>\n",
       "      <td>0.878214</td>\n",
       "      <td>0.939299</td>\n",
       "      <td>0.980353</td>\n",
       "      <td>0.988655</td>\n",
       "      <td>0.986261</td>\n",
       "      <td>0.987776</td>\n",
       "      <td>...</td>\n",
       "      <td>0.590164</td>\n",
       "      <td>0.581288</td>\n",
       "      <td>0.572445</td>\n",
       "      <td>0.602448</td>\n",
       "      <td>0.620751</td>\n",
       "      <td>0.622775</td>\n",
       "      <td>0.613344</td>\n",
       "      <td>0.599891</td>\n",
       "      <td>0.581984</td>\n",
       "      <td>0.564231</td>\n",
       "    </tr>\n",
       "    <tr>\n",
       "      <th>mix1b</th>\n",
       "      <td>0.877023</td>\n",
       "      <td>0.839778</td>\n",
       "      <td>0.72133</td>\n",
       "      <td>0.653273</td>\n",
       "      <td>0.529306</td>\n",
       "      <td>0.675429</td>\n",
       "      <td>0.793508</td>\n",
       "      <td>0.854571</td>\n",
       "      <td>0.86568</td>\n",
       "      <td>0.823834</td>\n",
       "      <td>...</td>\n",
       "      <td>0.302307</td>\n",
       "      <td>0.292676</td>\n",
       "      <td>0.289561</td>\n",
       "      <td>0.288234</td>\n",
       "      <td>0.286779</td>\n",
       "      <td>0.285346</td>\n",
       "      <td>0.283205</td>\n",
       "      <td>0.280898</td>\n",
       "      <td>0.279653</td>\n",
       "      <td>0.28101</td>\n",
       "    </tr>\n",
       "    <tr>\n",
       "      <th>ja3</th>\n",
       "      <td>0.493222</td>\n",
       "      <td>0.527023</td>\n",
       "      <td>0.495026</td>\n",
       "      <td>0.369879</td>\n",
       "      <td>0.380202</td>\n",
       "      <td>0.50354</td>\n",
       "      <td>0.530778</td>\n",
       "      <td>0.478032</td>\n",
       "      <td>0.544762</td>\n",
       "      <td>0.484922</td>\n",
       "      <td>...</td>\n",
       "      <td>0.152876</td>\n",
       "      <td>0.227074</td>\n",
       "      <td>0.201066</td>\n",
       "      <td>0.126643</td>\n",
       "      <td>0.120278</td>\n",
       "      <td>0.125942</td>\n",
       "      <td>0.256865</td>\n",
       "      <td>0.385181</td>\n",
       "      <td>0.315068</td>\n",
       "      <td>0.15559</td>\n",
       "    </tr>\n",
       "  </tbody>\n",
       "</table>\n",
       "<p>5 rows × 5485 columns</p>\n",
       "</div>"
      ],
      "text/plain": [
       "wavelengths 246.68800 246.74100 246.79401 246.84700 246.89999 246.95300  \\\n",
       "target                                                                    \n",
       "r63          0.982586  0.973195  0.958026  0.887797  0.833213  0.890333   \n",
       "jsc1453      0.981191   0.97039  0.981476  0.821567  0.807284  0.923864   \n",
       "mix6o        0.987368  0.988709  0.991112  0.955499  0.878214  0.939299   \n",
       "mix1b        0.877023  0.839778   0.72133  0.653273  0.529306  0.675429   \n",
       "ja3          0.493222  0.527023  0.495026  0.369879  0.380202   0.50354   \n",
       "\n",
       "wavelengths 247.00700 247.06000 247.11301 247.16600  ... 847.10272 847.30212  \\\n",
       "target                                               ...                       \n",
       "r63          0.935169  0.964031  0.970329  0.964332  ...  0.612952  0.359783   \n",
       "jsc1453      0.967362  0.939479  0.981792  0.975443  ...  0.410556  0.431336   \n",
       "mix6o        0.980353  0.988655  0.986261  0.987776  ...  0.590164  0.581288   \n",
       "mix1b        0.793508  0.854571   0.86568  0.823834  ...  0.302307  0.292676   \n",
       "ja3          0.530778  0.478032  0.544762  0.484922  ...  0.152876  0.227074   \n",
       "\n",
       "wavelengths 847.50153 847.70081 847.90009 848.09943 848.29871 848.49799  \\\n",
       "target                                                                    \n",
       "r63          0.112243   0.23747  0.278105  0.288769  0.332783  0.323123   \n",
       "jsc1453      0.448321  0.464452  0.480765  0.490075  0.490376  0.490453   \n",
       "mix6o        0.572445  0.602448  0.620751  0.622775  0.613344  0.599891   \n",
       "mix1b        0.289561  0.288234  0.286779  0.285346  0.283205  0.280898   \n",
       "ja3          0.201066  0.126643  0.120278  0.125942  0.256865  0.385181   \n",
       "\n",
       "wavelengths 848.69720 848.89642  \n",
       "target                           \n",
       "r63          0.144831  0.065522  \n",
       "jsc1453       0.49938  0.517439  \n",
       "mix6o        0.581984  0.564231  \n",
       "mix1b        0.279653   0.28101  \n",
       "ja3          0.315068   0.15559  \n",
       "\n",
       "[5 rows x 5485 columns]"
      ]
     },
     "execution_count": 79,
     "metadata": {},
     "output_type": "execute_result"
    }
   ],
   "source": [
    "from ica.ica import run_ica\n",
    "\n",
    "\n",
    "ica_df_norm1 = pd.DataFrame()\n",
    "compositions_df_norm1 = pd.DataFrame()\n",
    "\n",
    "ica_df_norm3 = pd.DataFrame()\n",
    "compositions_df_norm3 = pd.DataFrame()\n",
    "\n",
    "for sample_name, location_data_dfs in ICA_test_data.items():\n",
    "    # Preprocess\n",
    "    df = location_data_dfs[0]\n",
    "    \n",
    "    df_n1 = preprocess(df.copy(deep=True), Norm.NORM_1)\n",
    "    df_n3 = preprocess(df.copy(deep=True), Norm.NORM_3)\n",
    "    \n",
    "    # Run ICA\n",
    "    ica_estimated_sources_n1 = run_ica(\n",
    "        df_n1,\n",
    "        model=\"jade\",\n",
    "        num_components=8,\n",
    "    )\n",
    "\n",
    "    ica_estimated_sources_n3 = run_ica(\n",
    "        df_n3,\n",
    "        model=\"jade\",\n",
    "        num_components=8,\n",
    "    )\n",
    "    \n",
    "    # Postprocess\n",
    "    n1_composition_df, n1_ic_wavelengths = postprocess(\n",
    "        df_n1,\n",
    "        ica_estimated_sources_n1,\n",
    "        8,\n",
    "        sample_name,\n",
    "        compositions.get_composition_for_sample(sample_name).copy(deep=True),\n",
    "    )\n",
    "    \n",
    "    n3_composition_df, n3_ic_wavelengths = postprocess(\n",
    "        df_n3,\n",
    "        ica_estimated_sources_n3,\n",
    "        8,\n",
    "        sample_name,\n",
    "        compositions.get_composition_for_sample(sample_name).copy(deep=True),\n",
    "    )\n",
    "    \n",
    "    # Append to the dataframes\n",
    "    ica_df_norm1 = pd.concat([ica_df_norm1, n1_ic_wavelengths])\n",
    "    compositions_df_norm1 = pd.concat([compositions_df_norm1, n1_composition_df])\n",
    "    \n",
    "    ica_df_norm3 = pd.concat([ica_df_norm3, n3_ic_wavelengths])\n",
    "    compositions_df_norm3 = pd.concat([compositions_df_norm3, n3_composition_df])\n",
    "\n",
    "ica_df_norm1.index.name = \"target\"\n",
    "ica_df_norm1.columns.name = \"wavelengths\"\n",
    "compositions_df_norm1.index.name = \"target\"\n",
    "compositions_df_norm1.columns.name = \"oxide\"\n",
    "\n",
    "ica_df_norm3.index.name = \"target\"\n",
    "ica_df_norm3.columns.name = \"wavelengths\"\n",
    "compositions_df_norm3.index.name = \"target\"\n",
    "compositions_df_norm3.columns.name = \"oxide\"\n",
    "\n",
    "ica_df_norm1.head()"
   ]
  },
  {
   "cell_type": "code",
   "execution_count": 4,
   "metadata": {},
   "outputs": [
    {
     "name": "stderr",
     "output_type": "stream",
     "text": [
      "/home/christian/projects/p9/baseline/venv/lib/python3.10/site-packages/pydantic/_internal/_fields.py:149: UserWarning: Field \"model_server_url\" has conflict with protected namespace \"model_\".\n",
      "\n",
      "You may be able to resolve this warning by setting `model_config['protected_namespaces'] = ()`.\n",
      "  warnings.warn(\n",
      "/home/christian/projects/p9/baseline/venv/lib/python3.10/site-packages/pydantic/_internal/_config.py:321: UserWarning: Valid config keys have changed in V2:\n",
      "* 'schema_extra' has been renamed to 'json_schema_extra'\n",
      "  warnings.warn(message, UserWarning)\n",
      "2024/01/11 10:36:28 INFO mlflow.tracking.fluent: Autologging successfully enabled for sklearn.\n"
     ]
    }
   ],
   "source": [
    "import mlflow\n",
    "\n",
    "mlflow.set_tracking_uri(\"http://localhost:5000\")\n",
    "\n",
    "experiment_name = \"ICA Evaluation\"\n",
    "mlflow.set_experiment(experiment_name)\n",
    "mlflow.autolog()"
   ]
  },
  {
   "cell_type": "code",
   "execution_count": 5,
   "metadata": {},
   "outputs": [
    {
     "data": {
      "application/vnd.jupyter.widget-view+json": {
       "model_id": "5761ae75955e41298bca36becc8e2c79",
       "version_major": 2,
       "version_minor": 0
      },
      "text/plain": [
       "Downloading artifacts:   0%|          | 0/5 [00:00<?, ?it/s]"
      ]
     },
     "metadata": {},
     "output_type": "display_data"
    },
    {
     "data": {
      "application/vnd.jupyter.widget-view+json": {
       "model_id": "07fa1eb348034872b6b43fbe0a2021b6",
       "version_major": 2,
       "version_minor": 0
      },
      "text/plain": [
       "Downloading artifacts:   0%|          | 0/5 [00:00<?, ?it/s]"
      ]
     },
     "metadata": {},
     "output_type": "display_data"
    },
    {
     "data": {
      "application/vnd.jupyter.widget-view+json": {
       "model_id": "658ea54421214f918f12da252c4300c0",
       "version_major": 2,
       "version_minor": 0
      },
      "text/plain": [
       "Downloading artifacts:   0%|          | 0/5 [00:00<?, ?it/s]"
      ]
     },
     "metadata": {},
     "output_type": "display_data"
    },
    {
     "data": {
      "application/vnd.jupyter.widget-view+json": {
       "model_id": "a3d49adba6164523afdfd89a6dfdd976",
       "version_major": 2,
       "version_minor": 0
      },
      "text/plain": [
       "Downloading artifacts:   0%|          | 0/5 [00:00<?, ?it/s]"
      ]
     },
     "metadata": {},
     "output_type": "display_data"
    },
    {
     "data": {
      "application/vnd.jupyter.widget-view+json": {
       "model_id": "1c2ed38c07354b17ab5e07969be122c8",
       "version_major": 2,
       "version_minor": 0
      },
      "text/plain": [
       "Downloading artifacts:   0%|          | 0/5 [00:00<?, ?it/s]"
      ]
     },
     "metadata": {},
     "output_type": "display_data"
    },
    {
     "data": {
      "application/vnd.jupyter.widget-view+json": {
       "model_id": "291d0046a595486b8382e07b0d997845",
       "version_major": 2,
       "version_minor": 0
      },
      "text/plain": [
       "Downloading artifacts:   0%|          | 0/5 [00:00<?, ?it/s]"
      ]
     },
     "metadata": {},
     "output_type": "display_data"
    },
    {
     "data": {
      "application/vnd.jupyter.widget-view+json": {
       "model_id": "0a2c31f6b8e04b6abf3ce7bdcf39a265",
       "version_major": 2,
       "version_minor": 0
      },
      "text/plain": [
       "Downloading artifacts:   0%|          | 0/5 [00:00<?, ?it/s]"
      ]
     },
     "metadata": {},
     "output_type": "display_data"
    },
    {
     "data": {
      "application/vnd.jupyter.widget-view+json": {
       "model_id": "7d95c938bb574a42bcc29840cb001707",
       "version_major": 2,
       "version_minor": 0
      },
      "text/plain": [
       "Downloading artifacts:   0%|          | 0/5 [00:00<?, ?it/s]"
      ]
     },
     "metadata": {},
     "output_type": "display_data"
    },
    {
     "data": {
      "text/plain": [
       "dict_keys(['K2O', 'Na2O', 'CaO', 'MgO', 'FeOT', 'Al2O3', 'TiO2', 'SiO2'])"
      ]
     },
     "execution_count": 5,
     "metadata": {},
     "output_type": "execute_result"
    }
   ],
   "source": [
    "from lib.reproduction import major_oxides\n",
    "\n",
    "oxide_models = {}\n",
    "\n",
    "experiment_id = '549682258983743113'\n",
    "experiment = mlflow.get_experiment(experiment_id)\n",
    "runs = mlflow.search_runs(experiment_ids=[experiment_id])\n",
    "\n",
    "for _, run in runs.iterrows():\n",
    "    run_id = run['run_id']\n",
    "    oxide_value = run['params.oxide']  # Assuming 'oxide' is stored as a parameter\n",
    "\n",
    "    # Fetch the model artifact if it's a scikit-learn model\n",
    "    client = mlflow.tracking.MlflowClient()\n",
    "    artifacts = client.list_artifacts(run_id)\n",
    "    for artifact in artifacts:\n",
    "        if 'model' in artifact.path.lower():\n",
    "            model_uri = f\"runs:/{run_id}/{artifact.path}\"\n",
    "            model = mlflow.sklearn.load_model(model_uri)\n",
    "            oxide_models[oxide_value] = model\n",
    "\n",
    "oxide_models.keys()"
   ]
  },
  {
   "cell_type": "code",
   "execution_count": 82,
   "metadata": {},
   "outputs": [],
   "source": [
    "ica_df_norm1_2 = ica_df_norm1.apply(pd.to_numeric, errors='coerce')\n",
    "ica_df_norm3_2 = ica_df_norm3.apply(pd.to_numeric, errors='coerce')\n",
    "compositions_df_norm1_2 = compositions_df_norm1.apply(pd.to_numeric, errors='coerce')\n",
    "compositions_df_norm3_2 = compositions_df_norm3.apply(pd.to_numeric, errors='coerce')"
   ]
  },
  {
   "cell_type": "code",
   "execution_count": 31,
   "metadata": {},
   "outputs": [],
   "source": [
    "from sklearn.metrics import mean_squared_error\n",
    "import numpy as np\n",
    "import pandas as pd\n",
    "\n",
    "ica_oxide_predictions = {}\n",
    "rmses = {}\n",
    "\n",
    "ica_df_norm1 = pd.read_csv(\"./data/data/jade/ica/norm1-test/ica_data.csv\")\n",
    "compositions_df_norm1 = pd.read_csv(\"./data/data/jade/ica/norm1-test/composition_data.csv\")\n",
    "\n",
    "ica_df_norm3 = pd.read_csv(\"./data/data/jade/ica/norm3-test/ica_data.csv\")\n",
    "compositions_df_norm3 = pd.read_csv(\"./data/data/jade/ica/norm3-test/composition_data.csv\")"
   ]
  },
  {
   "cell_type": "code",
   "execution_count": 33,
   "metadata": {},
   "outputs": [
    {
     "data": {
      "text/plain": [
       "(0, 0)"
      ]
     },
     "execution_count": 33,
     "metadata": {},
     "output_type": "execute_result"
    }
   ],
   "source": [
    "na1 = ica_df_norm1[ica_df_norm1.isna().any(axis=1)]\n",
    "na3 = ica_df_norm3[ica_df_norm3.isna().any(axis=1)]\n",
    "\n",
    "na1.count().sum(), na3.count().sum()"
   ]
  },
  {
   "cell_type": "code",
   "execution_count": 37,
   "metadata": {},
   "outputs": [
    {
     "data": {
      "text/plain": [
       "(0, 0)"
      ]
     },
     "execution_count": 37,
     "metadata": {},
     "output_type": "execute_result"
    }
   ],
   "source": [
    "ca1 = compositions_df_norm1[compositions_df_norm1.isna().any(axis=1)]\n",
    "ca3 = compositions_df_norm3[compositions_df_norm3.isna().any(axis=1)]\n",
    "\n",
    "ca1.count().sum(), ca3.count().sum()"
   ]
  },
  {
   "cell_type": "code",
   "execution_count": 35,
   "metadata": {},
   "outputs": [],
   "source": [
    "targets_1 = ica_df_norm1[\"target\"]\n",
    "ica_df_norm1.drop(columns=[\"target\"], inplace=True)\n",
    "\n",
    "targets_3 = ica_df_norm3[\"target\"]\n",
    "ica_df_norm3.drop(columns=[\"target\"], inplace=True)"
   ]
  },
  {
   "cell_type": "code",
   "execution_count": 16,
   "metadata": {},
   "outputs": [],
   "source": [
    "import mlflow"
   ]
  },
  {
   "cell_type": "code",
   "execution_count": 40,
   "metadata": {},
   "outputs": [
    {
     "name": "stdout",
     "output_type": "stream",
     "text": [
      "Predicting SiO2\n",
      "Model: Log-square | Norm: 1\n",
      "Negative values in X_test: 9580\n",
      "Predicting TiO2\n",
      "Model: Geometric | Norm: 3\n",
      "Negative values in X_test: 9580\n",
      "NaNs introduced after transformation\n",
      "dict_keys(['SiO2'])\n"
     ]
    },
    {
     "name": "stderr",
     "output_type": "stream",
     "text": [
      "/home/christian/projects/p9/baseline/venv/lib/python3.10/site-packages/pandas/core/internals/blocks.py:366: RuntimeWarning: invalid value encountered in sqrt\n",
      "  result = func(self.values, **kwargs)\n"
     ]
    },
    {
     "data": {
      "text/plain": [
       "{'SiO2': 10.678834376114056}"
      ]
     },
     "execution_count": 40,
     "metadata": {},
     "output_type": "execute_result"
    }
   ],
   "source": [
    "for oxide, info in ica_training_info.items():\n",
    "    print(f\"Predicting {oxide}\")\n",
    "    model_name = info[\"law\"]\n",
    "    norm = info[\"norm\"]\n",
    "    \n",
    "    print(f\"Model: {model_name} | Norm: {norm.value}\")\n",
    "    \n",
    "    with mlflow.start_run(run_name=f\"ICA_EVAL_{oxide}\"):\n",
    "        X_test = ( ica_df_norm1 if norm == Norm.NORM_1 else ica_df_norm3 )\n",
    "        y_test = (compositions_df_norm1[oxide] if norm == Norm.NORM_1 else compositions_df_norm3[oxide])\n",
    "\n",
    "        assert X_test[X_test.isna().any(axis=1)].count().sum() == 0, \"NaNs in X_test\"\n",
    "\n",
    "        negative_value_indices = np.where(X_test < 0)\n",
    "        negative_value_locations = list(zip(negative_value_indices[0], negative_value_indices[1]))\n",
    "        print (f\"Negative values in X_test: {len(negative_value_locations)}\")\n",
    "\n",
    "        if model_name == \"Log-square\":\n",
    "            X_test = np.log(X_test**2)\n",
    "        elif model_name == \"Exponential\":\n",
    "            X_test = np.log(X_test)\n",
    "        elif model_name == \"Geometric\":\n",
    "            X_test = np.sqrt(X_test)\n",
    "        elif model_name == \"Parabolic\":\n",
    "            X_test = X_test**2\n",
    "\n",
    "        if X_test.isna().any().any():\n",
    "            print(\"NaNs introduced after transformation\")\n",
    "            mlflow.end_run()\n",
    "            break\n",
    "        \n",
    "        model = oxide_models[oxide]\n",
    "        y_pred = model.predict(X_test)\n",
    "        \n",
    "        mlflow.log_param(\"oxide\", oxide)\n",
    "        mlflow.log_param(\"norm\", norm.value)\n",
    "        mlflow.log_param(\"model\", model_name)\n",
    "        \n",
    "        rmse = np.sqrt(mean_squared_error(y_test, y_pred))\n",
    "        mlflow.log_metric(\"rmse\", float(rmse))\n",
    "        \n",
    "        ica_oxide_predictions[oxide] = y_pred\n",
    "        rmses[oxide] = rmse\n",
    "\n",
    "print(ica_oxide_predictions.keys())\n",
    "rmses"
   ]
  }
 ],
 "metadata": {
  "kernelspec": {
   "display_name": "venv",
   "language": "python",
   "name": "python3"
  },
  "language_info": {
   "codemirror_mode": {
    "name": "ipython",
    "version": 3
   },
   "file_extension": ".py",
   "mimetype": "text/x-python",
   "name": "python",
   "nbconvert_exporter": "python",
   "pygments_lexer": "ipython3",
   "version": "3.10.11"
  }
 },
 "nbformat": 4,
 "nbformat_minor": 2
}

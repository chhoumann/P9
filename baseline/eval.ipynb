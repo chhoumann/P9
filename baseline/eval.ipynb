{
 "cells": [
  {
   "cell_type": "code",
   "execution_count": 75,
   "metadata": {},
   "outputs": [
    {
     "name": "stdout",
     "output_type": "stream",
     "text": [
      "data/data/calib/calib_2015/1600mm/pls\n"
     ]
    },
    {
     "name": "stderr",
     "output_type": "stream",
     "text": [
      "Loading data: 100%|██████████| 414/414 [05:25<00:00,  1.27it/s]\n",
      "Loading data: 100%|██████████| 414/414 [03:46<00:00,  1.82it/s]\n"
     ]
    }
   ],
   "source": [
    "from dotenv import dotenv_values\n",
    "from lib.data_handling import load_split_data\n",
    "\n",
    "env = dotenv_values()\n",
    "comp_data_loc = env.get(\"COMPOSITION_DATA_PATH\")\n",
    "dataset_loc = env.get(\"DATA_PATH\")\n",
    "print(dataset_loc)\n",
    "\n",
    "if not comp_data_loc:\n",
    "    print(\"Please set COMPOSITION_DATA_PATH in .env file\")\n",
    "    exit(1)\n",
    "\n",
    "if not dataset_loc:\n",
    "    print(\"Please set DATA_PATH in .env file\")\n",
    "    exit(1)\n",
    "\n",
    "\n",
    "_, ICA_test_data = load_split_data(\n",
    "    dataset_loc=dataset_loc,\n",
    "    split_loc=\"./train_test_split.csv\",\n",
    "    average_shots=False,\n",
    ")\n",
    "\n",
    "_, PLS_test_Data = load_split_data(\n",
    "    dataset_loc=dataset_loc,\n",
    "    split_loc=\"./train_test_split.csv\",\n",
    "    average_shots=True,\n",
    ")"
   ]
  },
  {
   "cell_type": "code",
   "execution_count": 76,
   "metadata": {},
   "outputs": [
    {
     "data": {
      "text/html": [
       "<div>\n",
       "<style scoped>\n",
       "    .dataframe tbody tr th:only-of-type {\n",
       "        vertical-align: middle;\n",
       "    }\n",
       "\n",
       "    .dataframe tbody tr th {\n",
       "        vertical-align: top;\n",
       "    }\n",
       "\n",
       "    .dataframe thead th {\n",
       "        text-align: right;\n",
       "    }\n",
       "</style>\n",
       "<table border=\"1\" class=\"dataframe\">\n",
       "  <thead>\n",
       "    <tr style=\"text-align: right;\">\n",
       "      <th></th>\n",
       "      <th>Target</th>\n",
       "      <th>Spectrum Name</th>\n",
       "      <th>Sample Name</th>\n",
       "      <th>SiO2</th>\n",
       "      <th>TiO2</th>\n",
       "      <th>Al2O3</th>\n",
       "      <th>FeOT</th>\n",
       "      <th>MnO</th>\n",
       "      <th>MgO</th>\n",
       "      <th>CaO</th>\n",
       "      <th>Na2O</th>\n",
       "      <th>K2O</th>\n",
       "      <th>MOC total</th>\n",
       "      <th>Used for 2015 calibration</th>\n",
       "      <th>Used for 2021 Mn calibration</th>\n",
       "      <th>Used for 2022 Li calibration</th>\n",
       "    </tr>\n",
       "  </thead>\n",
       "  <tbody>\n",
       "    <tr>\n",
       "      <th>0</th>\n",
       "      <td>AGV2</td>\n",
       "      <td>AGV2</td>\n",
       "      <td>AGV2</td>\n",
       "      <td>59.3</td>\n",
       "      <td>1.05</td>\n",
       "      <td>16.91</td>\n",
       "      <td>6.02</td>\n",
       "      <td>0.099</td>\n",
       "      <td>1.79</td>\n",
       "      <td>5.20</td>\n",
       "      <td>4.19</td>\n",
       "      <td>2.88</td>\n",
       "      <td>97.44</td>\n",
       "      <td>1.0</td>\n",
       "      <td>1.0</td>\n",
       "      <td>1.0</td>\n",
       "    </tr>\n",
       "    <tr>\n",
       "      <th>1</th>\n",
       "      <td>BCR-2</td>\n",
       "      <td>BCR2</td>\n",
       "      <td>BCR2</td>\n",
       "      <td>54.1</td>\n",
       "      <td>2.26</td>\n",
       "      <td>13.50</td>\n",
       "      <td>12.42</td>\n",
       "      <td>0.200</td>\n",
       "      <td>3.59</td>\n",
       "      <td>7.12</td>\n",
       "      <td>3.16</td>\n",
       "      <td>1.79</td>\n",
       "      <td>98.14</td>\n",
       "      <td>1.0</td>\n",
       "      <td>1.0</td>\n",
       "      <td>1.0</td>\n",
       "    </tr>\n",
       "    <tr>\n",
       "      <th>2</th>\n",
       "      <td>BEN</td>\n",
       "      <td>BEN</td>\n",
       "      <td>BEN</td>\n",
       "      <td>38.2</td>\n",
       "      <td>2.61</td>\n",
       "      <td>10.07</td>\n",
       "      <td>11.61</td>\n",
       "      <td>0.200</td>\n",
       "      <td>13.15</td>\n",
       "      <td>13.87</td>\n",
       "      <td>3.18</td>\n",
       "      <td>1.39</td>\n",
       "      <td>94.28</td>\n",
       "      <td>1.0</td>\n",
       "      <td>1.0</td>\n",
       "      <td>1.0</td>\n",
       "    </tr>\n",
       "    <tr>\n",
       "      <th>3</th>\n",
       "      <td>BHVO2</td>\n",
       "      <td>BHVO2</td>\n",
       "      <td>BHVO2</td>\n",
       "      <td>49.9</td>\n",
       "      <td>2.73</td>\n",
       "      <td>13.50</td>\n",
       "      <td>11.07</td>\n",
       "      <td>0.167</td>\n",
       "      <td>7.23</td>\n",
       "      <td>11.40</td>\n",
       "      <td>2.22</td>\n",
       "      <td>0.52</td>\n",
       "      <td>98.74</td>\n",
       "      <td>1.0</td>\n",
       "      <td>1.0</td>\n",
       "      <td>1.0</td>\n",
       "    </tr>\n",
       "    <tr>\n",
       "      <th>4</th>\n",
       "      <td>BIR-1a</td>\n",
       "      <td>BIR1</td>\n",
       "      <td>BIR1</td>\n",
       "      <td>47.7</td>\n",
       "      <td>0.97</td>\n",
       "      <td>15.40</td>\n",
       "      <td>10.19</td>\n",
       "      <td>0.176</td>\n",
       "      <td>9.7</td>\n",
       "      <td>13.40</td>\n",
       "      <td>1.81</td>\n",
       "      <td>0.03</td>\n",
       "      <td>99.38</td>\n",
       "      <td>1.0</td>\n",
       "      <td>1.0</td>\n",
       "      <td>1.0</td>\n",
       "    </tr>\n",
       "  </tbody>\n",
       "</table>\n",
       "</div>"
      ],
      "text/plain": [
       "   Target Spectrum Name Sample Name  SiO2  TiO2  Al2O3   FeOT    MnO    MgO  \\\n",
       "0    AGV2          AGV2        AGV2  59.3  1.05  16.91   6.02  0.099   1.79   \n",
       "1   BCR-2          BCR2        BCR2  54.1  2.26  13.50  12.42  0.200   3.59   \n",
       "2     BEN           BEN         BEN  38.2  2.61  10.07  11.61  0.200  13.15   \n",
       "3   BHVO2         BHVO2       BHVO2  49.9  2.73  13.50  11.07  0.167   7.23   \n",
       "4  BIR-1a          BIR1        BIR1  47.7  0.97  15.40  10.19  0.176    9.7   \n",
       "\n",
       "     CaO  Na2O   K2O  MOC total  Used for 2015 calibration  \\\n",
       "0   5.20  4.19  2.88      97.44                        1.0   \n",
       "1   7.12  3.16  1.79      98.14                        1.0   \n",
       "2  13.87  3.18  1.39      94.28                        1.0   \n",
       "3  11.40  2.22  0.52      98.74                        1.0   \n",
       "4  13.40  1.81  0.03      99.38                        1.0   \n",
       "\n",
       "   Used for 2021 Mn calibration  Used for 2022 Li calibration  \n",
       "0                           1.0                           1.0  \n",
       "1                           1.0                           1.0  \n",
       "2                           1.0                           1.0  \n",
       "3                           1.0                           1.0  \n",
       "4                           1.0                           1.0  "
      ]
     },
     "execution_count": 76,
     "metadata": {},
     "output_type": "execute_result"
    }
   ],
   "source": [
    "from lib.data_handling import CompositionData\n",
    "\n",
    "\n",
    "compositions = CompositionData(comp_data_loc)\n",
    "compositions.composition_data.head()"
   ]
  },
  {
   "cell_type": "markdown",
   "metadata": {},
   "source": [
    "# ICA Predictions\n",
    "- Preprocessing\n",
    "    - Take first location of each shot\n",
    "    - Wavelength mask transform\n",
    "    - Use Norm1 and Norm3 to normalize the data\n",
    "    - Transpose\n",
    "- Run ICA\n",
    "- Postprocess\n",
    "- Add to aggregate DataFrame\n",
    "- Fetch Linear Regression models from mlflow\n",
    "- Run Linear Regression models\n",
    "- Get RMSE"
   ]
  },
  {
   "cell_type": "code",
   "execution_count": 7,
   "metadata": {},
   "outputs": [],
   "source": [
    "from lib.norms import Norm\n",
    "\n",
    "ica_training_info = {\n",
    "    \"SiO2\": {\"law\": \"Log-square\", \"norm\": Norm.NORM_1},\n",
    "    \"TiO2\": {\"law\": \"Geometric\", \"norm\": Norm.NORM_3},\n",
    "    \"Al2O3\": {\"law\": \"Geometric\", \"norm\": Norm.NORM_3},\n",
    "    \"FeOT\": {\"law\": \"Geometric\", \"norm\": Norm.NORM_1},\n",
    "    \"MgO\": {\"law\": \"Exponential\", \"norm\": Norm.NORM_1},\n",
    "    \"CaO\": {\"law\": \"Parabolic\", \"norm\": Norm.NORM_1},\n",
    "    \"Na2O\": {\"law\": \"Parabolic\", \"norm\": Norm.NORM_3},\n",
    "    \"K2O\": {\"law\": \"Geometric\", \"norm\": Norm.NORM_3},\n",
    "}"
   ]
  },
  {
   "cell_type": "code",
   "execution_count": 78,
   "metadata": {},
   "outputs": [],
   "source": [
    "import pandas as pd\n",
    "import numpy as np\n",
    "from lib.data_handling import WavelengthMaskTransformer\n",
    "from lib.norms import Norm1Scaler, Norm3Scaler\n",
    "from lib.reproduction import masks, spectrometer_wavelength_ranges\n",
    "\n",
    "def preprocess(df: pd.DataFrame, norm: Norm = Norm.NORM_1):\n",
    "    # Apply masking\n",
    "    wmt = WavelengthMaskTransformer(masks)\n",
    "    df = wmt.fit_transform(df)\n",
    "\n",
    "    # set the wave column as the index\n",
    "    df.set_index(\"wave\", inplace=True)\n",
    "\n",
    "    # Normalize the data\n",
    "    scaler = (\n",
    "        Norm1Scaler()\n",
    "        if norm.value == 1\n",
    "        else Norm3Scaler(spectrometer_wavelength_ranges, reshaped=True)\n",
    "    )\n",
    "    df = pd.DataFrame(scaler.fit_transform(df))\n",
    "\n",
    "    return df.transpose()\n",
    "\n",
    "def postprocess(\n",
    "    df: pd.DataFrame, ica_estimated_sources: np.ndarray,\n",
    "    num_components: int, sample_name: str, composition_df: pd.DataFrame\n",
    "    ):\n",
    "    columns = df.columns\n",
    "\n",
    "    corrcols = [f\"IC{i+1}\" for i in range(num_components)]\n",
    "    df_ics = pd.DataFrame(\n",
    "        ica_estimated_sources,\n",
    "        index=[f\"shot{i+6}\" for i in range(45)],\n",
    "        columns=corrcols,\n",
    "    )\n",
    "\n",
    "    df = pd.concat([df, df_ics], axis=1)\n",
    "\n",
    "    # Correlate the loadings\n",
    "    corrdf, ids = __correlate_loadings__(df, corrcols, columns)\n",
    "\n",
    "    # Create the wavelengths matrix for each component\n",
    "    ic_wavelengths = pd.DataFrame(index=[sample_name], columns=columns)\n",
    "\n",
    "    for i in range(len(ids)):\n",
    "        ic = ids[i].split(\" \")[0]\n",
    "        component_idx = int(ic[2]) - 1\n",
    "        wavelength = corrdf.index[i]\n",
    "        corr = corrdf.iloc[i].iloc[component_idx]\n",
    "\n",
    "        ic_wavelengths.loc[sample_name, wavelength] = corr\n",
    "\n",
    "    # Filter the composition data to only include the oxides and their compositions\n",
    "    composition_df = composition_df.iloc[:, 3:12]\n",
    "    composition_df.index = [sample_name]\n",
    "\n",
    "    return composition_df, ic_wavelengths\n",
    "\n",
    "# This is a function that finds the correlation between loadings and a set of columns\n",
    "# The idea is to somewhat automate identifying which element the loading corresponds to.\n",
    "def __correlate_loadings__(\n",
    "    df: pd.DataFrame, corrcols: list, icacols: list\n",
    ") -> (pd.DataFrame, list):\n",
    "    corrdf = (\n",
    "        df.corr().drop(labels=icacols, axis=1).drop(labels=corrcols, axis=0)\n",
    "    )\n",
    "    ids = []\n",
    "\n",
    "    for ic_label in icacols:\n",
    "        tmp = corrdf.loc[ic_label]\n",
    "        match = tmp.values == np.max(tmp)\n",
    "        col = corrcols[np.where(match)[0][-1]]\n",
    "\n",
    "        ids.append(col + \" (r=\" + str(np.max(tmp)) + \")\")\n",
    "\n",
    "    return corrdf, ids\n"
   ]
  },
  {
   "cell_type": "code",
   "execution_count": 79,
   "metadata": {},
   "outputs": [
    {
     "data": {
      "text/html": [
       "<div>\n",
       "<style scoped>\n",
       "    .dataframe tbody tr th:only-of-type {\n",
       "        vertical-align: middle;\n",
       "    }\n",
       "\n",
       "    .dataframe tbody tr th {\n",
       "        vertical-align: top;\n",
       "    }\n",
       "\n",
       "    .dataframe thead th {\n",
       "        text-align: right;\n",
       "    }\n",
       "</style>\n",
       "<table border=\"1\" class=\"dataframe\">\n",
       "  <thead>\n",
       "    <tr style=\"text-align: right;\">\n",
       "      <th>wavelengths</th>\n",
       "      <th>246.68800</th>\n",
       "      <th>246.74100</th>\n",
       "      <th>246.79401</th>\n",
       "      <th>246.84700</th>\n",
       "      <th>246.89999</th>\n",
       "      <th>246.95300</th>\n",
       "      <th>247.00700</th>\n",
       "      <th>247.06000</th>\n",
       "      <th>247.11301</th>\n",
       "      <th>247.16600</th>\n",
       "      <th>...</th>\n",
       "      <th>847.10272</th>\n",
       "      <th>847.30212</th>\n",
       "      <th>847.50153</th>\n",
       "      <th>847.70081</th>\n",
       "      <th>847.90009</th>\n",
       "      <th>848.09943</th>\n",
       "      <th>848.29871</th>\n",
       "      <th>848.49799</th>\n",
       "      <th>848.69720</th>\n",
       "      <th>848.89642</th>\n",
       "    </tr>\n",
       "    <tr>\n",
       "      <th>target</th>\n",
       "      <th></th>\n",
       "      <th></th>\n",
       "      <th></th>\n",
       "      <th></th>\n",
       "      <th></th>\n",
       "      <th></th>\n",
       "      <th></th>\n",
       "      <th></th>\n",
       "      <th></th>\n",
       "      <th></th>\n",
       "      <th></th>\n",
       "      <th></th>\n",
       "      <th></th>\n",
       "      <th></th>\n",
       "      <th></th>\n",
       "      <th></th>\n",
       "      <th></th>\n",
       "      <th></th>\n",
       "      <th></th>\n",
       "      <th></th>\n",
       "      <th></th>\n",
       "    </tr>\n",
       "  </thead>\n",
       "  <tbody>\n",
       "    <tr>\n",
       "      <th>r63</th>\n",
       "      <td>0.982586</td>\n",
       "      <td>0.973195</td>\n",
       "      <td>0.958026</td>\n",
       "      <td>0.887797</td>\n",
       "      <td>0.833213</td>\n",
       "      <td>0.890333</td>\n",
       "      <td>0.935169</td>\n",
       "      <td>0.964031</td>\n",
       "      <td>0.970329</td>\n",
       "      <td>0.964332</td>\n",
       "      <td>...</td>\n",
       "      <td>0.612952</td>\n",
       "      <td>0.359783</td>\n",
       "      <td>0.112243</td>\n",
       "      <td>0.23747</td>\n",
       "      <td>0.278105</td>\n",
       "      <td>0.288769</td>\n",
       "      <td>0.332783</td>\n",
       "      <td>0.323123</td>\n",
       "      <td>0.144831</td>\n",
       "      <td>0.065522</td>\n",
       "    </tr>\n",
       "    <tr>\n",
       "      <th>jsc1453</th>\n",
       "      <td>0.981191</td>\n",
       "      <td>0.97039</td>\n",
       "      <td>0.981476</td>\n",
       "      <td>0.821567</td>\n",
       "      <td>0.807284</td>\n",
       "      <td>0.923864</td>\n",
       "      <td>0.967362</td>\n",
       "      <td>0.939479</td>\n",
       "      <td>0.981792</td>\n",
       "      <td>0.975443</td>\n",
       "      <td>...</td>\n",
       "      <td>0.410556</td>\n",
       "      <td>0.431336</td>\n",
       "      <td>0.448321</td>\n",
       "      <td>0.464452</td>\n",
       "      <td>0.480765</td>\n",
       "      <td>0.490075</td>\n",
       "      <td>0.490376</td>\n",
       "      <td>0.490453</td>\n",
       "      <td>0.49938</td>\n",
       "      <td>0.517439</td>\n",
       "    </tr>\n",
       "    <tr>\n",
       "      <th>mix6o</th>\n",
       "      <td>0.987368</td>\n",
       "      <td>0.988709</td>\n",
       "      <td>0.991112</td>\n",
       "      <td>0.955499</td>\n",
       "      <td>0.878214</td>\n",
       "      <td>0.939299</td>\n",
       "      <td>0.980353</td>\n",
       "      <td>0.988655</td>\n",
       "      <td>0.986261</td>\n",
       "      <td>0.987776</td>\n",
       "      <td>...</td>\n",
       "      <td>0.590164</td>\n",
       "      <td>0.581288</td>\n",
       "      <td>0.572445</td>\n",
       "      <td>0.602448</td>\n",
       "      <td>0.620751</td>\n",
       "      <td>0.622775</td>\n",
       "      <td>0.613344</td>\n",
       "      <td>0.599891</td>\n",
       "      <td>0.581984</td>\n",
       "      <td>0.564231</td>\n",
       "    </tr>\n",
       "    <tr>\n",
       "      <th>mix1b</th>\n",
       "      <td>0.877023</td>\n",
       "      <td>0.839778</td>\n",
       "      <td>0.72133</td>\n",
       "      <td>0.653273</td>\n",
       "      <td>0.529306</td>\n",
       "      <td>0.675429</td>\n",
       "      <td>0.793508</td>\n",
       "      <td>0.854571</td>\n",
       "      <td>0.86568</td>\n",
       "      <td>0.823834</td>\n",
       "      <td>...</td>\n",
       "      <td>0.302307</td>\n",
       "      <td>0.292676</td>\n",
       "      <td>0.289561</td>\n",
       "      <td>0.288234</td>\n",
       "      <td>0.286779</td>\n",
       "      <td>0.285346</td>\n",
       "      <td>0.283205</td>\n",
       "      <td>0.280898</td>\n",
       "      <td>0.279653</td>\n",
       "      <td>0.28101</td>\n",
       "    </tr>\n",
       "    <tr>\n",
       "      <th>ja3</th>\n",
       "      <td>0.493222</td>\n",
       "      <td>0.527023</td>\n",
       "      <td>0.495026</td>\n",
       "      <td>0.369879</td>\n",
       "      <td>0.380202</td>\n",
       "      <td>0.50354</td>\n",
       "      <td>0.530778</td>\n",
       "      <td>0.478032</td>\n",
       "      <td>0.544762</td>\n",
       "      <td>0.484922</td>\n",
       "      <td>...</td>\n",
       "      <td>0.152876</td>\n",
       "      <td>0.227074</td>\n",
       "      <td>0.201066</td>\n",
       "      <td>0.126643</td>\n",
       "      <td>0.120278</td>\n",
       "      <td>0.125942</td>\n",
       "      <td>0.256865</td>\n",
       "      <td>0.385181</td>\n",
       "      <td>0.315068</td>\n",
       "      <td>0.15559</td>\n",
       "    </tr>\n",
       "  </tbody>\n",
       "</table>\n",
       "<p>5 rows × 5485 columns</p>\n",
       "</div>"
      ],
      "text/plain": [
       "wavelengths 246.68800 246.74100 246.79401 246.84700 246.89999 246.95300  \\\n",
       "target                                                                    \n",
       "r63          0.982586  0.973195  0.958026  0.887797  0.833213  0.890333   \n",
       "jsc1453      0.981191   0.97039  0.981476  0.821567  0.807284  0.923864   \n",
       "mix6o        0.987368  0.988709  0.991112  0.955499  0.878214  0.939299   \n",
       "mix1b        0.877023  0.839778   0.72133  0.653273  0.529306  0.675429   \n",
       "ja3          0.493222  0.527023  0.495026  0.369879  0.380202   0.50354   \n",
       "\n",
       "wavelengths 247.00700 247.06000 247.11301 247.16600  ... 847.10272 847.30212  \\\n",
       "target                                               ...                       \n",
       "r63          0.935169  0.964031  0.970329  0.964332  ...  0.612952  0.359783   \n",
       "jsc1453      0.967362  0.939479  0.981792  0.975443  ...  0.410556  0.431336   \n",
       "mix6o        0.980353  0.988655  0.986261  0.987776  ...  0.590164  0.581288   \n",
       "mix1b        0.793508  0.854571   0.86568  0.823834  ...  0.302307  0.292676   \n",
       "ja3          0.530778  0.478032  0.544762  0.484922  ...  0.152876  0.227074   \n",
       "\n",
       "wavelengths 847.50153 847.70081 847.90009 848.09943 848.29871 848.49799  \\\n",
       "target                                                                    \n",
       "r63          0.112243   0.23747  0.278105  0.288769  0.332783  0.323123   \n",
       "jsc1453      0.448321  0.464452  0.480765  0.490075  0.490376  0.490453   \n",
       "mix6o        0.572445  0.602448  0.620751  0.622775  0.613344  0.599891   \n",
       "mix1b        0.289561  0.288234  0.286779  0.285346  0.283205  0.280898   \n",
       "ja3          0.201066  0.126643  0.120278  0.125942  0.256865  0.385181   \n",
       "\n",
       "wavelengths 848.69720 848.89642  \n",
       "target                           \n",
       "r63          0.144831  0.065522  \n",
       "jsc1453       0.49938  0.517439  \n",
       "mix6o        0.581984  0.564231  \n",
       "mix1b        0.279653   0.28101  \n",
       "ja3          0.315068   0.15559  \n",
       "\n",
       "[5 rows x 5485 columns]"
      ]
     },
     "execution_count": 79,
     "metadata": {},
     "output_type": "execute_result"
    }
   ],
   "source": [
    "from ica.ica import run_ica\n",
    "\n",
    "\n",
    "ica_df_norm1 = pd.DataFrame()\n",
    "compositions_df_norm1 = pd.DataFrame()\n",
    "\n",
    "ica_df_norm3 = pd.DataFrame()\n",
    "compositions_df_norm3 = pd.DataFrame()\n",
    "\n",
    "for sample_name, location_data_dfs in ICA_test_data.items():\n",
    "    # Preprocess\n",
    "    df = location_data_dfs[0]\n",
    "    \n",
    "    df_n1 = preprocess(df.copy(deep=True), Norm.NORM_1)\n",
    "    df_n3 = preprocess(df.copy(deep=True), Norm.NORM_3)\n",
    "    \n",
    "    # Run ICA\n",
    "    ica_estimated_sources_n1 = run_ica(\n",
    "        df_n1,\n",
    "        model=\"jade\",\n",
    "        num_components=8,\n",
    "    )\n",
    "\n",
    "    ica_estimated_sources_n3 = run_ica(\n",
    "        df_n3,\n",
    "        model=\"jade\",\n",
    "        num_components=8,\n",
    "    )\n",
    "    \n",
    "    # Postprocess\n",
    "    n1_composition_df, n1_ic_wavelengths = postprocess(\n",
    "        df_n1,\n",
    "        ica_estimated_sources_n1,\n",
    "        8,\n",
    "        sample_name,\n",
    "        compositions.get_composition_for_sample(sample_name).copy(deep=True),\n",
    "    )\n",
    "    \n",
    "    n3_composition_df, n3_ic_wavelengths = postprocess(\n",
    "        df_n3,\n",
    "        ica_estimated_sources_n3,\n",
    "        8,\n",
    "        sample_name,\n",
    "        compositions.get_composition_for_sample(sample_name).copy(deep=True),\n",
    "    )\n",
    "    \n",
    "    # Append to the dataframes\n",
    "    ica_df_norm1 = pd.concat([ica_df_norm1, n1_ic_wavelengths])\n",
    "    compositions_df_norm1 = pd.concat([compositions_df_norm1, n1_composition_df])\n",
    "    \n",
    "    ica_df_norm3 = pd.concat([ica_df_norm3, n3_ic_wavelengths])\n",
    "    compositions_df_norm3 = pd.concat([compositions_df_norm3, n3_composition_df])\n",
    "\n",
    "ica_df_norm1.index.name = \"target\"\n",
    "ica_df_norm1.columns.name = \"wavelengths\"\n",
    "compositions_df_norm1.index.name = \"target\"\n",
    "compositions_df_norm1.columns.name = \"oxide\"\n",
    "\n",
    "ica_df_norm3.index.name = \"target\"\n",
    "ica_df_norm3.columns.name = \"wavelengths\"\n",
    "compositions_df_norm3.index.name = \"target\"\n",
    "compositions_df_norm3.columns.name = \"oxide\"\n",
    "\n",
    "ica_df_norm1.head()"
   ]
  },
  {
   "cell_type": "code",
   "execution_count": 80,
   "metadata": {},
   "outputs": [
    {
     "name": "stderr",
     "output_type": "stream",
     "text": [
      "2023/12/18 21:24:34 INFO mlflow.tracking.fluent: Autologging successfully enabled for sklearn.\n"
     ]
    }
   ],
   "source": [
    "import mlflow\n",
    "\n",
    "mlflow.set_tracking_uri(\"http://localhost:5000\")\n",
    "\n",
    "experiment_name = \"ICA Evaluation\"\n",
    "mlflow.set_experiment(experiment_name)\n",
    "mlflow.autolog()"
   ]
  },
  {
   "cell_type": "code",
   "execution_count": 11,
   "metadata": {},
   "outputs": [
    {
     "data": {
      "application/vnd.jupyter.widget-view+json": {
       "model_id": "2be1ac16ad3b4e54aaa571c4504a6584",
       "version_major": 2,
       "version_minor": 0
      },
      "text/plain": [
       "Downloading artifacts:   0%|          | 0/5 [00:00<?, ?it/s]"
      ]
     },
     "metadata": {},
     "output_type": "display_data"
    },
    {
     "data": {
      "application/vnd.jupyter.widget-view+json": {
       "model_id": "6f7302d35bc241c9a160d8127a3bab4f",
       "version_major": 2,
       "version_minor": 0
      },
      "text/plain": [
       "Downloading artifacts:   0%|          | 0/5 [00:00<?, ?it/s]"
      ]
     },
     "metadata": {},
     "output_type": "display_data"
    },
    {
     "data": {
      "application/vnd.jupyter.widget-view+json": {
       "model_id": "15bc8c2a907e4555a8ea37bee6a0da87",
       "version_major": 2,
       "version_minor": 0
      },
      "text/plain": [
       "Downloading artifacts:   0%|          | 0/5 [00:00<?, ?it/s]"
      ]
     },
     "metadata": {},
     "output_type": "display_data"
    },
    {
     "data": {
      "application/vnd.jupyter.widget-view+json": {
       "model_id": "6fc84eae3f9446708d00b43361e7547e",
       "version_major": 2,
       "version_minor": 0
      },
      "text/plain": [
       "Downloading artifacts:   0%|          | 0/5 [00:00<?, ?it/s]"
      ]
     },
     "metadata": {},
     "output_type": "display_data"
    },
    {
     "data": {
      "application/vnd.jupyter.widget-view+json": {
       "model_id": "3a30fcadec974b1ca81ac801b27c18ed",
       "version_major": 2,
       "version_minor": 0
      },
      "text/plain": [
       "Downloading artifacts:   0%|          | 0/5 [00:00<?, ?it/s]"
      ]
     },
     "metadata": {},
     "output_type": "display_data"
    },
    {
     "data": {
      "application/vnd.jupyter.widget-view+json": {
       "model_id": "342652749fe346299de5a4c61f6d00dd",
       "version_major": 2,
       "version_minor": 0
      },
      "text/plain": [
       "Downloading artifacts:   0%|          | 0/5 [00:00<?, ?it/s]"
      ]
     },
     "metadata": {},
     "output_type": "display_data"
    },
    {
     "data": {
      "application/vnd.jupyter.widget-view+json": {
       "model_id": "3869a7002d4546e68386074345168f8f",
       "version_major": 2,
       "version_minor": 0
      },
      "text/plain": [
       "Downloading artifacts:   0%|          | 0/5 [00:00<?, ?it/s]"
      ]
     },
     "metadata": {},
     "output_type": "display_data"
    },
    {
     "data": {
      "application/vnd.jupyter.widget-view+json": {
       "model_id": "c4da098d0d0746019d5b249f02c15aa8",
       "version_major": 2,
       "version_minor": 0
      },
      "text/plain": [
       "Downloading artifacts:   0%|          | 0/5 [00:00<?, ?it/s]"
      ]
     },
     "metadata": {},
     "output_type": "display_data"
    },
    {
     "data": {
      "application/vnd.jupyter.widget-view+json": {
       "model_id": "39fc07849f1b4a6ca22ee1e9def9c8c4",
       "version_major": 2,
       "version_minor": 0
      },
      "text/plain": [
       "Downloading artifacts:   0%|          | 0/5 [00:00<?, ?it/s]"
      ]
     },
     "metadata": {},
     "output_type": "display_data"
    },
    {
     "data": {
      "application/vnd.jupyter.widget-view+json": {
       "model_id": "7393f241ee1447c5b6655a5139773ab9",
       "version_major": 2,
       "version_minor": 0
      },
      "text/plain": [
       "Downloading artifacts:   0%|          | 0/5 [00:00<?, ?it/s]"
      ]
     },
     "metadata": {},
     "output_type": "display_data"
    },
    {
     "data": {
      "application/vnd.jupyter.widget-view+json": {
       "model_id": "d9651dcb0eb6491d85d92c35a9f03fe8",
       "version_major": 2,
       "version_minor": 0
      },
      "text/plain": [
       "Downloading artifacts:   0%|          | 0/5 [00:00<?, ?it/s]"
      ]
     },
     "metadata": {},
     "output_type": "display_data"
    },
    {
     "data": {
      "application/vnd.jupyter.widget-view+json": {
       "model_id": "2ec250a960a2442a9532c6d8f62d1eaf",
       "version_major": 2,
       "version_minor": 0
      },
      "text/plain": [
       "Downloading artifacts:   0%|          | 0/5 [00:00<?, ?it/s]"
      ]
     },
     "metadata": {},
     "output_type": "display_data"
    },
    {
     "data": {
      "application/vnd.jupyter.widget-view+json": {
       "model_id": "1e09a5a004254a58bdaa35523fd1a923",
       "version_major": 2,
       "version_minor": 0
      },
      "text/plain": [
       "Downloading artifacts:   0%|          | 0/5 [00:00<?, ?it/s]"
      ]
     },
     "metadata": {},
     "output_type": "display_data"
    },
    {
     "data": {
      "application/vnd.jupyter.widget-view+json": {
       "model_id": "6933d24d712747e6be1e56d34a8fdc63",
       "version_major": 2,
       "version_minor": 0
      },
      "text/plain": [
       "Downloading artifacts:   0%|          | 0/5 [00:00<?, ?it/s]"
      ]
     },
     "metadata": {},
     "output_type": "display_data"
    },
    {
     "data": {
      "application/vnd.jupyter.widget-view+json": {
       "model_id": "2d5171ca4abf4939b0bddde0d0871cb7",
       "version_major": 2,
       "version_minor": 0
      },
      "text/plain": [
       "Downloading artifacts:   0%|          | 0/5 [00:00<?, ?it/s]"
      ]
     },
     "metadata": {},
     "output_type": "display_data"
    },
    {
     "data": {
      "application/vnd.jupyter.widget-view+json": {
       "model_id": "55d44a41dfb74960afd7403a9a0d3e0e",
       "version_major": 2,
       "version_minor": 0
      },
      "text/plain": [
       "Downloading artifacts:   0%|          | 0/5 [00:00<?, ?it/s]"
      ]
     },
     "metadata": {},
     "output_type": "display_data"
    },
    {
     "data": {
      "application/vnd.jupyter.widget-view+json": {
       "model_id": "b2320a99e66f45d3b94d6bdbcb33c5ed",
       "version_major": 2,
       "version_minor": 0
      },
      "text/plain": [
       "Downloading artifacts:   0%|          | 0/5 [00:00<?, ?it/s]"
      ]
     },
     "metadata": {},
     "output_type": "display_data"
    },
    {
     "data": {
      "application/vnd.jupyter.widget-view+json": {
       "model_id": "c5a9ad93f9f4411abbd59b1e70b35bf3",
       "version_major": 2,
       "version_minor": 0
      },
      "text/plain": [
       "Downloading artifacts:   0%|          | 0/5 [00:00<?, ?it/s]"
      ]
     },
     "metadata": {},
     "output_type": "display_data"
    },
    {
     "data": {
      "application/vnd.jupyter.widget-view+json": {
       "model_id": "61c47cf21ac240e1894f5bde4b861fa1",
       "version_major": 2,
       "version_minor": 0
      },
      "text/plain": [
       "Downloading artifacts:   0%|          | 0/5 [00:00<?, ?it/s]"
      ]
     },
     "metadata": {},
     "output_type": "display_data"
    },
    {
     "data": {
      "application/vnd.jupyter.widget-view+json": {
       "model_id": "eda4bf57b4474dcfbd43a975e1b31e42",
       "version_major": 2,
       "version_minor": 0
      },
      "text/plain": [
       "Downloading artifacts:   0%|          | 0/5 [00:00<?, ?it/s]"
      ]
     },
     "metadata": {},
     "output_type": "display_data"
    },
    {
     "data": {
      "application/vnd.jupyter.widget-view+json": {
       "model_id": "d7a0c8997aca43de8768a810ff0a9095",
       "version_major": 2,
       "version_minor": 0
      },
      "text/plain": [
       "Downloading artifacts:   0%|          | 0/5 [00:00<?, ?it/s]"
      ]
     },
     "metadata": {},
     "output_type": "display_data"
    },
    {
     "data": {
      "application/vnd.jupyter.widget-view+json": {
       "model_id": "dfa08715b4514e4faaf644911eb69584",
       "version_major": 2,
       "version_minor": 0
      },
      "text/plain": [
       "Downloading artifacts:   0%|          | 0/5 [00:00<?, ?it/s]"
      ]
     },
     "metadata": {},
     "output_type": "display_data"
    },
    {
     "data": {
      "application/vnd.jupyter.widget-view+json": {
       "model_id": "6e61eb90e80a4bb79c59d4782e5000bf",
       "version_major": 2,
       "version_minor": 0
      },
      "text/plain": [
       "Downloading artifacts:   0%|          | 0/5 [00:00<?, ?it/s]"
      ]
     },
     "metadata": {},
     "output_type": "display_data"
    },
    {
     "data": {
      "application/vnd.jupyter.widget-view+json": {
       "model_id": "b8953543d5dc4605a9f3da6d0c9e6e1d",
       "version_major": 2,
       "version_minor": 0
      },
      "text/plain": [
       "Downloading artifacts:   0%|          | 0/5 [00:00<?, ?it/s]"
      ]
     },
     "metadata": {},
     "output_type": "display_data"
    },
    {
     "data": {
      "application/vnd.jupyter.widget-view+json": {
       "model_id": "9e995d8bfcd94ff3981ec86220125a54",
       "version_major": 2,
       "version_minor": 0
      },
      "text/plain": [
       "Downloading artifacts:   0%|          | 0/5 [00:00<?, ?it/s]"
      ]
     },
     "metadata": {},
     "output_type": "display_data"
    },
    {
     "data": {
      "application/vnd.jupyter.widget-view+json": {
       "model_id": "33d425197e764cc596206511740fde15",
       "version_major": 2,
       "version_minor": 0
      },
      "text/plain": [
       "Downloading artifacts:   0%|          | 0/5 [00:00<?, ?it/s]"
      ]
     },
     "metadata": {},
     "output_type": "display_data"
    },
    {
     "data": {
      "application/vnd.jupyter.widget-view+json": {
       "model_id": "04ce407721b642639790b189fb28bb1e",
       "version_major": 2,
       "version_minor": 0
      },
      "text/plain": [
       "Downloading artifacts:   0%|          | 0/5 [00:00<?, ?it/s]"
      ]
     },
     "metadata": {},
     "output_type": "display_data"
    },
    {
     "data": {
      "application/vnd.jupyter.widget-view+json": {
       "model_id": "95d13bce22e746fb94466e6d0c44cf43",
       "version_major": 2,
       "version_minor": 0
      },
      "text/plain": [
       "Downloading artifacts:   0%|          | 0/5 [00:00<?, ?it/s]"
      ]
     },
     "metadata": {},
     "output_type": "display_data"
    },
    {
     "data": {
      "application/vnd.jupyter.widget-view+json": {
       "model_id": "d133cc88cfb54819a28df3a40f6ec91e",
       "version_major": 2,
       "version_minor": 0
      },
      "text/plain": [
       "Downloading artifacts:   0%|          | 0/5 [00:00<?, ?it/s]"
      ]
     },
     "metadata": {},
     "output_type": "display_data"
    },
    {
     "data": {
      "application/vnd.jupyter.widget-view+json": {
       "model_id": "ab50f6fbbeeb43a9aff4628d21734c3c",
       "version_major": 2,
       "version_minor": 0
      },
      "text/plain": [
       "Downloading artifacts:   0%|          | 0/5 [00:00<?, ?it/s]"
      ]
     },
     "metadata": {},
     "output_type": "display_data"
    },
    {
     "data": {
      "application/vnd.jupyter.widget-view+json": {
       "model_id": "4b3750ec44e34cdbaa054d2dc06305ab",
       "version_major": 2,
       "version_minor": 0
      },
      "text/plain": [
       "Downloading artifacts:   0%|          | 0/5 [00:00<?, ?it/s]"
      ]
     },
     "metadata": {},
     "output_type": "display_data"
    },
    {
     "data": {
      "application/vnd.jupyter.widget-view+json": {
       "model_id": "5704f0ea2ed149e6aad64dedd7270993",
       "version_major": 2,
       "version_minor": 0
      },
      "text/plain": [
       "Downloading artifacts:   0%|          | 0/5 [00:00<?, ?it/s]"
      ]
     },
     "metadata": {},
     "output_type": "display_data"
    },
    {
     "data": {
      "application/vnd.jupyter.widget-view+json": {
       "model_id": "2ce842b777b84a309c29f7fa258a907f",
       "version_major": 2,
       "version_minor": 0
      },
      "text/plain": [
       "Downloading artifacts:   0%|          | 0/5 [00:00<?, ?it/s]"
      ]
     },
     "metadata": {},
     "output_type": "display_data"
    },
    {
     "data": {
      "application/vnd.jupyter.widget-view+json": {
       "model_id": "d1c1c0aad4924ac698f1b191a72febd7",
       "version_major": 2,
       "version_minor": 0
      },
      "text/plain": [
       "Downloading artifacts:   0%|          | 0/5 [00:00<?, ?it/s]"
      ]
     },
     "metadata": {},
     "output_type": "display_data"
    },
    {
     "data": {
      "application/vnd.jupyter.widget-view+json": {
       "model_id": "cf934bb6753444d3982cac37f7bb108c",
       "version_major": 2,
       "version_minor": 0
      },
      "text/plain": [
       "Downloading artifacts:   0%|          | 0/5 [00:00<?, ?it/s]"
      ]
     },
     "metadata": {},
     "output_type": "display_data"
    },
    {
     "data": {
      "application/vnd.jupyter.widget-view+json": {
       "model_id": "f8d04a43256f47afa2def10a5ade1c5c",
       "version_major": 2,
       "version_minor": 0
      },
      "text/plain": [
       "Downloading artifacts:   0%|          | 0/5 [00:00<?, ?it/s]"
      ]
     },
     "metadata": {},
     "output_type": "display_data"
    },
    {
     "data": {
      "application/vnd.jupyter.widget-view+json": {
       "model_id": "9740208b79534b1ab496d158193c139d",
       "version_major": 2,
       "version_minor": 0
      },
      "text/plain": [
       "Downloading artifacts:   0%|          | 0/5 [00:00<?, ?it/s]"
      ]
     },
     "metadata": {},
     "output_type": "display_data"
    },
    {
     "data": {
      "application/vnd.jupyter.widget-view+json": {
       "model_id": "05df4421810342c3a0eb904b7f650659",
       "version_major": 2,
       "version_minor": 0
      },
      "text/plain": [
       "Downloading artifacts:   0%|          | 0/5 [00:00<?, ?it/s]"
      ]
     },
     "metadata": {},
     "output_type": "display_data"
    },
    {
     "data": {
      "application/vnd.jupyter.widget-view+json": {
       "model_id": "57ba6665c6994dde99cd66b0aba93c6a",
       "version_major": 2,
       "version_minor": 0
      },
      "text/plain": [
       "Downloading artifacts:   0%|          | 0/5 [00:00<?, ?it/s]"
      ]
     },
     "metadata": {},
     "output_type": "display_data"
    },
    {
     "data": {
      "application/vnd.jupyter.widget-view+json": {
       "model_id": "98ba0d9e6f47443bae4e51f567e4c9d8",
       "version_major": 2,
       "version_minor": 0
      },
      "text/plain": [
       "Downloading artifacts:   0%|          | 0/5 [00:00<?, ?it/s]"
      ]
     },
     "metadata": {},
     "output_type": "display_data"
    },
    {
     "data": {
      "application/vnd.jupyter.widget-view+json": {
       "model_id": "984bfcc1611241528ecc57d8e5f006fc",
       "version_major": 2,
       "version_minor": 0
      },
      "text/plain": [
       "Downloading artifacts:   0%|          | 0/5 [00:00<?, ?it/s]"
      ]
     },
     "metadata": {},
     "output_type": "display_data"
    },
    {
     "data": {
      "application/vnd.jupyter.widget-view+json": {
       "model_id": "9a08bdd230784698a3b11f378c9bf13d",
       "version_major": 2,
       "version_minor": 0
      },
      "text/plain": [
       "Downloading artifacts:   0%|          | 0/5 [00:00<?, ?it/s]"
      ]
     },
     "metadata": {},
     "output_type": "display_data"
    },
    {
     "data": {
      "application/vnd.jupyter.widget-view+json": {
       "model_id": "273045a0cb31481296d10e86166131cd",
       "version_major": 2,
       "version_minor": 0
      },
      "text/plain": [
       "Downloading artifacts:   0%|          | 0/5 [00:00<?, ?it/s]"
      ]
     },
     "metadata": {},
     "output_type": "display_data"
    },
    {
     "data": {
      "application/vnd.jupyter.widget-view+json": {
       "model_id": "78de6f820a264ae88334813c9fc2147d",
       "version_major": 2,
       "version_minor": 0
      },
      "text/plain": [
       "Downloading artifacts:   0%|          | 0/5 [00:00<?, ?it/s]"
      ]
     },
     "metadata": {},
     "output_type": "display_data"
    },
    {
     "data": {
      "application/vnd.jupyter.widget-view+json": {
       "model_id": "9d230f9b0e434e558680084ab197fb79",
       "version_major": 2,
       "version_minor": 0
      },
      "text/plain": [
       "Downloading artifacts:   0%|          | 0/5 [00:00<?, ?it/s]"
      ]
     },
     "metadata": {},
     "output_type": "display_data"
    },
    {
     "data": {
      "application/vnd.jupyter.widget-view+json": {
       "model_id": "3fdc885682c04757bcdbd8d746fe2111",
       "version_major": 2,
       "version_minor": 0
      },
      "text/plain": [
       "Downloading artifacts:   0%|          | 0/5 [00:00<?, ?it/s]"
      ]
     },
     "metadata": {},
     "output_type": "display_data"
    },
    {
     "data": {
      "application/vnd.jupyter.widget-view+json": {
       "model_id": "dcfa417fd51a4f3da470e6cb2bc1356a",
       "version_major": 2,
       "version_minor": 0
      },
      "text/plain": [
       "Downloading artifacts:   0%|          | 0/5 [00:00<?, ?it/s]"
      ]
     },
     "metadata": {},
     "output_type": "display_data"
    },
    {
     "data": {
      "application/vnd.jupyter.widget-view+json": {
       "model_id": "e20e2c09324040c2a7aa71540b3c0502",
       "version_major": 2,
       "version_minor": 0
      },
      "text/plain": [
       "Downloading artifacts:   0%|          | 0/5 [00:00<?, ?it/s]"
      ]
     },
     "metadata": {},
     "output_type": "display_data"
    },
    {
     "data": {
      "text/plain": [
       "dict_keys(['K2O', 'Na2O', 'CaO', 'MgO', 'FeOT', 'Al2O3', 'TiO2', 'SiO2'])"
      ]
     },
     "execution_count": 11,
     "metadata": {},
     "output_type": "execute_result"
    }
   ],
   "source": [
    "from lib.reproduction import major_oxides\n",
    "\n",
    "oxide_models = {}\n",
    "\n",
    "experiment_id = '549682258983743113'\n",
    "experiment = mlflow.get_experiment(experiment_id)\n",
    "runs = mlflow.search_runs(experiment_ids=[experiment_id])\n",
    "\n",
    "for _, run in runs.iterrows():\n",
    "    run_id = run['run_id']\n",
    "    oxide_value = run['params.oxide']  # Assuming 'oxide' is stored as a parameter\n",
    "\n",
    "    # Fetch the model artifact if it's a scikit-learn model\n",
    "    client = mlflow.tracking.MlflowClient()\n",
    "    artifacts = client.list_artifacts(run_id)\n",
    "    for artifact in artifacts:\n",
    "        if 'model' in artifact.path.lower():\n",
    "            model_uri = f\"runs:/{run_id}/{artifact.path}\"\n",
    "            model = mlflow.sklearn.load_model(model_uri)\n",
    "            oxide_models[oxide_value] = model\n",
    "\n",
    "oxide_models.keys()"
   ]
  },
  {
   "cell_type": "code",
   "execution_count": 82,
   "metadata": {},
   "outputs": [],
   "source": [
    "ica_df_norm1_2 = ica_df_norm1.apply(pd.to_numeric, errors='coerce')\n",
    "ica_df_norm3_2 = ica_df_norm3.apply(pd.to_numeric, errors='coerce')\n",
    "compositions_df_norm1_2 = compositions_df_norm1.apply(pd.to_numeric, errors='coerce')\n",
    "compositions_df_norm3_2 = compositions_df_norm3.apply(pd.to_numeric, errors='coerce')"
   ]
  },
  {
   "cell_type": "code",
   "execution_count": 3,
   "metadata": {},
   "outputs": [],
   "source": [
    "from sklearn.metrics import mean_squared_error\n",
    "import numpy as np\n",
    "import pandas as pd\n",
    "\n",
    "ica_oxide_predictions = {}\n",
    "rmses = {}\n",
    "\n",
    "ica_df_norm1 = pd.read_csv(\"./data/data/jade/ica/norm1-test/ica_data.csv\")\n",
    "compositions_df_norm1 = pd.read_csv(\"./data/data/jade/ica/norm1-test/composition_data.csv\")\n",
    "\n",
    "ica_df_norm3 = pd.read_csv(\"./data/data/jade/ica/norm3-test/ica_data.csv\")\n",
    "compositions_df_norm3 = pd.read_csv(\"./data/data/jade/ica/norm3-test/composition_data.csv\")"
   ]
  },
  {
   "cell_type": "code",
   "execution_count": 4,
   "metadata": {},
   "outputs": [],
   "source": [
    "targets_1 = ica_df_norm1[\"target\"]\n",
    "ica_df_norm1.drop(columns=[\"target\"], inplace=True)\n",
    "\n",
    "targets_3 = ica_df_norm3[\"target\"]\n",
    "ica_df_norm3.drop(columns=[\"target\"], inplace=True)"
   ]
  },
  {
   "cell_type": "code",
   "execution_count": 9,
   "metadata": {},
   "outputs": [
    {
     "name": "stderr",
     "output_type": "stream",
     "text": [
      "/home/christian/projects/p9/baseline/venv/lib/python3.10/site-packages/pydantic/_internal/_fields.py:149: UserWarning: Field \"model_server_url\" has conflict with protected namespace \"model_\".\n",
      "\n",
      "You may be able to resolve this warning by setting `model_config['protected_namespaces'] = ()`.\n",
      "  warnings.warn(\n",
      "/home/christian/projects/p9/baseline/venv/lib/python3.10/site-packages/pydantic/_internal/_config.py:321: UserWarning: Valid config keys have changed in V2:\n",
      "* 'schema_extra' has been renamed to 'json_schema_extra'\n",
      "  warnings.warn(message, UserWarning)\n"
     ]
    }
   ],
   "source": [
    "import mlflow"
   ]
  },
  {
   "cell_type": "code",
   "execution_count": 12,
   "metadata": {},
   "outputs": [
    {
     "name": "stdout",
     "output_type": "stream",
     "text": [
      "Predicting SiO2\n",
      "Model: Log-square | Norm: 1\n",
      "Predicting TiO2\n",
      "Model: Geometric | Norm: 3\n"
     ]
    },
    {
     "name": "stderr",
     "output_type": "stream",
     "text": [
      "/home/christian/projects/p9/baseline/venv/lib/python3.10/site-packages/pandas/core/internals/blocks.py:366: RuntimeWarning: invalid value encountered in sqrt\n",
      "  result = func(self.values, **kwargs)\n"
     ]
    },
    {
     "ename": "ValueError",
     "evalue": "Input X contains NaN.\nLinearRegression does not accept missing values encoded as NaN natively. For supervised learning, you might want to consider sklearn.ensemble.HistGradientBoostingClassifier and Regressor which accept missing values encoded as NaNs natively. Alternatively, it is possible to preprocess the data, for instance by using an imputer transformer in a pipeline or drop samples with missing values. See https://scikit-learn.org/stable/modules/impute.html You can find a list of all estimators that handle NaN values at the following page: https://scikit-learn.org/stable/modules/impute.html#estimators-that-handle-nan-values",
     "output_type": "error",
     "traceback": [
      "\u001b[0;31m---------------------------------------------------------------------------\u001b[0m",
      "\u001b[0;31mValueError\u001b[0m                                Traceback (most recent call last)",
      "Cell \u001b[0;32mIn[12], line 22\u001b[0m\n\u001b[1;32m     19\u001b[0m     X_test \u001b[38;5;241m=\u001b[39m X_test\u001b[38;5;241m*\u001b[39m\u001b[38;5;241m*\u001b[39m\u001b[38;5;241m2\u001b[39m\n\u001b[1;32m     21\u001b[0m model \u001b[38;5;241m=\u001b[39m oxide_models[oxide]\n\u001b[0;32m---> 22\u001b[0m y_pred \u001b[38;5;241m=\u001b[39m \u001b[43mmodel\u001b[49m\u001b[38;5;241;43m.\u001b[39;49m\u001b[43mpredict\u001b[49m\u001b[43m(\u001b[49m\u001b[43mX_test\u001b[49m\u001b[43m)\u001b[49m\n\u001b[1;32m     24\u001b[0m mlflow\u001b[38;5;241m.\u001b[39mlog_param(\u001b[38;5;124m\"\u001b[39m\u001b[38;5;124moxide\u001b[39m\u001b[38;5;124m\"\u001b[39m, oxide)\n\u001b[1;32m     25\u001b[0m mlflow\u001b[38;5;241m.\u001b[39mlog_param(\u001b[38;5;124m\"\u001b[39m\u001b[38;5;124mnorm\u001b[39m\u001b[38;5;124m\"\u001b[39m, norm\u001b[38;5;241m.\u001b[39mvalue)\n",
      "File \u001b[0;32m~/projects/p9/baseline/venv/lib/python3.10/site-packages/sklearn/linear_model/_base.py:386\u001b[0m, in \u001b[0;36mLinearModel.predict\u001b[0;34m(self, X)\u001b[0m\n\u001b[1;32m    372\u001b[0m \u001b[38;5;28;01mdef\u001b[39;00m \u001b[38;5;21mpredict\u001b[39m(\u001b[38;5;28mself\u001b[39m, X):\n\u001b[1;32m    373\u001b[0m \u001b[38;5;250m    \u001b[39m\u001b[38;5;124;03m\"\"\"\u001b[39;00m\n\u001b[1;32m    374\u001b[0m \u001b[38;5;124;03m    Predict using the linear model.\u001b[39;00m\n\u001b[1;32m    375\u001b[0m \n\u001b[0;32m   (...)\u001b[0m\n\u001b[1;32m    384\u001b[0m \u001b[38;5;124;03m        Returns predicted values.\u001b[39;00m\n\u001b[1;32m    385\u001b[0m \u001b[38;5;124;03m    \"\"\"\u001b[39;00m\n\u001b[0;32m--> 386\u001b[0m     \u001b[38;5;28;01mreturn\u001b[39;00m \u001b[38;5;28;43mself\u001b[39;49m\u001b[38;5;241;43m.\u001b[39;49m\u001b[43m_decision_function\u001b[49m\u001b[43m(\u001b[49m\u001b[43mX\u001b[49m\u001b[43m)\u001b[49m\n",
      "File \u001b[0;32m~/projects/p9/baseline/venv/lib/python3.10/site-packages/sklearn/linear_model/_base.py:369\u001b[0m, in \u001b[0;36mLinearModel._decision_function\u001b[0;34m(self, X)\u001b[0m\n\u001b[1;32m    366\u001b[0m \u001b[38;5;28;01mdef\u001b[39;00m \u001b[38;5;21m_decision_function\u001b[39m(\u001b[38;5;28mself\u001b[39m, X):\n\u001b[1;32m    367\u001b[0m     check_is_fitted(\u001b[38;5;28mself\u001b[39m)\n\u001b[0;32m--> 369\u001b[0m     X \u001b[38;5;241m=\u001b[39m \u001b[38;5;28;43mself\u001b[39;49m\u001b[38;5;241;43m.\u001b[39;49m\u001b[43m_validate_data\u001b[49m\u001b[43m(\u001b[49m\u001b[43mX\u001b[49m\u001b[43m,\u001b[49m\u001b[43m \u001b[49m\u001b[43maccept_sparse\u001b[49m\u001b[38;5;241;43m=\u001b[39;49m\u001b[43m[\u001b[49m\u001b[38;5;124;43m\"\u001b[39;49m\u001b[38;5;124;43mcsr\u001b[39;49m\u001b[38;5;124;43m\"\u001b[39;49m\u001b[43m,\u001b[49m\u001b[43m \u001b[49m\u001b[38;5;124;43m\"\u001b[39;49m\u001b[38;5;124;43mcsc\u001b[39;49m\u001b[38;5;124;43m\"\u001b[39;49m\u001b[43m,\u001b[49m\u001b[43m \u001b[49m\u001b[38;5;124;43m\"\u001b[39;49m\u001b[38;5;124;43mcoo\u001b[39;49m\u001b[38;5;124;43m\"\u001b[39;49m\u001b[43m]\u001b[49m\u001b[43m,\u001b[49m\u001b[43m \u001b[49m\u001b[43mreset\u001b[49m\u001b[38;5;241;43m=\u001b[39;49m\u001b[38;5;28;43;01mFalse\u001b[39;49;00m\u001b[43m)\u001b[49m\n\u001b[1;32m    370\u001b[0m     \u001b[38;5;28;01mreturn\u001b[39;00m safe_sparse_dot(X, \u001b[38;5;28mself\u001b[39m\u001b[38;5;241m.\u001b[39mcoef_\u001b[38;5;241m.\u001b[39mT, dense_output\u001b[38;5;241m=\u001b[39m\u001b[38;5;28;01mTrue\u001b[39;00m) \u001b[38;5;241m+\u001b[39m \u001b[38;5;28mself\u001b[39m\u001b[38;5;241m.\u001b[39mintercept_\n",
      "File \u001b[0;32m~/projects/p9/baseline/venv/lib/python3.10/site-packages/sklearn/base.py:605\u001b[0m, in \u001b[0;36mBaseEstimator._validate_data\u001b[0;34m(self, X, y, reset, validate_separately, cast_to_ndarray, **check_params)\u001b[0m\n\u001b[1;32m    603\u001b[0m         out \u001b[38;5;241m=\u001b[39m X, y\n\u001b[1;32m    604\u001b[0m \u001b[38;5;28;01melif\u001b[39;00m \u001b[38;5;129;01mnot\u001b[39;00m no_val_X \u001b[38;5;129;01mand\u001b[39;00m no_val_y:\n\u001b[0;32m--> 605\u001b[0m     out \u001b[38;5;241m=\u001b[39m \u001b[43mcheck_array\u001b[49m\u001b[43m(\u001b[49m\u001b[43mX\u001b[49m\u001b[43m,\u001b[49m\u001b[43m \u001b[49m\u001b[43minput_name\u001b[49m\u001b[38;5;241;43m=\u001b[39;49m\u001b[38;5;124;43m\"\u001b[39;49m\u001b[38;5;124;43mX\u001b[39;49m\u001b[38;5;124;43m\"\u001b[39;49m\u001b[43m,\u001b[49m\u001b[43m \u001b[49m\u001b[38;5;241;43m*\u001b[39;49m\u001b[38;5;241;43m*\u001b[39;49m\u001b[43mcheck_params\u001b[49m\u001b[43m)\u001b[49m\n\u001b[1;32m    606\u001b[0m \u001b[38;5;28;01melif\u001b[39;00m no_val_X \u001b[38;5;129;01mand\u001b[39;00m \u001b[38;5;129;01mnot\u001b[39;00m no_val_y:\n\u001b[1;32m    607\u001b[0m     out \u001b[38;5;241m=\u001b[39m _check_y(y, \u001b[38;5;241m*\u001b[39m\u001b[38;5;241m*\u001b[39mcheck_params)\n",
      "File \u001b[0;32m~/projects/p9/baseline/venv/lib/python3.10/site-packages/sklearn/utils/validation.py:957\u001b[0m, in \u001b[0;36mcheck_array\u001b[0;34m(array, accept_sparse, accept_large_sparse, dtype, order, copy, force_all_finite, ensure_2d, allow_nd, ensure_min_samples, ensure_min_features, estimator, input_name)\u001b[0m\n\u001b[1;32m    951\u001b[0m         \u001b[38;5;28;01mraise\u001b[39;00m \u001b[38;5;167;01mValueError\u001b[39;00m(\n\u001b[1;32m    952\u001b[0m             \u001b[38;5;124m\"\u001b[39m\u001b[38;5;124mFound array with dim \u001b[39m\u001b[38;5;132;01m%d\u001b[39;00m\u001b[38;5;124m. \u001b[39m\u001b[38;5;132;01m%s\u001b[39;00m\u001b[38;5;124m expected <= 2.\u001b[39m\u001b[38;5;124m\"\u001b[39m\n\u001b[1;32m    953\u001b[0m             \u001b[38;5;241m%\u001b[39m (array\u001b[38;5;241m.\u001b[39mndim, estimator_name)\n\u001b[1;32m    954\u001b[0m         )\n\u001b[1;32m    956\u001b[0m     \u001b[38;5;28;01mif\u001b[39;00m force_all_finite:\n\u001b[0;32m--> 957\u001b[0m         \u001b[43m_assert_all_finite\u001b[49m\u001b[43m(\u001b[49m\n\u001b[1;32m    958\u001b[0m \u001b[43m            \u001b[49m\u001b[43marray\u001b[49m\u001b[43m,\u001b[49m\n\u001b[1;32m    959\u001b[0m \u001b[43m            \u001b[49m\u001b[43minput_name\u001b[49m\u001b[38;5;241;43m=\u001b[39;49m\u001b[43minput_name\u001b[49m\u001b[43m,\u001b[49m\n\u001b[1;32m    960\u001b[0m \u001b[43m            \u001b[49m\u001b[43mestimator_name\u001b[49m\u001b[38;5;241;43m=\u001b[39;49m\u001b[43mestimator_name\u001b[49m\u001b[43m,\u001b[49m\n\u001b[1;32m    961\u001b[0m \u001b[43m            \u001b[49m\u001b[43mallow_nan\u001b[49m\u001b[38;5;241;43m=\u001b[39;49m\u001b[43mforce_all_finite\u001b[49m\u001b[43m \u001b[49m\u001b[38;5;241;43m==\u001b[39;49m\u001b[43m \u001b[49m\u001b[38;5;124;43m\"\u001b[39;49m\u001b[38;5;124;43mallow-nan\u001b[39;49m\u001b[38;5;124;43m\"\u001b[39;49m\u001b[43m,\u001b[49m\n\u001b[1;32m    962\u001b[0m \u001b[43m        \u001b[49m\u001b[43m)\u001b[49m\n\u001b[1;32m    964\u001b[0m \u001b[38;5;28;01mif\u001b[39;00m ensure_min_samples \u001b[38;5;241m>\u001b[39m \u001b[38;5;241m0\u001b[39m:\n\u001b[1;32m    965\u001b[0m     n_samples \u001b[38;5;241m=\u001b[39m _num_samples(array)\n",
      "File \u001b[0;32m~/projects/p9/baseline/venv/lib/python3.10/site-packages/sklearn/utils/validation.py:122\u001b[0m, in \u001b[0;36m_assert_all_finite\u001b[0;34m(X, allow_nan, msg_dtype, estimator_name, input_name)\u001b[0m\n\u001b[1;32m    119\u001b[0m \u001b[38;5;28;01mif\u001b[39;00m first_pass_isfinite:\n\u001b[1;32m    120\u001b[0m     \u001b[38;5;28;01mreturn\u001b[39;00m\n\u001b[0;32m--> 122\u001b[0m \u001b[43m_assert_all_finite_element_wise\u001b[49m\u001b[43m(\u001b[49m\n\u001b[1;32m    123\u001b[0m \u001b[43m    \u001b[49m\u001b[43mX\u001b[49m\u001b[43m,\u001b[49m\n\u001b[1;32m    124\u001b[0m \u001b[43m    \u001b[49m\u001b[43mxp\u001b[49m\u001b[38;5;241;43m=\u001b[39;49m\u001b[43mxp\u001b[49m\u001b[43m,\u001b[49m\n\u001b[1;32m    125\u001b[0m \u001b[43m    \u001b[49m\u001b[43mallow_nan\u001b[49m\u001b[38;5;241;43m=\u001b[39;49m\u001b[43mallow_nan\u001b[49m\u001b[43m,\u001b[49m\n\u001b[1;32m    126\u001b[0m \u001b[43m    \u001b[49m\u001b[43mmsg_dtype\u001b[49m\u001b[38;5;241;43m=\u001b[39;49m\u001b[43mmsg_dtype\u001b[49m\u001b[43m,\u001b[49m\n\u001b[1;32m    127\u001b[0m \u001b[43m    \u001b[49m\u001b[43mestimator_name\u001b[49m\u001b[38;5;241;43m=\u001b[39;49m\u001b[43mestimator_name\u001b[49m\u001b[43m,\u001b[49m\n\u001b[1;32m    128\u001b[0m \u001b[43m    \u001b[49m\u001b[43minput_name\u001b[49m\u001b[38;5;241;43m=\u001b[39;49m\u001b[43minput_name\u001b[49m\u001b[43m,\u001b[49m\n\u001b[1;32m    129\u001b[0m \u001b[43m\u001b[49m\u001b[43m)\u001b[49m\n",
      "File \u001b[0;32m~/projects/p9/baseline/venv/lib/python3.10/site-packages/sklearn/utils/validation.py:171\u001b[0m, in \u001b[0;36m_assert_all_finite_element_wise\u001b[0;34m(X, xp, allow_nan, msg_dtype, estimator_name, input_name)\u001b[0m\n\u001b[1;32m    154\u001b[0m \u001b[38;5;28;01mif\u001b[39;00m estimator_name \u001b[38;5;129;01mand\u001b[39;00m input_name \u001b[38;5;241m==\u001b[39m \u001b[38;5;124m\"\u001b[39m\u001b[38;5;124mX\u001b[39m\u001b[38;5;124m\"\u001b[39m \u001b[38;5;129;01mand\u001b[39;00m has_nan_error:\n\u001b[1;32m    155\u001b[0m     \u001b[38;5;66;03m# Improve the error message on how to handle missing values in\u001b[39;00m\n\u001b[1;32m    156\u001b[0m     \u001b[38;5;66;03m# scikit-learn.\u001b[39;00m\n\u001b[1;32m    157\u001b[0m     msg_err \u001b[38;5;241m+\u001b[39m\u001b[38;5;241m=\u001b[39m (\n\u001b[1;32m    158\u001b[0m         \u001b[38;5;124mf\u001b[39m\u001b[38;5;124m\"\u001b[39m\u001b[38;5;130;01m\\n\u001b[39;00m\u001b[38;5;132;01m{\u001b[39;00mestimator_name\u001b[38;5;132;01m}\u001b[39;00m\u001b[38;5;124m does not accept missing values\u001b[39m\u001b[38;5;124m\"\u001b[39m\n\u001b[1;32m    159\u001b[0m         \u001b[38;5;124m\"\u001b[39m\u001b[38;5;124m encoded as NaN natively. For supervised learning, you might want\u001b[39m\u001b[38;5;124m\"\u001b[39m\n\u001b[0;32m   (...)\u001b[0m\n\u001b[1;32m    169\u001b[0m         \u001b[38;5;124m\"\u001b[39m\u001b[38;5;124m#estimators-that-handle-nan-values\u001b[39m\u001b[38;5;124m\"\u001b[39m\n\u001b[1;32m    170\u001b[0m     )\n\u001b[0;32m--> 171\u001b[0m \u001b[38;5;28;01mraise\u001b[39;00m \u001b[38;5;167;01mValueError\u001b[39;00m(msg_err)\n",
      "\u001b[0;31mValueError\u001b[0m: Input X contains NaN.\nLinearRegression does not accept missing values encoded as NaN natively. For supervised learning, you might want to consider sklearn.ensemble.HistGradientBoostingClassifier and Regressor which accept missing values encoded as NaNs natively. Alternatively, it is possible to preprocess the data, for instance by using an imputer transformer in a pipeline or drop samples with missing values. See https://scikit-learn.org/stable/modules/impute.html You can find a list of all estimators that handle NaN values at the following page: https://scikit-learn.org/stable/modules/impute.html#estimators-that-handle-nan-values"
     ]
    }
   ],
   "source": [
    "\n",
    "for oxide, info in ica_training_info.items():\n",
    "    print(f\"Predicting {oxide}\")\n",
    "    model_name = info[\"law\"]\n",
    "    norm = info[\"norm\"]\n",
    "    \n",
    "    print(f\"Model: {model_name} | Norm: {norm.value}\")\n",
    "    \n",
    "    with mlflow.start_run(run_name=f\"ICA_EVAL_{oxide}\"):\n",
    "        X_test = ( ica_df_norm1 if norm == Norm.NORM_1 else ica_df_norm3 )\n",
    "        y_test = (compositions_df_norm1[oxide] if norm == Norm.NORM_1 else compositions_df_norm3[oxide])\n",
    "\n",
    "        if model_name == \"Log-square\":\n",
    "            X_test = np.log(X_test**2)\n",
    "        elif model_name == \"Exponential\":\n",
    "            X_test = np.log(X_test)\n",
    "        elif model_name == \"Geometric\":\n",
    "            X_test = np.sqrt(X_test)\n",
    "        elif model_name == \"Parabolic\":\n",
    "            X_test = X_test**2\n",
    "        \n",
    "        model = oxide_models[oxide]\n",
    "        y_pred = model.predict(X_test)\n",
    "        \n",
    "        mlflow.log_param(\"oxide\", oxide)\n",
    "        mlflow.log_param(\"norm\", norm.value)\n",
    "        mlflow.log_param(\"model\", model_name)\n",
    "        \n",
    "        rmse = np.sqrt(mean_squared_error(y_test, y_pred))\n",
    "        mlflow.log_metric(\"rmse\", float(rmse))\n",
    "        \n",
    "        ica_oxide_predictions[oxide] = y_pred\n",
    "        rmses[oxide] = rmse\n",
    "\n",
    "print(ica_oxide_predictions.keys())\n",
    "rmses"
   ]
  }
 ],
 "metadata": {
  "kernelspec": {
   "display_name": "venv",
   "language": "python",
   "name": "python3"
  },
  "language_info": {
   "codemirror_mode": {
    "name": "ipython",
    "version": 3
   },
   "file_extension": ".py",
   "mimetype": "text/x-python",
   "name": "python",
   "nbconvert_exporter": "python",
   "pygments_lexer": "ipython3",
   "version": "3.10.11"
  }
 },
 "nbformat": 4,
 "nbformat_minor": 2
}

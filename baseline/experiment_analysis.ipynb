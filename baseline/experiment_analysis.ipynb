{
 "cells": [
  {
   "cell_type": "code",
   "execution_count": null,
   "metadata": {},
   "outputs": [],
   "source": [
    "import mlflow\n",
    "from lib.config import AppConfig\n",
    "\n",
    "mlflow.set_tracking_uri(AppConfig().mlflow_tracking_uri)"
   ]
  },
  {
   "cell_type": "code",
   "execution_count": null,
   "metadata": {},
   "outputs": [],
   "source": [
    "experiments_by_oxide = {\n",
    "    'SiO2': '47',\n",
    "    'TiO2': None, # No experiment yet\n",
    "    'Al2O3': '51',\n",
    "    'FeO': None, # No experiment yet\n",
    "    # 'MgO': '54',\n",
    "    'MgO': '81',\n",
    "    'CaO': '56',\n",
    "    'Na2O': '50',\n",
    "    'K2O': '55',\n",
    "}\n",
    "\n",
    "oxide = 'MgO'\n",
    "# experiment_id = '99' #experiments_by_oxide[oxide]\n",
    "experiment_id = '113'\n",
    "n_splits = 4\n",
    "\n",
    "if experiment_id is None:\n",
    "    print(f\"No experiment found for {oxide}\")\n",
    "    raise ValueError(f\"No experiment found for {oxide}\")"
   ]
  },
  {
   "cell_type": "code",
   "execution_count": null,
   "metadata": {},
   "outputs": [],
   "source": [
    "runs = mlflow.search_runs(experiment_ids=[experiment_id])\n",
    "\n",
    "runs.head()"
   ]
  },
  {
   "cell_type": "code",
   "execution_count": null,
   "metadata": {},
   "outputs": [],
   "source": [
    "len(runs)"
   ]
  },
  {
   "cell_type": "code",
   "execution_count": null,
   "metadata": {},
   "outputs": [],
   "source": [
    "import matplotlib.pyplot as plt\n",
    "import seaborn as sns\n",
    "\n",
    "# Filter out runs with 'metrics.rmse_cv' greater than 50\n",
    "filtered_runs = runs[runs['metrics.rmse_cv'] <= 50]\n",
    "total_runs = len(runs)\n",
    "\n",
    "sns.set_style('whitegrid')\n",
    "plt.figure(figsize=(10, 6))\n",
    "sns.boxplot(x='params.model_type', y='metrics.rmse', data=filtered_runs)\n",
    "plt.title(f\"{oxide}: RMSE for each model type - {len(filtered_runs)} runs out of {total_runs} total runs\")\n",
    "plt.xlabel(\"Model Type\")\n",
    "plt.ylabel(\"RMSEP\")\n",
    "plt.show()\n",
    "\n"
   ]
  },
  {
   "cell_type": "code",
   "execution_count": null,
   "metadata": {},
   "outputs": [],
   "source": [
    "# Find the runs that minimize rmse, rmse_cv, std_dev, and std_dev_cv\n",
    "optimal_runs = filtered_runs.loc[filtered_runs[['metrics.rmse', 'metrics.rmse_cv', 'metrics.std_dev', 'metrics.std_dev_cv']].idxmin()]\n",
    "\n",
    "# Display the optimal runs\n",
    "optimal_runs[['metrics.rmse', 'metrics.rmse_cv', 'metrics.std_dev', 'metrics.std_dev_cv', 'params.model_type']]\n"
   ]
  },
  {
   "cell_type": "code",
   "execution_count": null,
   "metadata": {},
   "outputs": [],
   "source": [
    "# Setting up visualization style\n",
    "sns.set(style=\"whitegrid\")\n",
    "\n",
    "# Plotting RMSE CV\n",
    "plt.figure(figsize=(12, 7))\n",
    "sns.boxplot(x='params.model_type', y='metrics.rmse_cv', data=filtered_runs)\n",
    "plt.title(f'{oxide}: Average Cross-Validation RMSE by Model Type')\n",
    "plt.ylabel('Average RMSE (Cross-Validation)')\n",
    "plt.show()\n",
    "\n",
    "# Plotting Standard Deviation of RMSE CV\n",
    "plt.figure(figsize=(12, 7))\n",
    "sns.boxplot(x='params.model_type', y='metrics.std_dev_cv', data=filtered_runs)\n",
    "plt.title(f'{oxide}: Standard Deviation of Errors (Cross-Validation) by Model Type')\n",
    "plt.ylabel('Standard Deviation of Errors (CV)')\n",
    "plt.show()\n"
   ]
  },
  {
   "cell_type": "code",
   "execution_count": null,
   "metadata": {},
   "outputs": [],
   "source": [
    "# Prepare a melted DataFrame for seaborn plotting\n",
    "melted_df = filtered_runs.melt(id_vars=['params.model_type'], value_vars=[f'metrics.rmse_cv_{i+1}' for i in range(n_splits)],\n",
    "                               var_name='CV Fold', value_name='Fold RMSE')\n",
    "\n",
    "# Plotting without outliers\n",
    "plt.figure(figsize=(14, 8))\n",
    "sns.boxplot(x='params.model_type', y='Fold RMSE', hue='CV Fold', data=melted_df, showfliers=False)\n",
    "plt.title(f'{oxide}: Distribution of RMSE Across CV Folds by Model Type')\n",
    "plt.show()\n"
   ]
  },
  {
   "cell_type": "code",
   "execution_count": null,
   "metadata": {},
   "outputs": [],
   "source": [
    "cv_columns = [\n",
    "    'metrics.rmse_cv', 'params.model_type', 'params.scaler_type',\n",
    "    'params.transformer_type', 'params.pca_type'\n",
    "]\n",
    "filtered_runs = runs[cv_columns]\n",
    "filtered_runs = filtered_runs[filtered_runs['metrics.rmse_cv'] <= 50]\n",
    "\n",
    "\n",
    "# Rename columns for clarity\n",
    "rename_dict = {col: col.split('.')[-1] for col in cv_columns}\n",
    "filtered_runs = filtered_runs.rename(columns=rename_dict)"
   ]
  },
  {
   "cell_type": "code",
   "execution_count": null,
   "metadata": {},
   "outputs": [],
   "source": [
    "sns.set(style=\"whitegrid\")\n",
    "\n",
    "# Individual Parameters\n",
    "for parameter in ['model_type', 'scaler_type', 'transformer_type', 'pca_type']:\n",
    "    plt.figure(figsize=(10, 6))\n",
    "    chart = sns.barplot(x=parameter, y='rmse_cv', data=filtered_runs)\n",
    "    chart.set_xticks(range(len(filtered_runs[parameter].unique())))\n",
    "    chart.set_xticklabels(chart.get_xticklabels(), rotation=45, horizontalalignment='right')\n",
    "    plt.title(f'{oxide}: Average RMSE (CV) by {parameter.capitalize()}')\n",
    "    plt.ylabel('Average RMSE (CV)')\n",
    "    plt.show()\n",
    "\n",
    "# Combinations of Parameters\n",
    "# Considering combinations might result in a lot of categories, focus on the top few based on average RMSE\n",
    "combination_data = filtered_runs.groupby(['model_type', 'scaler_type', 'transformer_type', 'pca_type']).mean()['rmse_cv']\n",
    "combination_data = combination_data.reset_index().sort_values(by='rmse_cv', ascending=True)\n",
    "\n",
    "# Display top 10 combinations\n",
    "print(combination_data.head(10))\n",
    "\n",
    "# Optionally, visualize these top combinations\n",
    "plt.figure(figsize=(14, 8))\n",
    "combination_data_top10 = combination_data[:10]\n",
    "combination_labels = combination_data_top10.apply(lambda row: ', '.join([str(row[param]) for param in ['model_type', 'scaler_type', 'transformer_type', 'pca_type'] if row[param] != 'none']), axis=1)\n",
    "sns.barplot(x='rmse_cv', y=combination_labels, data=combination_data_top10, orient='h')\n",
    "plt.title(f'{oxide}: Top 10 Combinations for RMSE Performance')\n",
    "plt.xlabel('Average RMSE (Cross-Validation)')\n",
    "plt.ylabel('Combinations')\n",
    "plt.show()"
   ]
  },
  {
   "cell_type": "code",
   "execution_count": null,
   "metadata": {},
   "outputs": [],
   "source": [
    "# Aggregate the data to compute mean and standard deviation of RMSE for each configuration\n",
    "# Lower RMSE (lower is better) and lower STD RMSE (lower is better for consistency)\n",
    "aggregated_data = filtered_runs.groupby(['model_type', 'scaler_type', 'transformer_type', 'pca_type']).agg({\n",
    "    'rmse_cv': ['mean', 'std']\n",
    "}).reset_index()\n",
    "\n",
    "# Flatten the columns (multi-level index after aggregation)\n",
    "aggregated_data.columns = ['Model Type', 'Scaler Type', 'Transformer Type', 'PCA Type', 'Mean RMSE', 'STD RMSE']\n",
    "\n",
    "# Sort configurations first by mean RMSE (ascending, lower is better) and then by STD RMSE (ascending, lower is better for consistency)\n",
    "sorted_data = aggregated_data.sort_values(by=['Mean RMSE', 'STD RMSE'], ascending=[True, True])\n",
    "\n",
    "# Display the top 10 consistently good configurations\n",
    "print(sorted_data.head(10))"
   ]
  },
  {
   "cell_type": "code",
   "execution_count": null,
   "metadata": {},
   "outputs": [],
   "source": [
    "sns.set(style=\"whitegrid\")\n",
    "\n",
    "# Plotting the top configurations based on Mean RMSE\n",
    "plt.figure(figsize=(12, 8))\n",
    "top_n = 50\n",
    "for parameter in ['Model Type', 'Scaler Type', 'Transformer Type', 'PCA Type']:\n",
    "    top_configurations = sns.barplot(x='Mean RMSE', y=parameter, hue=parameter, data=sorted_data.head(top_n), dodge=False)\n",
    "    plt.title(f'{oxide}: Top {top_n} Configurations by Mean RMSE and Their Consistency')\n",
    "    plt.xlabel('Mean RMSE (Cross-Validation)')\n",
    "    plt.ylabel(parameter)\n",
    "    # Annotate each bar with the value of Mean RMSE\n",
    "    for p in top_configurations.patches:\n",
    "        width = p.get_width()\n",
    "        plt.text(width + 0.01, p.get_y()+0.2 + p.get_height() / 2, f'{width:.2f}', ha='left', va='center')\n",
    "    plt.show()\n"
   ]
  }
 ],
 "metadata": {
  "kernelspec": {
   "display_name": "venv",
   "language": "python",
   "name": "python3"
  },
  "language_info": {
   "codemirror_mode": {
    "name": "ipython",
    "version": 3
   },
   "file_extension": ".py",
   "mimetype": "text/x-python",
   "name": "python",
   "nbconvert_exporter": "python",
   "pygments_lexer": "ipython3",
   "version": "3.12.2"
  }
 },
 "nbformat": 4,
 "nbformat_minor": 2
}

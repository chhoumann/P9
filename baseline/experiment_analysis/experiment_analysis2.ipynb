{
 "cells": [
  {
   "cell_type": "code",
   "execution_count": null,
   "metadata": {},
   "outputs": [],
   "source": [
    "%load_ext autoreload\n",
    "%autoreload 2"
   ]
  },
  {
   "cell_type": "code",
   "execution_count": null,
   "metadata": {},
   "outputs": [],
   "source": [
    "from experiment_analysis.experiment_data_dl import get_full_runs_df\n",
    "from lib.config import AppConfig\n",
    "\n",
    "config = AppConfig()\n",
    "runs = get_full_runs_df(config.optimization_experiment_results_path)"
   ]
  },
  {
   "cell_type": "code",
   "execution_count": null,
   "metadata": {},
   "outputs": [],
   "source": [
    "runs.shape"
   ]
  },
  {
   "cell_type": "code",
   "execution_count": null,
   "metadata": {},
   "outputs": [],
   "source": [
    "runs[\"params.model_type\"].value_counts()"
   ]
  },
  {
   "cell_type": "code",
   "execution_count": null,
   "metadata": {},
   "outputs": [],
   "source": [
    "import mlflow\n",
    "import pandas as pd\n",
    "from pathlib import Path\n",
    "\n",
    "from lib.config import AppConfig\n",
    "\n",
    "mlflow.set_tracking_uri(AppConfig().mlflow_tracking_uri)\n",
    "\n",
    "experiments_by_oxide = {\n",
    "    'SiO2': '123',\n",
    "    'TiO2': '125', \n",
    "    'Al2O3': '131',\n",
    "    'FeO': '130', \n",
    "    'MgO': '126',\n",
    "    'CaO': '128',\n",
    "    'Na2O': '127',\n",
    "    'K2O': '129',\n",
    "}\n",
    "\n",
    "n_splits = 4\n",
    "runs_file_path = \"/home/christian/projects/p9/baseline/optuna_runs.csv\""
   ]
  },
  {
   "cell_type": "code",
   "execution_count": null,
   "metadata": {},
   "outputs": [],
   "source": [
    "def get_runs_across_oxides():\n",
    "    oxide_runs = {}\n",
    "    for oxide, experiment_id in experiments_by_oxide.items():\n",
    "        runs = mlflow.search_runs(experiment_ids=[experiment_id])\n",
    "        oxide_runs[oxide] = runs\n",
    "    return oxide_runs\n",
    "\n",
    "\n",
    "def get_full_runs_df():\n",
    "    if Path(runs_file_path).exists():\n",
    "        return pd.read_csv(runs_file_path)\n",
    "\n",
    "    oxide_runs = get_runs_across_oxides()\n",
    "    runs = pd.concat(oxide_runs.values(), ignore_index=True)\n",
    "    runs.to_csv(runs_file_path)\n",
    "\n",
    "    return runs\n",
    "\n",
    "runs = get_full_runs_df()"
   ]
  },
  {
   "cell_type": "code",
   "execution_count": null,
   "metadata": {},
   "outputs": [],
   "source": [
    "failed_runs = runs[runs['status'] == 'FAILED']\n",
    "runs = runs[runs['status'] != 'FAILED']\n",
    "\n",
    "print(f\"Failed runs: {failed_runs.shape[0]}\")\n",
    "print(f\"Successful runs: {runs.shape[0]}\")"
   ]
  },
  {
   "cell_type": "code",
   "execution_count": null,
   "metadata": {},
   "outputs": [],
   "source": [
    "import matplotlib.pyplot as plt\n",
    "import seaborn as sns\n",
    "\n",
    "# Ensure the necessary columns are present\n",
    "required_columns = ['params.oxide', 'metrics.rmse_cv', 'params.model_type', 'params.transformer_type', 'params.pca_type', 'params.scaler_type']\n",
    "for col in required_columns:\n",
    "    if (col not in runs.columns):\n",
    "        raise ValueError(f\"Missing required column: {col}\")\n",
    "\n",
    "# Filter out trials with rmse_cv > 50\n",
    "runs_filtered = runs[runs['metrics.rmse_cv'] <= 50]\n",
    "\n",
    "# Function to create visualizations based on a specified column\n",
    "def create_visualizations(group_by_col):\n",
    "    oxides = runs_filtered['params.oxide'].unique()\n",
    "    for oxide in oxides:\n",
    "        oxide_data = runs_filtered[runs_filtered['params.oxide'] == oxide]\n",
    "        \n",
    "        plt.figure(figsize=(16, 10))\n",
    "        sns.scatterplot(data=oxide_data, x=group_by_col, y='metrics.rmse_cv', hue='params.transformer_type', style='params.pca_type', size='params.scaler_type', sizes=(20, 200))\n",
    "        plt.title(f'RMSE CV Performance for {oxide} grouped by {group_by_col}')\n",
    "        plt.xlabel(group_by_col.replace('params.', '').replace('_', ' ').title())\n",
    "        plt.ylabel('RMSE CV')\n",
    "        plt.legend(title='Transformer Type / PCA Type / Scaler Type', bbox_to_anchor=(1.05, 1), loc='upper left')\n",
    "        plt.xticks(rotation=45)\n",
    "        plt.tight_layout()\n",
    "        plt.show()\n",
    "\n",
    "# Example usage: create visualizations grouped by 'params.model_type'\n",
    "create_visualizations('params.model_type')\n"
   ]
  },
  {
   "cell_type": "code",
   "execution_count": null,
   "metadata": {},
   "outputs": [],
   "source": [
    "# Function to create box plots for each params.oxide\n",
    "def create_box_plots(df):\n",
    "    grouped = df.groupby('params.oxide')\n",
    "    \n",
    "    for oxide, group in grouped:\n",
    "        plt.figure(figsize=(16, 24))  # Increased width from 16 to 24\n",
    "        plt.suptitle(f'Distribution of RMSE for {oxide}', fontsize=16)\n",
    "\n",
    "        # Box plot for params.model_type\n",
    "        plt.subplot(4, 2, 1)\n",
    "        sns.boxplot(x='params.model_type', y='metrics.rmse_cv', data=group)\n",
    "        plt.title('Model Type')\n",
    "        plt.xticks(rotation=45)\n",
    "        \n",
    "        plt.subplot(4, 2, 2)\n",
    "        plt.axis('off')\n",
    "        model_type_stats = group.groupby('params.model_type')['metrics.rmse_cv'].describe().reset_index()[['params.model_type', 'mean', 'std', 'min', 'max']]\n",
    "        model_type_stats = model_type_stats.round(2)\n",
    "        plt.table(cellText=model_type_stats.values, colLabels=model_type_stats.columns, cellLoc='center', loc='center')\n",
    "        \n",
    "        # Box plot for params.transformer_type\n",
    "        plt.subplot(4, 2, 3)\n",
    "        sns.boxplot(x='params.transformer_type', y='metrics.rmse_cv', data=group)\n",
    "        plt.title('Transformer Type')\n",
    "        plt.xticks(rotation=45)\n",
    "        \n",
    "        plt.subplot(4, 2, 4)\n",
    "        plt.axis('off')\n",
    "        transformer_type_stats = group.groupby('params.transformer_type')['metrics.rmse_cv'].describe().reset_index()[['params.transformer_type', 'mean', 'std', 'min', 'max']]\n",
    "        transformer_type_stats = transformer_type_stats.round(2)\n",
    "        plt.table(cellText=transformer_type_stats.values, colLabels=transformer_type_stats.columns, cellLoc='center', loc='center')\n",
    "\n",
    "        # Box plot for params.pca_type\n",
    "        plt.subplot(4, 2, 5)\n",
    "        sns.boxplot(x='params.pca_type', y='metrics.rmse_cv', data=group)\n",
    "        plt.title('PCA Type')\n",
    "        plt.xticks(rotation=45)\n",
    "        \n",
    "        plt.subplot(4, 2, 6)\n",
    "        plt.axis('off')\n",
    "        pca_type_stats = group.groupby('params.pca_type')['metrics.rmse_cv'].describe().reset_index()[['params.pca_type', 'mean', 'std', 'min', 'max']]\n",
    "        pca_type_stats = pca_type_stats.round(2)\n",
    "        plt.table(cellText=pca_type_stats.values, colLabels=pca_type_stats.columns, cellLoc='center', loc='center')\n",
    "\n",
    "        # Box plot for params.scaler_type\n",
    "        plt.subplot(4, 2, 7)\n",
    "        sns.boxplot(x='params.scaler_type', y='metrics.rmse_cv', data=group)\n",
    "        plt.title('Scaler Type')\n",
    "        plt.xticks(rotation=45)\n",
    "        \n",
    "        plt.subplot(4, 2, 8)\n",
    "        plt.axis('off')\n",
    "        scaler_type_stats = group.groupby('params.scaler_type')['metrics.rmse_cv'].describe().reset_index()[['params.scaler_type', 'mean', 'std', 'min', 'max']]\n",
    "        scaler_type_stats = scaler_type_stats.round(2)\n",
    "        plt.table(cellText=scaler_type_stats.values, colLabels=scaler_type_stats.columns, cellLoc='center', loc='center')\n",
    "        \n",
    "        plt.tight_layout(rect=[0, 0.03, 1, 0.95], w_pad=0, h_pad=0)\n",
    "        plt.show()\n",
    "\n",
    "# Create box plots\n",
    "create_box_plots(runs_filtered)"
   ]
  },
  {
   "cell_type": "code",
   "execution_count": null,
   "metadata": {},
   "outputs": [],
   "source": [
    "import pandas as pd\n",
    "import scipy.stats as stats\n",
    "\n",
    "# Function to perform Kruskal-Wallis H test\n",
    "def analyze_correlations(df):\n",
    "    results = []\n",
    "    \n",
    "    # Group by params.oxide\n",
    "    grouped = df.groupby('params.oxide')\n",
    "    \n",
    "    for oxide, group in grouped:\n",
    "        kw_results = {}\n",
    "        for param in ['params.model_type', 'params.transformer_type', 'params.pca_type', 'params.scaler_type']:\n",
    "            groups = [group['metrics.rmse_cv'][group[param] == level].values for level in group[param].unique()]\n",
    "            if len(groups) > 1:  # Kruskal-Wallis test requires at least 2 groups\n",
    "                stat, p_value = stats.kruskal(*groups)\n",
    "                kw_results[param] = p_value\n",
    "        \n",
    "        # Identify the configuration with the lowest p-value\n",
    "        best_param = min(kw_results, key=kw_results.get)\n",
    "        results.append({\n",
    "            'oxide': oxide,\n",
    "            'best_param': best_param,\n",
    "            'p_value': kw_results[best_param]\n",
    "        })\n",
    "    \n",
    "    return pd.DataFrame(results)\n",
    "\n",
    "# Load your data into df\n",
    "# df = pd.read_csv('your_dataset.csv')\n",
    "\n",
    "# Run the analysis\n",
    "results_df = analyze_correlations(runs_filtered)\n"
   ]
  },
  {
   "cell_type": "code",
   "execution_count": null,
   "metadata": {},
   "outputs": [],
   "source": [
    "results_df"
   ]
  },
  {
   "cell_type": "code",
   "execution_count": null,
   "metadata": {},
   "outputs": [],
   "source": [
    "out = runs.groupby(['params.transformer_type', 'params.model_type', 'params.oxide']).size().reset_index(name='count')\n",
    "pivot_table = out.pivot(index='params.oxide', columns=['params.transformer_type', 'params.model_type'], values='count')\n",
    "\n",
    "# Add a total count for each transformer_type and oxide\n",
    "out_total = runs.groupby(['params.transformer_type', 'params.oxide']).size().reset_index(name='total_count')\n",
    "for transformer_type in out['params.transformer_type'].unique():\n",
    "    pivot_table[(transformer_type, 'total_count')] = out_total[out_total['params.transformer_type'] == transformer_type].set_index('params.oxide')['total_count']\n",
    "\n",
    "pivot_table"
   ]
  },
  {
   "cell_type": "code",
   "execution_count": null,
   "metadata": {},
   "outputs": [],
   "source": [
    "# Define a threshold to filter out the extremely high RMSE values as outliers\n",
    "threshold = 15\n",
    "\n",
    "# Filter out rows with NaN values in 'params.transformer_type' and 'params.model_type'\n",
    "filtered_data = runs.dropna(subset=['params.transformer_type', 'params.model_type'])\n",
    "\n",
    "# Filter the data to remove outliers\n",
    "filtered_data = filtered_data[filtered_data['metrics.rmse_cv'] < threshold]\n",
    "\n",
    "# Calculate the mean RMSE for each combination of transformer type, model type, and oxide using 'metrics.rmse_cv'\n",
    "mean_rmse_cv = filtered_data.groupby(['params.transformer_type', 'params.model_type', 'params.oxide'])['metrics.rmse_cv'].mean().reset_index()\n",
    "\n",
    "# Calculate the overall mean RMSE for each combination of transformer type and model type using 'metrics.rmse_cv'\n",
    "overall_mean_rmse_cv = filtered_data.groupby(['params.transformer_type', 'params.model_type'])['metrics.rmse_cv'].mean().reset_index()\n",
    "\n",
    "mean_rmse_cv\n"
   ]
  },
  {
   "cell_type": "code",
   "execution_count": null,
   "metadata": {},
   "outputs": [],
   "source": [
    "overall_mean_rmse_cv"
   ]
  },
  {
   "cell_type": "code",
   "execution_count": null,
   "metadata": {},
   "outputs": [],
   "source": [
    "overall_mean_rmse_cv.groupby(['params.transformer_type'])['metrics.rmse_cv'].mean().reset_index()"
   ]
  },
  {
   "cell_type": "code",
   "execution_count": null,
   "metadata": {},
   "outputs": [],
   "source": [
    "import seaborn as sns\n",
    "import matplotlib.pyplot as plt\n",
    "\n",
    "# Group and pivot the data\n",
    "teste = mean_rmse_cv.groupby(['params.transformer_type', 'params.oxide'])['metrics.rmse_cv'].mean().reset_index()\n",
    "pivot_table = teste.pivot(index='params.oxide', columns='params.transformer_type', values='metrics.rmse_cv')\n",
    "pivot_table"
   ]
  },
  {
   "cell_type": "code",
   "execution_count": null,
   "metadata": {},
   "outputs": [],
   "source": [
    "# Normalize the data by row\n",
    "pivot_table_normalized = pivot_table.div(pivot_table.max(axis=1), axis=0)\n",
    "\n",
    "# Plot the heatmap with a more visually comfortable color palette\n",
    "plt.figure(figsize=(10, 8))\n",
    "sns.heatmap(pivot_table_normalized, annot=pivot_table, cmap='coolwarm', cbar_kws={'label': 'Relative Mean RMSE CV'})\n",
    "plt.title('Heatmap of Mean RMSE CV by Transformer Type and Oxide (Row Normalized)')\n",
    "plt.xlabel('Transformer Type')\n",
    "plt.ylabel('Oxide')\n",
    "plt.show()\n"
   ]
  },
  {
   "cell_type": "code",
   "execution_count": null,
   "metadata": {},
   "outputs": [],
   "source": [
    "import matplotlib.pyplot as plt\n",
    "import seaborn as sns\n",
    "\n",
    "# Create a boxplot for overall RMSE CV by transformer type and model type for each oxide\n",
    "oxides = filtered_data['params.oxide'].unique()\n",
    "\n",
    "for oxide in oxides:\n",
    "    plt.figure(figsize=(12, 8))\n",
    "    sns.boxplot(x='params.transformer_type', y='metrics.rmse_cv', hue='params.model_type', data=filtered_data[filtered_data['params.oxide'] == oxide])\n",
    "    plt.title(f'RMSE CV by Transformer Type and Model Type for {oxide}')\n",
    "    plt.xlabel('Transformer Type')\n",
    "    plt.ylabel('RMSE CV')\n",
    "    plt.legend(title='Model Type')\n",
    "    plt.show()\n"
   ]
  },
  {
   "cell_type": "code",
   "execution_count": null,
   "metadata": {},
   "outputs": [],
   "source": [
    "\n",
    "import matplotlib.pyplot as plt\n",
    "import seaborn as sns\n",
    "\n",
    "# Plot settings\n",
    "plt.figure(figsize=(12, 8))\n",
    "\n",
    "# Create a violin plot for overall RMSE CV by transformer type and model type\n",
    "sns.violinplot(x='params.transformer_type', y='metrics.rmse_cv', hue='params.model_type', data=filtered_data, split=True)\n",
    "\n",
    "# Title and labels\n",
    "plt.title('RMSE CV by Transformer Type and Model Type')\n",
    "plt.xlabel('Transformer Type')\n",
    "plt.ylabel('RMSE CV')\n",
    "\n",
    "# Show the plot\n",
    "plt.legend(title='Model Type')\n",
    "plt.show()\n",
    "\n"
   ]
  }
 ],
 "metadata": {
  "kernelspec": {
   "display_name": "venv",
   "language": "python",
   "name": "python3"
  },
  "language_info": {
   "codemirror_mode": {
    "name": "ipython",
    "version": 3
   },
   "file_extension": ".py",
   "mimetype": "text/x-python",
   "name": "python",
   "nbconvert_exporter": "python",
   "pygments_lexer": "ipython3",
   "version": "3.12.2"
  }
 },
 "nbformat": 4,
 "nbformat_minor": 2
}

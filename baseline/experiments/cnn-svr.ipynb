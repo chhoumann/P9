{
	"cells": [
		{
			"cell_type": "code",
			"execution_count": null,
			"metadata": {},
			"outputs": [],
			"source": [
				"%load_ext autoreload\n",
				"%autoreload 2"
			]
		},
		{
			"cell_type": "code",
			"execution_count": null,
			"metadata": {},
			"outputs": [],
			"source": [
				"from lib.reproduction import major_oxides\n",
				"from sklearn.metrics import mean_squared_error\n",
				"from lib import full_flow_dataloader\n",
				"from sklearn.svm import SVR\n",
				"from tensorflow.keras.models import Model\n",
				"from tensorflow.keras.layers import Input, Add, BatchNormalization, Conv1D, MaxPooling1D, Flatten, Dropout, Dense\n",
				"\n",
				"import datetime\n",
				"import mlflow\n",
				"import numpy as np"
			]
		},
		{
			"cell_type": "code",
			"execution_count": null,
			"metadata": {},
			"outputs": [],
			"source": [
				"train_processed, test_processed = full_flow_dataloader.load_full_flow_data(load_cache_if_exits=False, average_shots=True)"
			]
		},
		{
			"cell_type": "code",
			"execution_count": null,
			"metadata": {},
			"outputs": [],
			"source": [
				"drop_cols = major_oxides + [\"ID\", \"Sample Name\"]\n",
				"\n",
				"X_train = train_processed.drop(columns=drop_cols)\n",
				"y_train = train_processed[major_oxides]\n",
				"\n",
				"X_test = test_processed.drop(columns=drop_cols)\n",
				"y_test = test_processed[major_oxides]\n",
				"\n",
				"X_train_reshaped = X_train.to_numpy().reshape(1538, 6144, 1)\n",
				"X_test_reshaped = X_test.to_numpy().reshape(390, 6144, 1)"
			]
		},
		{
			"cell_type": "code",
			"execution_count": null,
			"metadata": {},
			"outputs": [],
			"source": [
				"inputs = Input(shape=(6144, 1))\n",
				"x = BatchNormalization()(inputs)\n",
				"\n",
				"x1 = Conv1D(filters=64, kernel_size=5, strides=1, padding='same', activation='relu')(x)\n",
				"x1 = Conv1D(filters=64, kernel_size=5, strides=1, padding='same', activation='relu')(inputs)\n",
				"x1 = MaxPooling1D(pool_size=2)(x1)\n",
				"\n",
				"x2 = Conv1D(filters=64, kernel_size=5, strides=1, padding='same', activation='relu')(x1)\n",
				"x2 = MaxPooling1D(pool_size=2)(x2)\n",
				"\n",
				"residual1 = Conv1D(filters=64, kernel_size=5, strides=8, padding='same', activation='relu')(x)\n",
				"\n",
				"x3 = Conv1D(filters=64, kernel_size=5, strides=1, padding='same', activation='relu')(x2)\n",
				"x3 = MaxPooling1D(pool_size=2)(x3)\n",
				"x3 = Add()([x3, residual1])\n",
				"\n",
				"x4 = Conv1D(filters=256, kernel_size=5, strides=1, padding='same', activation='relu')(x3)\n",
				"x4 = MaxPooling1D(pool_size=2)(x4)\n",
				"\n",
				"x5 = Conv1D(filters=256, kernel_size=5, strides=1, padding='same', activation='relu')(x4)\n",
				"\n",
				"residual2 = Conv1D(filters=512, kernel_size=5, strides=1, padding='same', activation='relu')(x4)\n",
				"\n",
				"x6 = Conv1D(filters=512, kernel_size=5, strides=1, padding='same', activation='relu')(x5)\n",
				"x6 = Add()([x6, residual2])\n",
				"\n",
				"x7 = Flatten()(x6)\n",
				"x7 = Dropout(0.3)(x7)\n",
				"x7 = Dense(512, activation='relu')(x7)\n",
				"\n",
				"feature_extractor = Model(inputs=inputs, outputs=x7)\n",
				"\n",
				"X_train_features = feature_extractor.predict(X_train_reshaped)\n",
				"X_test_features = feature_extractor.predict(X_test_reshaped)"
			]
		},
		{
			"cell_type": "code",
			"execution_count": null,
			"metadata": {},
			"outputs": [],
			"source": [
				"kernel=\"poly\"\n",
				"C=100\n",
				"eps=0.1\n",
				"gamma=\"scale\"\n",
				"degree=2\n",
				"coef0=1.0\n",
				"\n",
				"mlflow.set_experiment(f'CNN-SVM_{kernel}_{datetime.datetime.now().strftime(\"%Y%m%d-%H%M%S\")}')\n",
				"\n",
				"# Adjustments for using features with SVR\n",
				"for target in y_train.columns:\n",
				"    with mlflow.start_run(run_name=f\"CNN_SVR_{target}\"):\n",
				"        # Initialize the SVR model with the chosen hyperparameters\n",
				"        svm_reg = SVR(kernel=kernel, C=C, epsilon=eps, coef0=coef0, gamma=gamma)\n",
				"\n",
				"        # Fit the SVR model using the extracted features instead of the raw data\n",
				"        svm_reg.fit(X_train_features, y_train[target])\n",
				"\n",
				"        # Predict with SVR using features extracted from the test set\n",
				"        y_pred = svm_reg.predict(X_test_features)\n",
				"\n",
				"        # Compute and log RMSE\n",
				"        rmse = np.sqrt(mean_squared_error(y_test[target], y_pred))\n",
				"\n",
				"        mlflow.log_metric(\"rmse\", float(rmse))\n",
				"        mlflow.log_param(\"target\", target)\n",
				"        mlflow.log_param(\"kernel\", kernel)\n",
				"        mlflow.log_param(\"degree\", degree)\n",
				"        mlflow.log_param(\"coef0\", coef0)\n",
				"        mlflow.log_param(\"C\", C)\n",
				"        mlflow.log_param(\"epsilon\", eps)\n",
				"        mlflow.log_param(\"gamma\", gamma)\n",
				"\n",
				"        print(f\"RMSE for {target}: {rmse}\")\n"
			]
		}
	],
	"metadata": {
		"kernelspec": {
			"display_name": "venv",
			"language": "python",
			"name": "python3"
		},
		"language_info": {
			"codemirror_mode": {
				"name": "ipython",
				"version": 3
			},
			"file_extension": ".py",
			"mimetype": "text/x-python",
			"name": "python",
			"nbconvert_exporter": "python",
			"pygments_lexer": "ipython3",
			"version": "3.12.2"
		}
	},
	"nbformat": 4,
	"nbformat_minor": 2
}

{
 "cells": [
  {
   "cell_type": "code",
   "execution_count": null,
   "metadata": {},
   "outputs": [],
   "source": [
    "%load_ext autoreload\n",
    "%autoreload 2"
   ]
  },
  {
   "cell_type": "code",
   "execution_count": null,
   "metadata": {},
   "outputs": [],
   "source": [
    "from lib.reproduction import major_oxides\n",
    "from sklearn.metrics import mean_squared_error\n",
    "from lib import full_flow_dataloader\n",
    "import mlflow\n",
    "import numpy as np\n",
    "import datetime\n",
    "import os\n",
    "os.environ[\"KERAS_BACKEND\"] = \"torch\"\n",
    "\n",
    "import torch\n",
    "import keras\n"
   ]
  },
  {
   "cell_type": "code",
   "execution_count": null,
   "metadata": {},
   "outputs": [],
   "source": [
    "print(keras.__version__)"
   ]
  },
  {
   "cell_type": "code",
   "execution_count": null,
   "metadata": {},
   "outputs": [],
   "source": [
    "import torch.nn as nn\n",
    "import torch.optim as optim\n",
    "\n",
    "# Check if GPU is available and set the device accordingly\n",
    "device = torch.device(\"cuda\" if torch.cuda.is_available() else \"cpu\")\n",
    "print(f\"Using device: {device}\")"
   ]
  },
  {
   "cell_type": "code",
   "execution_count": null,
   "metadata": {},
   "outputs": [],
   "source": [
    "train_processed, test_processed = full_flow_dataloader.load_full_flow_data(load_cache_if_exits=True, average_shots=True)"
   ]
  },
  {
   "cell_type": "code",
   "execution_count": null,
   "metadata": {},
   "outputs": [],
   "source": [
    "from keras.layers import Input, BatchNormalization, Conv1D, MaxPooling1D, Add, Flatten, Dropout, Dense\n",
    "from keras.models import Model\n",
    "\n",
    "inputs = Input(shape=(6144, 1))\n",
    "x = BatchNormalization()(inputs)\n",
    "\n",
    "x1 = Conv1D(filters=64, kernel_size=5, strides=1, padding='same', activation='relu')(x)\n",
    "x1 = MaxPooling1D(pool_size=2)(x1)\n",
    "\n",
    "x2 = Conv1D(filters=64, kernel_size=5, strides=1, padding='same', activation='relu')(x1)\n",
    "x2 = MaxPooling1D(pool_size=2)(x2)\n",
    "\n",
    "residual1 = Conv1D(filters=64, kernel_size=5, strides=8, padding='same', activation='relu')(x)  # Adjust strides/kernel_size to match dimensions\n",
    "\n",
    "x3 = Conv1D(filters=64, kernel_size=5, strides=1, padding='same', activation='relu')(x2)\n",
    "x3 = MaxPooling1D(pool_size=2)(x3)\n",
    "x3 = Add()([x3, residual1])\n",
    "\n",
    "x4 = Conv1D(filters=256, kernel_size=5, strides=1, padding='same', activation='relu')(x3)\n",
    "x4 = MaxPooling1D(pool_size=2)(x4)\n",
    "\n",
    "x5 = Conv1D(filters=256, kernel_size=5, strides=1, padding='same', activation='relu')(x4)\n",
    "\n",
    "residual2 = Conv1D(filters=512, kernel_size=5, strides=1, padding='same', activation='relu')(x4)  # Adjust strides/kernel_size to match dimensions\n",
    "\n",
    "x6 = Conv1D(filters=512, kernel_size=5, strides=1, padding='same', activation='relu')(x5)\n",
    "x6 = Add()([x6, residual2])\n",
    "\n",
    "x7 = Flatten()(x6)\n",
    "x7 = Dropout(0.3)(x7)\n",
    "x7 = Dense(512, activation='relu')(x7)\n",
    "\n",
    "output = Dense(8, activation='linear')(x7)  \n",
    "model = keras.Model(inputs=inputs, outputs=output)"
   ]
  },
  {
   "cell_type": "code",
   "execution_count": null,
   "metadata": {},
   "outputs": [],
   "source": [
    "model.compile(optimizer='adam', loss='mean_squared_error', metrics=['mean_absolute_error'])"
   ]
  },
  {
   "cell_type": "code",
   "execution_count": null,
   "metadata": {},
   "outputs": [],
   "source": [
    "drop_cols = major_oxides + [\"ID\", \"Sample Name\"]\n",
    "\n",
    "X_train = train_processed.drop(columns=drop_cols)\n",
    "y_train = train_processed[major_oxides]\n",
    "\n",
    "X_test = test_processed.drop(columns=drop_cols)\n",
    "y_test = test_processed[major_oxides]"
   ]
  },
  {
   "cell_type": "code",
   "execution_count": null,
   "metadata": {},
   "outputs": [],
   "source": [
    "X_train_reshaped = X_train.to_numpy().reshape(-1, 6144, 1)\n",
    "X_test_reshaped = X_test.to_numpy().reshape(-1, 6144, 1)"
   ]
  },
  {
   "cell_type": "code",
   "execution_count": null,
   "metadata": {},
   "outputs": [],
   "source": [
    "def run_cnn_experiment(\n",
    "    X_train: np.ndarray,\n",
    "    y_train: np.ndarray,\n",
    "    X_test: np.ndarray,\n",
    "    y_test: np.ndarray,\n",
    "    model: Model,\n",
    "    epochs: int,\n",
    "    batch_size: int,\n",
    "    callbacks: list = [],\n",
    "    major_oxides: list = [],\n",
    "):\n",
    "    with mlflow.start_run(run_name=\"CNN\"):\n",
    "        model.fit(X_train, y_train, epochs=epochs, batch_size=batch_size, validation_split=0.1, callbacks=callbacks)\n",
    "        y_pred = model.predict(X_test)\n",
    "        for i, oxide in enumerate(major_oxides):\n",
    "            y_test_oxide = y_test[:, i]\n",
    "            y_pred_oxide = y_pred[:, i]\n",
    "            rmse = mean_squared_error(y_test_oxide, y_pred_oxide, squared=False)\n",
    "            mlflow.log_metric(f\"rmse_{oxide}\", float(rmse))"
   ]
  },
  {
   "cell_type": "code",
   "execution_count": null,
   "metadata": {},
   "outputs": [],
   "source": [
    "callback = keras.callbacks.EarlyStopping(monitor=\"val_loss\", patience=6, restore_best_weights=True)\n",
    "class MLFlowCallback(keras.callbacks.Callback):\n",
    "    def on_epoch_end(self, epoch, logs=None):\n",
    "        if logs is not None:\n",
    "            for key, value in logs.items():\n",
    "                mlflow.log_metric(f\"{key}\", value, step=epoch)\n",
    "\n",
    "\n",
    "mlflow.set_experiment(f'CNN_Residual_{datetime.datetime.now().strftime(\"%Y%m%d-%H%M%S\")}')\n",
    "run_cnn_experiment(\n",
    "    X_train_reshaped,\n",
    "    y_train.to_numpy(),\n",
    "    X_test_reshaped,\n",
    "    y_test.to_numpy(),\n",
    "    model,\n",
    "    epochs=1000,\n",
    "    batch_size=32,\n",
    "    callbacks=[MLFlowCallback(), callback],\n",
    "    major_oxides=major_oxides,\n",
    ")\n",
    "\n"
   ]
  }
 ],
 "metadata": {
  "kernelspec": {
   "display_name": "venv",
   "language": "python",
   "name": "python3"
  },
  "language_info": {
   "codemirror_mode": {
    "name": "ipython",
    "version": 3
   },
   "file_extension": ".py",
   "mimetype": "text/x-python",
   "name": "python",
   "nbconvert_exporter": "python",
   "pygments_lexer": "ipython3",
   "version": "3.12.2"
  }
 },
 "nbformat": 4,
 "nbformat_minor": 2
}

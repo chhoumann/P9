{
 "cells": [
  {
   "cell_type": "code",
   "execution_count": null,
   "metadata": {},
   "outputs": [],
   "source": [
    "%load_ext autoreload\n",
    "%autoreload 2"
   ]
  },
  {
   "cell_type": "code",
   "execution_count": null,
   "metadata": {},
   "outputs": [],
   "source": [
    "from lib.reproduction import major_oxides\n",
    "from sklearn.metrics import mean_squared_error\n",
    "from lib import full_flow_dataloader\n",
    "from tensorflow.keras.models import Model\n",
    "from tensorflow.keras.layers import Input, Add, BatchNormalization, Conv1D, MaxPooling1D, Flatten, Dropout, Dense \n",
    "\n",
    "import tensorflow as tf\n",
    "\n",
    "from lib.norms import Norm1Scaler, Norm3Scaler"
   ]
  },
  {
   "cell_type": "code",
   "execution_count": null,
   "metadata": {},
   "outputs": [],
   "source": [
    "train_processed, test_processed = full_flow_dataloader.load_full_flow_data(load_cache_if_exits=False, average_shots=True)"
   ]
  },
  {
   "cell_type": "code",
   "execution_count": null,
   "metadata": {},
   "outputs": [],
   "source": [
    "train_processed"
   ]
  },
  {
   "cell_type": "code",
   "execution_count": null,
   "metadata": {},
   "outputs": [],
   "source": [
    "inputs = Input(shape=(6144, 1))\n",
    "x = BatchNormalization()(inputs)\n",
    "\n",
    "x1 = Conv1D(filters=64, kernel_size=5, strides=1, padding='same', activation='relu')(x)\n",
    "x1 = MaxPooling1D(pool_size=2)(x1)\n",
    "\n",
    "x2 = Conv1D(filters=64, kernel_size=5, strides=1, padding='same', activation='relu')(x1)\n",
    "x2 = MaxPooling1D(pool_size=2)(x2)\n",
    "\n",
    "residual1 = Conv1D(filters=64, kernel_size=5, strides=8, padding='same', activation='relu')(x)  # Adjust strides/kernel_size to match dimensions\n",
    "\n",
    "x3 = Conv1D(filters=64, kernel_size=5, strides=1, padding='same', activation='relu')(x2)\n",
    "x3 = MaxPooling1D(pool_size=2)(x3)\n",
    "x3 = Add()([x3, residual1])\n",
    "\n",
    "x4 = Conv1D(filters=256, kernel_size=5, strides=1, padding='same', activation='relu')(x3)\n",
    "x4 = MaxPooling1D(pool_size=2)(x4)\n",
    "\n",
    "x5 = Conv1D(filters=256, kernel_size=5, strides=1, padding='same', activation='relu')(x4)\n",
    "\n",
    "residual2 = Conv1D(filters=512, kernel_size=5, strides=1, padding='same', activation='relu')(x4)  # Adjust strides/kernel_size to match dimensions\n",
    "\n",
    "x6 = Conv1D(filters=512, kernel_size=5, strides=1, padding='same', activation='relu')(x5)\n",
    "print(x6.shape)\n",
    "print(residual2.shape)\n",
    "\n",
    "x6 = Add()([x6, residual2])\n",
    "\n",
    "x7 = Flatten()(x6)\n",
    "x7 = Dropout(0.3)(x7)\n",
    "x7 = Dense(512, activation='relu')(x7)\n",
    "\n",
    "output = Dense(8, activation='linear')(x7)  \n",
    "model = Model(inputs=inputs, outputs=output)"
   ]
  },
  {
   "cell_type": "code",
   "execution_count": null,
   "metadata": {},
   "outputs": [],
   "source": [
    "tf.random.set_seed(42)"
   ]
  },
  {
   "cell_type": "code",
   "execution_count": null,
   "metadata": {},
   "outputs": [],
   "source": [
    "model.compile(optimizer='adam', loss='mean_squared_error', metrics=['mean_absolute_error'])"
   ]
  },
  {
   "cell_type": "code",
   "execution_count": null,
   "metadata": {},
   "outputs": [],
   "source": [
    "drop_cols = major_oxides + [\"ID\", \"Sample Name\"]\n",
    "\n",
    "X_train = train_processed.drop(columns=drop_cols)\n",
    "y_train = train_processed[major_oxides]\n",
    "\n",
    "X_test = test_processed.drop(columns=drop_cols)\n",
    "y_test = test_processed[major_oxides]"
   ]
  },
  {
   "cell_type": "code",
   "execution_count": null,
   "metadata": {},
   "outputs": [],
   "source": [
    "#print(X_train.shape)\n",
    "X_train_reshaped = X_train.to_numpy().reshape(1538, 6144, 1)\n",
    "X_test_reshaped = X_test.to_numpy().reshape(390, 6144, 1)"
   ]
  },
  {
   "cell_type": "code",
   "execution_count": null,
   "metadata": {},
   "outputs": [],
   "source": [
    "import tensorflow as tf\n",
    "\n",
    "callback = tf.keras.callbacks.EarlyStopping(monitor='val_loss',\n",
    "                                              patience=6, restore_best_weights=True)\n",
    "\n",
    "history = model.fit(X_train_reshaped, y_train,\n",
    "                    epochs=1000,\n",
    "                    batch_size=256,\n",
    "                    validation_split=0.2, callbacks=[callback])"
   ]
  },
  {
   "cell_type": "code",
   "execution_count": null,
   "metadata": {},
   "outputs": [],
   "source": [
    "predictions = model.predict(X_test_reshaped)\n",
    "mse = mean_squared_error(y_test, predictions)"
   ]
  },
  {
   "cell_type": "code",
   "execution_count": null,
   "metadata": {},
   "outputs": [],
   "source": [
    "for i, oxide in enumerate(major_oxides):\n",
    "    y_test_oxide = y_test[oxide]\n",
    "    predictions_oxide = predictions[:, i]\n",
    "    rmse = mean_squared_error(y_test_oxide, predictions_oxide, squared=False)\n",
    "    print(f\"RMSE for {oxide}: {rmse}\")"
   ]
  }
 ],
 "metadata": {
  "kernelspec": {
   "display_name": "venv",
   "language": "python",
   "name": "python3"
  },
  "language_info": {
   "codemirror_mode": {
    "name": "ipython",
    "version": 3
   },
   "file_extension": ".py",
   "mimetype": "text/x-python",
   "name": "python",
   "nbconvert_exporter": "python",
   "pygments_lexer": "ipython3",
   "version": "3.10.11"
  }
 },
 "nbformat": 4,
 "nbformat_minor": 2
}

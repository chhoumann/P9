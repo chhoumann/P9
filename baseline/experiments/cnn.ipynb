{
 "cells": [
  {
   "cell_type": "code",
   "execution_count": null,
   "metadata": {},
   "outputs": [],
   "source": [
    "%load_ext autoreload\n",
    "%autoreload 2"
   ]
  },
  {
   "cell_type": "code",
   "execution_count": null,
   "metadata": {},
   "outputs": [],
   "source": [
    "from tensorflow.keras.models import Sequential\n",
    "from tensorflow.keras.layers import BatchNormalization, Conv1D, MaxPooling1D, Flatten, Dropout, Dense, Activation\n",
    "\n",
    "import tensorflow as tf"
   ]
  },
  {
   "cell_type": "code",
   "execution_count": null,
   "metadata": {},
   "outputs": [],
   "source": [
    "from lib.reproduction import major_oxides\n",
    "import pandas as pd\n",
    "from sklearn.metrics import mean_squared_error\n",
    "from lib import full_flow_dataloader\n",
    "\n",
    "from lib.norms import Norm1Scaler, Norm3Scaler\n",
    "\n",
    "train_processed, test_processed = full_flow_dataloader.load_full_flow_data(load_cache_if_exits=False, average_shots=True)\n"
   ]
  },
  {
   "cell_type": "code",
   "execution_count": null,
   "metadata": {},
   "outputs": [],
   "source": [
    "train_processed"
   ]
  },
  {
   "cell_type": "code",
   "execution_count": null,
   "metadata": {},
   "outputs": [],
   "source": [
    "model = Sequential([\n",
    "    # Batch normalization layer, adjusted for Conv1D\n",
    "    BatchNormalization(input_shape=(6144, 1)),\n",
    "\n",
    "    # First Conv1D Layer\n",
    "    Conv1D(filters=8, kernel_size=5, strides=2, activation='relu', kernel_regularizer=0.001),\n",
    "    MaxPooling1D(pool_size=2),\n",
    "    \n",
    "    # Second Conv1D Layer\n",
    "    Conv1D(filters=16, kernel_size=5, strides=2, activation='relu', kernel_regularizer=0.001),\n",
    "    MaxPooling1D(pool_size=2),\n",
    "\n",
    "    # Additional Conv1D Layers as described\n",
    "    Conv1D(filters=32, kernel_size=5, strides=2, activation='relu', kernel_regularizer=0.001),\n",
    "    Conv1D(filters=64, kernel_size=5, strides=2, activation='relu', kernel_regularizer=0.001),\n",
    "    Conv1D(filters=128, kernel_size=5, strides=2, activation='relu', kernel_regularizer=0.001),\n",
    "\n",
    "    # Flatten Layer to transition from convolutional layers to dense layers\n",
    "    Flatten(),\n",
    "\n",
    "    # Dropout Layer for regularization\n",
    "    Dropout(0.5),\n",
    "\n",
    "    # Dense Layers\n",
    "    Dense(128, activation='relu'),\n",
    "    Dense(64, activation='relu'),\n",
    "    Dense(32, activation='relu'),\n",
    "    Dense(16, activation='relu'),\n",
    "\n",
    "    # Output Layer for regression\n",
    "    Dense(8, activation='linear')  # Assuming you're predicting 8 continuous target variables\n",
    "])\n",
    "model.summary()"
   ]
  },
  {
   "cell_type": "code",
   "execution_count": null,
   "metadata": {},
   "outputs": [],
   "source": [
    "tf.random.set_seed(42)"
   ]
  },
  {
   "cell_type": "code",
   "execution_count": null,
   "metadata": {},
   "outputs": [],
   "source": [
    "model.compile(optimizer='adam', loss='mean_squared_error', metrics=['mean_absolute_error'])"
   ]
  },
  {
   "cell_type": "code",
   "execution_count": null,
   "metadata": {},
   "outputs": [],
   "source": [
    "drop_cols = major_oxides + [\"ID\", \"Sample Name\"]\n",
    "\n",
    "X_train = train_processed.drop(columns=drop_cols)\n",
    "y_train = train_processed[major_oxides]\n",
    "\n",
    "X_test = test_processed.drop(columns=drop_cols)\n",
    "y_test = test_processed[major_oxides]\n",
    "\n",
    "#X_train = train_processed.reshape((-1, 1538, 6154, 1))"
   ]
  },
  {
   "cell_type": "code",
   "execution_count": null,
   "metadata": {},
   "outputs": [],
   "source": [
    "#print(X_train.shape)\n",
    "X_train_reshaped = X_train.to_numpy().reshape(-1, 6144, 1)\n",
    "X_test_reshaped = X_test.to_numpy().reshape(-1, 6144, 1)"
   ]
  },
  {
   "cell_type": "code",
   "execution_count": null,
   "metadata": {},
   "outputs": [],
   "source": [
    "#import tensforflow as tf\n",
    "import tensorflow as tf\n",
    "\n",
    "callback = tf.keras.callbacks.EarlyStopping(monitor='val_loss',\n",
    "                                              patience=6, restore_best_weights=True)\n",
    "\n",
    "history = model.fit(X_train_reshaped, y_train,\n",
    "                    epochs=1000,\n",
    "                    batch_size=10,\n",
    "                    validation_split=0.2, callbacks=[callback])"
   ]
  },
  {
   "cell_type": "code",
   "execution_count": null,
   "metadata": {},
   "outputs": [],
   "source": [
    "predictions = model.predict(X_test_reshaped)\n",
    "mse = mean_squared_error(y_test, predictions)"
   ]
  },
  {
   "cell_type": "code",
   "execution_count": null,
   "metadata": {},
   "outputs": [],
   "source": [
    "for i, oxide in enumerate(major_oxides):\n",
    "    # make predictions for each oxide in major_oxides and y_test\n",
    "    y_test_oxide = y_test[oxide]\n",
    "    predictions_oxide = predictions[:, i]\n",
    "    rmse = mean_squared_error(y_test_oxide, predictions_oxide, squared=False)\n",
    "    # make predictions for each oxide in major_oxides and y_test\n",
    "    #print rmse for each oxide\n",
    "    print(f\"RMSE for {oxide}: {rmse}\")"
   ]
  }
 ],
 "metadata": {
  "kernelspec": {
   "display_name": "venv",
   "language": "python",
   "name": "python3"
  },
  "language_info": {
   "codemirror_mode": {
    "name": "ipython",
    "version": 3
   },
   "file_extension": ".py",
   "mimetype": "text/x-python",
   "name": "python",
   "nbconvert_exporter": "python",
   "pygments_lexer": "ipython3",
   "version": "3.10.11"
  }
 },
 "nbformat": 4,
 "nbformat_minor": 2
}

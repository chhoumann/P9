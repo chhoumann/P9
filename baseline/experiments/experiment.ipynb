{
 "cells": [
  {
   "cell_type": "code",
   "execution_count": 109,
   "metadata": {},
   "outputs": [
    {
     "name": "stdout",
     "output_type": "stream",
     "text": [
      "The autoreload extension is already loaded. To reload it, use:\n",
      "  %reload_ext autoreload\n"
     ]
    }
   ],
   "source": [
    "%load_ext autoreload\n",
    "%autoreload 2"
   ]
  },
  {
   "cell_type": "code",
   "execution_count": 110,
   "metadata": {},
   "outputs": [],
   "source": [
    "from lib.reproduction import major_oxides\n",
    "from sklearn.metrics import mean_squared_error\n",
    "from lib import full_flow_dataloader\n",
    "import mlflow\n",
    "import numpy as np\n",
    "import datetime\n",
    "import os\n",
    "\n",
    "os.environ[\"KERAS_BACKEND\"] = \"torch\"\n",
    "\n",
    "import torch\n",
    "import keras\n",
    "import mlflow.keras\n",
    "\n",
    "\n",
    "torch.manual_seed(42)\n",
    "np.random.seed(42)"
   ]
  },
  {
   "cell_type": "code",
   "execution_count": 111,
   "metadata": {},
   "outputs": [
    {
     "name": "stdout",
     "output_type": "stream",
     "text": [
      "Using device: cuda\n"
     ]
    }
   ],
   "source": [
    "import torch.nn as nn\n",
    "import torch.optim as optim\n",
    "\n",
    "# Check if GPU is available and set the device accordingly\n",
    "device = torch.device(\"cuda\" if torch.cuda.is_available() else \"cpu\")\n",
    "print(f\"Using device: {device}\")"
   ]
  },
  {
   "cell_type": "code",
   "execution_count": 112,
   "metadata": {},
   "outputs": [],
   "source": [
    "train_processed, test_processed = full_flow_dataloader.load_full_flow_data(load_cache_if_exits=True, average_shots=True)"
   ]
  },
  {
   "cell_type": "code",
   "execution_count": 117,
   "metadata": {},
   "outputs": [],
   "source": [
    "import pandas as pd \n",
    "ica_X_train = pd.read_csv(\"/home/christian/projects/p9/baseline/data/_preformatted_ica/norm1/ica_data_edbf0b20b6488320823dbfdd75835e58.csv\")\n",
    "\n"
   ]
  },
  {
   "cell_type": "code",
   "execution_count": 119,
   "metadata": {},
   "outputs": [],
   "source": [
    "ICA_X_train_reshaped = ica_X_train.drop(columns=['Sample Name', 'ID']).to_numpy().reshape(-1, 6144, 1)"
   ]
  },
  {
   "cell_type": "code",
   "execution_count": 113,
   "metadata": {},
   "outputs": [
    {
     "data": {
      "text/html": [
       "<pre style=\"white-space:pre;overflow-x:auto;line-height:normal;font-family:Menlo,'DejaVu Sans Mono',consolas,'Courier New',monospace\"><span style=\"font-weight: bold\">Model: \"sequential_12\"</span>\n",
       "</pre>\n"
      ],
      "text/plain": [
       "\u001b[1mModel: \"sequential_12\"\u001b[0m\n"
      ]
     },
     "metadata": {},
     "output_type": "display_data"
    },
    {
     "data": {
      "text/html": [
       "<pre style=\"white-space:pre;overflow-x:auto;line-height:normal;font-family:Menlo,'DejaVu Sans Mono',consolas,'Courier New',monospace\">┏━━━━━━━━━━━━━━━━━━━━━━━━━━━━━━━━━┳━━━━━━━━━━━━━━━━━━━━━━━━┳━━━━━━━━━━━━━━━┓\n",
       "┃<span style=\"font-weight: bold\"> Layer (type)                    </span>┃<span style=\"font-weight: bold\"> Output Shape           </span>┃<span style=\"font-weight: bold\">       Param # </span>┃\n",
       "┡━━━━━━━━━━━━━━━━━━━━━━━━━━━━━━━━━╇━━━━━━━━━━━━━━━━━━━━━━━━╇━━━━━━━━━━━━━━━┩\n",
       "│ reshape_24 (<span style=\"color: #0087ff; text-decoration-color: #0087ff\">Reshape</span>)            │ (<span style=\"color: #00d7ff; text-decoration-color: #00d7ff\">None</span>, <span style=\"color: #00af00; text-decoration-color: #00af00\">2048</span>, <span style=\"color: #00af00; text-decoration-color: #00af00\">3</span>, <span style=\"color: #00af00; text-decoration-color: #00af00\">1</span>)     │             <span style=\"color: #00af00; text-decoration-color: #00af00\">0</span> │\n",
       "├─────────────────────────────────┼────────────────────────┼───────────────┤\n",
       "│ conv2d_57 (<span style=\"color: #0087ff; text-decoration-color: #0087ff\">Conv2D</span>)              │ (<span style=\"color: #00d7ff; text-decoration-color: #00d7ff\">None</span>, <span style=\"color: #00af00; text-decoration-color: #00af00\">2048</span>, <span style=\"color: #00af00; text-decoration-color: #00af00\">3</span>, <span style=\"color: #00af00; text-decoration-color: #00af00\">32</span>)    │           <span style=\"color: #00af00; text-decoration-color: #00af00\">320</span> │\n",
       "├─────────────────────────────────┼────────────────────────┼───────────────┤\n",
       "│ batch_normalization_44          │ (<span style=\"color: #00d7ff; text-decoration-color: #00d7ff\">None</span>, <span style=\"color: #00af00; text-decoration-color: #00af00\">2048</span>, <span style=\"color: #00af00; text-decoration-color: #00af00\">3</span>, <span style=\"color: #00af00; text-decoration-color: #00af00\">32</span>)    │           <span style=\"color: #00af00; text-decoration-color: #00af00\">128</span> │\n",
       "│ (<span style=\"color: #0087ff; text-decoration-color: #0087ff\">BatchNormalization</span>)            │                        │               │\n",
       "├─────────────────────────────────┼────────────────────────┼───────────────┤\n",
       "│ max_pooling2d_33 (<span style=\"color: #0087ff; text-decoration-color: #0087ff\">MaxPooling2D</span>) │ (<span style=\"color: #00d7ff; text-decoration-color: #00d7ff\">None</span>, <span style=\"color: #00af00; text-decoration-color: #00af00\">1024</span>, <span style=\"color: #00af00; text-decoration-color: #00af00\">1</span>, <span style=\"color: #00af00; text-decoration-color: #00af00\">32</span>)    │             <span style=\"color: #00af00; text-decoration-color: #00af00\">0</span> │\n",
       "├─────────────────────────────────┼────────────────────────┼───────────────┤\n",
       "│ conv2d_58 (<span style=\"color: #0087ff; text-decoration-color: #0087ff\">Conv2D</span>)              │ (<span style=\"color: #00d7ff; text-decoration-color: #00d7ff\">None</span>, <span style=\"color: #00af00; text-decoration-color: #00af00\">1024</span>, <span style=\"color: #00af00; text-decoration-color: #00af00\">1</span>, <span style=\"color: #00af00; text-decoration-color: #00af00\">32</span>)    │         <span style=\"color: #00af00; text-decoration-color: #00af00\">9,248</span> │\n",
       "├─────────────────────────────────┼────────────────────────┼───────────────┤\n",
       "│ batch_normalization_45          │ (<span style=\"color: #00d7ff; text-decoration-color: #00d7ff\">None</span>, <span style=\"color: #00af00; text-decoration-color: #00af00\">1024</span>, <span style=\"color: #00af00; text-decoration-color: #00af00\">1</span>, <span style=\"color: #00af00; text-decoration-color: #00af00\">32</span>)    │           <span style=\"color: #00af00; text-decoration-color: #00af00\">128</span> │\n",
       "│ (<span style=\"color: #0087ff; text-decoration-color: #0087ff\">BatchNormalization</span>)            │                        │               │\n",
       "├─────────────────────────────────┼────────────────────────┼───────────────┤\n",
       "│ conv2d_59 (<span style=\"color: #0087ff; text-decoration-color: #0087ff\">Conv2D</span>)              │ (<span style=\"color: #00d7ff; text-decoration-color: #00d7ff\">None</span>, <span style=\"color: #00af00; text-decoration-color: #00af00\">1024</span>, <span style=\"color: #00af00; text-decoration-color: #00af00\">1</span>, <span style=\"color: #00af00; text-decoration-color: #00af00\">64</span>)    │        <span style=\"color: #00af00; text-decoration-color: #00af00\">18,496</span> │\n",
       "├─────────────────────────────────┼────────────────────────┼───────────────┤\n",
       "│ batch_normalization_46          │ (<span style=\"color: #00d7ff; text-decoration-color: #00d7ff\">None</span>, <span style=\"color: #00af00; text-decoration-color: #00af00\">1024</span>, <span style=\"color: #00af00; text-decoration-color: #00af00\">1</span>, <span style=\"color: #00af00; text-decoration-color: #00af00\">64</span>)    │           <span style=\"color: #00af00; text-decoration-color: #00af00\">256</span> │\n",
       "│ (<span style=\"color: #0087ff; text-decoration-color: #0087ff\">BatchNormalization</span>)            │                        │               │\n",
       "├─────────────────────────────────┼────────────────────────┼───────────────┤\n",
       "│ conv2d_60 (<span style=\"color: #0087ff; text-decoration-color: #0087ff\">Conv2D</span>)              │ (<span style=\"color: #00d7ff; text-decoration-color: #00d7ff\">None</span>, <span style=\"color: #00af00; text-decoration-color: #00af00\">1024</span>, <span style=\"color: #00af00; text-decoration-color: #00af00\">1</span>, <span style=\"color: #00af00; text-decoration-color: #00af00\">128</span>)   │        <span style=\"color: #00af00; text-decoration-color: #00af00\">73,856</span> │\n",
       "├─────────────────────────────────┼────────────────────────┼───────────────┤\n",
       "│ batch_normalization_47          │ (<span style=\"color: #00d7ff; text-decoration-color: #00d7ff\">None</span>, <span style=\"color: #00af00; text-decoration-color: #00af00\">1024</span>, <span style=\"color: #00af00; text-decoration-color: #00af00\">1</span>, <span style=\"color: #00af00; text-decoration-color: #00af00\">128</span>)   │           <span style=\"color: #00af00; text-decoration-color: #00af00\">512</span> │\n",
       "│ (<span style=\"color: #0087ff; text-decoration-color: #0087ff\">BatchNormalization</span>)            │                        │               │\n",
       "├─────────────────────────────────┼────────────────────────┼───────────────┤\n",
       "│ flatten_12 (<span style=\"color: #0087ff; text-decoration-color: #0087ff\">Flatten</span>)            │ (<span style=\"color: #00d7ff; text-decoration-color: #00d7ff\">None</span>, <span style=\"color: #00af00; text-decoration-color: #00af00\">131072</span>)         │             <span style=\"color: #00af00; text-decoration-color: #00af00\">0</span> │\n",
       "├─────────────────────────────────┼────────────────────────┼───────────────┤\n",
       "│ dense_40 (<span style=\"color: #0087ff; text-decoration-color: #0087ff\">Dense</span>)                │ (<span style=\"color: #00d7ff; text-decoration-color: #00d7ff\">None</span>, <span style=\"color: #00af00; text-decoration-color: #00af00\">256</span>)            │    <span style=\"color: #00af00; text-decoration-color: #00af00\">33,554,688</span> │\n",
       "├─────────────────────────────────┼────────────────────────┼───────────────┤\n",
       "│ dropout_7 (<span style=\"color: #0087ff; text-decoration-color: #0087ff\">Dropout</span>)             │ (<span style=\"color: #00d7ff; text-decoration-color: #00d7ff\">None</span>, <span style=\"color: #00af00; text-decoration-color: #00af00\">256</span>)            │             <span style=\"color: #00af00; text-decoration-color: #00af00\">0</span> │\n",
       "├─────────────────────────────────┼────────────────────────┼───────────────┤\n",
       "│ dense_41 (<span style=\"color: #0087ff; text-decoration-color: #0087ff\">Dense</span>)                │ (<span style=\"color: #00d7ff; text-decoration-color: #00d7ff\">None</span>, <span style=\"color: #00af00; text-decoration-color: #00af00\">8</span>)              │         <span style=\"color: #00af00; text-decoration-color: #00af00\">2,056</span> │\n",
       "└─────────────────────────────────┴────────────────────────┴───────────────┘\n",
       "</pre>\n"
      ],
      "text/plain": [
       "┏━━━━━━━━━━━━━━━━━━━━━━━━━━━━━━━━━┳━━━━━━━━━━━━━━━━━━━━━━━━┳━━━━━━━━━━━━━━━┓\n",
       "┃\u001b[1m \u001b[0m\u001b[1mLayer (type)                   \u001b[0m\u001b[1m \u001b[0m┃\u001b[1m \u001b[0m\u001b[1mOutput Shape          \u001b[0m\u001b[1m \u001b[0m┃\u001b[1m \u001b[0m\u001b[1m      Param #\u001b[0m\u001b[1m \u001b[0m┃\n",
       "┡━━━━━━━━━━━━━━━━━━━━━━━━━━━━━━━━━╇━━━━━━━━━━━━━━━━━━━━━━━━╇━━━━━━━━━━━━━━━┩\n",
       "│ reshape_24 (\u001b[38;5;33mReshape\u001b[0m)            │ (\u001b[38;5;45mNone\u001b[0m, \u001b[38;5;34m2048\u001b[0m, \u001b[38;5;34m3\u001b[0m, \u001b[38;5;34m1\u001b[0m)     │             \u001b[38;5;34m0\u001b[0m │\n",
       "├─────────────────────────────────┼────────────────────────┼───────────────┤\n",
       "│ conv2d_57 (\u001b[38;5;33mConv2D\u001b[0m)              │ (\u001b[38;5;45mNone\u001b[0m, \u001b[38;5;34m2048\u001b[0m, \u001b[38;5;34m3\u001b[0m, \u001b[38;5;34m32\u001b[0m)    │           \u001b[38;5;34m320\u001b[0m │\n",
       "├─────────────────────────────────┼────────────────────────┼───────────────┤\n",
       "│ batch_normalization_44          │ (\u001b[38;5;45mNone\u001b[0m, \u001b[38;5;34m2048\u001b[0m, \u001b[38;5;34m3\u001b[0m, \u001b[38;5;34m32\u001b[0m)    │           \u001b[38;5;34m128\u001b[0m │\n",
       "│ (\u001b[38;5;33mBatchNormalization\u001b[0m)            │                        │               │\n",
       "├─────────────────────────────────┼────────────────────────┼───────────────┤\n",
       "│ max_pooling2d_33 (\u001b[38;5;33mMaxPooling2D\u001b[0m) │ (\u001b[38;5;45mNone\u001b[0m, \u001b[38;5;34m1024\u001b[0m, \u001b[38;5;34m1\u001b[0m, \u001b[38;5;34m32\u001b[0m)    │             \u001b[38;5;34m0\u001b[0m │\n",
       "├─────────────────────────────────┼────────────────────────┼───────────────┤\n",
       "│ conv2d_58 (\u001b[38;5;33mConv2D\u001b[0m)              │ (\u001b[38;5;45mNone\u001b[0m, \u001b[38;5;34m1024\u001b[0m, \u001b[38;5;34m1\u001b[0m, \u001b[38;5;34m32\u001b[0m)    │         \u001b[38;5;34m9,248\u001b[0m │\n",
       "├─────────────────────────────────┼────────────────────────┼───────────────┤\n",
       "│ batch_normalization_45          │ (\u001b[38;5;45mNone\u001b[0m, \u001b[38;5;34m1024\u001b[0m, \u001b[38;5;34m1\u001b[0m, \u001b[38;5;34m32\u001b[0m)    │           \u001b[38;5;34m128\u001b[0m │\n",
       "│ (\u001b[38;5;33mBatchNormalization\u001b[0m)            │                        │               │\n",
       "├─────────────────────────────────┼────────────────────────┼───────────────┤\n",
       "│ conv2d_59 (\u001b[38;5;33mConv2D\u001b[0m)              │ (\u001b[38;5;45mNone\u001b[0m, \u001b[38;5;34m1024\u001b[0m, \u001b[38;5;34m1\u001b[0m, \u001b[38;5;34m64\u001b[0m)    │        \u001b[38;5;34m18,496\u001b[0m │\n",
       "├─────────────────────────────────┼────────────────────────┼───────────────┤\n",
       "│ batch_normalization_46          │ (\u001b[38;5;45mNone\u001b[0m, \u001b[38;5;34m1024\u001b[0m, \u001b[38;5;34m1\u001b[0m, \u001b[38;5;34m64\u001b[0m)    │           \u001b[38;5;34m256\u001b[0m │\n",
       "│ (\u001b[38;5;33mBatchNormalization\u001b[0m)            │                        │               │\n",
       "├─────────────────────────────────┼────────────────────────┼───────────────┤\n",
       "│ conv2d_60 (\u001b[38;5;33mConv2D\u001b[0m)              │ (\u001b[38;5;45mNone\u001b[0m, \u001b[38;5;34m1024\u001b[0m, \u001b[38;5;34m1\u001b[0m, \u001b[38;5;34m128\u001b[0m)   │        \u001b[38;5;34m73,856\u001b[0m │\n",
       "├─────────────────────────────────┼────────────────────────┼───────────────┤\n",
       "│ batch_normalization_47          │ (\u001b[38;5;45mNone\u001b[0m, \u001b[38;5;34m1024\u001b[0m, \u001b[38;5;34m1\u001b[0m, \u001b[38;5;34m128\u001b[0m)   │           \u001b[38;5;34m512\u001b[0m │\n",
       "│ (\u001b[38;5;33mBatchNormalization\u001b[0m)            │                        │               │\n",
       "├─────────────────────────────────┼────────────────────────┼───────────────┤\n",
       "│ flatten_12 (\u001b[38;5;33mFlatten\u001b[0m)            │ (\u001b[38;5;45mNone\u001b[0m, \u001b[38;5;34m131072\u001b[0m)         │             \u001b[38;5;34m0\u001b[0m │\n",
       "├─────────────────────────────────┼────────────────────────┼───────────────┤\n",
       "│ dense_40 (\u001b[38;5;33mDense\u001b[0m)                │ (\u001b[38;5;45mNone\u001b[0m, \u001b[38;5;34m256\u001b[0m)            │    \u001b[38;5;34m33,554,688\u001b[0m │\n",
       "├─────────────────────────────────┼────────────────────────┼───────────────┤\n",
       "│ dropout_7 (\u001b[38;5;33mDropout\u001b[0m)             │ (\u001b[38;5;45mNone\u001b[0m, \u001b[38;5;34m256\u001b[0m)            │             \u001b[38;5;34m0\u001b[0m │\n",
       "├─────────────────────────────────┼────────────────────────┼───────────────┤\n",
       "│ dense_41 (\u001b[38;5;33mDense\u001b[0m)                │ (\u001b[38;5;45mNone\u001b[0m, \u001b[38;5;34m8\u001b[0m)              │         \u001b[38;5;34m2,056\u001b[0m │\n",
       "└─────────────────────────────────┴────────────────────────┴───────────────┘\n"
      ]
     },
     "metadata": {},
     "output_type": "display_data"
    },
    {
     "data": {
      "text/html": [
       "<pre style=\"white-space:pre;overflow-x:auto;line-height:normal;font-family:Menlo,'DejaVu Sans Mono',consolas,'Courier New',monospace\"><span style=\"font-weight: bold\"> Total params: </span><span style=\"color: #00af00; text-decoration-color: #00af00\">33,659,688</span> (128.40 MB)\n",
       "</pre>\n"
      ],
      "text/plain": [
       "\u001b[1m Total params: \u001b[0m\u001b[38;5;34m33,659,688\u001b[0m (128.40 MB)\n"
      ]
     },
     "metadata": {},
     "output_type": "display_data"
    },
    {
     "data": {
      "text/html": [
       "<pre style=\"white-space:pre;overflow-x:auto;line-height:normal;font-family:Menlo,'DejaVu Sans Mono',consolas,'Courier New',monospace\"><span style=\"font-weight: bold\"> Trainable params: </span><span style=\"color: #00af00; text-decoration-color: #00af00\">33,659,176</span> (128.40 MB)\n",
       "</pre>\n"
      ],
      "text/plain": [
       "\u001b[1m Trainable params: \u001b[0m\u001b[38;5;34m33,659,176\u001b[0m (128.40 MB)\n"
      ]
     },
     "metadata": {},
     "output_type": "display_data"
    },
    {
     "data": {
      "text/html": [
       "<pre style=\"white-space:pre;overflow-x:auto;line-height:normal;font-family:Menlo,'DejaVu Sans Mono',consolas,'Courier New',monospace\"><span style=\"font-weight: bold\"> Non-trainable params: </span><span style=\"color: #00af00; text-decoration-color: #00af00\">512</span> (2.00 KB)\n",
       "</pre>\n"
      ],
      "text/plain": [
       "\u001b[1m Non-trainable params: \u001b[0m\u001b[38;5;34m512\u001b[0m (2.00 KB)\n"
      ]
     },
     "metadata": {},
     "output_type": "display_data"
    }
   ],
   "source": [
    "from keras import layers, optimizers, regularizers\n",
    "\n",
    "\n",
    "def build_model(input_dim, output_dim):\n",
    "    model = keras.models.Sequential()\n",
    "    model.add(layers.Input(shape=(input_dim,)))\n",
    "    model.add(layers.Reshape((48, 128, 1)))\n",
    "    model.add(layers.Conv2D(32, (3, 3), activation='relu', padding='same'))\n",
    "    model.add(layers.MaxPooling2D((2, 2)))\n",
    "    \n",
    "    # Additional convolutional block for better feature extraction\n",
    "    model.add(layers.Conv2D(32, (3, 3), activation='relu', padding='same'))\n",
    "    model.add(layers.MaxPooling2D((2, 2)))\n",
    "    \n",
    "    model.add(layers.Conv2D(64, (3, 3), activation='relu', padding='same'))\n",
    "    model.add(layers.MaxPooling2D((2, 2)))\n",
    "    \n",
    "    model.add(layers.Conv2D(128, (3, 3), activation='relu', padding='same'))\n",
    "    model.add(layers.MaxPooling2D((2, 2)))\n",
    "    \n",
    "    model.add(layers.Flatten())\n",
    "    model.add(layers.Dense(256, activation='relu'))\n",
    "    model.add(layers.Dropout(0.5))\n",
    "    model.add(layers.Dense(output_dim))\n",
    "    \n",
    "    # Using L2 regularization\n",
    "    model.add(layers.Dense(output_dim, kernel_regularizer=regularizers.l2(0.01)))\n",
    "    \n",
    "    # Optimizer with a custom learning rate\n",
    "    optimizer = optimizers.Adam(learning_rate=0.001)\n",
    "    model.compile(optimizer=optimizer, loss='mse', metrics=['root_mean_squared_error', 'mae'])\n",
    "    return model\n",
    "\n",
    "\n",
    "# Constants\n",
    "INPUT_DIM = 6144  # Number of features per sample\n",
    "OUTPUT_DIM = 8  # Number of continuous values as output\n",
    "\n",
    "# Model Creation\n",
    "model = build_model(INPUT_DIM, OUTPUT_DIM)\n",
    "\n",
    "model.summary()"
   ]
  },
  {
   "cell_type": "code",
   "execution_count": 114,
   "metadata": {},
   "outputs": [],
   "source": [
    "drop_cols = major_oxides + [\"ID\", \"Sample Name\"]\n",
    "\n",
    "X_train = train_processed.drop(columns=drop_cols)\n",
    "y_train = train_processed[major_oxides]\n",
    "\n",
    "X_test = test_processed.drop(columns=drop_cols)\n",
    "y_test = test_processed[major_oxides]\n",
    "\n",
    "\n",
    "X_train_reshaped = X_train.to_numpy().reshape(-1, 6144, 1)\n",
    "X_test_reshaped = X_test.to_numpy().reshape(-1, 6144, 1)"
   ]
  },
  {
   "cell_type": "code",
   "execution_count": 115,
   "metadata": {},
   "outputs": [],
   "source": [
    "callback = keras.callbacks.EarlyStopping(monitor=\"val_loss\", patience=6, restore_best_weights=True)\n",
    "\n",
    "\n",
    "def run_experiment(\n",
    "    X_train: np.ndarray,\n",
    "    y_train: np.ndarray,\n",
    "    X_test: np.ndarray,\n",
    "    y_test: np.ndarray,\n",
    "    model: keras.Model,\n",
    "    epochs: int,\n",
    "    batch_size: int,\n",
    "    callbacks: list = [],\n",
    "    major_oxides: list = [],\n",
    "):\n",
    "    with mlflow.start_run(run_name=\"CNN\"):\n",
    "        model.fit(\n",
    "            X_train,\n",
    "            y_train,\n",
    "            epochs=epochs,\n",
    "            batch_size=batch_size,\n",
    "            validation_split=0.1,\n",
    "            callbacks=callbacks,\n",
    "        )\n",
    "        y_pred = model.predict(X_test)\n",
    "        for i, oxide in enumerate(major_oxides):\n",
    "            y_test_oxide = y_test[:, i]\n",
    "            y_pred_oxide = y_pred[:, i]\n",
    "            rmse = np.sqrt(mean_squared_error(y_test_oxide, y_pred_oxide))\n",
    "            mlflow.log_metric(f\"rmse_{oxide}\", float(rmse))"
   ]
  },
  {
   "cell_type": "code",
   "execution_count": 116,
   "metadata": {},
   "outputs": [
    {
     "name": "stderr",
     "output_type": "stream",
     "text": [
      "2024/04/18 15:56:30 WARNING mlflow.utils.autologging_utils: You are using an unsupported version of keras. If you encounter errors during autologging, try upgrading / downgrading keras to a supported version, or try upgrading MLflow.\n",
      "2024/04/18 15:56:34 INFO mlflow.tracking.fluent: Experiment with name '3_CNN_20240418-155630' does not exist. Creating a new experiment.\n"
     ]
    },
    {
     "data": {
      "text/html": [
       "<pre style=\"white-space:pre;overflow-x:auto;line-height:normal;font-family:Menlo,'DejaVu Sans Mono',consolas,'Courier New',monospace\"></pre>\n"
      ],
      "text/plain": []
     },
     "metadata": {},
     "output_type": "display_data"
    },
    {
     "name": "stdout",
     "output_type": "stream",
     "text": [
      "Epoch 1/1000\n",
      "\u001b[1m6/6\u001b[0m \u001b[32m━━━━━━━━━━━━━━━━━━━━\u001b[0m\u001b[37m\u001b[0m \u001b[1m20s\u001b[0m 2s/step - loss: 7224.1855 - mae: 40.7675 - root_mean_squared_error: 80.3436 - val_loss: 488.7612 - val_mae: 11.1966 - val_root_mean_squared_error: 22.1045\n",
      "Epoch 2/1000\n",
      "\u001b[1m6/6\u001b[0m \u001b[32m━━━━━━━━━━━━━━━━━━━━\u001b[0m\u001b[37m\u001b[0m \u001b[1m1s\u001b[0m 219ms/step - loss: 450.3408 - mae: 13.5791 - root_mean_squared_error: 21.2149 - val_loss: 504.2368 - val_mae: 11.4398 - val_root_mean_squared_error: 22.4518\n",
      "Epoch 3/1000\n",
      "\u001b[1m6/6\u001b[0m \u001b[32m━━━━━━━━━━━━━━━━━━━━\u001b[0m\u001b[37m\u001b[0m \u001b[1m1s\u001b[0m 229ms/step - loss: 419.9860 - mae: 11.4264 - root_mean_squared_error: 20.4895 - val_loss: 496.4176 - val_mae: 11.2943 - val_root_mean_squared_error: 22.2771\n",
      "Epoch 4/1000\n",
      "\u001b[1m6/6\u001b[0m \u001b[32m━━━━━━━━━━━━━━━━━━━━\u001b[0m\u001b[37m\u001b[0m \u001b[1m3s\u001b[0m 537ms/step - loss: 396.5294 - mae: 12.7709 - root_mean_squared_error: 19.9090 - val_loss: 487.8821 - val_mae: 11.1805 - val_root_mean_squared_error: 22.0847\n",
      "Epoch 5/1000\n",
      "\u001b[1m6/6\u001b[0m \u001b[32m━━━━━━━━━━━━━━━━━━━━\u001b[0m\u001b[37m\u001b[0m \u001b[1m3s\u001b[0m 509ms/step - loss: 373.1249 - mae: 11.8938 - root_mean_squared_error: 19.3113 - val_loss: 472.4716 - val_mae: 11.0015 - val_root_mean_squared_error: 21.7330\n",
      "Epoch 6/1000\n",
      "\u001b[1m6/6\u001b[0m \u001b[32m━━━━━━━━━━━━━━━━━━━━\u001b[0m\u001b[37m\u001b[0m \u001b[1m2s\u001b[0m 330ms/step - loss: 339.5555 - mae: 11.6713 - root_mean_squared_error: 18.4227 - val_loss: 457.5541 - val_mae: 10.7158 - val_root_mean_squared_error: 21.3871\n",
      "Epoch 7/1000\n",
      "\u001b[1m6/6\u001b[0m \u001b[32m━━━━━━━━━━━━━━━━━━━━\u001b[0m\u001b[37m\u001b[0m \u001b[1m3s\u001b[0m 459ms/step - loss: 321.9579 - mae: 11.6912 - root_mean_squared_error: 17.9388 - val_loss: 453.4980 - val_mae: 10.6922 - val_root_mean_squared_error: 21.2921\n",
      "Epoch 8/1000\n",
      "\u001b[1m6/6\u001b[0m \u001b[32m━━━━━━━━━━━━━━━━━━━━\u001b[0m\u001b[37m\u001b[0m \u001b[1m3s\u001b[0m 511ms/step - loss: 291.1761 - mae: 10.8941 - root_mean_squared_error: 17.0585 - val_loss: 435.2493 - val_mae: 10.4844 - val_root_mean_squared_error: 20.8592\n",
      "Epoch 9/1000\n",
      "\u001b[1m6/6\u001b[0m \u001b[32m━━━━━━━━━━━━━━━━━━━━\u001b[0m\u001b[37m\u001b[0m \u001b[1m2s\u001b[0m 358ms/step - loss: 255.0736 - mae: 10.2532 - root_mean_squared_error: 15.9662 - val_loss: 428.7559 - val_mae: 10.3540 - val_root_mean_squared_error: 20.7030\n",
      "Epoch 10/1000\n",
      "\u001b[1m6/6\u001b[0m \u001b[32m━━━━━━━━━━━━━━━━━━━━\u001b[0m\u001b[37m\u001b[0m \u001b[1m2s\u001b[0m 298ms/step - loss: 235.7928 - mae: 9.7121 - root_mean_squared_error: 15.3506 - val_loss: 412.5271 - val_mae: 10.1805 - val_root_mean_squared_error: 20.3073\n",
      "Epoch 11/1000\n",
      "\u001b[1m6/6\u001b[0m \u001b[32m━━━━━━━━━━━━━━━━━━━━\u001b[0m\u001b[37m\u001b[0m \u001b[1m2s\u001b[0m 312ms/step - loss: 202.0994 - mae: 8.9227 - root_mean_squared_error: 14.2106 - val_loss: 397.1957 - val_mae: 9.9498 - val_root_mean_squared_error: 19.9262\n",
      "Epoch 12/1000\n",
      "\u001b[1m6/6\u001b[0m \u001b[32m━━━━━━━━━━━━━━━━━━━━\u001b[0m\u001b[37m\u001b[0m \u001b[1m2s\u001b[0m 275ms/step - loss: 193.1777 - mae: 8.5120 - root_mean_squared_error: 13.8929 - val_loss: 387.2143 - val_mae: 9.8099 - val_root_mean_squared_error: 19.6742\n",
      "Epoch 13/1000\n",
      "\u001b[1m6/6\u001b[0m \u001b[32m━━━━━━━━━━━━━━━━━━━━\u001b[0m\u001b[37m\u001b[0m \u001b[1m2s\u001b[0m 321ms/step - loss: 177.9911 - mae: 7.9261 - root_mean_squared_error: 13.3357 - val_loss: 380.9207 - val_mae: 9.7380 - val_root_mean_squared_error: 19.5136\n",
      "Epoch 14/1000\n",
      "\u001b[1m6/6\u001b[0m \u001b[32m━━━━━━━━━━━━━━━━━━━━\u001b[0m\u001b[37m\u001b[0m \u001b[1m2s\u001b[0m 292ms/step - loss: 175.0033 - mae: 7.6638 - root_mean_squared_error: 13.2230 - val_loss: 360.2243 - val_mae: 9.4736 - val_root_mean_squared_error: 18.9759\n",
      "Epoch 15/1000\n",
      "\u001b[1m6/6\u001b[0m \u001b[32m━━━━━━━━━━━━━━━━━━━━\u001b[0m\u001b[37m\u001b[0m \u001b[1m2s\u001b[0m 283ms/step - loss: 161.6532 - mae: 7.0303 - root_mean_squared_error: 12.7077 - val_loss: 353.2982 - val_mae: 9.4039 - val_root_mean_squared_error: 18.7926\n",
      "Epoch 16/1000\n",
      "\u001b[1m6/6\u001b[0m \u001b[32m━━━━━━━━━━━━━━━━━━━━\u001b[0m\u001b[37m\u001b[0m \u001b[1m2s\u001b[0m 326ms/step - loss: 158.4423 - mae: 7.0419 - root_mean_squared_error: 12.5817 - val_loss: 339.4600 - val_mae: 9.2461 - val_root_mean_squared_error: 18.4207\n",
      "Epoch 17/1000\n",
      "\u001b[1m6/6\u001b[0m \u001b[32m━━━━━━━━━━━━━━━━━━━━\u001b[0m\u001b[37m\u001b[0m \u001b[1m2s\u001b[0m 282ms/step - loss: 148.9014 - mae: 6.8254 - root_mean_squared_error: 12.1945 - val_loss: 334.0397 - val_mae: 9.1792 - val_root_mean_squared_error: 18.2731\n",
      "Epoch 18/1000\n",
      "\u001b[1m6/6\u001b[0m \u001b[32m━━━━━━━━━━━━━━━━━━━━\u001b[0m\u001b[37m\u001b[0m \u001b[1m2s\u001b[0m 280ms/step - loss: 145.5081 - mae: 6.5729 - root_mean_squared_error: 12.0549 - val_loss: 321.2018 - val_mae: 9.0068 - val_root_mean_squared_error: 17.9184\n",
      "Epoch 19/1000\n",
      "\u001b[1m6/6\u001b[0m \u001b[32m━━━━━━━━━━━━━━━━━━━━\u001b[0m\u001b[37m\u001b[0m \u001b[1m1s\u001b[0m 228ms/step - loss: 145.7060 - mae: 6.4774 - root_mean_squared_error: 12.0651 - val_loss: 329.6138 - val_mae: 9.1048 - val_root_mean_squared_error: 18.1516\n",
      "Epoch 20/1000\n",
      "\u001b[1m6/6\u001b[0m \u001b[32m━━━━━━━━━━━━━━━━━━━━\u001b[0m\u001b[37m\u001b[0m \u001b[1m4s\u001b[0m 828ms/step - loss: 144.1222 - mae: 6.6867 - root_mean_squared_error: 11.9986 - val_loss: 303.4538 - val_mae: 8.8272 - val_root_mean_squared_error: 17.4161\n",
      "Epoch 21/1000\n",
      "\u001b[1m6/6\u001b[0m \u001b[32m━━━━━━━━━━━━━━━━━━━━\u001b[0m\u001b[37m\u001b[0m \u001b[1m3s\u001b[0m 449ms/step - loss: 135.9467 - mae: 6.3716 - root_mean_squared_error: 11.6538 - val_loss: 302.2578 - val_mae: 8.8194 - val_root_mean_squared_error: 17.3818\n",
      "Epoch 22/1000\n",
      "\u001b[1m6/6\u001b[0m \u001b[32m━━━━━━━━━━━━━━━━━━━━\u001b[0m\u001b[37m\u001b[0m \u001b[1m2s\u001b[0m 369ms/step - loss: 130.7619 - mae: 6.2681 - root_mean_squared_error: 11.4286 - val_loss: 294.7160 - val_mae: 8.6903 - val_root_mean_squared_error: 17.1635\n",
      "Epoch 23/1000\n",
      "\u001b[1m6/6\u001b[0m \u001b[32m━━━━━━━━━━━━━━━━━━━━\u001b[0m\u001b[37m\u001b[0m \u001b[1m2s\u001b[0m 384ms/step - loss: 128.9724 - mae: 6.3279 - root_mean_squared_error: 11.3507 - val_loss: 287.4102 - val_mae: 8.6362 - val_root_mean_squared_error: 16.9493\n",
      "Epoch 24/1000\n",
      "\u001b[1m6/6\u001b[0m \u001b[32m━━━━━━━━━━━━━━━━━━━━\u001b[0m\u001b[37m\u001b[0m \u001b[1m2s\u001b[0m 249ms/step - loss: 128.0956 - mae: 6.2689 - root_mean_squared_error: 11.3117 - val_loss: 293.2092 - val_mae: 8.7695 - val_root_mean_squared_error: 17.1196\n",
      "Epoch 25/1000\n",
      "\u001b[1m6/6\u001b[0m \u001b[32m━━━━━━━━━━━━━━━━━━━━\u001b[0m\u001b[37m\u001b[0m \u001b[1m1s\u001b[0m 237ms/step - loss: 123.4286 - mae: 5.9535 - root_mean_squared_error: 11.1037 - val_loss: 292.8755 - val_mae: 8.6882 - val_root_mean_squared_error: 17.1098\n",
      "Epoch 26/1000\n",
      "\u001b[1m6/6\u001b[0m \u001b[32m━━━━━━━━━━━━━━━━━━━━\u001b[0m\u001b[37m\u001b[0m \u001b[1m2s\u001b[0m 431ms/step - loss: 130.2738 - mae: 6.2235 - root_mean_squared_error: 11.4080 - val_loss: 276.6530 - val_mae: 8.5358 - val_root_mean_squared_error: 16.6290\n",
      "Epoch 27/1000\n",
      "\u001b[1m6/6\u001b[0m \u001b[32m━━━━━━━━━━━━━━━━━━━━\u001b[0m\u001b[37m\u001b[0m \u001b[1m2s\u001b[0m 329ms/step - loss: 121.0754 - mae: 5.8076 - root_mean_squared_error: 10.9966 - val_loss: 275.7981 - val_mae: 8.4332 - val_root_mean_squared_error: 16.6033\n",
      "Epoch 28/1000\n",
      "\u001b[1m6/6\u001b[0m \u001b[32m━━━━━━━━━━━━━━━━━━━━\u001b[0m\u001b[37m\u001b[0m \u001b[1m2s\u001b[0m 312ms/step - loss: 128.9603 - mae: 6.0108 - root_mean_squared_error: 11.3490 - val_loss: 273.1448 - val_mae: 8.4183 - val_root_mean_squared_error: 16.5232\n",
      "Epoch 29/1000\n",
      "\u001b[1m6/6\u001b[0m \u001b[32m━━━━━━━━━━━━━━━━━━━━\u001b[0m\u001b[37m\u001b[0m \u001b[1m2s\u001b[0m 332ms/step - loss: 115.0251 - mae: 5.7178 - root_mean_squared_error: 10.7167 - val_loss: 260.5907 - val_mae: 8.2491 - val_root_mean_squared_error: 16.1389\n",
      "Epoch 30/1000\n",
      "\u001b[1m6/6\u001b[0m \u001b[32m━━━━━━━━━━━━━━━━━━━━\u001b[0m\u001b[37m\u001b[0m \u001b[1m2s\u001b[0m 339ms/step - loss: 108.1604 - mae: 5.4796 - root_mean_squared_error: 10.3896 - val_loss: 252.9227 - val_mae: 8.1527 - val_root_mean_squared_error: 15.8996\n",
      "Epoch 31/1000\n",
      "\u001b[1m6/6\u001b[0m \u001b[32m━━━━━━━━━━━━━━━━━━━━\u001b[0m\u001b[37m\u001b[0m \u001b[1m2s\u001b[0m 286ms/step - loss: 113.6617 - mae: 5.6783 - root_mean_squared_error: 10.6545 - val_loss: 246.9390 - val_mae: 8.0774 - val_root_mean_squared_error: 15.7103\n",
      "Epoch 32/1000\n",
      "\u001b[1m6/6\u001b[0m \u001b[32m━━━━━━━━━━━━━━━━━━━━\u001b[0m\u001b[37m\u001b[0m \u001b[1m2s\u001b[0m 345ms/step - loss: 118.4743 - mae: 5.6371 - root_mean_squared_error: 10.8785 - val_loss: 221.8575 - val_mae: 7.7401 - val_root_mean_squared_error: 14.8907\n",
      "Epoch 33/1000\n",
      "\u001b[1m6/6\u001b[0m \u001b[32m━━━━━━━━━━━━━━━━━━━━\u001b[0m\u001b[37m\u001b[0m \u001b[1m1s\u001b[0m 245ms/step - loss: 119.1747 - mae: 5.6370 - root_mean_squared_error: 10.9089 - val_loss: 228.9816 - val_mae: 7.8381 - val_root_mean_squared_error: 15.1280\n",
      "Epoch 34/1000\n",
      "\u001b[1m6/6\u001b[0m \u001b[32m━━━━━━━━━━━━━━━━━━━━\u001b[0m\u001b[37m\u001b[0m \u001b[1m1s\u001b[0m 244ms/step - loss: 114.5411 - mae: 5.5663 - root_mean_squared_error: 10.6963 - val_loss: 240.7552 - val_mae: 8.0051 - val_root_mean_squared_error: 15.5123\n",
      "Epoch 35/1000\n",
      "\u001b[1m6/6\u001b[0m \u001b[32m━━━━━━━━━━━━━━━━━━━━\u001b[0m\u001b[37m\u001b[0m \u001b[1m1s\u001b[0m 244ms/step - loss: 109.0279 - mae: 5.5273 - root_mean_squared_error: 10.4342 - val_loss: 226.0453 - val_mae: 7.7887 - val_root_mean_squared_error: 15.0307\n",
      "Epoch 36/1000\n",
      "\u001b[1m6/6\u001b[0m \u001b[32m━━━━━━━━━━━━━━━━━━━━\u001b[0m\u001b[37m\u001b[0m \u001b[1m2s\u001b[0m 266ms/step - loss: 114.6265 - mae: 5.6307 - root_mean_squared_error: 10.7003 - val_loss: 237.5394 - val_mae: 7.9563 - val_root_mean_squared_error: 15.4083\n",
      "Epoch 37/1000\n",
      "\u001b[1m6/6\u001b[0m \u001b[32m━━━━━━━━━━━━━━━━━━━━\u001b[0m\u001b[37m\u001b[0m \u001b[1m1s\u001b[0m 241ms/step - loss: 117.9911 - mae: 5.6656 - root_mean_squared_error: 10.8559 - val_loss: 224.4123 - val_mae: 7.7627 - val_root_mean_squared_error: 14.9763\n",
      "Epoch 38/1000\n",
      "\u001b[1m6/6\u001b[0m \u001b[32m━━━━━━━━━━━━━━━━━━━━\u001b[0m\u001b[37m\u001b[0m \u001b[1m3s\u001b[0m 609ms/step - loss: 109.4218 - mae: 5.4713 - root_mean_squared_error: 10.4543 - val_loss: 199.0114 - val_mae: 7.3624 - val_root_mean_squared_error: 14.1028\n",
      "Epoch 39/1000\n",
      "\u001b[1m6/6\u001b[0m \u001b[32m━━━━━━━━━━━━━━━━━━━━\u001b[0m\u001b[37m\u001b[0m \u001b[1m2s\u001b[0m 283ms/step - loss: 111.9091 - mae: 5.5291 - root_mean_squared_error: 10.5723 - val_loss: 198.7313 - val_mae: 7.3573 - val_root_mean_squared_error: 14.0929\n",
      "Epoch 40/1000\n",
      "\u001b[1m6/6\u001b[0m \u001b[32m━━━━━━━━━━━━━━━━━━━━\u001b[0m\u001b[37m\u001b[0m \u001b[1m1s\u001b[0m 228ms/step - loss: 114.4153 - mae: 5.6217 - root_mean_squared_error: 10.6901 - val_loss: 208.0716 - val_mae: 7.5124 - val_root_mean_squared_error: 14.4205\n",
      "Epoch 41/1000\n",
      "\u001b[1m6/6\u001b[0m \u001b[32m━━━━━━━━━━━━━━━━━━━━\u001b[0m\u001b[37m\u001b[0m \u001b[1m1s\u001b[0m 238ms/step - loss: 107.5039 - mae: 5.4500 - root_mean_squared_error: 10.3597 - val_loss: 204.2521 - val_mae: 7.4315 - val_root_mean_squared_error: 14.2875\n",
      "Epoch 42/1000\n",
      "\u001b[1m6/6\u001b[0m \u001b[32m━━━━━━━━━━━━━━━━━━━━\u001b[0m\u001b[37m\u001b[0m \u001b[1m2s\u001b[0m 308ms/step - loss: 114.1799 - mae: 5.5676 - root_mean_squared_error: 10.6792 - val_loss: 201.2164 - val_mae: 7.3610 - val_root_mean_squared_error: 14.1808\n",
      "Epoch 43/1000\n",
      "\u001b[1m6/6\u001b[0m \u001b[32m━━━━━━━━━━━━━━━━━━━━\u001b[0m\u001b[37m\u001b[0m \u001b[1m3s\u001b[0m 486ms/step - loss: 119.3316 - mae: 5.6671 - root_mean_squared_error: 10.9179 - val_loss: 190.5947 - val_mae: 7.1967 - val_root_mean_squared_error: 13.8013\n",
      "Epoch 44/1000\n",
      "\u001b[1m6/6\u001b[0m \u001b[32m━━━━━━━━━━━━━━━━━━━━\u001b[0m\u001b[37m\u001b[0m \u001b[1m2s\u001b[0m 401ms/step - loss: 107.4702 - mae: 5.4673 - root_mean_squared_error: 10.3609 - val_loss: 187.5422 - val_mae: 7.1570 - val_root_mean_squared_error: 13.6902\n",
      "Epoch 45/1000\n",
      "\u001b[1m6/6\u001b[0m \u001b[32m━━━━━━━━━━━━━━━━━━━━\u001b[0m\u001b[37m\u001b[0m \u001b[1m2s\u001b[0m 336ms/step - loss: 109.8781 - mae: 5.5475 - root_mean_squared_error: 10.4764 - val_loss: 183.6080 - val_mae: 7.1061 - val_root_mean_squared_error: 13.5458\n",
      "Epoch 46/1000\n",
      "\u001b[1m6/6\u001b[0m \u001b[32m━━━━━━━━━━━━━━━━━━━━\u001b[0m\u001b[37m\u001b[0m \u001b[1m2s\u001b[0m 362ms/step - loss: 116.7304 - mae: 5.6922 - root_mean_squared_error: 10.7975 - val_loss: 180.2494 - val_mae: 7.0585 - val_root_mean_squared_error: 13.4213\n",
      "Epoch 47/1000\n",
      "\u001b[1m6/6\u001b[0m \u001b[32m━━━━━━━━━━━━━━━━━━━━\u001b[0m\u001b[37m\u001b[0m \u001b[1m2s\u001b[0m 306ms/step - loss: 113.5240 - mae: 5.5498 - root_mean_squared_error: 10.6492 - val_loss: 178.7569 - val_mae: 7.0312 - val_root_mean_squared_error: 13.3656\n",
      "Epoch 48/1000\n",
      "\u001b[1m6/6\u001b[0m \u001b[32m━━━━━━━━━━━━━━━━━━━━\u001b[0m\u001b[37m\u001b[0m \u001b[1m1s\u001b[0m 239ms/step - loss: 112.2181 - mae: 5.5806 - root_mean_squared_error: 10.5873 - val_loss: 189.8194 - val_mae: 7.2269 - val_root_mean_squared_error: 13.7732\n",
      "Epoch 49/1000\n",
      "\u001b[1m6/6\u001b[0m \u001b[32m━━━━━━━━━━━━━━━━━━━━\u001b[0m\u001b[37m\u001b[0m \u001b[1m2s\u001b[0m 356ms/step - loss: 116.3128 - mae: 5.5809 - root_mean_squared_error: 10.7787 - val_loss: 166.0065 - val_mae: 6.7566 - val_root_mean_squared_error: 12.8798\n",
      "Epoch 50/1000\n",
      "\u001b[1m6/6\u001b[0m \u001b[32m━━━━━━━━━━━━━━━━━━━━\u001b[0m\u001b[37m\u001b[0m \u001b[1m2s\u001b[0m 328ms/step - loss: 112.8212 - mae: 5.5668 - root_mean_squared_error: 10.6160 - val_loss: 159.5077 - val_mae: 6.5953 - val_root_mean_squared_error: 12.6250\n",
      "Epoch 51/1000\n",
      "\u001b[1m6/6\u001b[0m \u001b[32m━━━━━━━━━━━━━━━━━━━━\u001b[0m\u001b[37m\u001b[0m \u001b[1m2s\u001b[0m 295ms/step - loss: 112.9820 - mae: 5.5043 - root_mean_squared_error: 10.6236 - val_loss: 184.5505 - val_mae: 7.1109 - val_root_mean_squared_error: 13.5807\n",
      "Epoch 52/1000\n",
      "\u001b[1m6/6\u001b[0m \u001b[32m━━━━━━━━━━━━━━━━━━━━\u001b[0m\u001b[37m\u001b[0m \u001b[1m2s\u001b[0m 280ms/step - loss: 112.4546 - mae: 5.6022 - root_mean_squared_error: 10.5970 - val_loss: 172.9413 - val_mae: 6.9163 - val_root_mean_squared_error: 13.1463\n",
      "Epoch 53/1000\n",
      "\u001b[1m6/6\u001b[0m \u001b[32m━━━━━━━━━━━━━━━━━━━━\u001b[0m\u001b[37m\u001b[0m \u001b[1m2s\u001b[0m 252ms/step - loss: 116.3430 - mae: 5.5637 - root_mean_squared_error: 10.7798 - val_loss: 161.0436 - val_mae: 6.6459 - val_root_mean_squared_error: 12.6857\n",
      "Epoch 54/1000\n",
      "\u001b[1m6/6\u001b[0m \u001b[32m━━━━━━━━━━━━━━━━━━━━\u001b[0m\u001b[37m\u001b[0m \u001b[1m1s\u001b[0m 244ms/step - loss: 116.5194 - mae: 5.6273 - root_mean_squared_error: 10.7872 - val_loss: 164.8481 - val_mae: 6.7076 - val_root_mean_squared_error: 12.8348\n",
      "Epoch 55/1000\n",
      "\u001b[1m6/6\u001b[0m \u001b[32m━━━━━━━━━━━━━━━━━━━━\u001b[0m\u001b[37m\u001b[0m \u001b[1m3s\u001b[0m 627ms/step - loss: 108.9017 - mae: 5.5058 - root_mean_squared_error: 10.4291 - val_loss: 151.7400 - val_mae: 6.4551 - val_root_mean_squared_error: 12.3136\n",
      "Epoch 56/1000\n",
      "\u001b[1m6/6\u001b[0m \u001b[32m━━━━━━━━━━━━━━━━━━━━\u001b[0m\u001b[37m\u001b[0m \u001b[1m2s\u001b[0m 392ms/step - loss: 119.9687 - mae: 5.7132 - root_mean_squared_error: 10.9471 - val_loss: 146.5002 - val_mae: 6.4272 - val_root_mean_squared_error: 12.0990\n",
      "Epoch 57/1000\n",
      "\u001b[1m6/6\u001b[0m \u001b[32m━━━━━━━━━━━━━━━━━━━━\u001b[0m\u001b[37m\u001b[0m \u001b[1m1s\u001b[0m 216ms/step - loss: 123.6930 - mae: 5.7346 - root_mean_squared_error: 11.1150 - val_loss: 166.5000 - val_mae: 6.8587 - val_root_mean_squared_error: 12.8991\n",
      "Epoch 58/1000\n",
      "\u001b[1m6/6\u001b[0m \u001b[32m━━━━━━━━━━━━━━━━━━━━\u001b[0m\u001b[37m\u001b[0m \u001b[1m1s\u001b[0m 218ms/step - loss: 119.6842 - mae: 5.7463 - root_mean_squared_error: 10.9346 - val_loss: 159.8169 - val_mae: 6.6352 - val_root_mean_squared_error: 12.6374\n",
      "Epoch 59/1000\n",
      "\u001b[1m6/6\u001b[0m \u001b[32m━━━━━━━━━━━━━━━━━━━━\u001b[0m\u001b[37m\u001b[0m \u001b[1m1s\u001b[0m 219ms/step - loss: 113.5626 - mae: 5.5220 - root_mean_squared_error: 10.6508 - val_loss: 157.9397 - val_mae: 6.5312 - val_root_mean_squared_error: 12.5629\n",
      "Epoch 60/1000\n",
      "\u001b[1m6/6\u001b[0m \u001b[32m━━━━━━━━━━━━━━━━━━━━\u001b[0m\u001b[37m\u001b[0m \u001b[1m1s\u001b[0m 219ms/step - loss: 115.0012 - mae: 5.5926 - root_mean_squared_error: 10.7180 - val_loss: 147.6834 - val_mae: 6.3496 - val_root_mean_squared_error: 12.1479\n",
      "Epoch 61/1000\n",
      "\u001b[1m6/6\u001b[0m \u001b[32m━━━━━━━━━━━━━━━━━━━━\u001b[0m\u001b[37m\u001b[0m \u001b[1m3s\u001b[0m 603ms/step - loss: 112.3058 - mae: 5.5416 - root_mean_squared_error: 10.5920 - val_loss: 133.5157 - val_mae: 5.9950 - val_root_mean_squared_error: 11.5500\n",
      "Epoch 62/1000\n",
      "\u001b[1m6/6\u001b[0m \u001b[32m━━━━━━━━━━━━━━━━━━━━\u001b[0m\u001b[37m\u001b[0m \u001b[1m1s\u001b[0m 221ms/step - loss: 115.3747 - mae: 5.6344 - root_mean_squared_error: 10.7342 - val_loss: 135.0877 - val_mae: 6.0382 - val_root_mean_squared_error: 11.6179\n",
      "Epoch 63/1000\n",
      "\u001b[1m6/6\u001b[0m \u001b[32m━━━━━━━━━━━━━━━━━━━━\u001b[0m\u001b[37m\u001b[0m \u001b[1m1s\u001b[0m 214ms/step - loss: 113.9736 - mae: 5.5073 - root_mean_squared_error: 10.6705 - val_loss: 161.1279 - val_mae: 6.6636 - val_root_mean_squared_error: 12.6892\n",
      "Epoch 64/1000\n",
      "\u001b[1m6/6\u001b[0m \u001b[32m━━━━━━━━━━━━━━━━━━━━\u001b[0m\u001b[37m\u001b[0m \u001b[1m1s\u001b[0m 219ms/step - loss: 121.5682 - mae: 5.6524 - root_mean_squared_error: 11.0187 - val_loss: 155.3438 - val_mae: 6.4754 - val_root_mean_squared_error: 12.4592\n",
      "Epoch 65/1000\n",
      "\u001b[1m6/6\u001b[0m \u001b[32m━━━━━━━━━━━━━━━━━━━━\u001b[0m\u001b[37m\u001b[0m \u001b[1m1s\u001b[0m 235ms/step - loss: 115.9714 - mae: 5.5847 - root_mean_squared_error: 10.7635 - val_loss: 139.0239 - val_mae: 6.1093 - val_root_mean_squared_error: 11.7861\n",
      "Epoch 66/1000\n",
      "\u001b[1m6/6\u001b[0m \u001b[32m━━━━━━━━━━━━━━━━━━━━\u001b[0m\u001b[37m\u001b[0m \u001b[1m6s\u001b[0m 1s/step - loss: 112.5104 - mae: 5.5456 - root_mean_squared_error: 10.6007 - val_loss: 126.6934 - val_mae: 5.8462 - val_root_mean_squared_error: 11.2509\n",
      "Epoch 67/1000\n",
      "\u001b[1m6/6\u001b[0m \u001b[32m━━━━━━━━━━━━━━━━━━━━\u001b[0m\u001b[37m\u001b[0m \u001b[1m1s\u001b[0m 221ms/step - loss: 116.9660 - mae: 5.6383 - root_mean_squared_error: 10.8090 - val_loss: 141.6438 - val_mae: 6.2612 - val_root_mean_squared_error: 11.8968\n",
      "Epoch 68/1000\n",
      "\u001b[1m6/6\u001b[0m \u001b[32m━━━━━━━━━━━━━━━━━━━━\u001b[0m\u001b[37m\u001b[0m \u001b[1m1s\u001b[0m 228ms/step - loss: 116.5481 - mae: 5.5986 - root_mean_squared_error: 10.7902 - val_loss: 157.0317 - val_mae: 6.5950 - val_root_mean_squared_error: 12.5268\n",
      "Epoch 69/1000\n",
      "\u001b[1m6/6\u001b[0m \u001b[32m━━━━━━━━━━━━━━━━━━━━\u001b[0m\u001b[37m\u001b[0m \u001b[1m3s\u001b[0m 545ms/step - loss: 120.4227 - mae: 5.7415 - root_mean_squared_error: 10.9683 - val_loss: 121.8499 - val_mae: 5.7885 - val_root_mean_squared_error: 11.0336\n",
      "Epoch 70/1000\n",
      "\u001b[1m6/6\u001b[0m \u001b[32m━━━━━━━━━━━━━━━━━━━━\u001b[0m\u001b[37m\u001b[0m \u001b[1m1s\u001b[0m 215ms/step - loss: 110.3532 - mae: 5.4681 - root_mean_squared_error: 10.4988 - val_loss: 127.0933 - val_mae: 5.8487 - val_root_mean_squared_error: 11.2687\n",
      "Epoch 71/1000\n",
      "\u001b[1m6/6\u001b[0m \u001b[32m━━━━━━━━━━━━━━━━━━━━\u001b[0m\u001b[37m\u001b[0m \u001b[1m1s\u001b[0m 212ms/step - loss: 111.4217 - mae: 5.4891 - root_mean_squared_error: 10.5503 - val_loss: 138.0518 - val_mae: 6.2048 - val_root_mean_squared_error: 11.7449\n",
      "Epoch 72/1000\n",
      "\u001b[1m6/6\u001b[0m \u001b[32m━━━━━━━━━━━━━━━━━━━━\u001b[0m\u001b[37m\u001b[0m \u001b[1m1s\u001b[0m 215ms/step - loss: 115.1199 - mae: 5.5979 - root_mean_squared_error: 10.7240 - val_loss: 128.1742 - val_mae: 5.9157 - val_root_mean_squared_error: 11.3166\n",
      "Epoch 73/1000\n",
      "\u001b[1m6/6\u001b[0m \u001b[32m━━━━━━━━━━━━━━━━━━━━\u001b[0m\u001b[37m\u001b[0m \u001b[1m1s\u001b[0m 227ms/step - loss: 120.2726 - mae: 5.6556 - root_mean_squared_error: 10.9608 - val_loss: 128.4569 - val_mae: 5.9135 - val_root_mean_squared_error: 11.3291\n",
      "Epoch 74/1000\n",
      "\u001b[1m6/6\u001b[0m \u001b[32m━━━━━━━━━━━━━━━━━━━━\u001b[0m\u001b[37m\u001b[0m \u001b[1m1s\u001b[0m 223ms/step - loss: 114.6714 - mae: 5.5552 - root_mean_squared_error: 10.7020 - val_loss: 139.0653 - val_mae: 6.1287 - val_root_mean_squared_error: 11.7880\n",
      "Epoch 75/1000\n",
      "\u001b[1m6/6\u001b[0m \u001b[32m━━━━━━━━━━━━━━━━━━━━\u001b[0m\u001b[37m\u001b[0m \u001b[1m1s\u001b[0m 210ms/step - loss: 109.7022 - mae: 5.4370 - root_mean_squared_error: 10.4680 - val_loss: 122.3430 - val_mae: 5.7087 - val_root_mean_squared_error: 11.0560\n",
      "\u001b[1m13/13\u001b[0m \u001b[32m━━━━━━━━━━━━━━━━━━━━\u001b[0m\u001b[37m\u001b[0m \u001b[1m112s\u001b[0m 100ms/step\n"
     ]
    }
   ],
   "source": [
    "mlflow.keras.autolog()\n",
    "mlflow.set_experiment(f'3_CNN_{datetime.datetime.now().strftime(\"%Y%m%d-%H%M%S\")}')\n",
    "\n",
    "run_experiment(\n",
    "    X_train_reshaped,\n",
    "    y_train.to_numpy(),\n",
    "    X_test_reshaped,\n",
    "    y_test.to_numpy(),\n",
    "    model,\n",
    "    epochs=1000,\n",
    "    batch_size=256,\n",
    "    callbacks=[callback],\n",
    "    major_oxides=major_oxides,\n",
    ")"
   ]
  }
 ],
 "metadata": {
  "kernelspec": {
   "display_name": "venv",
   "language": "python",
   "name": "python3"
  },
  "language_info": {
   "codemirror_mode": {
    "name": "ipython",
    "version": 3
   },
   "file_extension": ".py",
   "mimetype": "text/x-python",
   "name": "python",
   "nbconvert_exporter": "python",
   "pygments_lexer": "ipython3",
   "version": "3.12.2"
  }
 },
 "nbformat": 4,
 "nbformat_minor": 2
}

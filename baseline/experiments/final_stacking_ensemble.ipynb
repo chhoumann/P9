{
 "cells": [
  {
   "cell_type": "code",
   "execution_count": 64,
   "metadata": {},
   "outputs": [
    {
     "name": "stdout",
     "output_type": "stream",
     "text": [
      "The autoreload extension is already loaded. To reload it, use:\n",
      "  %reload_ext autoreload\n"
     ]
    }
   ],
   "source": [
    "%load_ext autoreload\n",
    "%autoreload 2"
   ]
  },
  {
   "cell_type": "code",
   "execution_count": 65,
   "metadata": {},
   "outputs": [],
   "source": [
    "import mlflow\n",
    "import pandas as pd\n",
    "import numpy as np\n",
    "import warnings\n",
    "\n",
    "warnings.simplefilter(action=\"ignore\", category=FutureWarning)\n",
    "warnings.simplefilter(action=\"ignore\", category=UserWarning)\n",
    "\n",
    "from lib.reproduction import major_oxides\n",
    "\n"
   ]
  },
  {
   "cell_type": "code",
   "execution_count": 66,
   "metadata": {},
   "outputs": [],
   "source": [
    "from lib import full_flow_dataloader\n",
    "from lib.cross_validation import custom_kfold_cross_validation_new\n",
    "\n",
    "\n",
    "# Load the data and create folds\n",
    "def get_data_indices(target: str):\n",
    "    # Simulate loading the data\n",
    "    train_full, test_full = full_flow_dataloader.load_full_flow_data(load_cache_if_exits=True, average_shots=True)\n",
    "    full_data = pd.concat([train_full, test_full], axis=0)\n",
    "\n",
    "    # Generate custom folds\n",
    "    folds, train, test = custom_kfold_cross_validation_new(\n",
    "        data=full_data, k=5, group_by=\"Sample Name\", target=target, random_state=42\n",
    "    )\n",
    "\n",
    "    train_indices = train.index.values\n",
    "    index_mapping = {idx: pos for pos, idx in enumerate(train_indices)}\n",
    "\n",
    "    # Convert DataFrame-based folds to index-based folds\n",
    "    fold_indices = []\n",
    "    for train_fold, test_fold in folds:\n",
    "        train_fold_idx = [index_mapping[idx] for idx in train_fold.index.values if idx in index_mapping]\n",
    "        test_fold_idx = [index_mapping[idx] for idx in test_fold.index.values if idx in index_mapping]\n",
    "        fold_indices.append((train_fold_idx, test_fold_idx))\n",
    "\n",
    "    return fold_indices, train, test, full_data, full_data[target]"
   ]
  },
  {
   "cell_type": "code",
   "execution_count": 67,
   "metadata": {},
   "outputs": [],
   "source": [
    "target = \"SiO2\"\n",
    "assert target in major_oxides, f\"Target {target} not in major_oxides\"\n",
    "drop_cols = major_oxides + [\"ID\", \"Sample Name\"]\n",
    "\n",
    "fold_indices, train_data, test_data, full_data, y_full = get_data_indices(target=target)\n",
    "X_full = full_data.drop(columns=drop_cols)"
   ]
  },
  {
   "cell_type": "code",
   "execution_count": 69,
   "metadata": {},
   "outputs": [],
   "source": [
    "# Manually perform cross-validation to generate predictions from base estimators\n",
    "def perform_manual_cv(fold_indices, X_full, y_full, base_estimators):\n",
    "    meta_features = np.zeros((X_full.shape[0], len(base_estimators)))\n",
    "    for i, (train_idx, test_idx) in enumerate(fold_indices):\n",
    "        X_train, X_test = X_full.iloc[train_idx], X_full.iloc[test_idx]\n",
    "        y_train, y_test = y_full.iloc[train_idx], y_full.iloc[test_idx]\n",
    "\n",
    "        for j, (name, estimator) in enumerate(base_estimators):\n",
    "            estimator.fit(X_train, y_train)\n",
    "            meta_features[test_idx, j] = estimator.predict(X_test)\n",
    "\n",
    "    return meta_features\n",
    "\n",
    "\n",
    "meta_features = perform_manual_cv(\n",
    "    fold_indices, X_full, y_full, sio2_pipeline\n",
    ")"
   ]
  },
  {
   "cell_type": "code",
   "execution_count": 70,
   "metadata": {},
   "outputs": [],
   "source": [
    "# Perform cross-validation for the final estimator using the meta-features\n",
    "def perform_final_cv(fold_indices, meta_features, y_full, final_estimator, metric_fns):\n",
    "    cv_metrics = []\n",
    "    for train_idx, test_idx in fold_indices:\n",
    "        X_train, X_test = meta_features[train_idx], meta_features[test_idx]\n",
    "        y_train, y_test = y_full.iloc[train_idx], y_full.iloc[test_idx]\n",
    "\n",
    "        final_estimator.fit(X_train, y_train)\n",
    "        y_pred = final_estimator.predict(X_test)\n",
    "\n",
    "        fold_metrics = [metric_fn(y_test, y_pred) for metric_fn in metric_fns]\n",
    "        cv_metrics.append(fold_metrics)\n",
    "\n",
    "    return cv_metrics"
   ]
  },
  {
   "cell_type": "code",
   "execution_count": 90,
   "metadata": {},
   "outputs": [],
   "source": [
    "from sklearn.linear_model import ElasticNet\n",
    "\n",
    "final_estimator = ElasticNet()"
   ]
  },
  {
   "cell_type": "code",
   "execution_count": 91,
   "metadata": {},
   "outputs": [
    {
     "name": "stdout",
     "output_type": "stream",
     "text": [
      "RMSECV: 4.017608952189917 ± 0.3183024994904487\n"
     ]
    }
   ],
   "source": [
    "from lib.metrics import rmse_metric, std_dev_metric\n",
    "\n",
    "metric_fns = [rmse_metric, std_dev_metric]\n",
    "\n",
    "# Calculate cross-validation metrics for the final estimator\n",
    "cv_metrics = perform_final_cv(\n",
    "    fold_indices, meta_features, y_full, final_estimator, metric_fns\n",
    ")\n",
    "\n",
    "# Aggregate cross-validation metrics\n",
    "rmse_cv_scores = [metrics[0] for metrics in cv_metrics]\n",
    "rmse_cv_mean = np.mean(rmse_cv_scores)\n",
    "rmse_cv_std = np.std(rmse_cv_scores)\n",
    "print(f\"RMSECV: {rmse_cv_mean} ± {rmse_cv_std}\")"
   ]
  },
  {
   "cell_type": "code",
   "execution_count": 85,
   "metadata": {},
   "outputs": [
    {
     "data": {
      "text/plain": [
       "[3.931479950176423, 4.477666619878011, 4.0860331961049745, 3.59433994486635]"
      ]
     },
     "execution_count": 85,
     "metadata": {},
     "output_type": "execute_result"
    }
   ],
   "source": [
    "rmse_cv_scores"
   ]
  },
  {
   "cell_type": "code",
   "execution_count": 86,
   "metadata": {},
   "outputs": [],
   "source": [
    "# Train the final model on the full training data and evaluate on the test data\n",
    "X_train_final = train_data.drop(columns=drop_cols)\n",
    "y_train_final = train_data[target]\n",
    "X_test_final = test_data.drop(columns=drop_cols)\n",
    "y_test_final = test_data[target]"
   ]
  },
  {
   "cell_type": "code",
   "execution_count": 81,
   "metadata": {},
   "outputs": [],
   "source": [
    "# Train base estimators on the entire training set\n",
    "for name, estimator in sio2_pipeline:\n",
    "    estimator.fit(X_train_final, y_train_final)"
   ]
  },
  {
   "cell_type": "code",
   "execution_count": 82,
   "metadata": {},
   "outputs": [
    {
     "name": "stdout",
     "output_type": "stream",
     "text": [
      "RMSEP: 3.801576940271841\n"
     ]
    }
   ],
   "source": [
    "# Generate meta-features for the entire training set\n",
    "meta_features_train = np.column_stack(\n",
    "    [estimator.predict(X_train_final) for name, estimator in sio2_pipeline]\n",
    ")\n",
    "meta_features_test = np.column_stack(\n",
    "    [estimator.predict(X_test_final) for name, estimator in sio2_pipeline]\n",
    ")\n",
    "\n",
    "# Train the final estimator on the entire training set meta-features\n",
    "final_estimator.fit(meta_features_train, y_train_final)\n",
    "y_pred_final = final_estimator.predict(meta_features_test)\n",
    "\n",
    "# Evaluate the final model\n",
    "rmsep_final = rmse_metric(y_test_final, y_pred_final)\n",
    "print(f\"RMSEP: {rmsep_final}\")"
   ]
  }
 ],
 "metadata": {
  "kernelspec": {
   "display_name": "venv",
   "language": "python",
   "name": "python3"
  },
  "language_info": {
   "codemirror_mode": {
    "name": "ipython",
    "version": 3
   },
   "file_extension": ".py",
   "mimetype": "text/x-python",
   "name": "python",
   "nbconvert_exporter": "python",
   "pygments_lexer": "ipython3",
   "version": "3.12.2"
  }
 },
 "nbformat": 4,
 "nbformat_minor": 2
}

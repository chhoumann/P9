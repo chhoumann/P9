{
    "cells": [
        {
            "cell_type": "code",
            "execution_count": 3,
            "metadata": {},
            "outputs": [
                {
                    "name": "stdout",
                    "output_type": "stream",
                    "text": [
                        "The autoreload extension is already loaded. To reload it, use:\n",
                        "  %reload_ext autoreload\n"
                    ]
                }
            ],
            "source": [
                "%load_ext autoreload\n",
                "%autoreload 2"
            ]
        },
        {
            "cell_type": "code",
            "execution_count": 4,
            "metadata": {},
            "outputs": [
                {
                    "name": "stderr",
                    "output_type": "stream",
                    "text": [
                        "Loading data: 100%|██████████| 414/414 [02:26<00:00,  2.82it/s]\n",
                        "Transforming samples: 100%|██████████| 308/308 [00:33<00:00,  9.26it/s]\n",
                        "Transforming samples: 100%|██████████| 78/78 [00:08<00:00,  9.39it/s]\n"
                    ]
                }
            ],
            "source": [
                "import mlflow\n",
                "import numpy as np\n",
                "import pandas as pd\n",
                "from sklearn.metrics import mean_squared_error\n",
                "from lib import full_flow_dataloader\n",
                "\n",
                "from lib.norms import Norm1Scaler, Norm3Scaler\n",
                "\n",
                "train_processed, test_processed = full_flow_dataloader.load_full_flow_data()"
            ]
        },
        {
            "cell_type": "code",
            "execution_count": 5,
            "metadata": {},
            "outputs": [
                {
                    "data": {
                        "text/plain": [
                            "(1538, 6154)"
                        ]
                    },
                    "execution_count": 5,
                    "metadata": {},
                    "output_type": "execute_result"
                }
            ],
            "source": [
                "train_processed.shape"
            ]
        },
        {
            "cell_type": "code",
            "execution_count": 6,
            "metadata": {},
            "outputs": [],
            "source": [
                "from lib.reproduction import major_oxides"
            ]
        },
        {
            "cell_type": "code",
            "execution_count": 7,
            "metadata": {},
            "outputs": [
                {
                    "data": {
                        "text/html": [
                            "<div>\n",
                            "<style scoped>\n",
                            "    .dataframe tbody tr th:only-of-type {\n",
                            "        vertical-align: middle;\n",
                            "    }\n",
                            "\n",
                            "    .dataframe tbody tr th {\n",
                            "        vertical-align: top;\n",
                            "    }\n",
                            "\n",
                            "    .dataframe thead th {\n",
                            "        text-align: right;\n",
                            "    }\n",
                            "</style>\n",
                            "<table border=\"1\" class=\"dataframe\">\n",
                            "  <thead>\n",
                            "    <tr style=\"text-align: right;\">\n",
                            "      <th></th>\n",
                            "      <th>240.811</th>\n",
                            "      <th>240.86501</th>\n",
                            "      <th>240.918</th>\n",
                            "      <th>240.972</th>\n",
                            "      <th>241.02699</th>\n",
                            "      <th>241.07899</th>\n",
                            "      <th>241.133</th>\n",
                            "      <th>241.188</th>\n",
                            "      <th>241.24001</th>\n",
                            "      <th>241.29401</th>\n",
                            "      <th>...</th>\n",
                            "      <th>SiO2</th>\n",
                            "      <th>TiO2</th>\n",
                            "      <th>Al2O3</th>\n",
                            "      <th>FeOT</th>\n",
                            "      <th>MgO</th>\n",
                            "      <th>CaO</th>\n",
                            "      <th>Na2O</th>\n",
                            "      <th>K2O</th>\n",
                            "      <th>Sample Name</th>\n",
                            "      <th>ID</th>\n",
                            "    </tr>\n",
                            "  </thead>\n",
                            "  <tbody>\n",
                            "    <tr>\n",
                            "      <th>0</th>\n",
                            "      <td>0.0</td>\n",
                            "      <td>0.0</td>\n",
                            "      <td>0.0</td>\n",
                            "      <td>0.0</td>\n",
                            "      <td>0.0</td>\n",
                            "      <td>0.0</td>\n",
                            "      <td>0.0</td>\n",
                            "      <td>0.0</td>\n",
                            "      <td>0.0</td>\n",
                            "      <td>0.0</td>\n",
                            "      <td>...</td>\n",
                            "      <td>56.13</td>\n",
                            "      <td>0.69</td>\n",
                            "      <td>17.69</td>\n",
                            "      <td>5.86</td>\n",
                            "      <td>3.85</td>\n",
                            "      <td>7.07</td>\n",
                            "      <td>3.32</td>\n",
                            "      <td>1.44</td>\n",
                            "      <td>jsc1421</td>\n",
                            "      <td>jsc1421_2013_09_12_210415_ccs</td>\n",
                            "    </tr>\n",
                            "    <tr>\n",
                            "      <th>1</th>\n",
                            "      <td>0.0</td>\n",
                            "      <td>0.0</td>\n",
                            "      <td>0.0</td>\n",
                            "      <td>0.0</td>\n",
                            "      <td>0.0</td>\n",
                            "      <td>0.0</td>\n",
                            "      <td>0.0</td>\n",
                            "      <td>0.0</td>\n",
                            "      <td>0.0</td>\n",
                            "      <td>0.0</td>\n",
                            "      <td>...</td>\n",
                            "      <td>56.13</td>\n",
                            "      <td>0.69</td>\n",
                            "      <td>17.69</td>\n",
                            "      <td>5.86</td>\n",
                            "      <td>3.85</td>\n",
                            "      <td>7.07</td>\n",
                            "      <td>3.32</td>\n",
                            "      <td>1.44</td>\n",
                            "      <td>jsc1421</td>\n",
                            "      <td>jsc1421_2013_09_12_210628_ccs</td>\n",
                            "    </tr>\n",
                            "    <tr>\n",
                            "      <th>2</th>\n",
                            "      <td>0.0</td>\n",
                            "      <td>0.0</td>\n",
                            "      <td>0.0</td>\n",
                            "      <td>0.0</td>\n",
                            "      <td>0.0</td>\n",
                            "      <td>0.0</td>\n",
                            "      <td>0.0</td>\n",
                            "      <td>0.0</td>\n",
                            "      <td>0.0</td>\n",
                            "      <td>0.0</td>\n",
                            "      <td>...</td>\n",
                            "      <td>56.13</td>\n",
                            "      <td>0.69</td>\n",
                            "      <td>17.69</td>\n",
                            "      <td>5.86</td>\n",
                            "      <td>3.85</td>\n",
                            "      <td>7.07</td>\n",
                            "      <td>3.32</td>\n",
                            "      <td>1.44</td>\n",
                            "      <td>jsc1421</td>\n",
                            "      <td>jsc1421_2013_09_12_210811_ccs</td>\n",
                            "    </tr>\n",
                            "    <tr>\n",
                            "      <th>3</th>\n",
                            "      <td>0.0</td>\n",
                            "      <td>0.0</td>\n",
                            "      <td>0.0</td>\n",
                            "      <td>0.0</td>\n",
                            "      <td>0.0</td>\n",
                            "      <td>0.0</td>\n",
                            "      <td>0.0</td>\n",
                            "      <td>0.0</td>\n",
                            "      <td>0.0</td>\n",
                            "      <td>0.0</td>\n",
                            "      <td>...</td>\n",
                            "      <td>56.13</td>\n",
                            "      <td>0.69</td>\n",
                            "      <td>17.69</td>\n",
                            "      <td>5.86</td>\n",
                            "      <td>3.85</td>\n",
                            "      <td>7.07</td>\n",
                            "      <td>3.32</td>\n",
                            "      <td>1.44</td>\n",
                            "      <td>jsc1421</td>\n",
                            "      <td>jsc1421_2013_09_12_211002_ccs</td>\n",
                            "    </tr>\n",
                            "    <tr>\n",
                            "      <th>4</th>\n",
                            "      <td>0.0</td>\n",
                            "      <td>0.0</td>\n",
                            "      <td>0.0</td>\n",
                            "      <td>0.0</td>\n",
                            "      <td>0.0</td>\n",
                            "      <td>0.0</td>\n",
                            "      <td>0.0</td>\n",
                            "      <td>0.0</td>\n",
                            "      <td>0.0</td>\n",
                            "      <td>0.0</td>\n",
                            "      <td>...</td>\n",
                            "      <td>56.13</td>\n",
                            "      <td>0.69</td>\n",
                            "      <td>17.69</td>\n",
                            "      <td>5.86</td>\n",
                            "      <td>3.85</td>\n",
                            "      <td>7.07</td>\n",
                            "      <td>3.32</td>\n",
                            "      <td>1.44</td>\n",
                            "      <td>jsc1421</td>\n",
                            "      <td>jsc1421_2013_09_12_211143_ccs</td>\n",
                            "    </tr>\n",
                            "  </tbody>\n",
                            "</table>\n",
                            "<p>5 rows × 6154 columns</p>\n",
                            "</div>"
                        ],
                        "text/plain": [
                            "   240.811  240.86501  240.918  240.972  241.02699  241.07899  241.133  \\\n",
                            "0      0.0        0.0      0.0      0.0        0.0        0.0      0.0   \n",
                            "1      0.0        0.0      0.0      0.0        0.0        0.0      0.0   \n",
                            "2      0.0        0.0      0.0      0.0        0.0        0.0      0.0   \n",
                            "3      0.0        0.0      0.0      0.0        0.0        0.0      0.0   \n",
                            "4      0.0        0.0      0.0      0.0        0.0        0.0      0.0   \n",
                            "\n",
                            "   241.188  241.24001  241.29401  ...   SiO2  TiO2  Al2O3  FeOT   MgO   CaO  \\\n",
                            "0      0.0        0.0        0.0  ...  56.13  0.69  17.69  5.86  3.85  7.07   \n",
                            "1      0.0        0.0        0.0  ...  56.13  0.69  17.69  5.86  3.85  7.07   \n",
                            "2      0.0        0.0        0.0  ...  56.13  0.69  17.69  5.86  3.85  7.07   \n",
                            "3      0.0        0.0        0.0  ...  56.13  0.69  17.69  5.86  3.85  7.07   \n",
                            "4      0.0        0.0        0.0  ...  56.13  0.69  17.69  5.86  3.85  7.07   \n",
                            "\n",
                            "   Na2O   K2O  Sample Name                             ID  \n",
                            "0  3.32  1.44      jsc1421  jsc1421_2013_09_12_210415_ccs  \n",
                            "1  3.32  1.44      jsc1421  jsc1421_2013_09_12_210628_ccs  \n",
                            "2  3.32  1.44      jsc1421  jsc1421_2013_09_12_210811_ccs  \n",
                            "3  3.32  1.44      jsc1421  jsc1421_2013_09_12_211002_ccs  \n",
                            "4  3.32  1.44      jsc1421  jsc1421_2013_09_12_211143_ccs  \n",
                            "\n",
                            "[5 rows x 6154 columns]"
                        ]
                    },
                    "execution_count": 7,
                    "metadata": {},
                    "output_type": "execute_result"
                }
            ],
            "source": [
                "train_processed.head()"
            ]
        },
        {
            "cell_type": "code",
            "execution_count": 8,
            "metadata": {},
            "outputs": [],
            "source": [
                "from sklearn.model_selection import train_test_split\n",
                "from lib.utils import custom_train_test_split\n",
                "\n",
                "train_cols = train_processed.columns\n",
                "test_cols = test_processed.columns\n",
                "norm = 3\n",
                "\n",
                "scaler = Norm1Scaler() if norm == 1 else Norm3Scaler()\n",
                "\n",
                "train = scaler.fit_transform(train_processed)\n",
                "test = scaler.fit_transform(test_processed)\n",
                "\n",
                "# turn back into dataframe\n",
                "train = pd.DataFrame(train, columns=train_cols)\n",
                "test = pd.DataFrame(test, columns=test_cols)\n",
                "\n",
                "drop_cols = major_oxides + [\"ID\", \"Sample Name\"]\n",
                "\n",
                "## - VALIDATION -\n",
                "# split_train, split_val = custom_train_test_split(train, \"Sample Name\", test_size=0.2, random_state=42)\n",
                "\n",
                "# X_train = split_train.drop(columns=drop_cols)\n",
                "# y_train = split_train[major_oxides]\n",
                "# X_val = split_val.drop(columns=drop_cols)\n",
                "# y_val = split_val[major_oxides]\n",
                "\n",
                "# Converting train set - comment out if using validation\n",
                "X_train = train.drop(columns=drop_cols)\n",
                "y_train = train[major_oxides]\n",
                "\n",
                "# Converting test set\n",
                "X_test = test.drop(columns=drop_cols)\n",
                "y_test = test[major_oxides]"
            ]
        },
        {
            "cell_type": "code",
            "execution_count": 11,
            "metadata": {},
            "outputs": [
                {
                    "name": "stderr",
                    "output_type": "stream",
                    "text": [
                        "2024/03/07 17:43:53 INFO mlflow.tracking.fluent: Experiment with name 'GBR_Norm3_20240307-174352' does not exist. Creating a new experiment.\n"
                    ]
                },
                {
                    "name": "stdout",
                    "output_type": "stream",
                    "text": [
                        "Starting training for target: SiO2\n",
                        "Fitting 5 folds for each of 150 candidates, totalling 750 fits\n",
                        "Completed training for target: SiO2. Time taken: 21459.992425203323 seconds.\n",
                        "Starting training for target: TiO2\n",
                        "Fitting 5 folds for each of 150 candidates, totalling 750 fits\n"
                    ]
                },
                {
                    "name": "stderr",
                    "output_type": "stream",
                    "text": [
                        "c:\\Users\\oster\\Documents\\GitHub\\thesis-chemcam\\baseline\\.venv\\Lib\\site-packages\\_distutils_hack\\__init__.py:18: UserWarning: Distutils was imported before Setuptools, but importing Setuptools also replaces the `distutils` module in `sys.modules`. This may lead to undesirable behaviors or errors. To avoid these issues, avoid using distutils directly, ensure that setuptools is installed in the traditional way (e.g. not an editable install), and/or make sure that setuptools is always imported before distutils.\n",
                        "  warnings.warn(\n",
                        "c:\\Users\\oster\\Documents\\GitHub\\thesis-chemcam\\baseline\\.venv\\Lib\\site-packages\\_distutils_hack\\__init__.py:33: UserWarning: Setuptools is replacing distutils.\n",
                        "  warnings.warn(\"Setuptools is replacing distutils.\")\n"
                    ]
                },
                {
                    "name": "stdout",
                    "output_type": "stream",
                    "text": [
                        "Completed training for target: TiO2. Time taken: 17017.658001184464 seconds.\n",
                        "Starting training for target: Al2O3\n",
                        "Fitting 5 folds for each of 150 candidates, totalling 750 fits\n"
                    ]
                },
                {
                    "name": "stderr",
                    "output_type": "stream",
                    "text": [
                        "c:\\Users\\oster\\Documents\\GitHub\\thesis-chemcam\\baseline\\.venv\\Lib\\site-packages\\_distutils_hack\\__init__.py:18: UserWarning: Distutils was imported before Setuptools, but importing Setuptools also replaces the `distutils` module in `sys.modules`. This may lead to undesirable behaviors or errors. To avoid these issues, avoid using distutils directly, ensure that setuptools is installed in the traditional way (e.g. not an editable install), and/or make sure that setuptools is always imported before distutils.\n",
                        "  warnings.warn(\n",
                        "c:\\Users\\oster\\Documents\\GitHub\\thesis-chemcam\\baseline\\.venv\\Lib\\site-packages\\_distutils_hack\\__init__.py:33: UserWarning: Setuptools is replacing distutils.\n",
                        "  warnings.warn(\"Setuptools is replacing distutils.\")\n"
                    ]
                },
                {
                    "name": "stdout",
                    "output_type": "stream",
                    "text": [
                        "Completed training for target: Al2O3. Time taken: 15088.231660604477 seconds.\n",
                        "Starting training for target: FeOT\n",
                        "Fitting 5 folds for each of 150 candidates, totalling 750 fits\n"
                    ]
                },
                {
                    "name": "stderr",
                    "output_type": "stream",
                    "text": [
                        "c:\\Users\\oster\\Documents\\GitHub\\thesis-chemcam\\baseline\\.venv\\Lib\\site-packages\\_distutils_hack\\__init__.py:18: UserWarning: Distutils was imported before Setuptools, but importing Setuptools also replaces the `distutils` module in `sys.modules`. This may lead to undesirable behaviors or errors. To avoid these issues, avoid using distutils directly, ensure that setuptools is installed in the traditional way (e.g. not an editable install), and/or make sure that setuptools is always imported before distutils.\n",
                        "  warnings.warn(\n",
                        "c:\\Users\\oster\\Documents\\GitHub\\thesis-chemcam\\baseline\\.venv\\Lib\\site-packages\\_distutils_hack\\__init__.py:33: UserWarning: Setuptools is replacing distutils.\n",
                        "  warnings.warn(\"Setuptools is replacing distutils.\")\n"
                    ]
                },
                {
                    "name": "stdout",
                    "output_type": "stream",
                    "text": [
                        "Completed training for target: FeOT. Time taken: 14825.886114120483 seconds.\n",
                        "Starting training for target: MgO\n",
                        "Fitting 5 folds for each of 150 candidates, totalling 750 fits\n"
                    ]
                },
                {
                    "name": "stderr",
                    "output_type": "stream",
                    "text": [
                        "c:\\Users\\oster\\Documents\\GitHub\\thesis-chemcam\\baseline\\.venv\\Lib\\site-packages\\_distutils_hack\\__init__.py:18: UserWarning: Distutils was imported before Setuptools, but importing Setuptools also replaces the `distutils` module in `sys.modules`. This may lead to undesirable behaviors or errors. To avoid these issues, avoid using distutils directly, ensure that setuptools is installed in the traditional way (e.g. not an editable install), and/or make sure that setuptools is always imported before distutils.\n",
                        "  warnings.warn(\n",
                        "c:\\Users\\oster\\Documents\\GitHub\\thesis-chemcam\\baseline\\.venv\\Lib\\site-packages\\_distutils_hack\\__init__.py:33: UserWarning: Setuptools is replacing distutils.\n",
                        "  warnings.warn(\"Setuptools is replacing distutils.\")\n"
                    ]
                },
                {
                    "name": "stdout",
                    "output_type": "stream",
                    "text": [
                        "Completed training for target: MgO. Time taken: 14817.101302146912 seconds.\n",
                        "Starting training for target: CaO\n",
                        "Fitting 5 folds for each of 150 candidates, totalling 750 fits\n"
                    ]
                },
                {
                    "name": "stderr",
                    "output_type": "stream",
                    "text": [
                        "c:\\Users\\oster\\Documents\\GitHub\\thesis-chemcam\\baseline\\.venv\\Lib\\site-packages\\_distutils_hack\\__init__.py:18: UserWarning: Distutils was imported before Setuptools, but importing Setuptools also replaces the `distutils` module in `sys.modules`. This may lead to undesirable behaviors or errors. To avoid these issues, avoid using distutils directly, ensure that setuptools is installed in the traditional way (e.g. not an editable install), and/or make sure that setuptools is always imported before distutils.\n",
                        "  warnings.warn(\n",
                        "c:\\Users\\oster\\Documents\\GitHub\\thesis-chemcam\\baseline\\.venv\\Lib\\site-packages\\_distutils_hack\\__init__.py:33: UserWarning: Setuptools is replacing distutils.\n",
                        "  warnings.warn(\"Setuptools is replacing distutils.\")\n"
                    ]
                },
                {
                    "name": "stdout",
                    "output_type": "stream",
                    "text": [
                        "Completed training for target: CaO. Time taken: 14858.943468809128 seconds.\n",
                        "Starting training for target: Na2O\n",
                        "Fitting 5 folds for each of 150 candidates, totalling 750 fits\n"
                    ]
                },
                {
                    "name": "stderr",
                    "output_type": "stream",
                    "text": [
                        "c:\\Users\\oster\\Documents\\GitHub\\thesis-chemcam\\baseline\\.venv\\Lib\\site-packages\\_distutils_hack\\__init__.py:18: UserWarning: Distutils was imported before Setuptools, but importing Setuptools also replaces the `distutils` module in `sys.modules`. This may lead to undesirable behaviors or errors. To avoid these issues, avoid using distutils directly, ensure that setuptools is installed in the traditional way (e.g. not an editable install), and/or make sure that setuptools is always imported before distutils.\n",
                        "  warnings.warn(\n",
                        "c:\\Users\\oster\\Documents\\GitHub\\thesis-chemcam\\baseline\\.venv\\Lib\\site-packages\\_distutils_hack\\__init__.py:33: UserWarning: Setuptools is replacing distutils.\n",
                        "  warnings.warn(\"Setuptools is replacing distutils.\")\n"
                    ]
                },
                {
                    "name": "stdout",
                    "output_type": "stream",
                    "text": [
                        "Completed training for target: Na2O. Time taken: 14952.649617433548 seconds.\n",
                        "Starting training for target: K2O\n",
                        "Fitting 5 folds for each of 150 candidates, totalling 750 fits\n"
                    ]
                },
                {
                    "name": "stderr",
                    "output_type": "stream",
                    "text": [
                        "c:\\Users\\oster\\Documents\\GitHub\\thesis-chemcam\\baseline\\.venv\\Lib\\site-packages\\_distutils_hack\\__init__.py:18: UserWarning: Distutils was imported before Setuptools, but importing Setuptools also replaces the `distutils` module in `sys.modules`. This may lead to undesirable behaviors or errors. To avoid these issues, avoid using distutils directly, ensure that setuptools is installed in the traditional way (e.g. not an editable install), and/or make sure that setuptools is always imported before distutils.\n",
                        "  warnings.warn(\n",
                        "c:\\Users\\oster\\Documents\\GitHub\\thesis-chemcam\\baseline\\.venv\\Lib\\site-packages\\_distutils_hack\\__init__.py:33: UserWarning: Setuptools is replacing distutils.\n",
                        "  warnings.warn(\"Setuptools is replacing distutils.\")\n"
                    ]
                },
                {
                    "name": "stdout",
                    "output_type": "stream",
                    "text": [
                        "Completed training for target: K2O. Time taken: 16660.1279630661 seconds.\n"
                    ]
                }
            ],
            "source": [
                "import datetime\n",
                "import time\n",
                "from sklearn.ensemble import GradientBoostingRegressor\n",
                "from sklearn.model_selection import RandomizedSearchCV\n",
                "\n",
                "mlflow.set_experiment(f'GBR_Norm{norm}_{datetime.datetime.now().strftime(\"%Y%m%d-%H%M%S\")}')\n",
                "\n",
                "models = []\n",
                "rmse_scores = []\n",
                "\n",
                "gbr_params = {\n",
                "    'loss': ['squared_error', 'absolute_error', 'huber', 'quantile'],\n",
                "    'learning_rate': [0.01, 0.1, 0.2],\n",
                "    'n_estimators': [100, 200, 300],\n",
                "    'subsample': [0.8, 0.9, 1.0],\n",
                "    'criterion': ['friedman_mse', 'squared_error'],\n",
                "    'min_samples_split': [2, 3, 4],\n",
                "    'min_samples_leaf': [1, 2, 3],\n",
                "    'min_weight_fraction_leaf': [0.0, 0.1],\n",
                "    'max_depth': [3, 4, 5],\n",
                "    'min_impurity_decrease': [0.0, 0.01],\n",
                "    'init': [None, 'zero'],\n",
                "    'random_state': [None, 42],\n",
                "    'max_features': [None, 'sqrt', 'log2'],\n",
                "    'alpha': [0.9, 0.95],\n",
                "    'verbose': [0],\n",
                "    'max_leaf_nodes': [None, 4, 8],\n",
                "    'warm_start': [False, True],\n",
                "    'validation_fraction': [0.1],\n",
                "    'n_iter_no_change': [None, 5],\n",
                "    'tol': [1e-4],\n",
                "    'ccp_alpha': [0.0, 0.01]\n",
                "}\n",
                "\n",
                "gb_regressor = GradientBoostingRegressor()\n",
                "rand_search = RandomizedSearchCV(estimator=gb_regressor, param_distributions=gbr_params, n_iter=150, cv=5, n_jobs=-1, verbose=3)\n",
                "\n",
                "# Iterate over each target variable\n",
                "for target in y_train.columns:\n",
                "    start_time = time.time()\n",
                "    print(f\"Starting training for target: {target}\")\n",
                "\n",
                "    with mlflow.start_run(run_name=f\"GBR_{target}\"):\n",
                "\n",
                "        # Fit the grid search to the data\n",
                "        rand_search.fit(X_train, y_train[target])\n",
                "        best_estimator = rand_search.best_estimator_\n",
                "\n",
                "        # Predict using the best estimator\n",
                "        y_pred = best_estimator.predict(X_test)\n",
                "        rmse = np.sqrt(mean_squared_error(y_test[target], y_pred))\n",
                "\n",
                "        # MLflow logging\n",
                "        mlflow.log_metric(\"rmse\", float(rmse))\n",
                "\n",
                "        # Log best parameters from the grid search\n",
                "        mlflow.log_params(rand_search.best_params_)\n",
                "        mlflow.log_param(\"target\", target)\n",
                "        mlflow.log_param(\"norm\", norm)\n",
                "\n",
                "        # Log the best estimator as a model\n",
                "        mlflow.sklearn.log_model(best_estimator, f\"model_{target}_{norm}\")\n",
                "        \n",
                "    end_time = time.time()\n",
                "    elapsed_time = end_time - start_time\n",
                "    print(f\"Completed training for target: {target}. Time taken: {elapsed_time} seconds.\")"
            ]
        }
    ],
    "metadata": {
        "kernelspec": {
            "display_name": "venv",
            "language": "python",
            "name": "python3"
        },
        "language_info": {
            "codemirror_mode": {
                "name": "ipython",
                "version": 3
            },
            "file_extension": ".py",
            "mimetype": "text/x-python",
            "name": "python",
            "nbconvert_exporter": "python",
            "pygments_lexer": "ipython3",
            "version": "3.11.1"
        }
    },
    "nbformat": 4,
    "nbformat_minor": 2
}

{
    "cells": [
        {
            "cell_type": "code",
            "execution_count": 1,
            "metadata": {},
            "outputs": [],
            "source": [
                "%load_ext autoreload\n",
                "%autoreload 2"
            ]
        },
        {
            "cell_type": "code",
            "execution_count": 2,
            "metadata": {},
            "outputs": [],
            "source": [
                "import mlflow\n",
                "import numpy as np\n",
                "import pandas as pd\n",
                "from sklearn.metrics import mean_squared_error\n",
                "from lib.experiment_setup import Experiment\n",
                "from sklearn.ensemble import GradientBoostingRegressor\n",
                "from sklearn.model_selection import RandomizedSearchCV"
            ]
        },
        {
            "cell_type": "code",
            "execution_count": null,
            "metadata": {},
            "outputs": [],
            "source": [
                "experiment = Experiment(name=\"GBR\", norm=3)\n",
                "models = []\n",
                "rmse_scores = []\n",
                "\n",
                "gbr_params = {\n",
                "    'loss': ['squared_error', 'absolute_error', 'huber', 'quantile'],\n",
                "    'learning_rate': [0.01, 0.1, 0.2],\n",
                "    'n_estimators': [100, 200, 300],\n",
                "    'subsample': [0.8, 0.9, 1.0],\n",
                "    'criterion': ['friedman_mse', 'squared_error'],\n",
                "    'min_samples_split': [2, 3, 4],\n",
                "    'min_samples_leaf': [1, 2, 3],\n",
                "    'min_weight_fraction_leaf': [0.0, 0.1],\n",
                "    'max_depth': [3, 4, 5],\n",
                "    'min_impurity_decrease': [0.0, 0.01],\n",
                "    'init': [None, 'zero'],\n",
                "    'random_state': [None, 42],\n",
                "    'max_features': [None, 'sqrt', 'log2'],\n",
                "    'alpha': [0.9, 0.95],\n",
                "    'verbose': [0],\n",
                "    'max_leaf_nodes': [None, 4, 8],\n",
                "    'warm_start': [False, True],\n",
                "    'validation_fraction': [0.1],\n",
                "    'n_iter_no_change': [None, 5],\n",
                "    'tol': [1e-4],\n",
                "    'ccp_alpha': [0.0, 0.01]\n",
                "}\n",
                "\n",
                "gb_regressor = GradientBoostingRegressor()\n",
                "rand_search = RandomizedSearchCV(estimator=gb_regressor, param_distributions=gbr_params, n_iter=150, cv=5, n_jobs=-1, verbose=3)"
            ]
        },
        {
            "cell_type": "code",
            "execution_count": null,
            "metadata": {},
            "outputs": [],
            "source": [
                "def gbr_experiment(X_train: pd.DataFrame, X_test: pd.DataFrame, y_train: pd.DataFrame, y_test: pd.DataFrame, target: str, norm: int):\n",
                "    rand_search.fit(X_train, y_train[target])\n",
                "    best_estimator = rand_search.best_estimator_\n",
                "\n",
                "    # Predict using the best estimator\n",
                "    y_pred = best_estimator.predict(X_test)\n",
                "    rmse = np.sqrt(mean_squared_error(y_test[target], y_pred))\n",
                "\n",
                "    # MLflow logging\n",
                "    mlflow.log_metric(\"rmse\", float(rmse))\n",
                "\n",
                "    # Log best parameters from the grid search\n",
                "    mlflow.log_params(rand_search.best_params_)\n",
                "\n",
                "    # Log the best estimator as a model\n",
                "    experiment.mlflow_sklearn_log_model(best_estimator)\n",
                "\n",
                "\n",
                "experiment.run(gbr_experiment)"
            ]
        }
    ],
    "metadata": {
        "kernelspec": {
            "display_name": "venv",
            "language": "python",
            "name": "python3"
        },
        "language_info": {
            "codemirror_mode": {
                "name": "ipython",
                "version": 3
            },
            "file_extension": ".py",
            "mimetype": "text/x-python",
            "name": "python",
            "nbconvert_exporter": "python",
            "pygments_lexer": "ipython3",
            "version": "3.10.7"
        }
    },
    "nbformat": 4,
    "nbformat_minor": 2
}

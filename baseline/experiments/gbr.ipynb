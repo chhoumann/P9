{
    "cells": [
        {
            "cell_type": "code",
            "execution_count": 3,
            "metadata": {},
            "outputs": [
                {
                    "name": "stdout",
                    "output_type": "stream",
                    "text": [
                        "The autoreload extension is already loaded. To reload it, use:\n",
                        "  %reload_ext autoreload\n"
                    ]
                }
            ],
            "source": [
                "%load_ext autoreload\n",
                "%autoreload 2"
            ]
        },
        {
            "cell_type": "code",
            "execution_count": 4,
            "metadata": {},
            "outputs": [
                {
                    "name": "stderr",
                    "output_type": "stream",
                    "text": [
                        "Loading data: 100%|██████████| 414/414 [02:26<00:00,  2.82it/s]\n",
                        "Transforming samples: 100%|██████████| 308/308 [00:33<00:00,  9.26it/s]\n",
                        "Transforming samples: 100%|██████████| 78/78 [00:08<00:00,  9.39it/s]\n"
                    ]
                }
            ],
            "source": [
                "import mlflow\n",
                "import numpy as np\n",
                "from sklearn.metrics import mean_squared_error\n",
                "from lib import full_flow_dataloader\n",
                "from lib.full_flow_dataloader import load_train_test_data"
            ]
        },
        {
            "cell_type": "code",
            "execution_count": 8,
            "metadata": {},
            "outputs": [],
            "source": [
                "norm = 3\n",
                "X_train, y_train, X_test, y_test = load_train_test_data(norm=3)"
            ]
        },
        {
            "cell_type": "code",
            "execution_count": 11,
            "metadata": {},
            "outputs": [
                {
                    "name": "stderr",
                    "output_type": "stream",
                    "text": [
                        "2024/03/07 17:43:53 INFO mlflow.tracking.fluent: Experiment with name 'GBR_Norm3_20240307-174352' does not exist. Creating a new experiment.\n"
                    ]
                },
                {
                    "name": "stdout",
                    "output_type": "stream",
                    "text": [
                        "Starting training for target: SiO2\n",
                        "Fitting 5 folds for each of 150 candidates, totalling 750 fits\n",
                        "Completed training for target: SiO2. Time taken: 21459.992425203323 seconds.\n",
                        "Starting training for target: TiO2\n",
                        "Fitting 5 folds for each of 150 candidates, totalling 750 fits\n"
                    ]
                },
                {
                    "name": "stderr",
                    "output_type": "stream",
                    "text": [
                        "c:\\Users\\oster\\Documents\\GitHub\\thesis-chemcam\\baseline\\.venv\\Lib\\site-packages\\_distutils_hack\\__init__.py:18: UserWarning: Distutils was imported before Setuptools, but importing Setuptools also replaces the `distutils` module in `sys.modules`. This may lead to undesirable behaviors or errors. To avoid these issues, avoid using distutils directly, ensure that setuptools is installed in the traditional way (e.g. not an editable install), and/or make sure that setuptools is always imported before distutils.\n",
                        "  warnings.warn(\n",
                        "c:\\Users\\oster\\Documents\\GitHub\\thesis-chemcam\\baseline\\.venv\\Lib\\site-packages\\_distutils_hack\\__init__.py:33: UserWarning: Setuptools is replacing distutils.\n",
                        "  warnings.warn(\"Setuptools is replacing distutils.\")\n"
                    ]
                },
                {
                    "name": "stdout",
                    "output_type": "stream",
                    "text": [
                        "Completed training for target: TiO2. Time taken: 17017.658001184464 seconds.\n",
                        "Starting training for target: Al2O3\n",
                        "Fitting 5 folds for each of 150 candidates, totalling 750 fits\n"
                    ]
                },
                {
                    "name": "stderr",
                    "output_type": "stream",
                    "text": [
                        "c:\\Users\\oster\\Documents\\GitHub\\thesis-chemcam\\baseline\\.venv\\Lib\\site-packages\\_distutils_hack\\__init__.py:18: UserWarning: Distutils was imported before Setuptools, but importing Setuptools also replaces the `distutils` module in `sys.modules`. This may lead to undesirable behaviors or errors. To avoid these issues, avoid using distutils directly, ensure that setuptools is installed in the traditional way (e.g. not an editable install), and/or make sure that setuptools is always imported before distutils.\n",
                        "  warnings.warn(\n",
                        "c:\\Users\\oster\\Documents\\GitHub\\thesis-chemcam\\baseline\\.venv\\Lib\\site-packages\\_distutils_hack\\__init__.py:33: UserWarning: Setuptools is replacing distutils.\n",
                        "  warnings.warn(\"Setuptools is replacing distutils.\")\n"
                    ]
                },
                {
                    "name": "stdout",
                    "output_type": "stream",
                    "text": [
                        "Completed training for target: Al2O3. Time taken: 15088.231660604477 seconds.\n",
                        "Starting training for target: FeOT\n",
                        "Fitting 5 folds for each of 150 candidates, totalling 750 fits\n"
                    ]
                },
                {
                    "name": "stderr",
                    "output_type": "stream",
                    "text": [
                        "c:\\Users\\oster\\Documents\\GitHub\\thesis-chemcam\\baseline\\.venv\\Lib\\site-packages\\_distutils_hack\\__init__.py:18: UserWarning: Distutils was imported before Setuptools, but importing Setuptools also replaces the `distutils` module in `sys.modules`. This may lead to undesirable behaviors or errors. To avoid these issues, avoid using distutils directly, ensure that setuptools is installed in the traditional way (e.g. not an editable install), and/or make sure that setuptools is always imported before distutils.\n",
                        "  warnings.warn(\n",
                        "c:\\Users\\oster\\Documents\\GitHub\\thesis-chemcam\\baseline\\.venv\\Lib\\site-packages\\_distutils_hack\\__init__.py:33: UserWarning: Setuptools is replacing distutils.\n",
                        "  warnings.warn(\"Setuptools is replacing distutils.\")\n"
                    ]
                },
                {
                    "name": "stdout",
                    "output_type": "stream",
                    "text": [
                        "Completed training for target: FeOT. Time taken: 14825.886114120483 seconds.\n",
                        "Starting training for target: MgO\n",
                        "Fitting 5 folds for each of 150 candidates, totalling 750 fits\n"
                    ]
                },
                {
                    "name": "stderr",
                    "output_type": "stream",
                    "text": [
                        "c:\\Users\\oster\\Documents\\GitHub\\thesis-chemcam\\baseline\\.venv\\Lib\\site-packages\\_distutils_hack\\__init__.py:18: UserWarning: Distutils was imported before Setuptools, but importing Setuptools also replaces the `distutils` module in `sys.modules`. This may lead to undesirable behaviors or errors. To avoid these issues, avoid using distutils directly, ensure that setuptools is installed in the traditional way (e.g. not an editable install), and/or make sure that setuptools is always imported before distutils.\n",
                        "  warnings.warn(\n",
                        "c:\\Users\\oster\\Documents\\GitHub\\thesis-chemcam\\baseline\\.venv\\Lib\\site-packages\\_distutils_hack\\__init__.py:33: UserWarning: Setuptools is replacing distutils.\n",
                        "  warnings.warn(\"Setuptools is replacing distutils.\")\n"
                    ]
                },
                {
                    "name": "stdout",
                    "output_type": "stream",
                    "text": [
                        "Completed training for target: MgO. Time taken: 14817.101302146912 seconds.\n",
                        "Starting training for target: CaO\n",
                        "Fitting 5 folds for each of 150 candidates, totalling 750 fits\n"
                    ]
                },
                {
                    "name": "stderr",
                    "output_type": "stream",
                    "text": [
                        "c:\\Users\\oster\\Documents\\GitHub\\thesis-chemcam\\baseline\\.venv\\Lib\\site-packages\\_distutils_hack\\__init__.py:18: UserWarning: Distutils was imported before Setuptools, but importing Setuptools also replaces the `distutils` module in `sys.modules`. This may lead to undesirable behaviors or errors. To avoid these issues, avoid using distutils directly, ensure that setuptools is installed in the traditional way (e.g. not an editable install), and/or make sure that setuptools is always imported before distutils.\n",
                        "  warnings.warn(\n",
                        "c:\\Users\\oster\\Documents\\GitHub\\thesis-chemcam\\baseline\\.venv\\Lib\\site-packages\\_distutils_hack\\__init__.py:33: UserWarning: Setuptools is replacing distutils.\n",
                        "  warnings.warn(\"Setuptools is replacing distutils.\")\n"
                    ]
                },
                {
                    "name": "stdout",
                    "output_type": "stream",
                    "text": [
                        "Completed training for target: CaO. Time taken: 14858.943468809128 seconds.\n",
                        "Starting training for target: Na2O\n",
                        "Fitting 5 folds for each of 150 candidates, totalling 750 fits\n"
                    ]
                },
                {
                    "name": "stderr",
                    "output_type": "stream",
                    "text": [
                        "c:\\Users\\oster\\Documents\\GitHub\\thesis-chemcam\\baseline\\.venv\\Lib\\site-packages\\_distutils_hack\\__init__.py:18: UserWarning: Distutils was imported before Setuptools, but importing Setuptools also replaces the `distutils` module in `sys.modules`. This may lead to undesirable behaviors or errors. To avoid these issues, avoid using distutils directly, ensure that setuptools is installed in the traditional way (e.g. not an editable install), and/or make sure that setuptools is always imported before distutils.\n",
                        "  warnings.warn(\n",
                        "c:\\Users\\oster\\Documents\\GitHub\\thesis-chemcam\\baseline\\.venv\\Lib\\site-packages\\_distutils_hack\\__init__.py:33: UserWarning: Setuptools is replacing distutils.\n",
                        "  warnings.warn(\"Setuptools is replacing distutils.\")\n"
                    ]
                },
                {
                    "name": "stdout",
                    "output_type": "stream",
                    "text": [
                        "Completed training for target: Na2O. Time taken: 14952.649617433548 seconds.\n",
                        "Starting training for target: K2O\n",
                        "Fitting 5 folds for each of 150 candidates, totalling 750 fits\n"
                    ]
                },
                {
                    "name": "stderr",
                    "output_type": "stream",
                    "text": [
                        "c:\\Users\\oster\\Documents\\GitHub\\thesis-chemcam\\baseline\\.venv\\Lib\\site-packages\\_distutils_hack\\__init__.py:18: UserWarning: Distutils was imported before Setuptools, but importing Setuptools also replaces the `distutils` module in `sys.modules`. This may lead to undesirable behaviors or errors. To avoid these issues, avoid using distutils directly, ensure that setuptools is installed in the traditional way (e.g. not an editable install), and/or make sure that setuptools is always imported before distutils.\n",
                        "  warnings.warn(\n",
                        "c:\\Users\\oster\\Documents\\GitHub\\thesis-chemcam\\baseline\\.venv\\Lib\\site-packages\\_distutils_hack\\__init__.py:33: UserWarning: Setuptools is replacing distutils.\n",
                        "  warnings.warn(\"Setuptools is replacing distutils.\")\n"
                    ]
                },
                {
                    "name": "stdout",
                    "output_type": "stream",
                    "text": [
                        "Completed training for target: K2O. Time taken: 16660.1279630661 seconds.\n"
                    ]
                }
            ],
            "source": [
                "import datetime\n",
                "import time\n",
                "from sklearn.ensemble import GradientBoostingRegressor\n",
                "from sklearn.model_selection import RandomizedSearchCV\n",
                "\n",
                "mlflow.set_experiment(f'GBR_Norm{norm}_{datetime.datetime.now().strftime(\"%Y%m%d-%H%M%S\")}')\n",
                "\n",
                "models = []\n",
                "rmse_scores = []\n",
                "\n",
                "gbr_params = {\n",
                "    'loss': ['squared_error', 'absolute_error', 'huber', 'quantile'],\n",
                "    'learning_rate': [0.01, 0.1, 0.2],\n",
                "    'n_estimators': [100, 200, 300],\n",
                "    'subsample': [0.8, 0.9, 1.0],\n",
                "    'criterion': ['friedman_mse', 'squared_error'],\n",
                "    'min_samples_split': [2, 3, 4],\n",
                "    'min_samples_leaf': [1, 2, 3],\n",
                "    'min_weight_fraction_leaf': [0.0, 0.1],\n",
                "    'max_depth': [3, 4, 5],\n",
                "    'min_impurity_decrease': [0.0, 0.01],\n",
                "    'init': [None, 'zero'],\n",
                "    'random_state': [None, 42],\n",
                "    'max_features': [None, 'sqrt', 'log2'],\n",
                "    'alpha': [0.9, 0.95],\n",
                "    'verbose': [0],\n",
                "    'max_leaf_nodes': [None, 4, 8],\n",
                "    'warm_start': [False, True],\n",
                "    'validation_fraction': [0.1],\n",
                "    'n_iter_no_change': [None, 5],\n",
                "    'tol': [1e-4],\n",
                "    'ccp_alpha': [0.0, 0.01]\n",
                "}\n",
                "\n",
                "gb_regressor = GradientBoostingRegressor()\n",
                "rand_search = RandomizedSearchCV(estimator=gb_regressor, param_distributions=gbr_params, n_iter=150, cv=5, n_jobs=-1, verbose=3)\n",
                "\n",
                "# Iterate over each target variable\n",
                "for target in y_train.columns:\n",
                "    start_time = time.time()\n",
                "    print(f\"Starting training for target: {target}\")\n",
                "\n",
                "    with mlflow.start_run(run_name=f\"GBR_{target}\"):\n",
                "\n",
                "        # Fit the grid search to the data\n",
                "        rand_search.fit(X_train, y_train[target])\n",
                "        best_estimator = rand_search.best_estimator_\n",
                "\n",
                "        # Predict using the best estimator\n",
                "        y_pred = best_estimator.predict(X_test)\n",
                "        rmse = np.sqrt(mean_squared_error(y_test[target], y_pred))\n",
                "\n",
                "        # MLflow logging\n",
                "        mlflow.log_metric(\"rmse\", float(rmse))\n",
                "\n",
                "        # Log best parameters from the grid search\n",
                "        mlflow.log_params(rand_search.best_params_)\n",
                "        mlflow.log_param(\"target\", target)\n",
                "        mlflow.log_param(\"norm\", norm)\n",
                "\n",
                "        # Log the best estimator as a model\n",
                "        mlflow.sklearn.log_model(best_estimator, f\"model_{target}_{norm}\")\n",
                "\n",
                "    end_time = time.time()\n",
                "    elapsed_time = end_time - start_time\n",
                "    print(f\"Completed training for target: {target}. Time taken: {elapsed_time} seconds.\")"
            ]
        }
    ],
    "metadata": {
        "kernelspec": {
            "display_name": "venv",
            "language": "python",
            "name": "python3"
        },
        "language_info": {
            "codemirror_mode": {
                "name": "ipython",
                "version": 3
            },
            "file_extension": ".py",
            "mimetype": "text/x-python",
            "name": "python",
            "nbconvert_exporter": "python",
            "pygments_lexer": "ipython3",
            "version": "3.10.7"
        }
    },
    "nbformat": 4,
    "nbformat_minor": 2
}

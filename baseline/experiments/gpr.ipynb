{
 "cells": [
  {
   "cell_type": "code",
   "execution_count": 6,
   "metadata": {},
   "outputs": [
    {
     "name": "stdout",
     "output_type": "stream",
     "text": [
      "The autoreload extension is already loaded. To reload it, use:\n",
      "  %reload_ext autoreload\n"
     ]
    }
   ],
   "source": [
    "%load_ext autoreload\n",
    "%autoreload 2"
   ]
  },
  {
   "cell_type": "code",
   "execution_count": 7,
   "metadata": {},
   "outputs": [],
   "source": [
    "import mlflow\n",
    "import numpy as np\n",
    "import pandas as pd\n",
    "from sklearn.metrics import mean_squared_error\n",
    "\n",
    "from lib.reproduction import major_oxides"
   ]
  },
  {
   "cell_type": "code",
   "execution_count": 8,
   "metadata": {},
   "outputs": [],
   "source": [
    "from sklearn.model_selection import train_test_split\n",
    "from lib.full_flow_dataloader import load_and_scale_data\n",
    "from lib.utils import custom_train_test_split\n",
    "\n",
    "norm = 1\n",
    "\n",
    "train, test = load_and_scale_data(norm)\n",
    "\n",
    "drop_cols = major_oxides + [\"ID\", \"Sample Name\"]\n",
    "\n",
    "## - VALIDATION -\n",
    "# split_train, split_val = custom_train_test_split(train, \"Sample Name\", test_size=0.2, random_state=42)\n",
    "\n",
    "# X_train = split_train.drop(columns=drop_cols)\n",
    "# y_train = split_train[major_oxides]\n",
    "# X_val = split_val.drop(columns=drop_cols)\n",
    "# y_val = split_val[major_oxides]\n",
    "\n",
    "# Converting train set - comment out if using validation\n",
    "X_train = train.drop(columns=drop_cols)\n",
    "y_train = train[major_oxides]\n",
    "\n",
    "# Converting test set\n",
    "X_test = test.drop(columns=drop_cols)\n",
    "y_test = test[major_oxides]"
   ]
  },
  {
   "cell_type": "code",
   "execution_count": 9,
   "metadata": {},
   "outputs": [
    {
     "name": "stderr",
     "output_type": "stream",
     "text": [
      "2024/04/18 16:29:08 INFO mlflow.tracking.fluent: Experiment with name 'GPR_Norm3_20240418-162904' does not exist. Creating a new experiment.\n"
     ]
    },
    {
     "data": {
      "text/plain": [
       "<Experiment: artifact_location='mlflow-artifacts:/905130345086743371', creation_time=1713450551527, experiment_id='905130345086743371', last_update_time=1713450551527, lifecycle_stage='active', name='GPR_Norm3_20240418-162904', tags={}>"
      ]
     },
     "execution_count": 9,
     "metadata": {},
     "output_type": "execute_result"
    }
   ],
   "source": [
    "import datetime\n",
    "\n",
    "mlflow.set_experiment(f'GPR_Norm{norm}_{datetime.datetime.now().strftime(\"%Y%m%d-%H%M%S\")}')"
   ]
  },
  {
   "cell_type": "code",
   "execution_count": 10,
   "metadata": {},
   "outputs": [],
   "source": [
    "from sklearn.gaussian_process import GaussianProcessRegressor\n",
    "from sklearn.gaussian_process.kernels import RBF, WhiteKernel\n",
    "import warnings\n",
    "\n",
    "# disable warnings\n",
    "warnings.simplefilter(action=\"ignore\", category=FutureWarning)\n",
    "warnings.simplefilter(action=\"ignore\", category=UserWarning)\n",
    "\n",
    "models = []\n",
    "\n",
    "\n",
    "for target in y_train.columns:\n",
    "    with mlflow.start_run(run_name=f\"GPR_{target}\"):\n",
    "        gpr_reg = GaussianProcessRegressor(kernel=1.0 * RBF(length_scale=1.0) + WhiteKernel(noise_level=1), random_state=42)\n",
    "        gpr_reg.fit(X_train, y_train[target])\n",
    "\n",
    "        y_pred = gpr_reg.predict(X_test)\n",
    "        rmse = np.sqrt(mean_squared_error(y_test[target], y_pred))\n",
    "        mlflow.log_metric(\"rmse\", float(rmse))\n",
    "        mlflow.log_param(\"target\", target)\n",
    "        mlflow.log_param(\"norm\", norm)\n",
    "\n",
    "        models.append(gpr_reg)\n",
    "        mlflow.sklearn.log_model(gpr_reg, f\"model_{target}\")"
   ]
  }
 ],
 "metadata": {
  "kernelspec": {
   "display_name": "venv",
   "language": "python",
   "name": "python3"
  },
  "language_info": {
   "codemirror_mode": {
    "name": "ipython",
    "version": 3
   },
   "file_extension": ".py",
   "mimetype": "text/x-python",
   "name": "python",
   "nbconvert_exporter": "python",
   "pygments_lexer": "ipython3",
   "version": "3.12.2"
  }
 },
 "nbformat": 4,
 "nbformat_minor": 2
}

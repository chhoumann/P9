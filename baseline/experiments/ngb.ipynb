{
 "cells": [
  {
   "cell_type": "code",
   "execution_count": 1,
   "metadata": {},
   "outputs": [],
   "source": [
    "%load_ext autoreload\n",
    "%autoreload 2"
   ]
  },
  {
   "cell_type": "code",
   "execution_count": 2,
   "metadata": {},
   "outputs": [],
   "source": [
    "import mlflow\n",
    "import numpy as np\n",
    "import pandas as pd\n",
    "from sklearn.metrics import mean_squared_error\n",
    "\n",
    "from lib.reproduction import major_oxides"
   ]
  },
  {
   "cell_type": "code",
   "execution_count": 3,
   "metadata": {},
   "outputs": [],
   "source": [
    "from sklearn.model_selection import train_test_split\n",
    "from lib.full_flow_dataloader import load_and_scale_data\n",
    "from lib.utils import custom_train_test_split\n",
    "\n",
    "norm = 3\n",
    "\n",
    "train, test = load_and_scale_data(norm)\n",
    "\n",
    "drop_cols = major_oxides + [\"ID\", \"Sample Name\"]\n",
    "\n",
    "## - VALIDATION -\n",
    "# split_train, split_val = custom_train_test_split(train, \"Sample Name\", test_size=0.2, random_state=42)\n",
    "\n",
    "# X_train = split_train.drop(columns=drop_cols)\n",
    "# y_train = split_train[major_oxides]\n",
    "# X_val = split_val.drop(columns=drop_cols)\n",
    "# y_val = split_val[major_oxides]\n",
    "\n",
    "# Converting train set - comment out if using validation\n",
    "X_train = train.drop(columns=drop_cols)\n",
    "y_train = train[major_oxides]\n",
    "\n",
    "# Converting test set\n",
    "X_test = test.drop(columns=drop_cols)\n",
    "y_test = test[major_oxides]"
   ]
  },
  {
   "cell_type": "code",
   "execution_count": 4,
   "metadata": {},
   "outputs": [
    {
     "name": "stderr",
     "output_type": "stream",
     "text": [
      "2024/04/18 16:35:42 INFO mlflow.tracking.fluent: Experiment with name 'GPR_Norm3_20240418-163537' does not exist. Creating a new experiment.\n"
     ]
    },
    {
     "data": {
      "text/plain": [
       "<Experiment: artifact_location='mlflow-artifacts:/121599189731183263', creation_time=1713450945257, experiment_id='121599189731183263', last_update_time=1713450945257, lifecycle_stage='active', name='GPR_Norm3_20240418-163537', tags={}>"
      ]
     },
     "execution_count": 4,
     "metadata": {},
     "output_type": "execute_result"
    }
   ],
   "source": [
    "import datetime\n",
    "\n",
    "mlflow.set_experiment(f'GPR_Norm{norm}_{datetime.datetime.now().strftime(\"%Y%m%d-%H%M%S\")}')"
   ]
  },
  {
   "cell_type": "code",
   "execution_count": 5,
   "metadata": {},
   "outputs": [
    {
     "name": "stdout",
     "output_type": "stream",
     "text": [
      "[iter 0] loss=4.1695 val_loss=0.0000 scale=1.0000 norm=11.1493\n",
      "[iter 100] loss=3.1437 val_loss=0.0000 scale=2.0000 norm=6.9691\n",
      "[iter 200] loss=2.4534 val_loss=0.0000 scale=2.0000 norm=4.0605\n",
      "[iter 300] loss=2.0456 val_loss=0.0000 scale=2.0000 norm=3.3166\n",
      "[iter 400] loss=1.8581 val_loss=0.0000 scale=2.0000 norm=3.0035\n",
      "[iter 0] loss=1.2077 val_loss=0.0000 scale=1.0000 norm=0.8944\n",
      "[iter 100] loss=0.2565 val_loss=0.0000 scale=2.0000 norm=0.9772\n",
      "[iter 200] loss=-0.3455 val_loss=0.0000 scale=2.0000 norm=0.8381\n",
      "[iter 300] loss=-0.6680 val_loss=0.0000 scale=2.0000 norm=0.8054\n",
      "[iter 400] loss=-0.8126 val_loss=0.0000 scale=1.0000 norm=0.4052\n",
      "[iter 0] loss=3.2855 val_loss=0.0000 scale=1.0000 norm=4.7661\n",
      "[iter 100] loss=2.3983 val_loss=0.0000 scale=2.0000 norm=3.7614\n",
      "[iter 200] loss=1.7422 val_loss=0.0000 scale=2.0000 norm=2.2410\n",
      "[iter 300] loss=1.3566 val_loss=0.0000 scale=2.0000 norm=1.8570\n",
      "[iter 400] loss=1.1683 val_loss=0.0000 scale=1.0000 norm=0.8562\n",
      "[iter 0] loss=3.3389 val_loss=0.0000 scale=1.0000 norm=4.2668\n",
      "[iter 100] loss=2.2351 val_loss=0.0000 scale=2.0000 norm=3.0004\n",
      "[iter 200] loss=1.5784 val_loss=0.0000 scale=2.0000 norm=1.9879\n",
      "[iter 300] loss=1.2178 val_loss=0.0000 scale=2.0000 norm=1.6972\n",
      "[iter 400] loss=1.0435 val_loss=0.0000 scale=1.0000 norm=0.7814\n",
      "[iter 0] loss=3.1306 val_loss=0.0000 scale=1.0000 norm=3.1742\n",
      "[iter 100] loss=1.8772 val_loss=0.0000 scale=2.0000 norm=1.9100\n",
      "[iter 200] loss=1.0815 val_loss=0.0000 scale=2.0000 norm=1.2869\n",
      "[iter 300] loss=0.5332 val_loss=0.0000 scale=2.0000 norm=1.0992\n",
      "[iter 400] loss=0.2631 val_loss=0.0000 scale=2.0000 norm=1.0404\n",
      "[iter 0] loss=3.4277 val_loss=0.0000 scale=1.0000 norm=5.4640\n",
      "[iter 100] loss=2.2162 val_loss=0.0000 scale=2.0000 norm=2.2562\n",
      "[iter 200] loss=1.3078 val_loss=0.0000 scale=2.0000 norm=1.2613\n",
      "[iter 300] loss=0.5691 val_loss=0.0000 scale=2.0000 norm=1.0847\n",
      "[iter 400] loss=0.0959 val_loss=0.0000 scale=2.0000 norm=0.9988\n",
      "[iter 0] loss=2.1705 val_loss=0.0000 scale=1.0000 norm=1.7129\n",
      "[iter 100] loss=1.1051 val_loss=0.0000 scale=2.0000 norm=1.2914\n",
      "[iter 200] loss=0.3480 val_loss=0.0000 scale=2.0000 norm=0.9936\n",
      "[iter 300] loss=-0.1589 val_loss=0.0000 scale=2.0000 norm=0.9035\n",
      "[iter 400] loss=-0.4033 val_loss=0.0000 scale=1.0000 norm=0.4344\n",
      "[iter 0] loss=2.0327 val_loss=0.0000 scale=1.0000 norm=1.6260\n",
      "[iter 100] loss=1.2344 val_loss=0.0000 scale=2.0000 norm=1.4555\n",
      "[iter 200] loss=0.4683 val_loss=0.0000 scale=2.0000 norm=1.0369\n",
      "[iter 300] loss=-0.0625 val_loss=0.0000 scale=2.0000 norm=0.9211\n",
      "[iter 400] loss=-0.3026 val_loss=0.0000 scale=1.0000 norm=0.4507\n"
     ]
    }
   ],
   "source": [
    "from ngboost import NGBRegressor\n",
    "import warnings\n",
    "\n",
    "# disable warnings\n",
    "warnings.simplefilter(action=\"ignore\", category=FutureWarning)\n",
    "warnings.simplefilter(action=\"ignore\", category=UserWarning)\n",
    "\n",
    "models = []\n",
    "\n",
    "\n",
    "for target in y_train.columns:\n",
    "    with mlflow.start_run(run_name=f\"NGB_{target}\"):\n",
    "        ngbr = NGBRegressor(random_state=42)\n",
    "        ngbr.fit(X_train, y_train[target])\n",
    "\n",
    "        y_pred = ngbr.predict(X_test)\n",
    "        rmse = np.sqrt(mean_squared_error(y_test[target], y_pred))\n",
    "        mlflow.log_metric(\"rmse\", float(rmse))\n",
    "        mlflow.log_param(\"target\", target)\n",
    "        mlflow.log_param(\"norm\", norm)\n",
    "\n",
    "        models.append(ngbr)\n",
    "        mlflow.sklearn.log_model(ngbr, f\"model_{target}\")"
   ]
  }
 ],
 "metadata": {
  "kernelspec": {
   "display_name": "venv",
   "language": "python",
   "name": "python3"
  },
  "language_info": {
   "codemirror_mode": {
    "name": "ipython",
    "version": 3
   },
   "file_extension": ".py",
   "mimetype": "text/x-python",
   "name": "python",
   "nbconvert_exporter": "python",
   "pygments_lexer": "ipython3",
   "version": "3.12.2"
  }
 },
 "nbformat": 4,
 "nbformat_minor": 2
}

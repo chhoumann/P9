{
 "cells": [
  {
   "cell_type": "code",
   "execution_count": null,
   "metadata": {},
   "outputs": [],
   "source": [
    "%load_ext autoreload\n",
    "%autoreload 2"
   ]
  },
  {
   "cell_type": "code",
   "execution_count": null,
   "metadata": {},
   "outputs": [],
   "source": [
    "import mlflow\n",
    "import datetime\n",
    "\n",
    "from lib.reproduction import major_oxides\n",
    "from lib.full_flow_dataloader import load_full_flow_data\n",
    "from lib.norms import Norm1Scaler, Norm3Scaler\n",
    "from sklearn.cross_decomposition import PLSRegression\n",
    "from lib.get_preprocess_fn import get_preprocess_fn\n",
    "from lib.cross_validation import CustomKFoldCrossValidator, get_cross_validation_metrics, perform_cross_validation\n",
    "from lib.metrics import rmse_metric, std_dev_metric\n",
    "\n",
    "train_processed, test_processed = load_full_flow_data()"
   ]
  },
  {
   "cell_type": "code",
   "execution_count": null,
   "metadata": {},
   "outputs": [],
   "source": [
    "drop_cols = major_oxides + [\"ID\", \"Sample Name\"]\n",
    "norm = 3"
   ]
  },
  {
   "cell_type": "code",
   "execution_count": null,
   "metadata": {},
   "outputs": [],
   "source": [
    "models = []\n",
    "\n",
    "pls_params = {\n",
    "    \"n_components\": 34,\n",
    "    \"scale\": True,\n",
    "    \"max_iter\": 500,\n",
    "}\n",
    "\n",
    "mlflow.set_experiment(f'PLS_Norm{norm}_{datetime.datetime.now().strftime(\"%Y%m%d-%H%M%S\")}')\n",
    "\n",
    "for target in major_oxides:\n",
    "    with mlflow.start_run(run_name=f\"PLS_{target}\"):\n",
    "        # == Cross Validation ==\n",
    "        kf = CustomKFoldCrossValidator(k=5, random_state=42, group_by=\"Sample Name\")\n",
    "        scaler = Norm1Scaler() if norm == 1 else Norm3Scaler()\n",
    "\n",
    "        cv_metrics = perform_cross_validation(\n",
    "            model=PLSRegression(**pls_params),\n",
    "            preprocess_fn=get_preprocess_fn(target_col=target, drop_cols=drop_cols, preprocessor=scaler),\n",
    "            kf=kf,\n",
    "            data=train_processed,\n",
    "            metric_fns=[rmse_metric, std_dev_metric],\n",
    "        )\n",
    "\n",
    "        mlflow.log_metrics(get_cross_validation_metrics(cv_metrics).as_dict())\n",
    "\n",
    "        # == Training ==\n",
    "        preprocess_fn = get_preprocess_fn(target_col=target, drop_cols=drop_cols, preprocessor=scaler)\n",
    "        X_train, y_train, X_test, y_test = preprocess_fn(train_processed, test_processed)\n",
    "\n",
    "        # Train the model\n",
    "        model = PLSRegression(**pls_params)\n",
    "        model.fit(X_train, y_train)\n",
    "        models.append(model)\n",
    "\n",
    "        pred = model.predict(X_test)\n",
    "        rmse = rmse_metric(y_test, pred)\n",
    "        std_dev = std_dev_metric(y_test, pred)\n",
    "\n",
    "        # Logging\n",
    "        mlflow.log_params({\n",
    "            **pls_params,\n",
    "            \"target\": target,\n",
    "            \"norm\": norm\n",
    "        })\n",
    "        mlflow.log_metrics({\"rmse\": rmse, \"std_dev\": std_dev})\n",
    "        mlflow.sklearn.log_model(model, f\"model_{target}\")"
   ]
  }
 ],
 "metadata": {
  "kernelspec": {
   "display_name": "venv",
   "language": "python",
   "name": "python3"
  },
  "language_info": {
   "codemirror_mode": {
    "name": "ipython",
    "version": 3
   },
   "file_extension": ".py",
   "mimetype": "text/x-python",
   "name": "python",
   "nbconvert_exporter": "python",
   "pygments_lexer": "ipython3",
   "version": "3.12.2"
  }
 },
 "nbformat": 4,
 "nbformat_minor": 2
}

{
 "cells": [
  {
   "cell_type": "code",
   "execution_count": 1,
   "metadata": {},
   "outputs": [],
   "source": [
    "%load_ext autoreload\n",
    "%autoreload 2"
   ]
  },
  {
   "cell_type": "code",
   "execution_count": 2,
   "metadata": {},
   "outputs": [],
   "source": [
    "import mlflow\n",
    "import datetime\n",
    "\n",
    "from lib.reproduction import major_oxides\n",
    "from lib.full_flow_dataloader import load_full_flow_data\n",
    "from lib.norms import Norm1Scaler, Norm3Scaler\n",
    "from sklearn.cross_decomposition import PLSRegression\n",
    "from lib.get_preprocess_fn import get_preprocess_fn\n",
    "from lib.cross_validation import CustomKFoldCrossValidator, get_cross_validation_metrics, perform_cross_validation\n",
    "from lib.metrics import rmse_metric, std_dev_metric\n"
   ]
  },
  {
   "cell_type": "code",
   "execution_count": 3,
   "metadata": {},
   "outputs": [],
   "source": [
    "drop_cols = major_oxides + [\"ID\", \"Sample Name\"]\n",
    "norm = 3"
   ]
  },
  {
   "cell_type": "code",
   "execution_count": 4,
   "metadata": {},
   "outputs": [
    {
     "name": "stderr",
     "output_type": "stream",
     "text": [
      "/home/ubuntu/projects/thesis-chemcam/baseline/venv/lib/python3.10/site-packages/tqdm/auto.py:21: TqdmWarning: IProgress not found. Please update jupyter and ipywidgets. See https://ipywidgets.readthedocs.io/en/stable/user_install.html\n",
      "  from .autonotebook import tqdm as notebook_tqdm\n",
      "2024/05/17 16:02:07 INFO mlflow.tracking.fluent: Experiment with name 'PLS_Norm3_20240517-160207' does not exist. Creating a new experiment.\n"
     ]
    },
    {
     "name": "stdout",
     "output_type": "stream",
     "text": [
      "Running fold 1 with size: 1538 train and 390 test\n",
      "Running fold 2 with size: 1523 train and 405 test\n",
      "Running fold 3 with size: 1533 train and 395 test\n",
      "Running fold 4 with size: 1534 train and 394 test\n",
      "Running fold 1 with size: 1543 train and 385 test\n",
      "Running fold 2 with size: 1529 train and 399 test\n",
      "Running fold 3 with size: 1523 train and 405 test\n",
      "Running fold 4 with size: 1529 train and 399 test\n",
      "Running fold 1 with size: 1523 train and 405 test\n",
      "Running fold 2 with size: 1509 train and 419 test\n",
      "Running fold 3 with size: 1539 train and 389 test\n",
      "Running fold 4 with size: 1558 train and 370 test\n",
      "Running fold 1 with size: 1524 train and 404 test\n",
      "Running fold 2 with size: 1533 train and 395 test\n",
      "Running fold 3 with size: 1534 train and 394 test\n",
      "Running fold 4 with size: 1538 train and 390 test\n",
      "Running fold 1 with size: 1518 train and 410 test\n",
      "Running fold 2 with size: 1543 train and 385 test\n",
      "Running fold 3 with size: 1549 train and 379 test\n",
      "Running fold 4 with size: 1518 train and 410 test\n",
      "Running fold 1 with size: 1523 train and 405 test\n",
      "Running fold 2 with size: 1544 train and 384 test\n",
      "Running fold 3 with size: 1534 train and 394 test\n",
      "Running fold 4 with size: 1528 train and 400 test\n",
      "Running fold 1 with size: 1509 train and 419 test\n",
      "Running fold 2 with size: 1554 train and 374 test\n",
      "Running fold 3 with size: 1518 train and 410 test\n",
      "Running fold 4 with size: 1548 train and 380 test\n",
      "Running fold 1 with size: 1528 train and 400 test\n",
      "Running fold 2 with size: 1525 train and 403 test\n",
      "Running fold 3 with size: 1553 train and 375 test\n",
      "Running fold 4 with size: 1523 train and 405 test\n"
     ]
    }
   ],
   "source": [
    "from experiments.optuna_run import get_data\n",
    "\n",
    "\n",
    "models = []\n",
    "\n",
    "pls_params = {\n",
    "    \"n_components\": 34,\n",
    "    \"scale\": True,\n",
    "    \"max_iter\": 500,\n",
    "}\n",
    "\n",
    "mlflow.set_experiment(f'PLS_Norm{norm}_{datetime.datetime.now().strftime(\"%Y%m%d-%H%M%S\")}')\n",
    "\n",
    "for target in major_oxides:\n",
    "    folds, train, test = get_data(target)\n",
    "    with mlflow.start_run(run_name=f\"PLS_{target}\"):\n",
    "        # == Cross Validation ==\n",
    "        \n",
    "        scaler = Norm1Scaler() if norm == 1 else Norm3Scaler()\n",
    "\n",
    "        cv_metrics = perform_cross_validation(\n",
    "            model=PLSRegression(**pls_params),\n",
    "            preprocess_fn=get_preprocess_fn(target_col=target, drop_cols=drop_cols, preprocessor=scaler),\n",
    "            folds=folds,\n",
    "            metric_fns=[rmse_metric, std_dev_metric],\n",
    "        )\n",
    "\n",
    "        mlflow.log_metrics(get_cross_validation_metrics(cv_metrics).as_dict())\n",
    "\n",
    "        # == Training ==\n",
    "        preprocess_fn = get_preprocess_fn(target_col=target, drop_cols=drop_cols, preprocessor=scaler)\n",
    "        X_train, y_train, X_test, y_test = preprocess_fn(train, test)\n",
    "\n",
    "        # Train the model\n",
    "        model = PLSRegression(**pls_params)\n",
    "        model.fit(X_train, y_train)\n",
    "        models.append(model)\n",
    "\n",
    "        pred = model.predict(X_test)\n",
    "        rmse = rmse_metric(y_test, pred)\n",
    "        std_dev = std_dev_metric(y_test, pred)\n",
    "\n",
    "        # Logging\n",
    "        mlflow.log_params({\n",
    "            **pls_params,\n",
    "            \"target\": target,\n",
    "            \"norm\": norm\n",
    "        })\n",
    "        mlflow.log_metrics({\"rmse\": rmse, \"std_dev\": std_dev})\n",
    "        #mlflow.sklearn.log_model(model, f\"model_{target}\")"
   ]
  }
 ],
 "metadata": {
  "kernelspec": {
   "display_name": "venv",
   "language": "python",
   "name": "python3"
  },
  "language_info": {
   "codemirror_mode": {
    "name": "ipython",
    "version": 3
   },
   "file_extension": ".py",
   "mimetype": "text/x-python",
   "name": "python",
   "nbconvert_exporter": "python",
   "pygments_lexer": "ipython3",
   "version": "3.10.11"
  }
 },
 "nbformat": 4,
 "nbformat_minor": 2
}

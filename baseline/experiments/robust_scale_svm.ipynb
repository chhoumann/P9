{
 "cells": [
  {
   "cell_type": "code",
   "execution_count": null,
   "metadata": {},
   "outputs": [],
   "source": [
    "%load_ext autoreload\n",
    "%autoreload 2"
   ]
  },
  {
   "cell_type": "code",
   "execution_count": null,
   "metadata": {},
   "outputs": [],
   "source": [
    "import mlflow\n",
    "import numpy as np\n",
    "import pandas as pd\n",
    "import warnings\n",
    "\n",
    "from sklearn.svm import SVR\n",
    "from sklearn.metrics import mean_squared_error\n",
    "from lib.full_flow_dataloader import load_full_flow_data\n",
    "from lib.reproduction import major_oxides\n",
    "from sklearn.preprocessing import RobustScaler"
   ]
  },
  {
   "cell_type": "code",
   "execution_count": null,
   "metadata": {},
   "outputs": [],
   "source": [
    "train, test = load_full_flow_data()\n",
    "\n",
    "robust_scaler = RobustScaler(quantile_range=(10.0, 90.0), unit_variance=True)\n",
    "\n",
    "cols = pd.to_numeric(train.columns, errors=\"coerce\")\n",
    "wavelength_cols = cols[~cols.isna()].astype(str)\n",
    "\n",
    "train.update(robust_scaler.fit_transform(train[wavelength_cols]))\n",
    "test.update(robust_scaler.transform(test[wavelength_cols]))\n",
    "\n",
    "train_columns = train.columns\n",
    "test_columns = test.columns\n",
    "\n",
    "#train = robust_scaler.fit_transform(train)\n",
    "#test = robust_scaler.transform(test)\n",
    "\n",
    "train = pd.DataFrame(train, columns=train_columns)\n",
    "test = pd.DataFrame(test, columns=test_columns)\n",
    "\n",
    "drop_cols = major_oxides + [\"ID\", \"Sample Name\"]\n",
    "\n",
    "X_train = train.drop(columns=drop_cols)\n",
    "y_train = train[major_oxides]\n",
    "\n",
    "# Converting test set\n",
    "X_test = test.drop(columns=drop_cols)\n",
    "y_test = test[major_oxides]"
   ]
  },
  {
   "cell_type": "code",
   "execution_count": null,
   "metadata": {},
   "outputs": [],
   "source": [
    "import datetime\n",
    "\n",
    "mlflow.set_experiment(f'Robust_scaler_SVR_{datetime.datetime.now().strftime(\"%Y%m%d-%H%M%S\")}')"
   ]
  },
  {
   "cell_type": "code",
   "execution_count": null,
   "metadata": {},
   "outputs": [],
   "source": [
    "\n",
    "# disable warnings\n",
    "warnings.simplefilter(action='ignore', category=FutureWarning)\n",
    "warnings.simplefilter(action='ignore', category=UserWarning)\n",
    "\n",
    "models = []\n",
    "\n",
    "kernel=\"poly\"\n",
    "C=100\n",
    "eps=0.1\n",
    "gamma=\"scale\"\n",
    "degree=2\n",
    "coef0=1.0\n",
    "\n",
    "\n",
    "for target in y_train.columns:\n",
    "    with mlflow.start_run(run_name=f\"SVM_{target}\"):\n",
    "        svr_reg = SVR(kernel=kernel, degree=degree, C=C, epsilon=eps, coef0=coef0, gamma=gamma)\n",
    "        svr_reg.fit(X_train, y_train[target])\n",
    "        \n",
    "        y_pred = svr_reg.predict(X_test)\n",
    "        rmse = np.sqrt(mean_squared_error(y_test[target], y_pred))\n",
    "        mlflow.log_metric(\"rmse\", float(rmse))\n",
    "        mlflow.log_param(\"target\", target)\n",
    "        mlflow.log_param(\"kernel\", kernel)\n",
    "        mlflow.log_param(\"degree\", degree)\n",
    "        mlflow.log_param(\"coef0\", coef0)\n",
    "        mlflow.log_param(\"C\", C)\n",
    "        mlflow.log_param(\"epsilon\", eps)\n",
    "        mlflow.log_param(\"gamma\", gamma)\n",
    "\n",
    "        models.append(svr_reg)\n",
    "        mlflow.sklearn.log_model(svr_reg, f\"model_{target}\")\n",
    "        "
   ]
  }
 ],
 "metadata": {
  "kernelspec": {
   "display_name": "venv",
   "language": "python",
   "name": "python3"
  },
  "language_info": {
   "codemirror_mode": {
    "name": "ipython",
    "version": 3
   },
   "file_extension": ".py",
   "mimetype": "text/x-python",
   "name": "python",
   "nbconvert_exporter": "python",
   "pygments_lexer": "ipython3",
   "version": "3.10.11"
  }
 },
 "nbformat": 4,
 "nbformat_minor": 2
}

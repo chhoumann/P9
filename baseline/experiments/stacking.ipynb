{
 "cells": [
  {
   "cell_type": "code",
   "execution_count": null,
   "metadata": {},
   "outputs": [],
   "source": [
    "%load_ext autoreload\n",
    "%autoreload 2"
   ]
  },
  {
   "cell_type": "code",
   "execution_count": null,
   "metadata": {},
   "outputs": [],
   "source": [
    "import mlflow\n",
    "import pandas as pd\n",
    "from lib.full_flow_dataloader import load_full_flow_data\n",
    "from lib.reproduction import major_oxides\n",
    "from sklearn.metrics import mean_squared_error\n",
    "from sklearn.pipeline import Pipeline\n",
    "\n",
    "from sklearn.preprocessing import MaxAbsScaler, PowerTransformer\n",
    "from sklearn.svm import SVR\n",
    "from sklearn.ensemble import ExtraTreesRegressor"
   ]
  },
  {
   "cell_type": "code",
   "execution_count": null,
   "metadata": {},
   "outputs": [],
   "source": [
    "def split_and_preprocess_data(train: pd.DataFrame, test: pd.DataFrame, preprocesser_pipeline: Pipeline):\n",
    "    drop_cols = major_oxides + [\"ID\", \"Sample Name\"]\n",
    "\n",
    "    # Split data\n",
    "    X_train = train.drop(columns=drop_cols)\n",
    "    X_test = test.drop(columns=drop_cols)\n",
    "    y_train = train[major_oxides]\n",
    "    y_test = test[major_oxides]\n",
    "\n",
    "    # Preprocess data\n",
    "    X_train = preprocesser_pipeline.fit_transform(X_train)\n",
    "    X_test = preprocesser_pipeline.transform(X_test)\n",
    "\n",
    "    return X_train, y_train, X_test, y_test"
   ]
  },
  {
   "cell_type": "code",
   "execution_count": null,
   "metadata": {},
   "outputs": [],
   "source": [
    "# Possible idea: store preprocess pipeline and related model pipeline in hashmap so that you could give it a key of the \n",
    "# target and apply the corresponding pipeline\n",
    "\n",
    "preprocessor_pipeline = Pipeline([\n",
    "    (\"scaler\", MaxAbsScaler()),\n",
    "    (\"transformer\", PowerTransformer())\n",
    "])"
   ]
  },
  {
   "cell_type": "code",
   "execution_count": null,
   "metadata": {},
   "outputs": [],
   "source": [
    "train, test = load_full_flow_data()\n",
    "\n",
    "X_train, y_train, X_test, y_test = split_and_preprocess_data(train, test, preprocessor_pipeline)"
   ]
  },
  {
   "cell_type": "code",
   "execution_count": null,
   "metadata": {},
   "outputs": [],
   "source": [
    "# Instantiating models\n",
    "\n",
    "# ---- SVR ----\n",
    "kernel=\"poly\"\n",
    "C=100\n",
    "eps=0.1\n",
    "gamma=\"scale\"\n",
    "degree=2\n",
    "coef0=1.0\n",
    "\n",
    "svr = SVR(kernel=kernel, C=C, epsilon=eps, gamma=gamma, degree=degree, coef0=coef0)\n",
    "\n",
    "# ---- ExtraTreesRegressor ----\n",
    "n_estimators = 100\n",
    "max_depth = None\n",
    "min_samples_split = 2\n",
    "min_samples_leaf = 1\n",
    "max_features = 'auto'\n",
    "\n",
    "etr = ExtraTreesRegressor(n_estimators=n_estimators, max_depth=max_depth, min_samples_split=min_samples_split, min_samples_leaf=min_samples_leaf, \n",
    "                          max_features=max_features, random_state=42)\n"
   ]
  },
  {
   "cell_type": "code",
   "execution_count": null,
   "metadata": {},
   "outputs": [],
   "source": [
    "# Constructing pipelines for each oxide\n",
    "sio2_pipeline = Pipeline([('SVR', svr), ('ETR', etr)])\n",
    "tio2_pipeline = Pipeline([('SVR', svr)])\n",
    "al2o3_pipeline = Pipeline([('SVR', svr)])\n",
    "feot_pipeline = Pipeline([('SVR', svr)])\n",
    "mgO_pipeline = Pipeline([('SVR', svr)])\n",
    "cao_pipeline = Pipeline([('SVR', svr)])\n",
    "na2O_pipeline = Pipeline([('SVR', svr)])\n",
    "k2O_pipeline = Pipeline([('SVR', svr)])"
   ]
  },
  {
   "cell_type": "code",
   "execution_count": null,
   "metadata": {},
   "outputs": [],
   "source": [
    "# target: 'SiO2, 'TiO2', 'Al2O3', 'FeOT', 'MgO', 'CaO', 'Na2O', 'K2O'\n",
    "\n",
    "for target in y_train.columns:\n",
    "    print(f\"Training model for {target}\")"
   ]
  }
 ],
 "metadata": {
  "kernelspec": {
   "display_name": "venv",
   "language": "python",
   "name": "python3"
  },
  "language_info": {
   "codemirror_mode": {
    "name": "ipython",
    "version": 3
   },
   "file_extension": ".py",
   "mimetype": "text/x-python",
   "name": "python",
   "nbconvert_exporter": "python",
   "pygments_lexer": "ipython3",
   "version": "3.10.11"
  }
 },
 "nbformat": 4,
 "nbformat_minor": 2
}

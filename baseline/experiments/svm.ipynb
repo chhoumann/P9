{
 "cells": [
  {
   "cell_type": "code",
   "execution_count": 1,
   "metadata": {},
   "outputs": [],
   "source": [
    "import mlflow\n",
    "import numpy as np\n",
    "import pandas as pd\n",
    "from sklearn.metrics import mean_squared_error\n",
    "from lib import full_flow_dataloader\n",
    "import os\n",
    "\n",
    "from lib.norms import Norm1Scaler, Norm3Scaler\n",
    "from lib.reproduction import major_oxides\n",
    "\n",
    "\n",
    "os.chdir(os.path.dirname(os.getcwd()))\n",
    "\n",
    "train_processed, test_processed = full_flow_dataloader.load_full_flow_data()"
   ]
  },
  {
   "cell_type": "code",
   "execution_count": 5,
   "metadata": {},
   "outputs": [],
   "source": [
    "from sklearn.model_selection import train_test_split\n",
    "from lib.utils import custom_train_test_split\n",
    "\n",
    "train_cols = train_processed.columns\n",
    "test_cols = test_processed.columns\n",
    "norm = 1\n",
    "\n",
    "scaler = Norm1Scaler() if norm == 1 else Norm3Scaler()\n",
    "\n",
    "train = scaler.fit_transform(train_processed)\n",
    "test = scaler.fit_transform(test_processed)\n",
    "\n",
    "# turn back into dataframe\n",
    "train = pd.DataFrame(train, columns=train_cols)\n",
    "test = pd.DataFrame(test, columns=test_cols)\n",
    "\n",
    "drop_cols = major_oxides + [\"ID\", \"Sample Name\"]\n",
    "\n",
    "## - VALIDATION -\n",
    "# split_train, split_val = custom_train_test_split(train, \"Sample Name\", test_size=0.2, random_state=42)\n",
    "\n",
    "# X_train = split_train.drop(columns=drop_cols)\n",
    "# y_train = split_train[major_oxides]\n",
    "# X_val = split_val.drop(columns=drop_cols)\n",
    "# y_val = split_val[major_oxides]\n",
    "\n",
    "# Converting train set - comment out if using validation\n",
    "X_train = train.drop(columns=drop_cols)\n",
    "y_train = train[major_oxides]\n",
    "\n",
    "# Converting test set\n",
    "X_test = test.drop(columns=drop_cols)\n",
    "y_test = test[major_oxides]"
   ]
  },
  {
   "cell_type": "code",
   "execution_count": 8,
   "metadata": {},
   "outputs": [
    {
     "name": "stderr",
     "output_type": "stream",
     "text": [
      "2024/02/12 14:21:03 INFO mlflow.tracking.fluent: Experiment with name 'SVM_Norm1_20240212-142102' does not exist. Creating a new experiment.\n"
     ]
    },
    {
     "data": {
      "text/plain": [
       "<Experiment: artifact_location='mlflow-artifacts:/890257248564760444', creation_time=1707744063225, experiment_id='890257248564760444', last_update_time=1707744063225, lifecycle_stage='active', name='SVM_Norm1_20240212-142102', tags={}>"
      ]
     },
     "execution_count": 8,
     "metadata": {},
     "output_type": "execute_result"
    }
   ],
   "source": [
    "import datetime\n",
    "\n",
    "mlflow.set_experiment(f'SVM_Norm{norm}_{datetime.datetime.now().strftime(\"%Y%m%d-%H%M%S\")}')"
   ]
  },
  {
   "cell_type": "code",
   "execution_count": 9,
   "metadata": {},
   "outputs": [],
   "source": [
    "from sklearn.svm import SVR\n",
    "import warnings\n",
    "\n",
    "# disable warnings\n",
    "warnings.simplefilter(action='ignore', category=FutureWarning)\n",
    "warnings.simplefilter(action='ignore', category=UserWarning)\n",
    "\n",
    "models = []\n",
    "\n",
    "kernel=\"poly\"\n",
    "C=100\n",
    "eps=0.1\n",
    "gamma=\"scale\"\n",
    "degree=2\n",
    "coef0=1.0\n",
    "\n",
    "\n",
    "for target in y_train.columns:\n",
    "    with mlflow.start_run(run_name=f\"SVM_{target}\"):\n",
    "        svm_reg = SVR(kernel=kernel, degree=degree, C=C, epsilon=eps, coef0=coef0, gamma=gamma)\n",
    "        svm_reg.fit(X_train, y_train[target])\n",
    "        \n",
    "        y_pred = svm_reg.predict(X_test)\n",
    "        rmse = np.sqrt(mean_squared_error(y_test[target], y_pred))\n",
    "        mlflow.log_metric(\"rmse\", float(rmse))\n",
    "        mlflow.log_param(\"target\", target)\n",
    "        mlflow.log_param(\"norm\", norm)\n",
    "        mlflow.log_param(\"kernel\", kernel)\n",
    "        mlflow.log_param(\"degree\", degree)\n",
    "        mlflow.log_param(\"coef0\", coef0)\n",
    "        mlflow.log_param(\"C\", C)\n",
    "        mlflow.log_param(\"epsilon\", eps)\n",
    "        mlflow.log_param(\"gamma\", gamma)\n",
    "\n",
    "        models.append(svm_reg)\n",
    "        mlflow.sklearn.log_model(svm_reg, f\"model_{target}\")\n",
    "        "
   ]
  }
 ],
 "metadata": {
  "kernelspec": {
   "display_name": "venv",
   "language": "python",
   "name": "python3"
  },
  "language_info": {
   "codemirror_mode": {
    "name": "ipython",
    "version": 3
   },
   "file_extension": ".py",
   "mimetype": "text/x-python",
   "name": "python",
   "nbconvert_exporter": "python",
   "pygments_lexer": "ipython3",
   "version": "3.10.11"
  }
 },
 "nbformat": 4,
 "nbformat_minor": 2
}

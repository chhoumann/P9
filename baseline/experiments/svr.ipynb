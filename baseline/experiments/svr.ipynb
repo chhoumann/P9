{
 "cells": [
  {
   "cell_type": "code",
   "execution_count": 1,
   "metadata": {},
   "outputs": [],
   "source": [
    "%load_ext autoreload\n",
    "%autoreload 2"
   ]
  },
  {
   "cell_type": "code",
   "execution_count": 2,
   "metadata": {},
   "outputs": [],
   "source": [
    "import mlflow\n",
    "import datetime\n",
    "\n",
    "from lib.reproduction import major_oxides\n",
    "from lib.norms import Norm1Scaler, Norm3Scaler\n",
    "from sklearn.svm import SVR\n",
    "from lib.get_preprocess_fn import get_preprocess_fn\n",
    "from lib.cross_validation import get_cross_validation_metrics, perform_cross_validation\n",
    "from lib.metrics import rmse_metric, std_dev_metric\n",
    "from lib.cross_validation import StratifiedGroupKFoldSplit\n",
    "from experiments.optuna_run import get_data"
   ]
  },
  {
   "cell_type": "code",
   "execution_count": 3,
   "metadata": {},
   "outputs": [],
   "source": [
    "drop_cols = major_oxides + [\"ID\", \"Sample Name\"]\n",
    "norm = 3"
   ]
  },
  {
   "cell_type": "code",
   "execution_count": 5,
   "metadata": {},
   "outputs": [
    {
     "name": "stdout",
     "output_type": "stream",
     "text": [
      "No overlap between folds detected (0 samples)\n"
     ]
    },
    {
     "ename": "ValueError",
     "evalue": "Overlap detected (69) between train and test on 'Sample Name': {'ultramafic', '152769', 'p11mt', '81', 'g8mt', 'jsc1385', 'mix5b', 'p7mt', 'lp11', 'jsc1406', '54951m', 'pg4', 'sancb', 'jb3', 'jsc1460', 'dkm390', 'g19mt', 'bwqc1', 'jsc1422', 'g21mt', 'dkm2190', 'moppin', 'jsc1409', 'sc3', 'gl3mt', 'gl4mt', 'g10mt', 'mc', '57a', 'vs211681', 'mix1b', 'lp30', 'jsc1405', 'm1mt', 'jsc1438', 'hvalfj011', 'icel009010', 'sc7', 'mix4b', 'jsc1381', 'ao6', 'jsc1428', 'p10mt', 'vzo106', 'ben', 'jsc1447', 'mi1', 'p2mt', 's4', 'lp4', 'jsc1393', 'gbw07104', '42877m', 'jsc1434', 'r62', 'mix2b', 'jsc1390', 'm2mt', 'jsc1374', 'gbw07311', 'jsc1468', 'ja1', 'jsc1458', 'r45', '54943bm', 'unszk', 'jsc1432', 'ja2', 'p1mt'}",
     "output_type": "error",
     "traceback": [
      "\u001b[0;31m---------------------------------------------------------------------------\u001b[0m",
      "\u001b[0;31mValueError\u001b[0m                                Traceback (most recent call last)",
      "Cell \u001b[0;32mIn[5], line 6\u001b[0m\n\u001b[1;32m      4\u001b[0m overlap \u001b[38;5;241m=\u001b[39m \u001b[38;5;28mset\u001b[39m(train[\u001b[38;5;124m\"\u001b[39m\u001b[38;5;124mSample Name\u001b[39m\u001b[38;5;124m\"\u001b[39m])\u001b[38;5;241m.\u001b[39mintersection(\u001b[38;5;28mset\u001b[39m(test[\u001b[38;5;124m\"\u001b[39m\u001b[38;5;124mSample Name\u001b[39m\u001b[38;5;124m\"\u001b[39m]))\n\u001b[1;32m      5\u001b[0m \u001b[38;5;28;01mif\u001b[39;00m overlap:\n\u001b[0;32m----> 6\u001b[0m     \u001b[38;5;28;01mraise\u001b[39;00m \u001b[38;5;167;01mValueError\u001b[39;00m(\u001b[38;5;124mf\u001b[39m\u001b[38;5;124m\"\u001b[39m\u001b[38;5;124mOverlap detected (\u001b[39m\u001b[38;5;132;01m{\u001b[39;00m\u001b[38;5;28mlen\u001b[39m(overlap)\u001b[38;5;132;01m}\u001b[39;00m\u001b[38;5;124m) between train and test on \u001b[39m\u001b[38;5;124m'\u001b[39m\u001b[38;5;124mSample Name\u001b[39m\u001b[38;5;124m'\u001b[39m\u001b[38;5;124m: \u001b[39m\u001b[38;5;132;01m{\u001b[39;00moverlap\u001b[38;5;132;01m}\u001b[39;00m\u001b[38;5;124m\"\u001b[39m)\n",
      "\u001b[0;31mValueError\u001b[0m: Overlap detected (69) between train and test on 'Sample Name': {'ultramafic', '152769', 'p11mt', '81', 'g8mt', 'jsc1385', 'mix5b', 'p7mt', 'lp11', 'jsc1406', '54951m', 'pg4', 'sancb', 'jb3', 'jsc1460', 'dkm390', 'g19mt', 'bwqc1', 'jsc1422', 'g21mt', 'dkm2190', 'moppin', 'jsc1409', 'sc3', 'gl3mt', 'gl4mt', 'g10mt', 'mc', '57a', 'vs211681', 'mix1b', 'lp30', 'jsc1405', 'm1mt', 'jsc1438', 'hvalfj011', 'icel009010', 'sc7', 'mix4b', 'jsc1381', 'ao6', 'jsc1428', 'p10mt', 'vzo106', 'ben', 'jsc1447', 'mi1', 'p2mt', 's4', 'lp4', 'jsc1393', 'gbw07104', '42877m', 'jsc1434', 'r62', 'mix2b', 'jsc1390', 'm2mt', 'jsc1374', 'gbw07311', 'jsc1468', 'ja1', 'jsc1458', 'r45', '54943bm', 'unszk', 'jsc1432', 'ja2', 'p1mt'}"
     ]
    }
   ],
   "source": [
    "folds, train, test = get_data(\"SiO2\")\n",
    "\n",
    "# Check for overlap between train and test on the column \"Sample Name\"\n",
    "overlap = set(train[\"Sample Name\"]).intersection(set(test[\"Sample Name\"]))\n",
    "if overlap:\n",
    "    raise ValueError(f\"Overlap detected ({len(overlap)}) between train and test on 'Sample Name': {overlap}\")\n"
   ]
  },
  {
   "cell_type": "code",
   "execution_count": 8,
   "metadata": {},
   "outputs": [
    {
     "name": "stderr",
     "output_type": "stream",
     "text": [
      "2024/05/17 15:00:54 INFO mlflow.tracking.fluent: Experiment with name 'SVR_Norm3_20240517-150054' does not exist. Creating a new experiment.\n"
     ]
    },
    {
     "name": "stdout",
     "output_type": "stream",
     "text": [
      "Running fold 1 with size: 1528 train and 400 test\n",
      "Running fold 2 with size: 1558 train and 370 test\n",
      "Running fold 3 with size: 1518 train and 410 test\n",
      "Running fold 4 with size: 1524 train and 404 test\n",
      "Running fold 1 with size: 1548 train and 380 test\n",
      "Running fold 2 with size: 1529 train and 399 test\n",
      "Running fold 3 with size: 1518 train and 410 test\n",
      "Running fold 4 with size: 1529 train and 399 test\n",
      "Running fold 1 with size: 1518 train and 410 test\n",
      "Running fold 2 with size: 1534 train and 394 test\n",
      "Running fold 3 with size: 1529 train and 399 test\n",
      "Running fold 4 with size: 1548 train and 380 test\n",
      "Running fold 1 with size: 1504 train and 424 test\n",
      "Running fold 2 with size: 1548 train and 380 test\n",
      "Running fold 3 with size: 1533 train and 395 test\n",
      "Running fold 4 with size: 1544 train and 384 test\n",
      "Running fold 1 with size: 1508 train and 420 test\n",
      "Running fold 2 with size: 1533 train and 395 test\n",
      "Running fold 3 with size: 1539 train and 389 test\n",
      "Running fold 4 with size: 1548 train and 380 test\n",
      "Running fold 1 with size: 1538 train and 390 test\n",
      "Running fold 2 with size: 1534 train and 394 test\n",
      "Running fold 3 with size: 1539 train and 389 test\n",
      "Running fold 4 with size: 1518 train and 410 test\n",
      "Running fold 1 with size: 1530 train and 398 test\n",
      "Running fold 2 with size: 1543 train and 385 test\n",
      "Running fold 3 with size: 1528 train and 400 test\n",
      "Running fold 4 with size: 1528 train and 400 test\n",
      "Running fold 1 with size: 1528 train and 400 test\n",
      "Running fold 2 with size: 1540 train and 388 test\n",
      "Running fold 3 with size: 1513 train and 415 test\n",
      "Running fold 4 with size: 1548 train and 380 test\n"
     ]
    }
   ],
   "source": [
    "models = []\n",
    "\n",
    "svr_params = {\"kernel\": \"poly\", \"C\": 100, \"epsilon\": 0.1, \"gamma\": \"scale\", \"degree\": 2, \"coef0\": 1.0}\n",
    "\n",
    "mlflow.set_experiment(f'SVR_Norm{norm}_{datetime.datetime.now().strftime(\"%Y%m%d-%H%M%S\")}')\n",
    "\n",
    "\n",
    "for target in major_oxides:\n",
    "    folds, train, test = get_data(target)\n",
    "    with mlflow.start_run(run_name=f\"SVR_{target}\"):\n",
    "        # == Cross Validation ==\n",
    "        scaler = Norm1Scaler() if norm == 1 else Norm3Scaler()\n",
    "\n",
    "        cv_metrics = perform_cross_validation(\n",
    "            model=SVR(**svr_params),\n",
    "            preprocess_fn=get_preprocess_fn(target_col=target, drop_cols=drop_cols, preprocessor=scaler),\n",
    "            folds=folds,\n",
    "            metric_fns=[rmse_metric, std_dev_metric],\n",
    "        )\n",
    "\n",
    "        mlflow.log_metrics(get_cross_validation_metrics(cv_metrics).as_dict())\n",
    "\n",
    "        # == Training ==\n",
    "        preprocess_fn = get_preprocess_fn(target_col=target, drop_cols=drop_cols, preprocessor=scaler)\n",
    "        X_train, y_train, X_test, y_test = preprocess_fn(train, test)\n",
    "\n",
    "        # Train the model\n",
    "        model = SVR(**svr_params)\n",
    "        model.fit(X_train, y_train)\n",
    "        models.append(model)\n",
    "\n",
    "        pred = model.predict(X_test)\n",
    "        rmse = rmse_metric(y_test, pred)\n",
    "        std_dev = std_dev_metric(y_test, pred)\n",
    "\n",
    "        # Logging\n",
    "        mlflow.log_params({**svr_params, \"target\": target, \"norm\": norm})\n",
    "        mlflow.log_metrics({\"rmse\": rmse, \"std_dev\": std_dev})\n",
    "        # mlflow.sklearn.log_model(model, f\"model_{target}\")"
   ]
  }
 ],
 "metadata": {
  "kernelspec": {
   "display_name": "venv",
   "language": "python",
   "name": "python3"
  },
  "language_info": {
   "codemirror_mode": {
    "name": "ipython",
    "version": 3
   },
   "file_extension": ".py",
   "mimetype": "text/x-python",
   "name": "python",
   "nbconvert_exporter": "python",
   "pygments_lexer": "ipython3",
   "version": "3.12.2"
  }
 },
 "nbformat": 4,
 "nbformat_minor": 2
}

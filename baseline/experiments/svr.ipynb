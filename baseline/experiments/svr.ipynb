{
 "cells": [
  {
   "cell_type": "code",
   "execution_count": 1,
   "metadata": {},
   "outputs": [],
   "source": [
    "%load_ext autoreload\n",
    "%autoreload 2"
   ]
  },
  {
   "cell_type": "code",
   "execution_count": 2,
   "metadata": {},
   "outputs": [],
   "source": [
    "import mlflow\n",
    "import datetime\n",
    "\n",
    "from lib.reproduction import major_oxides\n",
    "from lib.norms import Norm1Scaler, Norm3Scaler\n",
    "from sklearn.svm import SVR\n",
    "from lib.get_preprocess_fn import get_preprocess_fn\n",
    "from lib.cross_validation import get_cross_validation_metrics, perform_cross_validation\n",
    "from lib.metrics import rmse_metric, std_dev_metric\n",
    "from lib.cross_validation import StratifiedGroupKFoldSplit\n",
    "from experiments.optuna_run import get_data"
   ]
  },
  {
   "cell_type": "code",
   "execution_count": 3,
   "metadata": {},
   "outputs": [],
   "source": [
    "drop_cols = major_oxides + [\"ID\", \"Sample Name\"]\n",
    "norm = 3"
   ]
  },
  {
   "cell_type": "code",
   "execution_count": 4,
   "metadata": {},
   "outputs": [
    {
     "name": "stdout",
     "output_type": "stream",
     "text": [
      "No overlap between folds detected (0 samples)\n"
     ]
    }
   ],
   "source": [
    "folds, train, test = get_data(\"SiO2\")\n",
    "\n",
    "# Check for overlap between train and test on the column \"Sample Name\"\n",
    "overlap = set(train[\"Sample Name\"]).intersection(set(test[\"Sample Name\"]))\n",
    "if overlap:\n",
    "    raise ValueError(f\"Overlap detected ({len(overlap)}) between train and test on 'Sample Name': {overlap}\")\n"
   ]
  },
  {
   "cell_type": "code",
   "execution_count": 5,
   "metadata": {},
   "outputs": [
    {
     "name": "stderr",
     "output_type": "stream",
     "text": [
      "2024/05/17 15:24:55 INFO mlflow.tracking.fluent: Experiment with name 'SVR_Norm3_20240517-152455' does not exist. Creating a new experiment.\n"
     ]
    },
    {
     "name": "stdout",
     "output_type": "stream",
     "text": [
      "No overlap between folds detected (0 samples)\n",
      "Running fold 1 with size: 1543 train and 385 test\n",
      "Running fold 2 with size: 1528 train and 400 test\n",
      "Running fold 3 with size: 1528 train and 400 test\n",
      "Running fold 4 with size: 1529 train and 399 test\n",
      "No overlap between folds detected (0 samples)\n",
      "Running fold 1 with size: 1533 train and 395 test\n",
      "Running fold 2 with size: 1524 train and 404 test\n",
      "Running fold 3 with size: 1523 train and 405 test\n",
      "Running fold 4 with size: 1544 train and 384 test\n",
      "No overlap between folds detected (0 samples)\n",
      "Running fold 1 with size: 1548 train and 380 test\n",
      "Running fold 2 with size: 1529 train and 399 test\n",
      "Running fold 3 with size: 1524 train and 404 test\n",
      "Running fold 4 with size: 1528 train and 400 test\n",
      "No overlap between folds detected (0 samples)\n",
      "Running fold 1 with size: 1524 train and 404 test\n",
      "Running fold 2 with size: 1503 train and 425 test\n",
      "Running fold 3 with size: 1558 train and 370 test\n",
      "Running fold 4 with size: 1544 train and 384 test\n",
      "No overlap between folds detected (0 samples)\n",
      "Running fold 1 with size: 1523 train and 405 test\n",
      "Running fold 2 with size: 1543 train and 385 test\n",
      "Running fold 3 with size: 1529 train and 399 test\n",
      "Running fold 4 with size: 1533 train and 395 test\n",
      "No overlap between folds detected (0 samples)\n",
      "Running fold 1 with size: 1518 train and 410 test\n",
      "Running fold 2 with size: 1549 train and 379 test\n",
      "Running fold 3 with size: 1534 train and 394 test\n",
      "Running fold 4 with size: 1528 train and 400 test\n",
      "No overlap between folds detected (0 samples)\n",
      "Running fold 1 with size: 1545 train and 383 test\n",
      "Running fold 2 with size: 1518 train and 410 test\n",
      "Running fold 3 with size: 1528 train and 400 test\n",
      "Running fold 4 with size: 1538 train and 390 test\n",
      "No overlap between folds detected (0 samples)\n",
      "Running fold 1 with size: 1518 train and 410 test\n",
      "Running fold 2 with size: 1540 train and 388 test\n",
      "Running fold 3 with size: 1528 train and 400 test\n",
      "Running fold 4 with size: 1543 train and 385 test\n"
     ]
    }
   ],
   "source": [
    "models = []\n",
    "\n",
    "svr_params = {\"kernel\": \"poly\", \"C\": 100, \"epsilon\": 0.1, \"gamma\": \"scale\", \"degree\": 2, \"coef0\": 1.0}\n",
    "\n",
    "mlflow.set_experiment(f'SVR_Norm{norm}_{datetime.datetime.now().strftime(\"%Y%m%d-%H%M%S\")}')\n",
    "\n",
    "\n",
    "for target in major_oxides:\n",
    "    folds, train, test = get_data(target)\n",
    "    with mlflow.start_run(run_name=f\"SVR_{target}\"):\n",
    "        # == Cross Validation ==\n",
    "        scaler = Norm1Scaler() if norm == 1 else Norm3Scaler()\n",
    "\n",
    "        cv_metrics = perform_cross_validation(\n",
    "            model=SVR(**svr_params),\n",
    "            preprocess_fn=get_preprocess_fn(target_col=target, drop_cols=drop_cols, preprocessor=scaler),\n",
    "            folds=folds,\n",
    "            metric_fns=[rmse_metric, std_dev_metric],\n",
    "        )\n",
    "\n",
    "        mlflow.log_metrics(get_cross_validation_metrics(cv_metrics).as_dict())\n",
    "\n",
    "        # == Training ==\n",
    "        preprocess_fn = get_preprocess_fn(target_col=target, drop_cols=drop_cols, preprocessor=scaler)\n",
    "        X_train, y_train, X_test, y_test = preprocess_fn(train, test)\n",
    "\n",
    "        # Train the model\n",
    "        model = SVR(**svr_params)\n",
    "        model.fit(X_train, y_train)\n",
    "        models.append(model)\n",
    "\n",
    "        pred = model.predict(X_test)\n",
    "        rmse = rmse_metric(y_test, pred)\n",
    "        std_dev = std_dev_metric(y_test, pred)\n",
    "\n",
    "        # Logging\n",
    "        mlflow.log_params({**svr_params, \"target\": target, \"norm\": norm})\n",
    "        mlflow.log_metrics({\"rmse\": rmse, \"std_dev\": std_dev})\n",
    "        # mlflow.sklearn.log_model(model, f\"model_{target}\")"
   ]
  }
 ],
 "metadata": {
  "kernelspec": {
   "display_name": "venv",
   "language": "python",
   "name": "python3"
  },
  "language_info": {
   "codemirror_mode": {
    "name": "ipython",
    "version": 3
   },
   "file_extension": ".py",
   "mimetype": "text/x-python",
   "name": "python",
   "nbconvert_exporter": "python",
   "pygments_lexer": "ipython3",
   "version": "3.12.2"
  }
 },
 "nbformat": 4,
 "nbformat_minor": 2
}

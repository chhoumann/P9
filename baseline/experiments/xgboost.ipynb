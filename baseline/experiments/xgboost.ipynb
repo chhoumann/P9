{
    "cells": [
        {
            "cell_type": "code",
            "execution_count": 6,
            "metadata": {},
            "outputs": [
                {
                    "name": "stdout",
                    "output_type": "stream",
                    "text": [
                        "The autoreload extension is already loaded. To reload it, use:\n",
                        "  %reload_ext autoreload\n"
                    ]
                }
            ],
            "source": [
                "%load_ext autoreload\n",
                "%autoreload 2"
            ]
        },
        {
            "cell_type": "code",
            "execution_count": 7,
            "metadata": {},
            "outputs": [],
            "source": [
                "import mlflow\n",
                "import numpy as np\n",
                "import datetime\n",
                "from sklearn.metrics import mean_squared_error\n",
                "from xgboost import XGBRegressor\n",
                "from lib.get_preprocess_fn import get_preprocess_fn\n",
                "from lib import full_flow_dataloader\n",
                "from lib.cross_validation import CustomKFoldCrossValidator, get_cross_validation_metrics, perform_cross_validation\n",
                "from lib.metrics import rmse_metric, std_dev_metric\n",
                "from lib.norms import Norm1Scaler, Norm3Scaler\n",
                "from lib.reproduction import major_oxides\n",
                "\n",
                "train_processed, test_processed = full_flow_dataloader.load_full_flow_data()"
            ]
        },
        {
            "cell_type": "code",
            "execution_count": 8,
            "metadata": {},
            "outputs": [],
            "source": [
                "drop_cols = major_oxides + [\"ID\", \"Sample Name\"]\n",
                "norm = 3"
            ]
        },
        {
            "cell_type": "code",
            "execution_count": 9,
            "metadata": {},
            "outputs": [
                {
                    "name": "stderr",
                    "output_type": "stream",
                    "text": [
                        "2024/05/03 10:03:39 INFO mlflow.tracking.fluent: Experiment with name 'XGBoost_Norm3_20240503-100339' does not exist. Creating a new experiment.\n"
                    ]
                }
            ],
            "source": [
                "mlflow.set_experiment(f'XGBoost_Norm{norm}_{datetime.datetime.now().strftime(\"%Y%m%d-%H%M%S\")}')\n",
                "\n",
                "models = []\n",
                "rmse_scores = []\n",
                "\n",
                "xgb_params = {\n",
                "    \"max_depth\": 4,  # Slightly deeper trees since data is high-dimensional\n",
                "    \"min_child_weight\": 5,  # Higher to control over-fitting\n",
                "    \"gamma\": 0.1,  # Minimum loss reduction required to make further partition\n",
                "    \"subsample\": 0.7,  # Subsample ratio of the training instances\n",
                "    \"colsample_bytree\": 0.5,  # Subsample ratio of columns when constructing each tree\n",
                "    \"colsample_bylevel\": 0.5,  # Subsample ratio of columns for each level\n",
                "    \"colsample_bynode\": 0.5,  # Subsample ratio of columns for each split\n",
                "    \"lambda\": 1,  # L2 regularization term on weights (lambda)\n",
                "    \"alpha\": 0.5,  # L1 regularization term on weights (alpha)\n",
                "    \"learning_rate\": 0.05,  # Step size shrinkage used in update to prevent overfitting\n",
                "    \"n_estimators\": 100,  # Number of boosting rounds\n",
                "    \"objective\": \"reg:squarederror\",  # Regression with squared loss\n",
                "    \"eval_metric\": \"rmse\",  # Evaluation metric for validation data\n",
                "}\n",
                "\n",
                "for target in major_oxides:\n",
                "    with mlflow.start_run(run_name=f\"XGB_{target}\"):\n",
                "        # == Cross Validation ==\n",
                "        kf = CustomKFoldCrossValidator(k=5, random_state=42, group_by=\"Sample Name\")\n",
                "        scaler = Norm1Scaler() if norm == 1 else Norm3Scaler()\n",
                "\n",
                "        cv_metrics = perform_cross_validation(\n",
                "            model=XGBRegressor(**xgb_params),\n",
                "            preprocess_fn=get_preprocess_fn(target_col=target, drop_cols=drop_cols, preprocessor=scaler),\n",
                "            kf=kf,\n",
                "            data=train_processed,\n",
                "            metric_fns=[rmse_metric, std_dev_metric],\n",
                "        )\n",
                "\n",
                "        mlflow.log_metrics(get_cross_validation_metrics(cv_metrics).as_dict())\n",
                "\n",
                "        # == Training ==\n",
                "        preprocess_fn = get_preprocess_fn(target_col=target, drop_cols=drop_cols, preprocessor=scaler)\n",
                "        X_train, y_train, X_test, y_test = preprocess_fn(train_processed, test_processed)\n",
                "\n",
                "        # Log hyperparameters\n",
                "        mlflow.log_params(xgb_params)\n",
                "\n",
                "        # Train the model\n",
                "        model = XGBRegressor(**xgb_params)\n",
                "        model.fit(X_train, y_train)\n",
                "        models.append(model)\n",
                "\n",
                "        pred = model.predict(X_test)\n",
                "        rmse = np.sqrt(mean_squared_error(y_test, pred))\n",
                "\n",
                "        mlflow.log_metric(\"rmse\", float(rmse))\n"
            ]
        }
    ],
    "metadata": {
        "kernelspec": {
            "display_name": "venv",
            "language": "python",
            "name": "python3"
        },
        "language_info": {
            "codemirror_mode": {
                "name": "ipython",
                "version": 3
            },
            "file_extension": ".py",
            "mimetype": "text/x-python",
            "name": "python",
            "nbconvert_exporter": "python",
            "pygments_lexer": "ipython3",
            "version": "3.12.2"
        }
    },
    "nbformat": 4,
    "nbformat_minor": 2
}

{
 "cells": [
  {
   "cell_type": "code",
   "execution_count": 5,
   "metadata": {},
   "outputs": [],
   "source": [
    "import numpy as np\n",
    "import scipy.linalg as la\n",
    "\n",
    "def prewhiten(X):\n",
    "    \"\"\"\n",
    "    Prewhiten the data matrix X so that its rows have a sample mean of zero\n",
    "    and a sample covariance matrix that is the identity matrix.\n",
    "    \"\"\"\n",
    "    # Subtract the mean of each row\n",
    "    X_mean = X.mean(axis=1, keepdims=True)\n",
    "    X_centered = X - X_mean\n",
    "    \n",
    "    # Compute the covariance matrix\n",
    "    cov_matrix = np.cov(X_centered)\n",
    "    \n",
    "    # Compute the whitening matrix using the Cholesky decomposition of the inverse covariance matrix\n",
    "    whitening_matrix = la.inv(la.cholesky(cov_matrix)).T\n",
    "    \n",
    "    # Apply the whitening matrix to X_centered\n",
    "    X_whitened = whitening_matrix @ X_centered\n",
    "    \n",
    "    return X_whitened, whitening_matrix\n",
    "\n",
    "def compute_cumulants(X):\n",
    "    \"\"\"\n",
    "    Compute the fourth-order cumulants of the data matrix X.\n",
    "    \"\"\"\n",
    "    m, n = X.shape\n",
    "    cumulants = np.zeros((m, m))\n",
    "    for i in range(m):\n",
    "        for j in range(m):\n",
    "            if i == j:\n",
    "                # Fourth cumulant for i == j is the kurtosis minus 3 (since data is standardized)\n",
    "                cumulants[i, j] = np.mean(X[i] ** 4) - 3\n",
    "            else:\n",
    "                # For i != j, the cumulant is the joint cumulant\n",
    "                cumulants[i, j] = np.mean(X[i] ** 2 * X[j] ** 2) - (\n",
    "                    np.mean(X[i] ** 2) * np.mean(X[j] ** 2)\n",
    "                )\n",
    "    return cumulants\n",
    "\n",
    "\n",
    "# Correcting the implementation of the optimization function\n",
    "\n",
    "\n",
    "def optimize_contrast_function(X):\n",
    "    \"\"\"\n",
    "    Optimize a contrast function to find the rotation matrix.\n",
    "    Here we use a simple form of contrast function based on the fourth cumulant (kurtosis).\n",
    "    The goal is to maximize non-Gaussianity which is measured by the absolute value of kurtosis.\n",
    "    \"\"\"\n",
    "    m, n = X.shape\n",
    "\n",
    "    # Initialize the rotation matrix to identity\n",
    "    rotation_matrix = np.eye(m)\n",
    "\n",
    "    # Define the learning rate\n",
    "    learning_rate = 0.1\n",
    "\n",
    "    # Perform gradient ascent\n",
    "    for _ in range(100):  # Number of iterations\n",
    "        # Compute the cumulants for the rotated data\n",
    "        cumulants = compute_cumulants(rotation_matrix.T @ X)\n",
    "        # Update rule: rotation_matrix += learning_rate * gradient\n",
    "        # The gradient is approximated by the cumulants since we aim to maximize them\n",
    "        rotation_matrix += learning_rate * cumulants @ rotation_matrix\n",
    "        # Re-orthogonalize the rotation matrix\n",
    "        u, _, vh = la.svd(rotation_matrix, full_matrices=False)\n",
    "        rotation_matrix = u @ vh\n",
    "\n",
    "    return rotation_matrix"
   ]
  },
  {
   "cell_type": "code",
   "execution_count": 6,
   "metadata": {},
   "outputs": [],
   "source": [
    "# Since we don't have the actual data matrix X, let's define a dummy X with random values for demonstration purposes.\n",
    "# In a real case, X should be your prewhitened data matrix.\n",
    "np.random.seed(0)  # For reproducibility\n",
    "m, n = 5, 1000  # m variables, n observations\n",
    "np.random.seed(0)\n",
    "X_original = np.random.randn(m, n)  # Original data\n",
    "\n",
    "# Prewhiten the data\n",
    "X_prewhitened, whitening_matrix = prewhiten(X_original)"
   ]
  },
  {
   "cell_type": "code",
   "execution_count": 7,
   "metadata": {},
   "outputs": [
    {
     "data": {
      "text/plain": [
       "(array([[ 1.00000000e+00, -1.70035502e-16,  2.76795099e-15,\n",
       "          2.31777719e-18, -8.96265672e-16],\n",
       "        [ 2.87610313e-16,  1.00000000e+00, -3.88298838e-15,\n",
       "         -3.39842914e-16, -5.05268049e-15],\n",
       "        [-2.70662047e-15,  3.85184982e-15,  1.00000000e+00,\n",
       "         -6.47702444e-15, -2.57643269e-15],\n",
       "        [-2.80571246e-16, -6.73765627e-17,  6.27773661e-15,\n",
       "          1.00000000e+00,  6.11114438e-15],\n",
       "        [ 8.53039354e-16,  4.26604467e-15,  3.22979571e-15,\n",
       "         -5.87034157e-15,  1.00000000e+00]]),\n",
       " array([[ 1.83216152,  0.45103971,  1.03692825, ...,  0.14121032,\n",
       "         -1.11627752, -0.31680891],\n",
       "        [ 0.61793684,  0.9219753 , -0.41757864, ...,  0.15403048,\n",
       "         -1.22870519, -1.37813131],\n",
       "        [-1.48304651, -1.72227348,  0.14040634, ..., -0.14238806,\n",
       "         -1.26174358, -0.04526549],\n",
       "        [ 1.57784682,  0.57775505, -0.09644962, ..., -0.01369647,\n",
       "          1.61546956, -0.75393087],\n",
       "        [ 0.66152738,  1.9276069 ,  0.19602298, ...,  0.91394239,\n",
       "          0.2324499 ,  0.31052535]]))"
      ]
     },
     "execution_count": 7,
     "metadata": {},
     "output_type": "execute_result"
    }
   ],
   "source": [
    "\n",
    "rotation_matrix = optimize_contrast_function(X_prewhitened)\n",
    "\n",
    "# Compute the estimated source components Z\n",
    "Z = rotation_matrix.T @ X_prewhitened\n",
    "\n",
    "rotation_matrix, Z"
   ]
  }
 ],
 "metadata": {
  "kernelspec": {
   "display_name": "venv",
   "language": "python",
   "name": "python3"
  },
  "language_info": {
   "codemirror_mode": {
    "name": "ipython",
    "version": 3
   },
   "file_extension": ".py",
   "mimetype": "text/x-python",
   "name": "python",
   "nbconvert_exporter": "python",
   "pygments_lexer": "ipython3",
   "version": "3.10.11"
  }
 },
 "nbformat": 4,
 "nbformat_minor": 2
}

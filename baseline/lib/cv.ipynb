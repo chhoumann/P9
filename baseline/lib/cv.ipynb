{
 "cells": [
  {
   "cell_type": "code",
   "execution_count": null,
   "metadata": {},
   "outputs": [],
   "source": [
    "import pandas as pd\n",
    "from sklearn.model_selection import StratifiedKFold,  KFold\n",
    "from lib.full_flow_dataloader import load_full_flow_data\n",
    "import matplotlib.pyplot as plt\n",
    "# Use for report, but can't copy-paste, so disabling\n",
    "# %matplotlib inline\n",
    "# %config InlineBackend.figure_format = 'svg'\n",
    "import seaborn as sns\n"
   ]
  },
  {
   "cell_type": "code",
   "execution_count": null,
   "metadata": {},
   "outputs": [],
   "source": [
    "# def custom_kfold_cross_validation_extreme(data, n_splits: int, target: str, group_by: str, extreme_percentage: float, random_state=None):\n",
    "\n",
    "train_processed, test_processed = load_full_flow_data()\n",
    "data = pd.concat([train_processed, test_processed])\n",
    "target = 'MgO'\n",
    "group_by = 'Sample Name'\n",
    "extreme_percentage = 0.05\n",
    "n_splits = 5\n",
    "random_state = 42"
   ]
  },
  {
   "cell_type": "code",
   "execution_count": null,
   "metadata": {},
   "outputs": [],
   "source": [
    "from lib.cross_validation import custom_kfold_cross_validation_new\n",
    "\n",
    "# folds_custom = stratified_group_kfold_split(\n",
    "#     data, group_by=group_by, target=target, num_bins=5, n_splits=5, random_state=42\n",
    "# )\n",
    "\n",
    "folds_custom, train, test = custom_kfold_cross_validation_new(\n",
    "    data=data, k=5, group_by=group_by, target=target, random_state=42\n",
    ")\n",
    "\n"
   ]
  },
  {
   "cell_type": "code",
   "execution_count": null,
   "metadata": {},
   "outputs": [],
   "source": [
    "\n",
    "# == DISTRIBUTION PLOT ==\n",
    "# Prepare data for plotting\n",
    "fold_data_custom = []\n",
    "\n",
    "for i, (_, test) in enumerate(folds_custom):\n",
    "    fold_target = test[target]\n",
    "    for value in fold_target:\n",
    "        fold_data_custom.append((i+1, value))\n",
    "\n",
    "fold_df_custom = pd.DataFrame(fold_data_custom, columns=['Fold', target])\n",
    "\n",
    "# Plot the distribution of SiO2 in each fold\n",
    "plt.figure(figsize=(12, 6))\n",
    "sns.boxplot(x='Fold', y=target, data=fold_df_custom)\n",
    "plt.title(f'Custom Stratified Group K-Fold: Distribution of {target} in Each Fold')\n",
    "plt.xlabel('Fold')\n",
    "plt.ylabel(target)\n",
    "plt.show()\n",
    "\n",
    "# == HISTOGRAM PLOT ==\n",
    "# Plot the histogram and KDE for each fold\n",
    "plt.figure(figsize=(15, 10))\n",
    "\n",
    "for i, (train, test) in enumerate(folds_custom):\n",
    "    fold_target = test[target]\n",
    "    sns.histplot(fold_target, kde=True, bins=30, label=f'Fold {i+1} ({len(train)} / {len(test)})', alpha=0.5)\n",
    "\n",
    "plt.title(f'Custom Stratified Group K-Fold: Histogram and KDE of {target} Distribution in Each Fold')\n",
    "plt.xlabel(target)\n",
    "plt.ylabel('Count')\n",
    "plt.legend()\n",
    "plt.show()\n",
    "\n",
    "# == HISTOGRAM PLOT ==\n",
    "# Plot the histograms for each fold in a grid layout\n",
    "num_folds = len(folds_custom)\n",
    "num_cols = 3\n",
    "num_rows = (num_folds + num_cols - 1) // num_cols\n",
    "\n",
    "plt.figure(figsize=(15, 5 * num_rows))\n",
    "\n",
    "for i, (train, test) in enumerate(folds_custom):\n",
    "    fold_target = test[target]\n",
    "    plt.subplot(num_rows, num_cols, i + 1)\n",
    "    sns.histplot(fold_target, kde=True, bins=30, label=f'Fold {i+1} ({len(train)} / {len(test)})', alpha=0.5)\n",
    "    plt.title(f'Fold {i+1}')\n",
    "    plt.xlabel(target)\n",
    "    plt.ylabel('Count')\n",
    "    plt.legend()\n",
    "\n",
    "plt.tight_layout()\n",
    "plt.show()"
   ]
  },
  {
   "cell_type": "code",
   "execution_count": null,
   "metadata": {},
   "outputs": [],
   "source": [
    "from sklearn.model_selection import GroupKFold\n",
    "import numpy as np\n",
    "\n",
    "# Extract necessary columns\n",
    "X = data.drop(columns=[target, group_by, 'ID'])\n",
    "y = data[target]\n",
    "groups = data[group_by]\n",
    "\n",
    "\n",
    "\n",
    "# Initialize GroupKFold with 5 splits\n",
    "gkf = GroupKFold(n_splits=5)\n",
    "\n",
    "# Generate the stratified folds\n",
    "folds = list(gkf.split(X, y, groups))\n",
    "\n",
    "# Function to check the distribution of the target variable in each fold\n",
    "def check_fold_distribution(folds, y):\n",
    "    for i, (train_index, test_index) in enumerate(folds):\n",
    "        fold_target = y.iloc[test_index]\n",
    "        print(f\"Fold {i+1} - Mean: {fold_target.mean()}, Std: {fold_target.std()}, Min: {fold_target.min()}, Max: {fold_target.max()}\")\n",
    "\n",
    "# Check the distribution of SiO2 in each fold\n",
    "check_fold_distribution(folds, y)"
   ]
  },
  {
   "cell_type": "code",
   "execution_count": null,
   "metadata": {},
   "outputs": [],
   "source": [
    "# Prepare data for plotting\n",
    "fold_data = []\n",
    "\n",
    "for i, (train, test) in enumerate(folds):\n",
    "    fold_target = y.iloc[test]\n",
    "    for value in fold_target:\n",
    "        fold_data.append((i+1, value))\n",
    "\n",
    "fold_df = pd.DataFrame(fold_data, columns=['Fold', target])\n",
    "\n",
    "# Plot the distribution of SiO2 in each fold\n",
    "plt.figure(figsize=(12, 6))\n",
    "sns.boxplot(x='Fold', y=target, data=fold_df)\n",
    "plt.title(f'Distribution of {target} in Each Fold')\n",
    "plt.xlabel('Fold')\n",
    "plt.ylabel(target)\n",
    "plt.show()\n"
   ]
  },
  {
   "cell_type": "code",
   "execution_count": null,
   "metadata": {},
   "outputs": [],
   "source": [
    "# Plot the histogram and KDE for each fold as separate plots in a grid with 2 rows\n",
    "n_folds = len(folds)\n",
    "n_cols = (n_folds + 1) // 2  # Calculate the number of columns needed\n",
    "\n",
    "fig, axes = plt.subplots(nrows=2, ncols=n_cols, figsize=(15, 10))\n",
    "\n",
    "# Determine the global min and max for x and y values\n",
    "all_fold_targets = pd.concat([y.iloc[test_index] for _, test_index in folds])\n",
    "x_min, x_max = all_fold_targets.min(), all_fold_targets.max()\n",
    "# y_min, y_max = 0, max([sns.histplot(y.iloc[test_index], kde=True, bins=30).get_lines()[0].get_data()[1].max() for _, test_index in folds])\n",
    "\n",
    "for i, (train, test) in enumerate(folds):\n",
    "    row = i // n_cols\n",
    "    col = i % n_cols\n",
    "    fold_target = y.iloc[test]\n",
    "    sns.histplot(fold_target, kde=True, bins=30, ax=axes[row, col], label=f'Fold {i+1} ({len(fold_target)})', alpha=0.5)\n",
    "    axes[row, col].set_title(f'Fold {i+1} - Histogram and KDE of SiO2 Distribution')\n",
    "    axes[row, col].set_xlabel('SiO2')\n",
    "    axes[row, col].set_ylabel('Count')\n",
    "    axes[row, col].set_xlim(x_min, x_max)\n",
    "    # axes[row, col].set_ylim(y_min, y_max)\n",
    "    axes[row, col].legend()\n",
    "\n",
    "# Remove any empty subplots\n",
    "if n_folds % 2 != 0:\n",
    "    fig.delaxes(axes[1, n_cols - 1])\n",
    "\n",
    "plt.tight_layout()\n",
    "plt.show()\n"
   ]
  },
  {
   "cell_type": "code",
   "execution_count": null,
   "metadata": {},
   "outputs": [],
   "source": [
    "tar_and_group_df = pd.concat([data[target], data[group_by]], axis=1)\n",
    "tar_and_group_df"
   ]
  },
  {
   "cell_type": "code",
   "execution_count": null,
   "metadata": {},
   "outputs": [],
   "source": [
    "tar_and_group_df = tar_and_group_df.drop_duplicates().reset_index(drop=True)\n",
    "tar_and_group_df\n",
    "\n"
   ]
  },
  {
   "cell_type": "code",
   "execution_count": null,
   "metadata": {},
   "outputs": [],
   "source": [
    "sns.histplot(data=tar_and_group_df, x=target, kde=True)\n",
    "plt.title(f\"Distribution of {target} before binning\")\n",
    "plt.show()"
   ]
  },
  {
   "cell_type": "code",
   "execution_count": null,
   "metadata": {},
   "outputs": [],
   "source": [
    "import pandas as pd\n",
    "from sklearn.preprocessing import KBinsDiscretizer\n",
    "\n",
    "def assign_bins(data, target, n_bins, strategy='quantile'):\n",
    "    \"\"\"\n",
    "    Assigns data into bins using KBinsDiscretizer and sets the bins as discrete values.\n",
    "\n",
    "    Parameters:\n",
    "    data (pd.DataFrame): The input data.\n",
    "    target (str): The target column to be binned.\n",
    "    n_bins (int): The number of bins to create.\n",
    "    strategy (str): The strategy used to define the widths of the bins. Default is 'quantile'.\n",
    "\n",
    "    Returns:\n",
    "    pd.DataFrame: DataFrame with an additional column 'bins' containing the bin assignments.\n",
    "    \"\"\"\n",
    "    discretizer = KBinsDiscretizer(n_bins=n_bins, encode='ordinal', strategy=strategy)\n",
    "    data['bins'] = discretizer.fit_transform(data[[target]]).astype(int)\n",
    "    return data\n",
    "\n",
    "# Example usage:\n",
    "# data = pd.DataFrame({'SiO2': [56.13, 57.60, 64.80, 77.94, 70.73, 44.13, 54.58, 67.82, 40.28, 40.79]})\n",
    "# binned_data = assign_bins(data, target='SiO2', n_bins=5)\n",
    "# print(binned_data)"
   ]
  },
  {
   "cell_type": "code",
   "execution_count": null,
   "metadata": {},
   "outputs": [],
   "source": [
    "out = assign_bins(data=tar_and_group_df.copy(), target=target, n_bins=n_splits, strategy='quantile')\n",
    "\n"
   ]
  },
  {
   "cell_type": "code",
   "execution_count": null,
   "metadata": {},
   "outputs": [],
   "source": [
    "out['bins'].unique()"
   ]
  },
  {
   "cell_type": "code",
   "execution_count": null,
   "metadata": {},
   "outputs": [],
   "source": [
    "out"
   ]
  },
  {
   "cell_type": "code",
   "execution_count": null,
   "metadata": {},
   "outputs": [],
   "source": [
    "for bin_value in out['bins'].unique():\n",
    "    sns.histplot(data=out[out['bins'] == bin_value], x=target, kde=True)\n",
    "    plt.title(f\"Distribution of {target} in Bin {bin_value}\")\n",
    "    plt.show()"
   ]
  },
  {
   "cell_type": "code",
   "execution_count": null,
   "metadata": {},
   "outputs": [],
   "source": [
    "import seaborn as sns\n",
    "import matplotlib.pyplot as plt\n",
    "\n",
    "num_bins = len(out['bins'].unique())\n",
    "\n",
    "fig, axes = plt.subplots(num_bins, 1, figsize=(10, 5 * num_bins), sharex=True)\n",
    "x = out['bins'].unique()\n",
    "x.sort()\n",
    "\n",
    "for i, bin_value in enumerate(x):\n",
    "    ax = axes[i]\n",
    "    sns.histplot(x=target, data=out[out['bins'] == bin_value], kde=True, ax=ax)\n",
    "    ax.set_title(f\"Distribution of {target} in Bin {bin_value}\")\n",
    "    ax.set_xlabel(target)\n",
    "    ax.set_ylabel(\"Number of Samples\")\n",
    "\n",
    "plt.tight_layout()\n",
    "plt.show()"
   ]
  },
  {
   "cell_type": "code",
   "execution_count": null,
   "metadata": {},
   "outputs": [],
   "source": [
    "# from sklearn.model_selection import StratifiedKFold\n",
    "# import numpy as np\n",
    "\n",
    "# # Initialize the StratifiedKFold object\n",
    "# skf = StratifiedKFold(n_splits=n_splits, shuffle=True, random_state=random_state)\n",
    "\n",
    "# # Create a new column 'fold' in tar_and_group_df to store the fold assignment\n",
    "# tar_and_group_df['fold'] = -1\n",
    "\n",
    "# # Assign each sample to a fold\n",
    "# for fold_number, (train_index, test_index) in enumerate(skf.split(tar_and_group_df, target_discretized)):\n",
    "#     tar_and_group_df.loc[tar_and_group_df.index[test_index], 'fold'] = fold_number\n",
    "\n",
    "# tar_and_group_df['fold'].value_counts()\n",
    "\n",
    "\n"
   ]
  },
  {
   "cell_type": "code",
   "execution_count": null,
   "metadata": {},
   "outputs": [],
   "source": [
    "# # Create bins by unique items as determined by the group_by specification\n",
    "# unique_groups = data[group_by].unique()\n",
    "# folds_df = pd.qcut(range(len(unique_groups)), q=n_splits, labels=False)\n",
    "# folds_df = pd.DataFrame({group_by: unique_groups, 'fold': folds_df})\n",
    "# folds_df = pd.merge(data, folds_df, on=group_by, how='left')\n",
    "\n",
    "# folds_df"
   ]
  },
  {
   "cell_type": "code",
   "execution_count": null,
   "metadata": {},
   "outputs": [],
   "source": [
    "# Assert that all samples with the same name also have the same value in 'fold'\n",
    "# assert all(folds_df.groupby(group_by)['fold'].nunique() == 1), \"Samples with the same name have different fold values\"\n"
   ]
  },
  {
   "cell_type": "code",
   "execution_count": null,
   "metadata": {},
   "outputs": [],
   "source": [
    "# import seaborn as sns\n",
    "# import matplotlib.pyplot as plt\n",
    "\n",
    "# unique_folds = folds_df['fold'].unique()\n",
    "# num_bins = len(unique_folds)\n",
    "\n",
    "# fig, axes = plt.subplots(num_bins, 1, figsize=(20, 5 * num_bins), sharex=True)\n",
    "\n",
    "# for i, bin_value in enumerate(unique_folds):\n",
    "#     ax = axes[i]\n",
    "#     sns.histplot(x=target, data=folds_df[folds_df['fold'] == bin_value], kde=True, ax=ax)\n",
    "#     ax.set_title(f\"Distribution of {target} in Fold {bin_value}\")\n",
    "#     ax.set_xlabel(target)\n",
    "#     ax.set_ylabel(\"Number of Samples\")\n",
    "\n",
    "# plt.tight_layout()\n",
    "# plt.show()"
   ]
  },
  {
   "cell_type": "code",
   "execution_count": null,
   "metadata": {},
   "outputs": [],
   "source": [
    "import numpy as np\n",
    "\n",
    "\"\"\"\n",
    "- Target rows, group_by column, extreme_percentage, n_splits, random_state\n",
    "- Create bins by unique items as determined by the group_by specification\n",
    "- Assert that all samples with the same name also have the same value in 'fold'\n",
    "- Create a list of tuples, where each tuple contains the train and test sets for a fold\n",
    "- Return the list of tuples\n",
    "\"\"\"\n",
    "\n",
    "# not: [1,2,3,4,5]\n",
    "# yield (4/5, 1/5) five times\n",
    "# 1 2 3 4 5\n",
    "# ^________\n",
    "# 1 2 3 4 5\n",
    "# __^______\n",
    "\n",
    "\n",
    "# def foo():\n",
    "#     extreme_indices = folds_df[(folds_df[target] > folds_df[target].quantile(1 - extreme_percentage)) | (folds_df[target] < folds_df[target].quantile(extreme_percentage))].index\n",
    "#     non_extreme_df = folds_df.drop(extreme_indices)\n",
    "#     kf = StratifiedKFold(n_splits=n_splits, shuffle=True, random_state=random_state)\n",
    "#     for i, (train_index, test_index) in enumerate(kf.split(non_extreme_df, non_extreme_df['fold'], groups=folds_df['Sample Name'])):\n",
    "#         extreme_part = np.array_split(extreme_indices, n_splits)\n",
    "#         train_index = np.concatenate([non_extreme_df.index[train_index], extreme_part[i]])\n",
    "\n",
    "#         train, test = folds_df.loc[train_index], folds_df.loc[non_extreme_df.index[test_index]]\n",
    "#         yield train, test\n",
    "\n",
    "# train_test_splits = list(foo())\n",
    "# len(train_test_splits)\n"
   ]
  },
  {
   "cell_type": "code",
   "execution_count": null,
   "metadata": {},
   "outputs": [],
   "source": [
    "# train, test = train_test_splits[0]\n",
    "# print(train.shape, test.shape)\n",
    "\n",
    "# train[\"Sample Name\"].value_counts()\n",
    "# test[\"Sample Name\"].value_counts()\n",
    "\n",
    "# # Check for intersection between Sample Name columns in train and test sets\n",
    "# train_sample_names = set(train[\"Sample Name\"])\n",
    "# test_sample_names = set(test[\"Sample Name\"])\n",
    "\n",
    "# intersection = train_sample_names.intersection(test_sample_names)\n",
    "\n",
    "# if intersection:\n",
    "#     print(f\"Intersection found: {intersection}\")\n",
    "# else:\n",
    "#     print(\"No intersection found between Sample Name columns in train and test sets.\")\n"
   ]
  }
 ],
 "metadata": {
  "kernelspec": {
   "display_name": "venv",
   "language": "python",
   "name": "python3"
  },
  "language_info": {
   "codemirror_mode": {
    "name": "ipython",
    "version": 3
   },
   "file_extension": ".py",
   "mimetype": "text/x-python",
   "name": "python",
   "nbconvert_exporter": "python",
   "pygments_lexer": "ipython3",
   "version": "3.12.2"
  }
 },
 "nbformat": 4,
 "nbformat_minor": 2
}

{
 "cells": [
  {
   "cell_type": "markdown",
   "metadata": {},
   "source": [
    "# Evalute Train/Test splits\n",
    "\n",
    "This notebook evaluates the train/test splits we're using to establish a baseline.\n",
    "\n",
    "We'd like the train set to have the extreme values, and the test set to have the more common values."
   ]
  },
  {
   "cell_type": "code",
   "execution_count": null,
   "metadata": {},
   "outputs": [],
   "source": [
    "%load_ext autoreload\n",
    "%autoreload 2"
   ]
  },
  {
   "cell_type": "code",
   "execution_count": null,
   "metadata": {},
   "outputs": [],
   "source": [
    "from dotenv import dotenv_values\n",
    "\n",
    "env = dotenv_values()\n",
    "comp_data_loc = env.get(\"COMPOSITION_DATA_PATH\")\n",
    "dataset_loc = env.get(\"DATA_PATH\")\n",
    "\n",
    "if not comp_data_loc:\n",
    "    print(\"Please set COMPOSITION_DATA_PATH in .env file\")\n",
    "    exit(1)\n",
    "\n",
    "if not dataset_loc:\n",
    "    print(\"Please set DATA_PATH in .env file\")\n",
    "    exit(1)"
   ]
  },
  {
   "cell_type": "code",
   "execution_count": null,
   "metadata": {},
   "outputs": [],
   "source": [
    "from lib.data_handling import CompositionData\n",
    "\n",
    "\n",
    "cd = CompositionData(str(comp_data_loc))"
   ]
  },
  {
   "cell_type": "code",
   "execution_count": null,
   "metadata": {},
   "outputs": [],
   "source": [
    "from train_test_split import get_all_samples\n",
    "\n",
    "samples = get_all_samples(cd, str(dataset_loc))"
   ]
  },
  {
   "cell_type": "code",
   "execution_count": null,
   "metadata": {},
   "outputs": [],
   "source": [
    "from train_test_split import filter_samples\n",
    "\n",
    "\n",
    "filtered_samples = filter_samples(samples, [])"
   ]
  },
  {
   "cell_type": "code",
   "execution_count": null,
   "metadata": {},
   "outputs": [],
   "source": [
    "# Add the necessary imports\n",
    "import numpy as np\n",
    "import pandas as pd\n",
    "from sklearn.model_selection import StratifiedKFold\n",
    "import seaborn as sns\n",
    "import matplotlib.pyplot as plt\n",
    "import warnings\n",
    "\n",
    "oxide = 'SiO2'\n",
    "\n",
    "# ignore futurewarnings\n",
    "warnings.simplefilter(action='ignore', category=FutureWarning)\n",
    "\n",
    "# Assuming df is already created and contains the composition data\n",
    "# Focus on a single oxide, SiO2\n",
    "df[f'{oxide}_bin'] = pd.qcut(df[oxide], q=4, labels=False)\n",
    "\n",
    "# Identify extremes\n",
    "percentage = 0.05\n",
    "extreme_indices = df[(df[oxide] > df[oxide].quantile(1-percentage)) | (df[oxide] < df[oxide].quantile(percentage))].index\n",
    "non_extreme_df = df.drop(extreme_indices)\n",
    "\n",
    "# Initialize StratifiedKFold\n",
    "kf = StratifiedKFold(n_splits=5, shuffle=True, random_state=42)\n",
    "\n",
    "# Generate the folds\n",
    "for i, (train_index, test_index) in enumerate(kf.split(non_extreme_df, non_extreme_df[f'{oxide}_bin'])):\n",
    "    # Adding extremes to each training set\n",
    "    extreme_part = np.array_split(extreme_indices, 5)\n",
    "    train_index = np.concatenate([non_extreme_df.index[train_index], extreme_part[i]])\n",
    "\n",
    "    train, test = df.loc[train_index], df.loc[non_extreme_df.index[test_index]]\n",
    "    print(f\"Fold {i+1}\")\n",
    "    print(\"Train indices:\", train_index, \"Test indices:\", non_extreme_df.index[test_index])\n",
    "    print(\"Train set size:\", len(train), \"Test set size:\", len(test))\n",
    "    print(\"Train SiO2 distribution:\\n\", train[f'{oxide}_bin'].value_counts(normalize=True))\n",
    "    print(\"Test SiO2 distribution:\\n\", test[f'{oxide}_bin'].value_counts(normalize=True))\n",
    "    print(\"\\n\")\n",
    "\n",
    "# Analysis of the results\n",
    "# Plotting the distribution of the SiO2 variable in each fold\n",
    "plt.figure(figsize=(20, 10))\n",
    "\n",
    "for i, (train_index, test_index) in enumerate(kf.split(non_extreme_df, non_extreme_df[f'{oxide}_bin'])):\n",
    "    extreme_part = np.array_split(extreme_indices, 5)\n",
    "    train_index = np.concatenate([non_extreme_df.index[train_index], extreme_part[i]])\n",
    "    train, test = df.loc[train_index], df.loc[non_extreme_df.index[test_index]]\n",
    "    \n",
    "    plt.subplot(2, 3, i+1)\n",
    "    sns.histplot(train[oxide], kde=True, color='blue', label='Train')\n",
    "    sns.histplot(test[oxide], kde=True, color='red', label='Test')\n",
    "    plt.title(f'Fold {i+1} SiO2 Distribution')\n",
    "    plt.legend()\n",
    "\n",
    "plt.tight_layout()\n",
    "plt.show()"
   ]
  }
 ],
 "metadata": {
  "kernelspec": {
   "display_name": "venv",
   "language": "python",
   "name": "python3"
  },
  "language_info": {
   "codemirror_mode": {
    "name": "ipython",
    "version": 3
   },
   "file_extension": ".py",
   "mimetype": "text/x-python",
   "name": "python",
   "nbconvert_exporter": "python",
   "pygments_lexer": "ipython3",
   "version": "3.12.2"
  }
 },
 "nbformat": 4,
 "nbformat_minor": 2
}

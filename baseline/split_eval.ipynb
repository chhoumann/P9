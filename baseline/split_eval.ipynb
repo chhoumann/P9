{
 "cells": [
  {
   "cell_type": "markdown",
   "metadata": {},
   "source": [
    "# Evalute Train/Test splits\n",
    "\n",
    "This notebook evaluates the train/test splits we're using to establish a baseline.\n",
    "\n",
    "We'd like the train set to have the extreme values, and the test set to have the more common values."
   ]
  },
  {
   "cell_type": "code",
   "execution_count": null,
   "metadata": {},
   "outputs": [],
   "source": [
    "%load_ext autoreload\n",
    "%autoreload 2"
   ]
  },
  {
   "cell_type": "code",
   "execution_count": null,
   "metadata": {},
   "outputs": [],
   "source": [
    "from dotenv import dotenv_values\n",
    "\n",
    "env = dotenv_values()\n",
    "comp_data_loc = env.get(\"COMPOSITION_DATA_PATH\")\n",
    "dataset_loc = env.get(\"DATA_PATH\")\n",
    "\n",
    "if not comp_data_loc:\n",
    "    print(\"Please set COMPOSITION_DATA_PATH in .env file\")\n",
    "    exit(1)\n",
    "\n",
    "if not dataset_loc:\n",
    "    print(\"Please set DATA_PATH in .env file\")\n",
    "    exit(1)"
   ]
  },
  {
   "cell_type": "code",
   "execution_count": null,
   "metadata": {},
   "outputs": [],
   "source": [
    "from lib.data_handling import CompositionData\n",
    "\n",
    "\n",
    "cd = CompositionData(str(comp_data_loc))"
   ]
  },
  {
   "cell_type": "code",
   "execution_count": null,
   "metadata": {},
   "outputs": [],
   "source": [
    "from train_test_split import get_all_samples\n",
    "\n",
    "samples = get_all_samples(cd, str(dataset_loc))"
   ]
  },
  {
   "cell_type": "code",
   "execution_count": null,
   "metadata": {},
   "outputs": [],
   "source": [
    "from train_test_split import CalibrationDataFilter, filter_samples\n",
    "\n",
    "\n",
    "filtered_samples = filter_samples(samples, [])"
   ]
  },
  {
   "cell_type": "code",
   "execution_count": null,
   "metadata": {},
   "outputs": [],
   "source": [
    "from train_test_split import create_train_test_split_with_extremes\n",
    "\n",
    "df = create_train_test_split_with_extremes(filtered_samples)\n",
    "df"
   ]
  },
  {
   "cell_type": "code",
   "execution_count": null,
   "metadata": {},
   "outputs": [],
   "source": [
    "df[\"train_test\"].value_counts()"
   ]
  },
  {
   "cell_type": "code",
   "execution_count": null,
   "metadata": {},
   "outputs": [],
   "source": [
    "import seaborn as sns\n",
    "import matplotlib.pyplot as plt\n",
    "from lib.reproduction import major_oxides\n",
    "import warnings\n",
    "\n",
    "# ignore futurewarnings\n",
    "warnings.simplefilter(action='ignore', category=FutureWarning)\n",
    "\n",
    "# Set the size of the plot\n",
    "plt.figure(figsize=(20, 10))\n",
    "\n",
    "# Loop through each major oxide and create a subplot\n",
    "for index, oxide in enumerate(major_oxides, start=1):\n",
    "    plt.subplot(2, 4, index)  # Adjust the grid dimensions as needed\n",
    "    sns.boxplot(x='train_test', y=oxide, data=df)\n",
    "    plt.title(f'Box Plot of {oxide}')\n",
    "\n",
    "plt.tight_layout()\n",
    "plt.show()"
   ]
  }
 ],
 "metadata": {
  "kernelspec": {
   "display_name": "venv",
   "language": "python",
   "name": "python3"
  },
  "language_info": {
   "codemirror_mode": {
    "name": "ipython",
    "version": 3
   },
   "file_extension": ".py",
   "mimetype": "text/x-python",
   "name": "python",
   "nbconvert_exporter": "python",
   "pygments_lexer": "ipython3",
   "version": "3.12.2"
  }
 },
 "nbformat": 4,
 "nbformat_minor": 2
}

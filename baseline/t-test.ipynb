{
 "cells": [
  {
   "cell_type": "code",
   "execution_count": 1,
   "metadata": {},
   "outputs": [],
   "source": [
    "from scipy.stats import ttest_rel, ttest_ind, wilcoxon"
   ]
  },
  {
   "cell_type": "code",
   "execution_count": 2,
   "metadata": {},
   "outputs": [],
   "source": [
    "# Sample data - RMSE scores for original and replica models\n",
    "pls_original = [4.33, 0.94, 2.85, 2.01, 1.06, 2.65, 0.62, 0.72]\n",
    "pls_replica = [5.81, 0.47, 1.94, 4.35, 1.17, 1.43, 0.66, 0.72]\n",
    "\n",
    "ica_original = [8.31, 1.44, 4.77, 5.17, 4.08, 3.07, 2.29, 0.98]\n",
    "ica_replica = [10.68, 0.63, 5.55, 8.30, 2.90, 3.52, 1.72, 1.37]\n",
    "\n",
    "moc_original = [5.30, 1.03, 3.47, 2.31, 2.21, 2.72, 0.62, 0.82]\n",
    "moc_replica = [7.29, 0.49, 2.39, 5.21, 1.67, 1.81, 1.10, 1.09]\n"
   ]
  },
  {
   "cell_type": "code",
   "execution_count": 3,
   "metadata": {},
   "outputs": [
    {
     "name": "stdout",
     "output_type": "stream",
     "text": [
      "PLS Student's t-test: (-0.4056067802087878, 0.6971426466917101)\n",
      "ICA Student's t-test: (-1.0613757495947185, 0.32376000700705115)\n",
      "MOC Student's t-test: (-0.6329536381030276, 0.5468768019604969)\n"
     ]
    }
   ],
   "source": [
    "def perform_student_t_test(original, replica):\n",
    "\tt_stat, p_value = ttest_rel(original, replica)\n",
    "\treturn t_stat, p_value\n",
    "\n",
    "print(f\"PLS Student's t-test: {perform_student_t_test(pls_original, pls_replica)}\")\n",
    "print(f\"ICA Student's t-test: {perform_student_t_test(ica_original, ica_replica)}\")\n",
    "print(f\"MOC Student's t-test: {perform_student_t_test(moc_original, moc_replica)}\")\n"
   ]
  },
  {
   "cell_type": "code",
   "execution_count": 4,
   "metadata": {},
   "outputs": [
    {
     "name": "stdout",
     "output_type": "stream",
     "text": [
      "PLS1-SM Welch's: (-0.20564772648848437, 0.8404483397001741)\n",
      "ICA Welch's: (-0.3754140305999682, 0.7138111860718925)\n",
      "MOC Welch's: (-0.3198421165467493, 0.7545270443016014)\n"
     ]
    }
   ],
   "source": [
    "def perform_welchs_test(original, replica):\n",
    "    t_stat, p_value = ttest_ind(original, replica, equal_var=False)\n",
    "    return t_stat, p_value\n",
    "\n",
    "print(f\"PLS1-SM Welch's: {perform_welchs_test(pls_original, pls_replica)}\")\n",
    "print(f\"ICA Welch's: {perform_welchs_test(ica_original, ica_replica)}\")\n",
    "print(f\"MOC Welch's: {perform_welchs_test(moc_original, moc_replica)}\")"
   ]
  },
  {
   "cell_type": "code",
   "execution_count": 5,
   "metadata": {},
   "outputs": [
    {
     "name": "stdout",
     "output_type": "stream",
     "text": [
      "PLS1-SM Wilcoxon: (12.0, 0.7353166906373405)\n",
      "ICA Wilcoxon: (14.0, 0.640625)\n",
      "MOC Wilcoxon: (18.0, 1.0)\n"
     ]
    },
    {
     "name": "stderr",
     "output_type": "stream",
     "text": [
      "c:\\Users\\Patrick\\AppData\\Local\\Programs\\Python\\Python310\\lib\\site-packages\\scipy\\stats\\_morestats.py:3145: UserWarning: Exact p-value calculation does not work if there are ties. Switching to normal approximation.\n",
      "  warnings.warn(\"Exact p-value calculation does not work if there are \"\n",
      "c:\\Users\\Patrick\\AppData\\Local\\Programs\\Python\\Python310\\lib\\site-packages\\scipy\\stats\\_morestats.py:3159: UserWarning: Sample size too small for normal approximation.\n",
      "  warnings.warn(\"Sample size too small for normal approximation.\")\n"
     ]
    }
   ],
   "source": [
    "def perform_wilcoxon_test(original, replica):\n",
    "    w_stat, p_value = wilcoxon(original, replica)\n",
    "    return w_stat, p_value\n",
    "\n",
    "print(f\"PLS1-SM Wilcoxon: {perform_wilcoxon_test(pls_original, pls_replica)}\")\n",
    "print(f\"ICA Wilcoxon: {perform_wilcoxon_test(ica_original, ica_replica)}\")\n",
    "print(f\"MOC Wilcoxon: {perform_wilcoxon_test(moc_original, moc_replica)}\")"
   ]
  }
 ],
 "metadata": {
  "kernelspec": {
   "display_name": "Python 3",
   "language": "python",
   "name": "python3"
  },
  "language_info": {
   "codemirror_mode": {
    "name": "ipython",
    "version": 3
   },
   "file_extension": ".py",
   "mimetype": "text/x-python",
   "name": "python",
   "nbconvert_exporter": "python",
   "pygments_lexer": "ipython3",
   "version": "3.10.7"
  }
 },
 "nbformat": 4,
 "nbformat_minor": 2
}

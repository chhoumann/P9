{
 "cells": [
  {
   "cell_type": "code",
   "execution_count": 2,
   "metadata": {},
   "outputs": [],
   "source": [
    "from scipy.stats import ttest_rel, ttest_ind, wilcoxon"
   ]
  },
  {
   "cell_type": "code",
   "execution_count": 3,
   "metadata": {},
   "outputs": [],
   "source": [
    "import numpy as np\n",
    "# Sample data - RMSE scores for original and replica models\n",
    "pls_original = np.array([4.33, 0.94, 2.85, 2.01, 1.06, 2.65, 0.62, 0.72])\n",
    "pls_replica = np.array([5.81, 0.47, 1.94, 4.35, 1.17, 1.43, 0.66, 0.72])\n",
    "\n",
    "ica_original = np.array([8.31, 1.44, 4.77, 5.17, 4.08, 3.07, 2.29, 0.98])\n",
    "ica_replica = np.array([10.68, 0.63, 5.55, 8.30, 2.90, 3.52, 1.72, 1.37])\n",
    "\n",
    "moc_original = np.array([5.30, 1.03, 3.47, 2.31, 2.21, 2.72, 0.62, 0.82])\n",
    "moc_replica = np.array([7.29, 0.49, 2.39, 5.21, 1.67, 1.81, 1.10, 1.09])"
   ]
  },
  {
   "cell_type": "code",
   "execution_count": 4,
   "metadata": {},
   "outputs": [
    {
     "name": "stdout",
     "output_type": "stream",
     "text": [
      "PLS Student's t-test: (-0.4056067802087878, 0.6971426466917101)\n",
      "ICA Student's t-test: (-1.0613757495947185, 0.32376000700705115)\n",
      "MOC Student's t-test: (-0.6329536381030276, 0.5468768019604969)\n"
     ]
    }
   ],
   "source": [
    "def perform_student_t_test(original, replica):\n",
    "    t_stat, p_value = ttest_rel(original, replica)\n",
    "    return t_stat, p_value\n",
    "\n",
    "\n",
    "print(f\"PLS Student's t-test: {perform_student_t_test(pls_original, pls_replica)}\")\n",
    "print(f\"ICA Student's t-test: {perform_student_t_test(ica_original, ica_replica)}\")\n",
    "print(f\"MOC Student's t-test: {perform_student_t_test(moc_original, moc_replica)}\")"
   ]
  },
  {
   "cell_type": "code",
   "execution_count": 5,
   "metadata": {},
   "outputs": [
    {
     "name": "stdout",
     "output_type": "stream",
     "text": [
      "PLS1-SM Welch's: (-0.2056477264884844, 0.8404483397001741)\n",
      "ICA Welch's: (-0.3754140305999682, 0.7138111860718926)\n",
      "MOC Welch's: (-0.3198421165467493, 0.7545270443016014)\n"
     ]
    }
   ],
   "source": [
    "def perform_welchs_test(original, replica):\n",
    "    t_stat, p_value = ttest_ind(original, replica, equal_var=False)\n",
    "    return t_stat, p_value\n",
    "\n",
    "\n",
    "print(f\"PLS1-SM Welch's: {perform_welchs_test(pls_original, pls_replica)}\")\n",
    "print(f\"ICA Welch's: {perform_welchs_test(ica_original, ica_replica)}\")\n",
    "print(f\"MOC Welch's: {perform_welchs_test(moc_original, moc_replica)}\")"
   ]
  },
  {
   "cell_type": "code",
   "execution_count": 6,
   "metadata": {},
   "outputs": [
    {
     "name": "stdout",
     "output_type": "stream",
     "text": [
      "PLS1-SM Wilcoxon: (12.0, 0.7353166906373405)\n",
      "ICA Wilcoxon: (14.0, 0.640625)\n",
      "MOC Wilcoxon: (18.0, 1.0)\n"
     ]
    },
    {
     "name": "stderr",
     "output_type": "stream",
     "text": [
      "/home/christian/projects/p9/baseline/venv/lib/python3.10/site-packages/scipy/stats/_axis_nan_policy.py:531: UserWarning: Exact p-value calculation does not work if there are zeros. Switching to normal approximation.\n",
      "  res = hypotest_fun_out(*samples, **kwds)\n",
      "/home/christian/projects/p9/baseline/venv/lib/python3.10/site-packages/scipy/stats/_axis_nan_policy.py:531: UserWarning: Sample size too small for normal approximation.\n",
      "  res = hypotest_fun_out(*samples, **kwds)\n"
     ]
    }
   ],
   "source": [
    "def perform_wilcoxon_test(original, replica):\n",
    "    w_stat, p_value = wilcoxon(original, replica)\n",
    "    return w_stat, p_value\n",
    "\n",
    "\n",
    "print(f\"PLS1-SM Wilcoxon: {perform_wilcoxon_test(pls_original, pls_replica)}\")\n",
    "print(f\"ICA Wilcoxon: {perform_wilcoxon_test(ica_original, ica_replica)}\")\n",
    "print(f\"MOC Wilcoxon: {perform_wilcoxon_test(moc_original, moc_replica)}\")"
   ]
  },
  {
   "cell_type": "code",
   "execution_count": 7,
   "metadata": {},
   "outputs": [],
   "source": [
    "import numpy as np\n",
    "from scipy.special import gamma\n",
    "import scipy.stats as stats\n",
    "\n",
    "\n",
    "# Define the RMSE function\n",
    "def rmse(y_actual, y_predicted):\n",
    "    return np.sqrt(np.mean((y_actual - y_predicted) ** 2))\n",
    "\n",
    "\n",
    "def variance_of_rmse(rmse_value, n):\n",
    "    gam_upper = 2 * (gamma(n / 2) ** 2)\n",
    "    gam_lower = gamma((n - 1) / 2) ** 2\n",
    "\n",
    "    correction_factor = n - 1 - gam_upper / gam_lower\n",
    "    variance = ((rmse_value**2) / n) * correction_factor\n",
    "\n",
    "    return variance\n",
    "\n",
    "# Define the t-test function\n",
    "def t_test(rmse_a, rmse_b, variance_a, variance_b):\n",
    "    return (rmse_a - rmse_b) / np.sqrt(variance_a + variance_b)\n",
    "\n",
    "\n",
    "def calculate_degrees_of_freedom(S2_RMSEA, S2_RMSEB, n_A, n_B):\n",
    "    numerator = S2_RMSEA + S2_RMSEB\n",
    "    denominator = (S2_RMSEA**2 / (n_A - 1)) + (S2_RMSEB**2 / (n_B - 1))\n",
    "\n",
    "    f_statistic = (numerator**2) / denominator\n",
    "\n",
    "    return f_statistic"
   ]
  },
  {
   "cell_type": "code",
   "execution_count": 8,
   "metadata": {},
   "outputs": [],
   "source": [
    "# Function to perform the t-test analysis correctly comparing two datasets\n",
    "def analyze(original, replica):\n",
    "    # Calculate the variance of the RMSE for both original and replica\n",
    "    variance_original = variance_of_rmse(original, len(original))\n",
    "    variance_replica = variance_of_rmse(replica, len(replica))\n",
    "\n",
    "    # Calculate the t-test value\n",
    "    t_value = t_test(original, replica, variance_original, variance_replica)\n",
    "\n",
    "    # Calculate degrees of freedom\n",
    "    degrees_of_freedom = calculate_degrees_of_freedom(variance_original, variance_replica, len(original), len(replica))\n",
    "\n",
    "    # Calculate the two-tailed p-value using the t-test value and degrees of freedom\n",
    "    p_value = stats.t.sf(np.abs(t_value), degrees_of_freedom) * 2\n",
    "\n",
    "    return {\n",
    "        # \"var_rep\": variance_replica,\n",
    "        \"dof\": degrees_of_freedom,\n",
    "        \"t_value\": t_value,\n",
    "        \"p_value\": p_value,\n",
    "    }\n",
    "\n",
    "# PLS1-SM\n",
    "PLS_t_test = analyze(pls_original, pls_replica)['p_value']\n",
    "# ICA\n",
    "ICA_t_test = analyze(ica_original, ica_replica)['p_value']\n",
    "# MOC\n",
    "MOC_t_test = analyze(moc_original, moc_replica)['p_value']"
   ]
  },
  {
   "cell_type": "code",
   "execution_count": 9,
   "metadata": {},
   "outputs": [
    {
     "data": {
      "text/plain": [
       "(array([0.41996941, 0.09730727, 0.30232697, 0.07484827, 0.78049768,\n",
       "        0.12733076, 0.85963113, 1.        ]),\n",
       " array([0.48751103, 0.06308855, 0.67057514, 0.21680435, 0.35440612,\n",
       "        0.70040829, 0.43161384, 0.36270038]),\n",
       " array([0.38453993, 0.08229403, 0.3157863 , 0.06572211, 0.44084576,\n",
       "        0.27785651, 0.1492513 , 0.4340357 ]))"
      ]
     },
     "execution_count": 9,
     "metadata": {},
     "output_type": "execute_result"
    }
   ],
   "source": [
    "PLS_t_test, ICA_t_test, MOC_t_test"
   ]
  },
  {
   "cell_type": "code",
   "execution_count": 10,
   "metadata": {},
   "outputs": [
    {
     "name": "stdout",
     "output_type": "stream",
     "text": [
      "PLS1-SM t-test: [ 42.     9.73  30.23   7.48  78.05  12.73  85.96 100.  ]%\n",
      "ICA t-test: [48.75  6.31 67.06 21.68 35.44 70.04 43.16 36.27]%\n",
      "MOC t-test: [38.45  8.23 31.58  6.57 44.08 27.79 14.93 43.4 ]%\n"
     ]
    }
   ],
   "source": [
    "# multiply by 100 to get percentage and round to 2 decimal places\n",
    "PLS_t_test = np.around(PLS_t_test * 100, 2)\n",
    "ICA_t_test = np.around(ICA_t_test * 100, 2)\n",
    "MOC_t_test = np.around(MOC_t_test * 100, 2)\n",
    "\n",
    "print(f\"PLS1-SM t-test: {PLS_t_test}%\")\n",
    "print(f\"ICA t-test: {ICA_t_test}%\")\n",
    "print(f\"MOC t-test: {MOC_t_test}%\")"
   ]
  },
  {
   "cell_type": "code",
   "execution_count": 26,
   "metadata": {},
   "outputs": [
    {
     "data": {
      "text/html": [
       "<div>\n",
       "<style scoped>\n",
       "    .dataframe tbody tr th:only-of-type {\n",
       "        vertical-align: middle;\n",
       "    }\n",
       "\n",
       "    .dataframe tbody tr th {\n",
       "        vertical-align: top;\n",
       "    }\n",
       "\n",
       "    .dataframe thead th {\n",
       "        text-align: right;\n",
       "    }\n",
       "</style>\n",
       "<table border=\"1\" class=\"dataframe\">\n",
       "  <thead>\n",
       "    <tr style=\"text-align: right;\">\n",
       "      <th></th>\n",
       "      <th>ICA (replica)</th>\n",
       "      <th>ICA (MAD)</th>\n",
       "      <th>ICA difference</th>\n",
       "      <th>MOC (replica)</th>\n",
       "      <th>MOC (MAD)</th>\n",
       "      <th>MOC difference</th>\n",
       "    </tr>\n",
       "  </thead>\n",
       "  <tbody>\n",
       "    <tr>\n",
       "      <th>SiO2</th>\n",
       "      <td>48.75%</td>\n",
       "      <td>91.22%</td>\n",
       "      <td>-42.47%</td>\n",
       "      <td>38.45%</td>\n",
       "      <td>56.64%</td>\n",
       "      <td>-18.19%</td>\n",
       "    </tr>\n",
       "    <tr>\n",
       "      <th>TiO2</th>\n",
       "      <td>6.31%</td>\n",
       "      <td>3.91%</td>\n",
       "      <td>2.40%</td>\n",
       "      <td>8.23%</td>\n",
       "      <td>5.87%</td>\n",
       "      <td>2.36%</td>\n",
       "    </tr>\n",
       "    <tr>\n",
       "      <th>Al2O3</th>\n",
       "      <td>67.06%</td>\n",
       "      <td>47.80%</td>\n",
       "      <td>19.26%</td>\n",
       "      <td>31.58%</td>\n",
       "      <td>18.10%</td>\n",
       "      <td>13.48%</td>\n",
       "    </tr>\n",
       "    <tr>\n",
       "      <th>FeOT</th>\n",
       "      <td>21.68%</td>\n",
       "      <td>39.26%</td>\n",
       "      <td>-17.58%</td>\n",
       "      <td>6.57%</td>\n",
       "      <td>7.83%</td>\n",
       "      <td>-1.26%</td>\n",
       "    </tr>\n",
       "    <tr>\n",
       "      <th>MgO</th>\n",
       "      <td>35.44%</td>\n",
       "      <td>10.76%</td>\n",
       "      <td>24.68%</td>\n",
       "      <td>44.08%</td>\n",
       "      <td>15.57%</td>\n",
       "      <td>28.51%</td>\n",
       "    </tr>\n",
       "    <tr>\n",
       "      <th>CaO</th>\n",
       "      <td>70.04%</td>\n",
       "      <td>46.52%</td>\n",
       "      <td>23.52%</td>\n",
       "      <td>27.79%</td>\n",
       "      <td>49.03%</td>\n",
       "      <td>-21.24%</td>\n",
       "    </tr>\n",
       "    <tr>\n",
       "      <th>Na2O</th>\n",
       "      <td>43.16%</td>\n",
       "      <td>23.06%</td>\n",
       "      <td>20.10%</td>\n",
       "      <td>14.93%</td>\n",
       "      <td>30.33%</td>\n",
       "      <td>-15.40%</td>\n",
       "    </tr>\n",
       "    <tr>\n",
       "      <th>K2O</th>\n",
       "      <td>36.27%</td>\n",
       "      <td>65.36%</td>\n",
       "      <td>-29.09%</td>\n",
       "      <td>43.40%</td>\n",
       "      <td>63.77%</td>\n",
       "      <td>-20.37%</td>\n",
       "    </tr>\n",
       "  </tbody>\n",
       "</table>\n",
       "</div>"
      ],
      "text/plain": [
       "      ICA (replica) ICA (MAD) ICA difference MOC (replica) MOC (MAD)  \\\n",
       "SiO2         48.75%    91.22%        -42.47%        38.45%    56.64%   \n",
       "TiO2          6.31%     3.91%          2.40%         8.23%     5.87%   \n",
       "Al2O3        67.06%    47.80%         19.26%        31.58%    18.10%   \n",
       "FeOT         21.68%    39.26%        -17.58%         6.57%     7.83%   \n",
       "MgO          35.44%    10.76%         24.68%        44.08%    15.57%   \n",
       "CaO          70.04%    46.52%         23.52%        27.79%    49.03%   \n",
       "Na2O         43.16%    23.06%         20.10%        14.93%    30.33%   \n",
       "K2O          36.27%    65.36%        -29.09%        43.40%    63.77%   \n",
       "\n",
       "      MOC difference  \n",
       "SiO2         -18.19%  \n",
       "TiO2           2.36%  \n",
       "Al2O3         13.48%  \n",
       "FeOT          -1.26%  \n",
       "MgO           28.51%  \n",
       "CaO          -21.24%  \n",
       "Na2O         -15.40%  \n",
       "K2O          -20.37%  "
      ]
     },
     "execution_count": 26,
     "metadata": {},
     "output_type": "execute_result"
    }
   ],
   "source": [
    "ICA_MAD = np.array([8.64, 0.53, 3.69, 7.07, 2.1 , 4.  , 1.45, 1.15])\n",
    "MOC_MAD = np.array([6.51, 0.44, 2.06, 4.93, 1.26, 2.12, 0.91, 0.97])\n",
    "\n",
    "# ICA_MAD\n",
    "ICA_MAD_t_test = analyze(ica_original, ICA_MAD)['p_value'] * 100\n",
    "# MOC_MAD\n",
    "MOC_MAD_t_test = analyze(moc_original, MOC_MAD)['p_value'] * 100\n",
    "\n",
    "# put in dataframe against original\n",
    "import pandas as pd\n",
    "from lib.reproduction import major_oxides\n",
    "\n",
    "def percentify(arr):\n",
    "    return [f\"{val:.2f}%\" for val in arr]\n",
    "\n",
    "pd.DataFrame({\n",
    "    \"ICA (replica)\": percentify(ICA_t_test),\n",
    "    \"ICA (MAD)\": percentify(ICA_MAD_t_test),\n",
    "    \"ICA difference\": percentify(ICA_t_test - ICA_MAD_t_test),\n",
    "    \"MOC (replica)\": percentify(MOC_t_test),\n",
    "    \"MOC (MAD)\": percentify(MOC_MAD_t_test),\n",
    "    \"MOC difference\": percentify(MOC_t_test - MOC_MAD_t_test),\n",
    "}, index=major_oxides)"
   ]
  }
 ],
 "metadata": {
  "kernelspec": {
   "display_name": "Python 3",
   "language": "python",
   "name": "python3"
  },
  "language_info": {
   "codemirror_mode": {
    "name": "ipython",
    "version": 3
   },
   "file_extension": ".py",
   "mimetype": "text/x-python",
   "name": "python",
   "nbconvert_exporter": "python",
   "pygments_lexer": "ipython3",
   "version": "3.10.11"
  }
 },
 "nbformat": 4,
 "nbformat_minor": 2
}
